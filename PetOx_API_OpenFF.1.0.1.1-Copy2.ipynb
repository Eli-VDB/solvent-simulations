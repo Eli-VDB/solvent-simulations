{
 "cells": [
  {
   "cell_type": "markdown",
   "metadata": {},
   "source": [
    "# Poly(2-Ethyl-2-oxazoline) - API in water\n",
    "\n",
    "TODO:  Simplify everything using OEChem "
   ]
  },
  {
   "cell_type": "code",
   "execution_count": 1,
   "metadata": {},
   "outputs": [
    {
     "name": "stderr",
     "output_type": "stream",
     "text": [
      "RDKit WARNING: [15:13:38] Enabling RDKit 2019.09.3 jupyter extensions\n"
     ]
    }
   ],
   "source": [
    "#Modules to import\n",
    "\n",
    "from sys import stdout\n",
    "import time\n",
    "import requests\n",
    "from openbabel import openbabel,pybel\n",
    "from simtk.openmm import app\n",
    "from simtk.openmm.app import *\n",
    "from simtk.openmm import *\n",
    "from simtk.unit import *\n",
    "from openforcefield.topology import Molecule, Topology\n",
    "from openforcefield.utils.toolkits import OpenEyeToolkitWrapper\n",
    "from openforcefield.typing.engines.smirnoff import ForceField\n",
    "from openmmforcefields.generators import SystemGenerator\n",
    "from openmmforcefields.generators import SMIRNOFFTemplateGenerator\n",
    "from openmoltools import packmol\n",
    "import numpy as np\n",
    "import nglview\n",
    "import ipywidgets\n",
    "import mdtraj as md\n",
    "import parmed as pmd\n",
    "import matplotlib.pyplot as plt\n",
    "import pandas as pd"
   ]
  },
  {
   "cell_type": "markdown",
   "metadata": {},
   "source": [
    "## Generate all input files\n",
    "\n",
    "In theory this should only be done ones."
   ]
  },
  {
   "cell_type": "markdown",
   "metadata": {},
   "source": [
    "### Building a polymer\n",
    "\n",
    "OpenEye\n",
    "\n",
    "https://github.com/openforcefield/open-forcefield-tools/blob/master/openforcefield/substances.py\n",
    "https://github.com/openforcefield/open-forcefield-tools/blob/master/examples/substructure_linking.ipynb\n",
    "\n",
    "RDkit\n",
    "\n",
    "https://www.rdkit.org/docs/RDKit_Book.html\n",
    "https://github.com/rdkit/rdkit-tutorials/blob/master/notebooks/003_SMARTS_ReactionsExamples.ipynb\n",
    "\n",
    "Smiles\n",
    "\n",
    "This is The easiest way, if the polymer is fairly simple. If Cross-linking occurs this becomes far from trivial."
   ]
  },
  {
   "cell_type": "code",
   "execution_count": 2,
   "metadata": {},
   "outputs": [
    {
     "name": "stdout",
     "output_type": "stream",
     "text": [
      "None\n"
     ]
    },
    {
     "data": {
      "application/vnd.jupyter.widget-view+json": {
       "model_id": "ae8fa7b12c4e474a9a77db0c1d80e62c",
       "version_major": 2,
       "version_minor": 0
      },
      "text/plain": [
       "NGLWidget()"
      ]
     },
     "metadata": {},
     "output_type": "display_data"
    }
   ],
   "source": [
    "# Smiles codes\n",
    "\n",
    "initiator = \"C\"\n",
    "unit = \"N(C(=O)CC)CC\"\n",
    "terminator = \"C\"\n",
    "number_of_units = 40\n",
    "polymer = initiator + number_of_units*unit + terminator\n",
    "polymer_filename= f'polymer_{number_of_units}units'\n",
    "\n",
    "\n",
    "#Conversion to PDB\n",
    "mol = pybel.readstring('smi',polymer)\n",
    "mol.make3D()\n",
    "print(mol.write('pdb',f\"{polymer_filename}.pdb\",overwrite=True))\n",
    "\n",
    "#from smile to format x codes gen3d option is needed, command line: obabel -i stdin -o out.pdb --gen3d <<< \"CC\"\n",
    "\n",
    "### Possibly this should be converted towards other formats as well.\n",
    "#generate sdf file and transform them to pdb using openbabel\n",
    "obConversion = openbabel.OBConversion()\n",
    "mol = openbabel.OBMol()\n",
    "obConversion.SetInAndOutFormats(\"pdb\", \"sdf\")\n",
    "obConversion.ReadFile(mol, f\"{polymer_filename}.pdb\")\n",
    "obConversion.WriteFile(mol, f\"{polymer_filename}.sdf\")\n",
    "\n",
    "#For some reason this conversion can not be used in the openforcefield...\n",
    "\n",
    "#Visualize the generated polymer\n",
    "nglview.show_file(f\"polymer_{number_of_units}units.pdb\")"
   ]
  },
  {
   "cell_type": "markdown",
   "metadata": {},
   "source": [
    "### Collect the Active Farmaceutical ingrediënt (API)"
   ]
  },
  {
   "cell_type": "code",
   "execution_count": null,
   "metadata": {},
   "outputs": [],
   "source": [
    "# API\n",
    "api_cid = ['35802']\n",
    "\n",
    "#generate sdf file and transform them to pdb using openbabel\n",
    "obConversion = openbabel.OBConversion()\n",
    "obConversion.SetInAndOutFormats(\"sdf\", \"pdb\")\n",
    "mol = openbabel.OBMol()\n",
    "\n",
    "# Convert to pdb file and generate a smiles string\n",
    "for cid in api_cid:\n",
    "    url = f\"https://pubchem.ncbi.nlm.nih.gov/rest/pug/compound/CID/{cid}/record/SDF/?record_type=3d&response_type=save\"\n",
    "    with open(f\"API_{cid}.sdf\", \"w\") as f:\n",
    "        f.write(requests.get(url).text)\n",
    "    obConversion.ReadFile(mol, f\"API_{cid}.sdf\")\n",
    "    obConversion.WriteFile(mol, f\"API_{cid}.pdb\")\n",
    "api_smiles = Molecule.from_file(f\"API_{cid}.sdf\").to_smiles()\n",
    "\n"
   ]
  },
  {
   "cell_type": "markdown",
   "metadata": {},
   "source": [
    "### Generate the water molecule\n",
    "\n",
    "This should comply with the format needed for the forcefield which you will use typically tip3p(fb) type of forcefields. Hence atom types should match."
   ]
  },
  {
   "cell_type": "code",
   "execution_count": null,
   "metadata": {},
   "outputs": [],
   "source": [
    "#Water molecule\n",
    "\n",
    "water_smiles = 'O'\n",
    "\n",
    "#Conversion to PDB\n",
    "wat = pybel.readstring('smi',water_smiles)\n",
    "wat.make3D()\n",
    "#put overwrite to False once the created file is in the correct format\n",
    "wat.write('pdb',f\"water.pdb\",overwrite=True)\n",
    "\n",
    "md_traj_water = md.load(\"water.pdb\")\n",
    "if packmol.standardize_water(md_traj_water):\n",
    "    print('Water molecule already had correct format')\n",
    "else: print('The water_pdbFile should be adjusted: 3 atoms 1 residue, ADJUST_MANUALY')\n",
    "print(md_traj_water)\n",
    "packmol.rename_water_atoms('water.pdb')\n",
    "\n",
    "\n",
    "## Using OpenEye\n",
    "#mol = oechem.OEMol()\n",
    "#oechem.OESmilesToMol(mol, 'O')\n",
    "#oechem.OEAddExplicitHydrogens(mol)\n",
    "#oechem.OETriposAtomNames(mol)\n",
    "#mols.append(mol)\n"
   ]
  },
  {
   "cell_type": "markdown",
   "metadata": {},
   "source": [
    "## Calculate the initial box size and number of water molecules"
   ]
  },
  {
   "cell_type": "markdown",
   "metadata": {},
   "source": [
    "Implement a Simple method to calculate the desired boxsize. e.g. minimal volume = sum of all vdw spheres. paste them all behind each other could be the maximal.\n",
    "\n",
    "\n",
    "From geometry in numpy array, calculate longest distance? add extra solvent layers. I believe this is the simplest way and most convenient.\n",
    "370 + 2*5 = 380 A this is longest possible distance for the cube... hence determine box dimension based hereon.. calculate initial number of water molecules based on this box size and the experimental density at these conditions...\n"
   ]
  },
  {
   "cell_type": "markdown",
   "metadata": {},
   "source": [
    "## Parameterizing all components"
   ]
  },
  {
   "cell_type": "markdown",
   "metadata": {},
   "source": [
    "### AmberTools\n",
    "\n",
    "Alternatively to the OpenFF approach, AmberTools could be used for generating the forcefield.\n",
    "One can however look at OpenFF as a clean and user-friendly approach of gaff (generalized amber forcefield) this is hence a prefered way to parameterize everything.\n",
    "\n",
    "https://ambermd.org/tutorials/advanced/tutorial27/pet.html\n",
    "\n"
   ]
  },
  {
   "cell_type": "markdown",
   "metadata": {},
   "source": [
    "### OpenFF\n",
    "TODO ADD some explenations"
   ]
  },
  {
   "cell_type": "markdown",
   "metadata": {},
   "source": [
    "### API parameterization"
   ]
  },
  {
   "cell_type": "code",
   "execution_count": null,
   "metadata": {},
   "outputs": [],
   "source": [
    "#Forcefield     \n",
    "off_forcefield = ForceField('openff-1.0.0.offxml')\n",
    "\n",
    "#parameterization\n",
    "uniq_molecules = [Molecule.from_file(f\"API_{api_cid[0]}.sdf\")]\n",
    "api_pdb = PDBFile(f\"API_{api_cid[0]}.pdb\")\n",
    "api_positions =  api_pdb.getPositions()\n",
    "off_api_topology = Topology.from_openmm(api_pdb.topology,unique_molecules=uniq_molecules)\n",
    "off_api_system = off_forcefield.create_openmm_system(off_api_topology)\n"
   ]
  },
  {
   "cell_type": "markdown",
   "metadata": {},
   "source": [
    "#### Visualize the molecule"
   ]
  },
  {
   "cell_type": "code",
   "execution_count": null,
   "metadata": {},
   "outputs": [],
   "source": [
    "nglview.show_file(f\"API_{api_cid[0]}.pdb\")"
   ]
  },
  {
   "cell_type": "markdown",
   "metadata": {},
   "source": [
    "#### Energy minimization\n",
    "\n",
    "To check whether the generated forcefield can actually be used."
   ]
  },
  {
   "cell_type": "code",
   "execution_count": null,
   "metadata": {},
   "outputs": [],
   "source": [
    "\n",
    "integrator = VerletIntegrator(1.0 * femtoseconds)\n",
    "context = Context(off_api_system, integrator)\n",
    "context.setPositions(api_positions)\n",
    "state = context.getState(getEnergy=True)\n",
    "energy = state.getPotentialEnergy().in_units_of(kilojoules_per_mole)\n",
    "\n",
    "print(f\"Original energy: {energy}\")"
   ]
  },
  {
   "cell_type": "markdown",
   "metadata": {},
   "source": [
    "### Polymer parameterization"
   ]
  },
  {
   "cell_type": "markdown",
   "metadata": {},
   "source": [
    "#### Polymer = one molecule"
   ]
  },
  {
   "cell_type": "code",
   "execution_count": null,
   "metadata": {},
   "outputs": [],
   "source": [
    "from openeye import oechem\n",
    "from openeye import oequacpac\n",
    "from openeye import oeomega\n",
    "\n",
    "oemol = oechem.OEMol()\n",
    "\n",
    "with oechem.oemolistream(f\"{polymer_filename}.sdf\") as ifs:\n",
    "    oechem.OEReadMolecule(ifs, oemol)\n",
    "    \n",
    "omega = oeomega.OEOmega()\n",
    "omega.SetSampleHydrogens(True)\n",
    "omega_status = omega(oemol)\n",
    "quacpac_status = oequacpac.OEAssignCharges(oemol, oequacpac.OEAM1BCCELF10Charges())"
   ]
  },
  {
   "cell_type": "code",
   "execution_count": null,
   "metadata": {},
   "outputs": [],
   "source": [
    "\n",
    "#from openforcefield.utils.toolkits import GLOBAL_TOOLKIT_REGISTRY\n",
    "#GLOBAL_TOOLKIT_REGISTRY._toolkits.pop(0)\n",
    "\n",
    "mol = Molecule.from_file(f\"{polymer_filename}.sdf\")\n",
    "#mol.generate_conformers(n_conformers=1)\n",
    "mol.compute_partial_charges_am1bcc()\n",
    "'''oemol = mol.to_openeye()\n",
    "copymol = oechem.OEMol(oemol)\n",
    "omega = oeomega.OEOmega()\n",
    "omega.SetSampleHydrogens(True)\n",
    "omega_status = omega(oemol)\n",
    "quacpac_status = oequacpac.OEAssignCharges(oemol, oequacpac.OEAM1BCCCharges())\n",
    "\n",
    "if not quacpac_status:\n",
    "    print(\"Still an issue\")\n",
    "else:\n",
    "    print(\"SUCCESS\")\n",
    "    \n",
    "ofmol = Molecule.from_openeye(oemol)\n",
    "\n",
    "\n",
    "from openforcefield.utils.toolkits import GLOBAL_TOOLKIT_REGISTRY\n",
    "GLOBAL_TOOLKIT_REGISTRY._toolkits.pop(0)\n",
    "'''"
   ]
  },
  {
   "cell_type": "code",
   "execution_count": null,
   "metadata": {},
   "outputs": [],
   "source": [
    "#https://github.com/choderalab/ring-open-fep/blob/master/openmm/molecules.py\n",
    "from openforcefield.topology import Molecule\n",
    "from openeye import oechem, oeomega, oequacpac\n",
    "\n",
    "mol = Molecule.from_file(f\"{polymer_filename}.sdf\")\n",
    "oemol = mol.to_openeye()\n",
    "copymol = oechem.OEMol(oemol)\n",
    "errfs = oechem.oeosstream()\n",
    "oechem.OEThrow.SetOutputStream(errfs)\n",
    "oechem.OEThrow.Clear()\n",
    "quacpac_status = oequacpac.OEAssignCharges(oemol, oequacpac.OEAM1BCCCharges(maxAtoms=1400))\n",
    "oechem.OEThrow.SetOutputStream(oechem.oeerr)#restoring to original state\n",
    "print(errfs.str().decode(\"UTF-8\"))\n",
    "\n",
    "#https://docs.eyesopen.com/toolkits/cpp/quacpactk/OEProtonClasses/OEAM1BCCCharges.html\n"
   ]
  },
  {
   "cell_type": "code",
   "execution_count": null,
   "metadata": {
    "scrolled": true
   },
   "outputs": [],
   "source": [
    "#Forcefield     \n",
    "off_forcefield = ForceField('openff-1.0.0.offxml')\n",
    "\n",
    "#parameterization\n",
    "\n",
    "polymer = PDBFile(f\"{polymer_filename}.pdb\")\n",
    "polymer_positions =  polymer.getPositions()\n",
    "uniq_molecules = [Molecule.from_file(f\"{polymer_filename}.sdf\")]\n",
    "#If OpenEye is available, multiple formats can be used to create the unique molecules.\n",
    "off_polymer_topology = Topology.from_openmm(polymer.topology,unique_molecules=uniq_molecules)\n",
    "off_polymer_system = off_forcefield.create_openmm_system(off_polymer_topology)#,toolkit_registry=toolkit_registry)\n",
    "\n",
    "\n",
    "#Problem with charges: https://github.com/openforcefield/openforcefield/issues/346, I believe this is a problem occuring in OEchem toolkit, solve by using RD toolkit; OpenEye toolkit clearly has a problem...\n",
    "# https://github.com/openforcefield/openforcefield/issues/492, https://github.com/openforcefield/openforcefield/issues/346\n",
    "#https://github.com/openmm/openmmforcefields/pull/95\n",
    "\n",
    "#At the moment, the number of atoms far exeeds the allowed size to parameterize.. this can be increased manually, but perhaps we should find a workaround...\n"
   ]
  },
  {
   "cell_type": "markdown",
   "metadata": {},
   "source": [
    "#### Energy minimization\n",
    "\n",
    "To check whether the generated forcefield can actually be used."
   ]
  },
  {
   "cell_type": "code",
   "execution_count": null,
   "metadata": {},
   "outputs": [],
   "source": [
    "\n",
    "integrator = VerletIntegrator(1.0 * femtoseconds)\n",
    "context = Context(off_polymer_system, integrator)\n",
    "context.setPositions(polymer_positions)\n",
    "state = context.getState(getEnergy=True)\n",
    "energy = state.getPotentialEnergy().in_units_of(kilojoules_per_mole)\n",
    "\n",
    "print(f\"Original energy: {energy}\")"
   ]
  },
  {
   "cell_type": "markdown",
   "metadata": {},
   "source": [
    "#### Polymer parameterized by 3 different Units? \n",
    "\n",
    "Probably this is not needed\n",
    "TODO   https://github.com/openforcefield/open-forcefield-tools/blob/master/examples/substructure_linking.ipynb"
   ]
  },
  {
   "cell_type": "markdown",
   "metadata": {},
   "source": [
    "## Polymer-water solvent box\n",
    "\n",
    "Multiple approaches are available to constuct a solvent box:\n",
    "1. Packmol (openmoltools)\n",
    "2. OpenMM modeller (https://github.com/openmm/openmmforcefields)\n",
    "3. leap (Ambertools)\n",
    "4. openforcefield-tools (Property calculation toolkit requires OpenEye licence) https://github.com/openforcefield/openforcefield/issues/66\n",
    "https://github.com/slochower/smirnoff-host-guest/blob/3a319972d5b6fded1784eaad75d6bf5e754343a3/mol2-to-prmtop.ipynb;https://github.com/MobleyLab/SolvationToolkit\n",
    "\n",
    "Following packages should be installed:\n",
    "\n",
    "1. Packmol \n",
    "2. openmoltools\n",
    "3. mdtraj \n",
    "4. SolvationToolkit (openeye)\n",
    "\n",
    "\n",
    "git clone https://github.com/MobleyLab/SolvationToolkit.git\n",
    "cd SolvationToolkit\n",
    "pip install .\n",
    "\n",
    "https://github.com/openforcefield/openforcefield/blob/master/examples/using_smirnoff_with_amber_protein_forcefield/toluene_in_T4_lysozyme.ipynb\n",
    "https://github.com/openforcefield/openforcefield/blob/master/examples/using_smirnoff_in_amber_or_gromacs/convert_to_amber_gromacs.ipynb"
   ]
  },
  {
   "cell_type": "markdown",
   "metadata": {},
   "source": [
    "#### OpenmolTools"
   ]
  },
  {
   "cell_type": "markdown",
   "metadata": {},
   "source": [
    "I have manually adjusted the packmol.py file (in ~/anaconda3/envs/openmm/lib/python3.7/site-packages/openmoltools) as the bonds were defined as an array of 1 x 4 ; at line 196 insert the code snippet below\n",
    "but in this case the bond type and order should be in the 3rd and fourth column, this is however not the case.\n",
    "there for this is put to zero at the end which corresponds to a bond order and type of None, though antechambers\n",
    "will put this correct normally based on the bonds. Alternatively n_atoms is added after each molecule \n",
    "to bonds_i [0] and [1] instead to avoid a potential loss of information.\n",
    "'''\n",
    "    #cast atom type and order to 0\n",
    "    if len(bonds[0])==4:\n",
    "        for idx,frame in enumerate(bonds):\n",
    "               bonds[idx][2] = 0\n",
    "               bonds[idx][3] = 0\n",
    "\n",
    "The following part is also incorrect as it does not work when loading it from smiles etc... manually adjusted pdb to show 3 residues\n",
    "    #Find waters and rename\n",
    "    for residue in pdb.residues:\n",
    "        if len(residue)==3:\n",
    " \n",
    "\n",
    "TODO: Report to openmoltools Done"
   ]
  },
  {
   "cell_type": "code",
   "execution_count": null,
   "metadata": {},
   "outputs": [],
   "source": [
    "# Create water box with openmoltools\n",
    "\n",
    "#possibly polymer_filename etc should be reinitialized\n",
    "\n",
    "polymer_smiles = Molecule.from_file(f\"{polymer_filename}.sdf\").to_smiles() #easier as oechem object\n",
    "water_smiles = 'O'\n",
    "\n",
    "pdb_filenames = [f\"{polymer_filename}.pdb\" , \"water.pdb\"]\n",
    "\n",
    "#TODO Determine dynamically the number of solvent molecules needed (min/max) (see above)\n",
    "n_molecules = [1,1000]\n",
    "\n",
    "if OpenEyeToolkitWrapper.is_available():\n",
    "    box_size = packmol.approximate_volume_by_density([polymer_smiles,water_smiles],n_molecules)\n",
    "else:\n",
    "    box_size = 40.0\n",
    "    \n",
    "# create box with corresponding md_traj trajectory and topology\n",
    "md_traj_trajectory = packmol.pack_box(pdb_filenames,n_molecules,box_size=box_size)\n",
    "print(md_traj_trajectory.topology)\n",
    "md_traj_trajectory.save_pdb(f'{polymer_filename}_N{n_molecules[1]}_openmoltools.pdb')"
   ]
  },
  {
   "cell_type": "markdown",
   "metadata": {},
   "source": [
    "#### Solvationtoolkit (openEye)"
   ]
  },
  {
   "cell_type": "code",
   "execution_count": null,
   "metadata": {},
   "outputs": [],
   "source": [
    "# Create water box with Solvationtoolkit  (OEChem)\n",
    "#TODO Test\n",
    "\n",
    "\n",
    "from solvationtoolkit.solvated_mixtures import *\n",
    "\n",
    "polymer_molecule = Molecule.from_file(f\"{polymer_filename}.sdf\")\n",
    "mixture = MixtureSystem()\n",
    "\n",
    "#TODO generate method to determine number of water molecules\n",
    "\n",
    "mixture.addComponent(label='pethox',smiles=polymer_molecule.to_smiles(), number=1)\n",
    "mixture.addComponent('water',number=10000)  #this is tip3p format (similar to tip3pfb???)\n",
    "mixture.build()\n",
    "\n"
   ]
  },
  {
   "cell_type": "markdown",
   "metadata": {},
   "source": [
    "#### Using the modeller from in OpenMM\n",
    "\n",
    "At the moment this feature in not usable ... yet"
   ]
  },
  {
   "cell_type": "code",
   "execution_count": null,
   "metadata": {},
   "outputs": [],
   "source": [
    "# Create water box in OpenMM by constructing a modeller object starting from the pdb file. \n",
    "'https://github.com/openmm/openmmforcefields/blob/master/openmmforcefields/generators/system_generators.py'\n",
    "#polymer = PDBFile(f\"{polymer_filename}.pdb\")\n",
    "'''polymer_structure = pmd.openmm.load_topology(polymer.topology,off_polymer_system,xyz=polymer.positions)\n",
    "polymer_structure.write_pdb(f\"{polymer_filename}_converted.pdb\")\n",
    "polymer_converted = PDBFile(f\"{polymer_filename}_converted.pdb\")\n",
    "#alternatively gaff forcefields can be used.\n",
    "obConversion.SetInAndOutFormats(\"pdb\", \"sdf\")\n",
    "obConversion.ReadFile(mol, f\"{polymer_filename}_converted.pdb\")\n",
    "obConversion.WriteFile(mol, f\"{polymer_filename}_converted.sdf\")\n",
    "not needed \n",
    "'''\n",
    "polymer_molecule = Molecule.from_file(f\"{polymer_filename}.sdf\") #_converted.sdf\")\n",
    "from openmmforcefields.generators import SMIRNOFFTemplateGenerator\n",
    "smirnoff = SMIRNOFFTemplateGenerator(molecules=[polymer_molecule])\n",
    "#smirnoff.add_molecules(polymer_molecule)\n",
    "omm_forcefield = app.ForceField('tip3p.xml')\n",
    "#add forcefield file for the polymer constructed with openff using openmmforcefields.generators\n",
    "omm_forcefield.registerTemplateGenerator(smirnoff.generator)\n",
    "\n",
    "polymer_modeller = Modeller(#(polymer_converted.topology, polymer_converted.positions)\n",
    "#polymer_modeller.addSolvent(forcefield, model='tip3pfb',NumAdded=5000) \n",
    "polymer_modeller.addSolvent(omm_forcefield, model='tip3p', padding=0.5*nanometers) \n",
    "#This determines the largest size of the solute along any axis (x, y, or z). It then creates a cubic box of width (solute size)+2*(padding). The above line guarantees that no part of the solute comes closer than 1 nm to any edge of the box."
   ]
  },
  {
   "cell_type": "markdown",
   "metadata": {},
   "source": [
    "#### Conversion to amber forcefield"
   ]
  },
  {
   "cell_type": "code",
   "execution_count": null,
   "metadata": {},
   "outputs": [],
   "source": [
    "''' Conversion to Amber file format\n",
    "import parmed as pmd\n",
    "#I believe this is accompagnied with a loss of information?\n",
    "polymer_structure = pmd.openmm.load_topology(polymer.topology,off_polymer_system,xyz=polymer.positions)\n",
    "print(polymer_structure)\n",
    "\n",
    "# Export AMBER files.\n",
    "polymer_structure.save('system.inpcrd', overwrite=True)\n",
    "\n",
    "#This is a work-around around a certain problem within parmed... This issue was reported before see:\n",
    "#'https://github.com/slochower/smirnoff-host-guest/blob/3a319972d5b6fded1784eaad75d6bf5e754343a3/mol2-to-prmtop.ipynb'\n",
    "bond_type = pmd.BondType(1.0, 1.0, list=polymer_structure.bond_types)\n",
    "polymer_structure.bond_types.append(bond_type)\n",
    "for bond in polymer_structure.bonds:\n",
    "    if bond.type is None:\n",
    "        bond.type = bond_type\n",
    "polymer_structure.save('system.prmtop', overwrite=True)\n",
    "'''"
   ]
  },
  {
   "cell_type": "markdown",
   "metadata": {},
   "source": [
    "##### Visualize the molecule"
   ]
  },
  {
   "cell_type": "code",
   "execution_count": null,
   "metadata": {},
   "outputs": [],
   "source": [
    "\n",
    "t = md.load(f'{polymer_filename}_N{n_molecules[1]}_openmoltools.pdb')\n",
    "print(t)\n",
    "w = nglview.show_mdtraj(t)\n",
    "#nglview.show_file(f'{polymer_filename}_N{n_molecules[1]}_openmoltools.pdb')\n",
    "w.add_representation('ball+stick',selection='water')\n",
    "w\n"
   ]
  },
  {
   "cell_type": "markdown",
   "metadata": {},
   "source": [
    "### Parameterize solvent box"
   ]
  },
  {
   "cell_type": "markdown",
   "metadata": {},
   "source": [
    "To use a barostat, you need to define a barostat whose parameters will be copied into each system (with a different random number seed):\n",
    "\n",
    "```python\n",
    "pressure = 1.0 * unit.atmospheres\n",
    "temperature = 298.0 * unit.kelvin\n",
    "frequency = 25 # steps\n",
    "system_generator.barostat = openmm.MonteCarloBarostat(pressure, temperature, frequency)\n",
    "```\n",
    "\n",
    "Remark that at the moment (OpenMM 7.4.1) does not yet support the features used below. Update the simtk/app/forcefield.py to the file shown on their github page. (copy-paste suffices)"
   ]
  },
  {
   "cell_type": "code",
   "execution_count": null,
   "metadata": {},
   "outputs": [],
   "source": [
    "# MD Setting \n",
    "\n",
    "timestep = 2*femtoseconds #in femtoseconds\n",
    "total_simulation_steps = 100000\n",
    "temperature = 298*kelvin #in K \n",
    "pressure = 1*bar #in bar, for an isobaric simulation\n",
    "frequency = 25 # steps"
   ]
  },
  {
   "cell_type": "code",
   "execution_count": null,
   "metadata": {},
   "outputs": [],
   "source": [
    "#The forcefield used for the small molecules\n",
    "\n",
    "ff_small_molecule = 'openff-1.0.0'\n",
    "ff_water = 'tip3pfb.xml'\n",
    "off_forcefield = ForceField(f'{ff_small_molecule}.offxml')\n",
    "\n",
    "#Define all monomers (sdf,smiles or mol format) used in the solvent box, \n",
    "#(if a licence for openEye is obtained this can also be other formats are applicable)\n",
    "\n",
    "monomer_names = [polymer_smiles,water_smiles]\n",
    "pdb_box = PDBFile(f'{polymer_filename}_N{n_molecules[1]}_openmoltools.pdb')\n",
    "unique_molecules = [Molecule.from_smiles(name) for name in monomer_names] #with openeye different formats can be used\n",
    "\n",
    "smirnoff = SMIRNOFFTemplateGenerator(molecules=[unique_molecules[0]])\n",
    "omm_forcefield = app.ForceField(f\"{ff_water}\")\n",
    "#add forcefield file for the polymer constructed with openff using openmmforcefields.generators\n",
    "omm_forcefield.registerTemplateGenerator(smirnoff.generator)\n",
    "#forcefield_kwargs = { 'constraints' : app.HBonds, 'rigidWater' : True, 'removeCMMotion' : False, 'hydrogenMass' : 4*amu }\n",
    "system_generator = SystemGenerator(forcefields=[f\"{ff_water}\"], small_molecule_forcefield=f'{ff_small_molecule}')#,forcefield_kwargs=forcefield_kwargs)#, cache='db.json')\n",
    "\n",
    "#BAROSTAT should be added to each component seperately if different forcefields are used\n",
    "system_generator.barostat = MonteCarloBarostat(pressure, temperature,frequency)\n",
    "omm_box_system = system_generator.create_system(pdb_box.topology, molecules=unique_molecules)\n",
    "\n",
    "\n",
    "#omm_topology = pdb_box.getTopology()\n",
    "box_positions = pdb_box.getPositions()\n",
    "#off_box_topology = Topology.from_openmm(pdb_box.topology, unique_molecules=unique_molecules)\n",
    "#off_box_system = off_forcefield.create_openmm_system(off_box_topology)\n",
    "#off_box_system = system_generator.create_system(off_box_topology) # not yet implemented into openforcefieldtools, this is on their todolost though\n",
    "\n"
   ]
  },
  {
   "cell_type": "markdown",
   "metadata": {},
   "source": [
    "#### Energy "
   ]
  },
  {
   "cell_type": "code",
   "execution_count": null,
   "metadata": {
    "scrolled": true
   },
   "outputs": [],
   "source": [
    "\n",
    "integrator = VerletIntegrator(1.0 * femtoseconds)\n",
    "context = Context(omm_box_system, integrator)\n",
    "context.setPositions(box_positions)\n",
    "state = context.getState(getEnergy=True)\n",
    "energy = state.getPotentialEnergy().in_units_of(kilojoules_per_mole)\n",
    "\n",
    "print(f\"Original energy: {energy}\")"
   ]
  },
  {
   "cell_type": "markdown",
   "metadata": {},
   "source": [
    "### Molecular dynamics simulations"
   ]
  },
  {
   "cell_type": "code",
   "execution_count": null,
   "metadata": {},
   "outputs": [],
   "source": [
    "\n",
    "#Thermostat\n",
    "integrator = LangevinIntegrator(temperature, 1/picosecond, timestep)\n",
    "#for isobaric simulation; I believe this is no longer needed, as it is already included in the omm_box_system.\n",
    "#off_box_system.addForce(MonteCarloBarostat(pressure*bar, temperature*kelvin))  \n",
    "\n",
    "#setting up the simulation\n",
    "simulation = Simulation(pdb_box.topology, omm_box_system, integrator)\n",
    "simulation.context.setPositions(box_positions)\n",
    "simulation.minimizeEnergy()\n",
    "\n",
    "\n",
    "with open(\"initial_box.pdb\", \"w\") as f:\n",
    "    PDBFile.writeFile(simulation.topology, pdb_box.positions, f)\n",
    "    \n",
    "simulation.reporters = []\n",
    "simulation.reporters.append(DCDReporter('traj.dcd', 100))\n",
    "simulation.reporters.append(StateDataReporter(stdout, 10000, step=True,\n",
    "                                              temperature=True, elapsedTime=True))\n",
    "simulation.reporters.append(StateDataReporter(\"scalars.csv\", 1000, time=True,\n",
    "                                              potentialEnergy=True, totalEnergy=True, temperature=True,volume=True,density=True))\n",
    "\n",
    "print(\"Starting simulation\")\n",
    "start = time.process_time()\n",
    "\n",
    "simulation.step(total_simulation_steps)\n",
    "\n",
    "end = time.process_time()\n",
    "print(\"Elapsed time %.2f seconds\" % (end-start))\n",
    "print(\"Done!\")"
   ]
  },
  {
   "cell_type": "markdown",
   "metadata": {},
   "source": [
    "#### Visualize the trajectory"
   ]
  },
  {
   "cell_type": "code",
   "execution_count": null,
   "metadata": {},
   "outputs": [],
   "source": [
    "import nglview\n",
    "import ipywidgets\n",
    "\n",
    "#water is not shown\n",
    "traj = md.load('traj.dcd', top='initial_box.pdb')\n",
    "traj.superpose(traj, 0)\n",
    "w = nglview.show_mdtraj(traj)\n",
    "w.add_representation('ball+stick',selection='water')\n",
    "w\n"
   ]
  },
  {
   "cell_type": "markdown",
   "metadata": {},
   "source": [
    "## Polymer-water-api box\n"
   ]
  },
  {
   "cell_type": "code",
   "execution_count": null,
   "metadata": {},
   "outputs": [],
   "source": [
    "# Components\n",
    "api_cid = ['35802']\n",
    "number_of_units = 10\n",
    "polymer_filename= f'polymer_{number_of_units}units'\n",
    "polymer_smiles = Molecule.from_file(f\"{polymer_filename}.sdf\").to_smiles() #easier as oechem object\n",
    "water_smiles = 'O'\n",
    "api_smiles = Molecule.from_file(f\"API_{api_cid[0]}.sdf\").to_smiles()"
   ]
  },
  {
   "cell_type": "markdown",
   "metadata": {},
   "source": [
    "### Construct API-Polymer-water box"
   ]
  },
  {
   "cell_type": "code",
   "execution_count": null,
   "metadata": {},
   "outputs": [],
   "source": [
    "# Create water box with openmoltools\n",
    "\n",
    "pdb_filenames = [f\"{polymer_filename}.pdb\",f\"API_{api_cid[0]}.pdb\", \"water.pdb\"]\n",
    "\n",
    "#TODO Determine dynamically the number of solvent molecules needed (min/max) use Function defined above\n",
    "n_molecules = [1,3,600] \n",
    "\n",
    "if OpenEyeToolkitWrapper.is_available():\n",
    "    box_size = packmol.approximate_volume_by_density([polymer_smiles,api_smiles,water_smiles],n_molecules)\n",
    "else:\n",
    "    box_size = 40.0\n",
    "print(box_size)\n",
    "print(pdb_filenames)\n",
    "\n",
    "md_traj_trajectory = packmol.pack_box(pdb_filenames,n_molecules,box_size=box_size)\n",
    "print(md_traj_trajectory.topology)\n",
    "md_traj_trajectory.save_pdb(f'{polymer_filename}_{n_molecules[1]}API_{api_cid[0]}_{n_molecules[2]}water_openmoltools.pdb')"
   ]
  },
  {
   "cell_type": "markdown",
   "metadata": {},
   "source": [
    "#### Visualize the molecule"
   ]
  },
  {
   "cell_type": "code",
   "execution_count": null,
   "metadata": {},
   "outputs": [],
   "source": [
    "\n",
    "t2 = md.load(f'{polymer_filename}_{n_molecules[1]}API_{api_cid[0]}_{n_molecules[2]}water_openmoltools.pdb')\n",
    "print(t2)\n",
    "w = nglview.show_mdtraj(t2)\n",
    "#nglview.show_file(f'{polymer_filename}_N{n_molecules[1]}_openmoltools.pdb')\n",
    "w.add_representation('ball+stick',selection='water')\n",
    "w\n"
   ]
  },
  {
   "cell_type": "markdown",
   "metadata": {},
   "source": [
    "#### Parameterize the Amorphous solid dispersion (ASD)"
   ]
  },
  {
   "cell_type": "code",
   "execution_count": null,
   "metadata": {},
   "outputs": [],
   "source": [
    "# MD Setting \n",
    "\n",
    "timestep = 2*femtoseconds #in femtoseconds\n",
    "total_simulation_steps = 1000000\n",
    "temperature = 298*kelvin #in K \n",
    "pressure = 1*bar #in bar, for an isobaric simulation\n",
    "frequency = 25 # steps"
   ]
  },
  {
   "cell_type": "code",
   "execution_count": null,
   "metadata": {},
   "outputs": [],
   "source": [
    "#The forcefield used for the small molecules\n",
    "\n",
    "ff_small_molecule = 'openff-1.0.0'\n",
    "ff_water = 'tip3pfb.xml'\n",
    "off_forcefield = ForceField(f'{ff_small_molecule}.offxml')#,'tip3p.offxml') #at the moment tip3pfb is not available... work around via systemgenerator?\n",
    "\n",
    "#Define all monomers (sdf,smiles or mol format) used in the solvent box, \n",
    "#(if a licence for openEye is obtained this can also be other formats are applicable)\n",
    "monomer_names = [polymer_smiles,api_smiles,water_smiles]\n",
    "pdb_box = app.PDBFile(f'{polymer_filename}_{n_molecules[1]}API_{api_cid[0]}_{n_molecules[2]}water_openmoltools.pdb')\n",
    "unique_molecules = [Molecule.from_smiles(name) for name in monomer_names] #with openeye different formats can be used\n",
    "\n",
    "#In the case we want to specify the water model by ourselves (https://github.com/openmm/openmmforcefields): \n",
    "smirnoff = SMIRNOFFTemplateGenerator(molecules=unique_molecules[0:1])\n",
    "#smirnoff.add_molecules(polymer_molecule)\n",
    "omm_forcefield = app.ForceField(f\"{ff_water}\")\n",
    "#add forcefield file for the polymer constructed with openff using openmmforcefields.generators\n",
    "omm_forcefield.registerTemplateGenerator(smirnoff.generator)\n",
    "#forcefield_kwargs = { 'constraints' : app.HBonds, 'rigidWater' : True, 'removeCMMotion' : False, 'hydrogenMass' : 4*amu }\n",
    "system_generator = SystemGenerator(forcefields=[f\"{ff_water}\"], small_molecule_forcefield=f'{ff_small_molecule}')#,forcefield_kwargs=forcefield_kwargs)#, cache='db.json')\n",
    "\n",
    "#BAROSTAT should be added to each component seperately if different forcefields are used\n",
    "#system_generator.barostat = MonteCarloBarostat(pressure, temperature,frequency)\n",
    "omm_box_system = system_generator.create_system(pdb_box.topology, molecules=unique_molecules)\n",
    "\n",
    "box_positions = pdb_box.getPositions()\n",
    "#off_box_topology = Topology.from_openmm(pdb_box.topology, unique_molecules=unique_molecules)\n",
    "#off_box_system = off_forcefield.create_openmm_system(off_box_topology)\n",
    "#off_box_system = system_generator.create_system(off_box_topology) # not yet implemented into openforcefieldtools, this is on their todolost though\n",
    "\n"
   ]
  },
  {
   "cell_type": "markdown",
   "metadata": {},
   "source": [
    "### Molecular dynamics simulations"
   ]
  },
  {
   "cell_type": "code",
   "execution_count": null,
   "metadata": {},
   "outputs": [],
   "source": [
    "\n",
    "#Thermostat\n",
    "integrator = LangevinIntegrator(temperature, 1/picosecond, timestep)\n",
    "#for isobaric simulation; I believe this is no longer needed, as it is already included in the omm_box_system.\n",
    "#off_box_system.addForce(MonteCarloBarostat(pressure*bar, temperature*kelvin))  \n",
    "\n",
    "#setting up the simulation\n",
    "simulation = app.Simulation(pdb_box.topology, omm_box_system, integrator)\n",
    "simulation.context.setPositions(box_positions)\n",
    "simulation.minimizeEnergy()\n",
    "\n",
    "\n",
    "with open(f\"initial_box_{n_molecules[1]}API_{api_cid[0]}_{n_molecules[2]}water_polymer.pdb\", \"w\") as f:\n",
    "    app.PDBFile.writeFile(simulation.topology, pdb_box.positions, f)\n",
    "    \n",
    "simulation.reporters = []\n",
    "simulation.reporters.append(app.DCDReporter(f'traj_{n_molecules[1]}API_{api_cid[0]}_{n_molecules[2]}water.dcd', 100))\n",
    "simulation.reporters.append(app.StateDataReporter(stdout, 10000, step=True,\n",
    "                                              temperature=True, elapsedTime=True))\n",
    "simulation.reporters.append(app.StateDataReporter(f\"scalars_{n_molecules[1]}API_{api_cid[0]}_{n_molecules[2]}water.csv\", 1000, time=True,\n",
    "                                              potentialEnergy=True, totalEnergy=True, temperature=True,volume=True,density=True))\n",
    "\n",
    "print(\"Starting simulation\")\n",
    "start = time.process_time()\n",
    "\n",
    "simulation.step(total_simulation_steps)\n",
    "\n",
    "end = time.process_time()\n",
    "print(\"Elapsed time %.2f seconds\" % (end-start))\n",
    "print(\"Done!\")"
   ]
  },
  {
   "cell_type": "code",
   "execution_count": null,
   "metadata": {},
   "outputs": [],
   "source": [
    "import nglview\n",
    "import ipywidgets\n",
    "\n",
    "#water is not shown\n",
    "traj = md.load(f'traj_{n_molecules[1]}API_{api_cid[0]}_{n_molecules[2]}water.dcd', top=f\"initial_box_{n_molecules[1]}API_{api_cid[0]}_{n_molecules[2]}water_polymer.pdb\")\n",
    "traj.superpose(traj, 0)\n",
    "w = nglview.show_mdtraj(traj)\n",
    "w.add_representation('ball+stick',selection='water')\n",
    "w\n"
   ]
  },
  {
   "cell_type": "markdown",
   "metadata": {},
   "source": [
    "### Post Processing\n",
    "\n",
    "This can be extended "
   ]
  },
  {
   "cell_type": "code",
   "execution_count": null,
   "metadata": {},
   "outputs": [],
   "source": [
    "\n",
    "data = pd.read_csv(f\"scalars_{len(solutes)}solutes_N{n_solvent_mol}solvent.csv\")\n",
    "#print(data.head())\n",
    "time = data['#\"Time (ps)\"']\n",
    "V = data[\"Box Volume (nm^3)\"]\n",
    "rho = data[\"Density (g/mL)\"]\n",
    "plt.plot(time,rho)\n",
    "plt.xlabel('Time (ps)')\n",
    "plt.ylabel('Density (g/mL)')\n",
    "\n",
    "total_value = 0\n",
    "ma_data=[]\n",
    "for idx,value in enumerate(rho):\n",
    "    total_value += value\n",
    "    ma_data.append(total_value/(idx+1))\n",
    "\n",
    "ma_data = np.array(ma_data)\n",
    "plt.plot(time,ma_data,'black')\n",
    "\n",
    "#http://ddbonline.ddbst.de/DIPPR105DensityCalculation/DIPPR105CalculationCGI.exe?component=Acetonitrile\n",
    "print(f\"The average density at convergion is: {ma_data[-1]}\")\n",
    "\n",
    "plt.show()"
   ]
  },
  {
   "cell_type": "code",
   "execution_count": null,
   "metadata": {},
   "outputs": [],
   "source": [
    "plt.plot(time,V)\n",
    "plt.xlabel('Time (ps)')\n",
    "plt.ylabel('Box Volume ($nm^3$)')\n",
    "total_value = 0\n",
    "ma_data=[]\n",
    "for idx,value in enumerate(V):\n",
    "    total_value += value\n",
    "    ma_data.append(total_value/(idx+1))\n",
    "\n",
    "ma_data = np.array(ma_data)\n",
    "plt.plot(time,ma_data,'black')\n",
    "print(f\"The average volume at convergion is: {ma_data[-1]}\")\n",
    "#cube dimension in Angstrom\n",
    "cube_dim = ((ma_data[-1]**(1/3))*nanometer/angstrom)\n",
    "print(f\"The box dimensions for a NVT simulation should hence be: {cube_dim}\")\n",
    "plt.show()"
   ]
  }
 ],
 "metadata": {
  "kernelspec": {
   "display_name": "Python 3",
   "language": "python",
   "name": "python3"
  },
  "language_info": {
   "codemirror_mode": {
    "name": "ipython",
    "version": 3
   },
   "file_extension": ".py",
   "mimetype": "text/x-python",
   "name": "python",
   "nbconvert_exporter": "python",
   "pygments_lexer": "ipython3",
   "version": "3.7.6"
  }
 },
 "nbformat": 4,
 "nbformat_minor": 4
}
