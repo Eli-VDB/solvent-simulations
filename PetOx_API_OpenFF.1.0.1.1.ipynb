{
 "cells": [
  {
   "cell_type": "markdown",
   "metadata": {},
   "source": [
    "# Poly(2-Ethyl-2-oxazoline) - API in water\n",
    "\n",
    "TODO:  Simplify everything using OEChem "
   ]
  },
  {
   "cell_type": "code",
   "execution_count": 39,
   "metadata": {},
   "outputs": [],
   "source": [
    "#Modules to import\n",
    "\n",
    "from sys import stdout\n",
    "import time\n",
    "import requests\n",
    "from openbabel import openbabel,pybel\n",
    "from simtk.openmm import app\n",
    "from simtk.openmm.app import *\n",
    "from simtk.openmm import *\n",
    "from simtk.unit import *\n",
    "from openforcefield.topology import Molecule, Topology\n",
    "from openforcefield.utils.toolkits import OpenEyeToolkitWrapper\n",
    "from openforcefield.typing.engines.smirnoff import ForceField\n",
    "from openmmforcefields.generators import SystemGenerator\n",
    "from openmmforcefields.generators import SMIRNOFFTemplateGenerator\n",
    "from openmoltools import packmol\n",
    "import numpy as np\n",
    "import nglview\n",
    "import ipywidgets\n",
    "import mdtraj as md\n",
    "import parmed as pmd\n",
    "import matplotlib.pyplot as plt\n",
    "import pandas as pd"
   ]
  },
  {
   "cell_type": "markdown",
   "metadata": {},
   "source": [
    "## Generate all input files\n",
    "\n",
    "In theory this should only be done ones."
   ]
  },
  {
   "cell_type": "markdown",
   "metadata": {},
   "source": [
    "### Building a polymer\n",
    "\n",
    "OpenEye\n",
    "\n",
    "https://github.com/openforcefield/open-forcefield-tools/blob/master/openforcefield/substances.py\n",
    "https://github.com/openforcefield/open-forcefield-tools/blob/master/examples/substructure_linking.ipynb\n",
    "\n",
    "RDkit\n",
    "\n",
    "https://www.rdkit.org/docs/RDKit_Book.html\n",
    "https://github.com/rdkit/rdkit-tutorials/blob/master/notebooks/003_SMARTS_ReactionsExamples.ipynb\n",
    "\n",
    "Smiles\n",
    "\n",
    "This is The easiest way, if the polymer is fairly simple. If Cross-linking occurs this becomes far from trivial."
   ]
  },
  {
   "cell_type": "code",
   "execution_count": 16,
   "metadata": {},
   "outputs": [
    {
     "name": "stdout",
     "output_type": "stream",
     "text": [
      "None\n"
     ]
    },
    {
     "data": {
      "application/vnd.jupyter.widget-view+json": {
       "model_id": "70a5f71ac0204a63b81e20652cb4ae39",
       "version_major": 2,
       "version_minor": 0
      },
      "text/plain": [
       "NGLWidget()"
      ]
     },
     "metadata": {},
     "output_type": "display_data"
    }
   ],
   "source": [
    "# Smiles codes\n",
    "\n",
    "initiator = \"C\"\n",
    "unit = \"N(C(=O)CC)CC\"\n",
    "terminator = \"C\"\n",
    "number_of_units = 10\n",
    "\n",
    "polymer = initiator + number_of_units*unit + terminator\n",
    "polymer_filename= f'polymer_{number_of_units}units'\n",
    "\n",
    "\n",
    "#Conversion to PDB\n",
    "mol = pybel.readstring('smi',polymer)\n",
    "mol.make3D()\n",
    "print(mol.write('pdb',f\"{polymer_filename}.pdb\",overwrite=True))\n",
    "\n",
    "#from smile to format x codes gen3d option is needed, command line: obabel -i stdin -o out.pdb --gen3d <<< \"CC\"\n",
    "\n",
    "### Possibly this should be converted towards other formats as well.\n",
    "#generate sdf file and transform them to pdb using openbabel\n",
    "obConversion = openbabel.OBConversion()\n",
    "mol = openbabel.OBMol()\n",
    "obConversion.SetInAndOutFormats(\"pdb\", \"sdf\")\n",
    "obConversion.ReadFile(mol, f\"{polymer_filename}.pdb\")\n",
    "obConversion.WriteFile(mol, f\"{polymer_filename}.sdf\")\n",
    "\n",
    "#For some reason this conversion can not be used in the openforcefield...\n",
    "\n",
    "#Visualize the generated polymer\n",
    "nglview.show_file(f\"polymer_{number_of_units}units.pdb\")"
   ]
  },
  {
   "cell_type": "code",
   "execution_count": 13,
   "metadata": {},
   "outputs": [
    {
     "name": "stdout",
     "output_type": "stream",
     "text": [
      "Number of phenol atoms: 352\n"
     ]
    },
    {
     "data": {
      "text/plain": [
       "0"
      ]
     },
     "execution_count": 13,
     "metadata": {},
     "output_type": "execute_result"
    }
   ],
   "source": [
    "from openeye import oechem\n",
    "initiator = \"C\"\n",
    "unit = \"N(C(=O)CC)CC\"\n",
    "terminator = \"C\"\n",
    "number_of_units = 50\n",
    "\n",
    "polymer = initiator + number_of_units*unit + terminator\n",
    "polymer_filename= f'polymer_{number_of_units}units'\n",
    "\n",
    "mol = oechem.OEGraphMol()\n",
    "oechem.OESmilesToMol(mol, polymer)\n",
    "print(\"Number of phenol atoms:\", mol.NumAtoms())\n",
    "out=oechem.oemolostream(polymer_filename+'.pdb')\n",
    "oechem.OEWriteMolecule(out, mol)\n",
    "\n",
    "#no 3D coordinates are added\n"
   ]
  },
  {
   "cell_type": "markdown",
   "metadata": {},
   "source": [
    "### Collect the Active Farmaceutical ingrediënt (API)"
   ]
  },
  {
   "cell_type": "code",
   "execution_count": 7,
   "metadata": {},
   "outputs": [],
   "source": [
    "# API\n",
    "api_cid = ['35802']\n",
    "\n",
    "#generate sdf file and transform them to pdb using openbabel\n",
    "obConversion = openbabel.OBConversion()\n",
    "obConversion.SetInAndOutFormats(\"sdf\", \"pdb\")\n",
    "mol = openbabel.OBMol()\n",
    "\n",
    "# Convert to pdb file and generate a smiles string\n",
    "for cid in api_cid:\n",
    "    url = f\"https://pubchem.ncbi.nlm.nih.gov/rest/pug/compound/CID/{cid}/record/SDF/?record_type=3d&response_type=save\"\n",
    "    with open(f\"API_{cid}.sdf\", \"w\") as f:\n",
    "        f.write(requests.get(url).text)\n",
    "    obConversion.ReadFile(mol, f\"API_{cid}.sdf\")\n",
    "    obConversion.WriteFile(mol, f\"API_{cid}.pdb\")\n",
    "api_smiles = Molecule.from_file(f\"API_{cid}.sdf\").to_smiles()\n",
    "\n"
   ]
  },
  {
   "cell_type": "markdown",
   "metadata": {},
   "source": [
    "### Generate the water molecule\n",
    "\n",
    "This should comply with the format needed for the forcefield which you will use typically tip3p(fb) type of forcefields. Hence atom types should match."
   ]
  },
  {
   "cell_type": "code",
   "execution_count": null,
   "metadata": {},
   "outputs": [],
   "source": [
    "#Water molecule\n",
    "\n",
    "water_smiles = 'O'\n",
    "\n",
    "#Conversion to PDB\n",
    "wat = pybel.readstring('smi',water_smiles)\n",
    "wat.make3D()\n",
    "#put overwrite to False once the created file is in the correct format\n",
    "wat.write('pdb',f\"water.pdb\",overwrite=True)\n",
    "\n",
    "md_traj_water = md.load(\"water.pdb\")\n",
    "if packmol.standardize_water(md_traj_water):\n",
    "    print('Water molecule already had correct format')\n",
    "else: print('The water_pdbFile should be adjusted: 3 atoms 1 residue, ADJUST_MANUALY')\n",
    "print(md_traj_water)\n",
    "packmol.rename_water_atoms('water.pdb')\n",
    "\n",
    "\n",
    "## Using OpenEye\n",
    "#mol = oechem.OEMol()\n",
    "#oechem.OESmilesToMol(mol, 'O')\n",
    "#oechem.OEAddExplicitHydrogens(mol)\n",
    "#oechem.OETriposAtomNames(mol)\n",
    "#mols.append(mol)\n"
   ]
  },
  {
   "cell_type": "markdown",
   "metadata": {},
   "source": [
    "## Calculate the initial box size and number of water molecules"
   ]
  },
  {
   "cell_type": "markdown",
   "metadata": {},
   "source": [
    "Implement a Simple method to calculate the desired boxsize. e.g. minimal volume = sum of all vdw spheres. paste them all behind each other could be the maximal.\n",
    "\n",
    "\n",
    "From geometry in numpy array, calculate longest distance? add extra solvent layers. I believe this is the simplest way and most convenient.\n",
    "370 + 2*5 = 380 A this is longest possible distance for the cube... hence determine box dimension based hereon.. calculate initial number of water molecules based on this box size and the experimental density at these conditions...\n"
   ]
  },
  {
   "cell_type": "markdown",
   "metadata": {},
   "source": [
    "## Parameterizing all components"
   ]
  },
  {
   "cell_type": "markdown",
   "metadata": {},
   "source": [
    "### AmberTools\n",
    "\n",
    "Alternatively to the OpenFF approach, AmberTools could be used for generating the forcefield.\n",
    "One can however look at OpenFF as a clean and user-friendly approach of gaff (generalized amber forcefield) this is hence a prefered way to parameterize everything.\n",
    "\n",
    "https://ambermd.org/tutorials/advanced/tutorial27/pet.html\n",
    "\n"
   ]
  },
  {
   "cell_type": "markdown",
   "metadata": {},
   "source": [
    "### OpenFF\n",
    "TODO ADD some explenations"
   ]
  },
  {
   "cell_type": "markdown",
   "metadata": {},
   "source": [
    "### API parameterization"
   ]
  },
  {
   "cell_type": "code",
   "execution_count": 8,
   "metadata": {},
   "outputs": [
    {
     "name": "stderr",
     "output_type": "stream",
     "text": [
      "/home/elias/anaconda3/envs/openmm/lib/python3.7/site-packages/simtk/openmm/app/internal/pdbstructure.py:537: UserWarning: WARNING: duplicate atom (HETATM    3  O   UNL     1       6.202   1.839   0.002  1.00  0.00           O  , HETATM    2  O   UNL     1      -3.211  -2.659   0.001  1.00  0.00           O  )\n",
      "  warnings.warn(\"WARNING: duplicate atom (%s, %s)\" % (atom, old_atom._pdb_string(old_atom.serial_number, atom.alternate_location_indicator)))\n",
      "/home/elias/anaconda3/envs/openmm/lib/python3.7/site-packages/simtk/openmm/app/internal/pdbstructure.py:537: UserWarning: WARNING: duplicate atom (HETATM    4  O   UNL     1       5.839  -0.416  -0.001  1.00  0.00           O  , HETATM    3  O   UNL     1       6.202   1.839   0.002  1.00  0.00           O  )\n",
      "  warnings.warn(\"WARNING: duplicate atom (%s, %s)\" % (atom, old_atom._pdb_string(old_atom.serial_number, atom.alternate_location_indicator)))\n",
      "/home/elias/anaconda3/envs/openmm/lib/python3.7/site-packages/simtk/openmm/app/internal/pdbstructure.py:537: UserWarning: WARNING: duplicate atom (HETATM    6  N   UNL     1       2.922  -0.999  -0.001  1.00  0.00           N  , HETATM    5  N   UNL     1       1.702   0.859  -0.002  1.00  0.00           N  )\n",
      "  warnings.warn(\"WARNING: duplicate atom (%s, %s)\" % (atom, old_atom._pdb_string(old_atom.serial_number, atom.alternate_location_indicator)))\n",
      "/home/elias/anaconda3/envs/openmm/lib/python3.7/site-packages/simtk/openmm/app/internal/pdbstructure.py:537: UserWarning: WARNING: duplicate atom (HETATM    7  N   UNL     1       4.063   1.124  -0.000  1.00  0.00           N  , HETATM    6  N   UNL     1       2.922  -0.999  -0.001  1.00  0.00           N  )\n",
      "  warnings.warn(\"WARNING: duplicate atom (%s, %s)\" % (atom, old_atom._pdb_string(old_atom.serial_number, atom.alternate_location_indicator)))\n",
      "/home/elias/anaconda3/envs/openmm/lib/python3.7/site-packages/simtk/openmm/app/internal/pdbstructure.py:537: UserWarning: WARNING: duplicate atom (HETATM    9  C   UNL     1       1.585  -1.322  -0.001  1.00  0.00           C  , HETATM    8  C   UNL     1       0.798  -0.173  -0.001  1.00  0.00           C  )\n",
      "  warnings.warn(\"WARNING: duplicate atom (%s, %s)\" % (atom, old_atom._pdb_string(old_atom.serial_number, atom.alternate_location_indicator)))\n",
      "/home/elias/anaconda3/envs/openmm/lib/python3.7/site-packages/simtk/openmm/app/internal/pdbstructure.py:537: UserWarning: WARNING: duplicate atom (HETATM   10  C   UNL     1      -1.203  -1.459   0.000  1.00  0.00           C  , HETATM    9  C   UNL     1       1.585  -1.322  -0.001  1.00  0.00           C  )\n",
      "  warnings.warn(\"WARNING: duplicate atom (%s, %s)\" % (atom, old_atom._pdb_string(old_atom.serial_number, atom.alternate_location_indicator)))\n",
      "/home/elias/anaconda3/envs/openmm/lib/python3.7/site-packages/simtk/openmm/app/internal/pdbstructure.py:537: UserWarning: WARNING: duplicate atom (HETATM   11  C   UNL     1      -0.597  -0.199  -0.000  1.00  0.00           C  , HETATM   10  C   UNL     1      -1.203  -1.459   0.000  1.00  0.00           C  )\n",
      "  warnings.warn(\"WARNING: duplicate atom (%s, %s)\" % (atom, old_atom._pdb_string(old_atom.serial_number, atom.alternate_location_indicator)))\n",
      "/home/elias/anaconda3/envs/openmm/lib/python3.7/site-packages/simtk/openmm/app/internal/pdbstructure.py:537: UserWarning: WARNING: duplicate atom (HETATM   12  C   UNL     1       0.959  -2.580   0.000  1.00  0.00           C  , HETATM   11  C   UNL     1      -0.597  -0.199  -0.000  1.00  0.00           C  )\n",
      "  warnings.warn(\"WARNING: duplicate atom (%s, %s)\" % (atom, old_atom._pdb_string(old_atom.serial_number, atom.alternate_location_indicator)))\n",
      "/home/elias/anaconda3/envs/openmm/lib/python3.7/site-packages/simtk/openmm/app/internal/pdbstructure.py:537: UserWarning: WARNING: duplicate atom (HETATM   13  C   UNL     1      -0.441  -2.630   0.001  1.00  0.00           C  , HETATM   12  C   UNL     1       0.959  -2.580   0.000  1.00  0.00           C  )\n",
      "  warnings.warn(\"WARNING: duplicate atom (%s, %s)\" % (atom, old_atom._pdb_string(old_atom.serial_number, atom.alternate_location_indicator)))\n",
      "/home/elias/anaconda3/envs/openmm/lib/python3.7/site-packages/simtk/openmm/app/internal/pdbstructure.py:537: UserWarning: WARNING: duplicate atom (HETATM   14  C   UNL     1       2.957   0.314  -0.002  1.00  0.00           C  , HETATM   13  C   UNL     1      -0.441  -2.630   0.001  1.00  0.00           C  )\n",
      "  warnings.warn(\"WARNING: duplicate atom (%s, %s)\" % (atom, old_atom._pdb_string(old_atom.serial_number, atom.alternate_location_indicator)))\n",
      "/home/elias/anaconda3/envs/openmm/lib/python3.7/site-packages/simtk/openmm/app/internal/pdbstructure.py:537: UserWarning: WARNING: duplicate atom (HETATM   15  C   UNL     1      -2.655  -1.551   0.001  1.00  0.00           C  , HETATM   14  C   UNL     1       2.957   0.314  -0.002  1.00  0.00           C  )\n",
      "  warnings.warn(\"WARNING: duplicate atom (%s, %s)\" % (atom, old_atom._pdb_string(old_atom.serial_number, atom.alternate_location_indicator)))\n",
      "/home/elias/anaconda3/envs/openmm/lib/python3.7/site-packages/simtk/openmm/app/internal/pdbstructure.py:537: UserWarning: WARNING: duplicate atom (HETATM   16  C   UNL     1      -3.533  -0.342   0.000  1.00  0.00           C  , HETATM   15  C   UNL     1      -2.655  -1.551   0.001  1.00  0.00           C  )\n",
      "  warnings.warn(\"WARNING: duplicate atom (%s, %s)\" % (atom, old_atom._pdb_string(old_atom.serial_number, atom.alternate_location_indicator)))\n",
      "/home/elias/anaconda3/envs/openmm/lib/python3.7/site-packages/simtk/openmm/app/internal/pdbstructure.py:537: UserWarning: WARNING: duplicate atom (HETATM   17  C   UNL     1      -3.920   0.190  -1.208  1.00  0.00           C  , HETATM   16  C   UNL     1      -3.533  -0.342   0.000  1.00  0.00           C  )\n",
      "  warnings.warn(\"WARNING: duplicate atom (%s, %s)\" % (atom, old_atom._pdb_string(old_atom.serial_number, atom.alternate_location_indicator)))\n",
      "/home/elias/anaconda3/envs/openmm/lib/python3.7/site-packages/simtk/openmm/app/internal/pdbstructure.py:537: UserWarning: WARNING: duplicate atom (HETATM   18  C   UNL     1      -3.919   0.191   1.208  1.00  0.00           C  , HETATM   17  C   UNL     1      -3.920   0.190  -1.208  1.00  0.00           C  )\n",
      "  warnings.warn(\"WARNING: duplicate atom (%s, %s)\" % (atom, old_atom._pdb_string(old_atom.serial_number, atom.alternate_location_indicator)))\n",
      "/home/elias/anaconda3/envs/openmm/lib/python3.7/site-packages/simtk/openmm/app/internal/pdbstructure.py:537: UserWarning: WARNING: duplicate atom (HETATM   19  C   UNL     1      -4.739   1.319  -1.208  1.00  0.00           C  , HETATM   18  C   UNL     1      -3.919   0.191   1.208  1.00  0.00           C  )\n",
      "  warnings.warn(\"WARNING: duplicate atom (%s, %s)\" % (atom, old_atom._pdb_string(old_atom.serial_number, atom.alternate_location_indicator)))\n",
      "/home/elias/anaconda3/envs/openmm/lib/python3.7/site-packages/simtk/openmm/app/internal/pdbstructure.py:537: UserWarning: WARNING: duplicate atom (HETATM   20  C   UNL     1      -4.739   1.319   1.208  1.00  0.00           C  , HETATM   19  C   UNL     1      -4.739   1.319  -1.208  1.00  0.00           C  )\n",
      "  warnings.warn(\"WARNING: duplicate atom (%s, %s)\" % (atom, old_atom._pdb_string(old_atom.serial_number, atom.alternate_location_indicator)))\n",
      "/home/elias/anaconda3/envs/openmm/lib/python3.7/site-packages/simtk/openmm/app/internal/pdbstructure.py:537: UserWarning: WARNING: duplicate atom (HETATM   21  C   UNL     1      -5.149   1.883   0.000  1.00  0.00           C  , HETATM   20  C   UNL     1      -4.739   1.319   1.208  1.00  0.00           C  )\n",
      "  warnings.warn(\"WARNING: duplicate atom (%s, %s)\" % (atom, old_atom._pdb_string(old_atom.serial_number, atom.alternate_location_indicator)))\n",
      "/home/elias/anaconda3/envs/openmm/lib/python3.7/site-packages/simtk/openmm/app/internal/pdbstructure.py:537: UserWarning: WARNING: duplicate atom (HETATM   22  C   UNL     1       5.401   0.728   0.000  1.00  0.00           C  , HETATM   21  C   UNL     1      -5.149   1.883   0.000  1.00  0.00           C  )\n",
      "  warnings.warn(\"WARNING: duplicate atom (%s, %s)\" % (atom, old_atom._pdb_string(old_atom.serial_number, atom.alternate_location_indicator)))\n",
      "/home/elias/anaconda3/envs/openmm/lib/python3.7/site-packages/simtk/openmm/app/internal/pdbstructure.py:537: UserWarning: WARNING: duplicate atom (HETATM   23  C   UNL     1       7.614   1.598   0.002  1.00  0.00           C  , HETATM   22  C   UNL     1       5.401   0.728   0.000  1.00  0.00           C  )\n",
      "  warnings.warn(\"WARNING: duplicate atom (%s, %s)\" % (atom, old_atom._pdb_string(old_atom.serial_number, atom.alternate_location_indicator)))\n",
      "/home/elias/anaconda3/envs/openmm/lib/python3.7/site-packages/simtk/openmm/app/internal/pdbstructure.py:537: UserWarning: WARNING: duplicate atom (HETATM   25  H   UNL     1       1.481   1.845  -0.002  1.00  0.00           H  , HETATM   24  H   UNL     1      -1.150   0.733  -0.001  1.00  0.00           H  )\n",
      "  warnings.warn(\"WARNING: duplicate atom (%s, %s)\" % (atom, old_atom._pdb_string(old_atom.serial_number, atom.alternate_location_indicator)))\n",
      "/home/elias/anaconda3/envs/openmm/lib/python3.7/site-packages/simtk/openmm/app/internal/pdbstructure.py:537: UserWarning: WARNING: duplicate atom (HETATM   26  H   UNL     1       1.542  -3.495   0.001  1.00  0.00           H  , HETATM   25  H   UNL     1       1.481   1.845  -0.002  1.00  0.00           H  )\n",
      "  warnings.warn(\"WARNING: duplicate atom (%s, %s)\" % (atom, old_atom._pdb_string(old_atom.serial_number, atom.alternate_location_indicator)))\n",
      "/home/elias/anaconda3/envs/openmm/lib/python3.7/site-packages/simtk/openmm/app/internal/pdbstructure.py:537: UserWarning: WARNING: duplicate atom (HETATM   27  H   UNL     1      -0.914  -3.609   0.001  1.00  0.00           H  , HETATM   26  H   UNL     1       1.542  -3.495   0.001  1.00  0.00           H  )\n",
      "  warnings.warn(\"WARNING: duplicate atom (%s, %s)\" % (atom, old_atom._pdb_string(old_atom.serial_number, atom.alternate_location_indicator)))\n",
      "/home/elias/anaconda3/envs/openmm/lib/python3.7/site-packages/simtk/openmm/app/internal/pdbstructure.py:537: UserWarning: WARNING: duplicate atom (HETATM   28  H   UNL     1       3.886   2.125   0.001  1.00  0.00           H  , HETATM   27  H   UNL     1      -0.914  -3.609   0.001  1.00  0.00           H  )\n",
      "  warnings.warn(\"WARNING: duplicate atom (%s, %s)\" % (atom, old_atom._pdb_string(old_atom.serial_number, atom.alternate_location_indicator)))\n",
      "/home/elias/anaconda3/envs/openmm/lib/python3.7/site-packages/simtk/openmm/app/internal/pdbstructure.py:537: UserWarning: WARNING: duplicate atom (HETATM   29  H   UNL     1      -3.604  -0.247  -2.150  1.00  0.00           H  , HETATM   28  H   UNL     1       3.886   2.125   0.001  1.00  0.00           H  )\n",
      "  warnings.warn(\"WARNING: duplicate atom (%s, %s)\" % (atom, old_atom._pdb_string(old_atom.serial_number, atom.alternate_location_indicator)))\n",
      "/home/elias/anaconda3/envs/openmm/lib/python3.7/site-packages/simtk/openmm/app/internal/pdbstructure.py:537: UserWarning: WARNING: duplicate atom (HETATM   30  H   UNL     1      -3.602  -0.245   2.151  1.00  0.00           H  , HETATM   29  H   UNL     1      -3.604  -0.247  -2.150  1.00  0.00           H  )\n",
      "  warnings.warn(\"WARNING: duplicate atom (%s, %s)\" % (atom, old_atom._pdb_string(old_atom.serial_number, atom.alternate_location_indicator)))\n",
      "/home/elias/anaconda3/envs/openmm/lib/python3.7/site-packages/simtk/openmm/app/internal/pdbstructure.py:537: UserWarning: WARNING: duplicate atom (HETATM   31  H   UNL     1      -5.059   1.758  -2.148  1.00  0.00           H  , HETATM   30  H   UNL     1      -3.602  -0.245   2.151  1.00  0.00           H  )\n",
      "  warnings.warn(\"WARNING: duplicate atom (%s, %s)\" % (atom, old_atom._pdb_string(old_atom.serial_number, atom.alternate_location_indicator)))\n",
      "/home/elias/anaconda3/envs/openmm/lib/python3.7/site-packages/simtk/openmm/app/internal/pdbstructure.py:537: UserWarning: WARNING: duplicate atom (HETATM   32  H   UNL     1      -5.058   1.759   2.148  1.00  0.00           H  , HETATM   31  H   UNL     1      -5.059   1.758  -2.148  1.00  0.00           H  )\n",
      "  warnings.warn(\"WARNING: duplicate atom (%s, %s)\" % (atom, old_atom._pdb_string(old_atom.serial_number, atom.alternate_location_indicator)))\n",
      "/home/elias/anaconda3/envs/openmm/lib/python3.7/site-packages/simtk/openmm/app/internal/pdbstructure.py:537: UserWarning: WARNING: duplicate atom (HETATM   33  H   UNL     1       7.904   1.047   0.902  1.00  0.00           H  , HETATM   32  H   UNL     1      -5.058   1.759   2.148  1.00  0.00           H  )\n",
      "  warnings.warn(\"WARNING: duplicate atom (%s, %s)\" % (atom, old_atom._pdb_string(old_atom.serial_number, atom.alternate_location_indicator)))\n",
      "/home/elias/anaconda3/envs/openmm/lib/python3.7/site-packages/simtk/openmm/app/internal/pdbstructure.py:537: UserWarning: WARNING: duplicate atom (HETATM   34  H   UNL     1       8.124   2.565   0.003  1.00  0.00           H  , HETATM   33  H   UNL     1       7.904   1.047   0.902  1.00  0.00           H  )\n",
      "  warnings.warn(\"WARNING: duplicate atom (%s, %s)\" % (atom, old_atom._pdb_string(old_atom.serial_number, atom.alternate_location_indicator)))\n",
      "/home/elias/anaconda3/envs/openmm/lib/python3.7/site-packages/simtk/openmm/app/internal/pdbstructure.py:537: UserWarning: WARNING: duplicate atom (HETATM   35  H   UNL     1       7.904   1.049  -0.899  1.00  0.00           H  , HETATM   34  H   UNL     1       8.124   2.565   0.003  1.00  0.00           H  )\n",
      "  warnings.warn(\"WARNING: duplicate atom (%s, %s)\" % (atom, old_atom._pdb_string(old_atom.serial_number, atom.alternate_location_indicator)))\n"
     ]
    }
   ],
   "source": [
    "#Forcefield     \n",
    "off_forcefield = ForceField('openff-1.0.0.offxml')\n",
    "\n",
    "#parameterization\n",
    "uniq_molecules = [Molecule.from_file(f\"API_{api_cid[0]}.sdf\")]\n",
    "api_pdb = PDBFile(f\"API_{api_cid[0]}.pdb\")\n",
    "api_positions =  api_pdb.getPositions()\n",
    "off_api_topology = Topology.from_openmm(api_pdb.topology,unique_molecules=uniq_molecules)\n",
    "off_api_system = off_forcefield.create_openmm_system(off_api_topology)\n"
   ]
  },
  {
   "cell_type": "markdown",
   "metadata": {},
   "source": [
    "#### Visualize the molecule"
   ]
  },
  {
   "cell_type": "code",
   "execution_count": null,
   "metadata": {},
   "outputs": [],
   "source": [
    "nglview.show_file(f\"API_{api_cid[0]}.pdb\")"
   ]
  },
  {
   "cell_type": "markdown",
   "metadata": {},
   "source": [
    "#### Energy minimization\n",
    "\n",
    "To check whether the generated forcefield can actually be used."
   ]
  },
  {
   "cell_type": "code",
   "execution_count": null,
   "metadata": {},
   "outputs": [],
   "source": [
    "\n",
    "integrator = VerletIntegrator(1.0 * femtoseconds)\n",
    "context = Context(off_api_system, integrator)\n",
    "context.setPositions(api_positions)\n",
    "state = context.getState(getEnergy=True)\n",
    "energy = state.getPotentialEnergy().in_units_of(kilojoules_per_mole)\n",
    "\n",
    "print(f\"Original energy: {energy}\")"
   ]
  },
  {
   "cell_type": "markdown",
   "metadata": {},
   "source": [
    "### Polymer parameterization"
   ]
  },
  {
   "cell_type": "markdown",
   "metadata": {},
   "source": [
    "#### Polymer = one molecule"
   ]
  },
  {
   "cell_type": "code",
   "execution_count": 17,
   "metadata": {
    "scrolled": true
   },
   "outputs": [
    {
     "name": "stderr",
     "output_type": "stream",
     "text": [
      "/home/elias/anaconda3/envs/openmm/lib/python3.7/site-packages/simtk/openmm/app/internal/pdbstructure.py:537: UserWarning: WARNING: duplicate atom (HETATM    3  C   UNL     1       3.243  -0.900   1.005  1.00  0.00           C  , HETATM    1  C   UNL     1       1.061  -0.002   0.067  1.00  0.00           C  )\n",
      "  warnings.warn(\"WARNING: duplicate atom (%s, %s)\" % (atom, old_atom._pdb_string(old_atom.serial_number, atom.alternate_location_indicator)))\n",
      "/home/elias/anaconda3/envs/openmm/lib/python3.7/site-packages/simtk/openmm/app/internal/pdbstructure.py:537: UserWarning: WARNING: duplicate atom (HETATM    5  C   UNL     1       2.463  -1.783   1.927  1.00  0.00           C  , HETATM    3  C   UNL     1       3.243  -0.900   1.005  1.00  0.00           C  )\n",
      "  warnings.warn(\"WARNING: duplicate atom (%s, %s)\" % (atom, old_atom._pdb_string(old_atom.serial_number, atom.alternate_location_indicator)))\n",
      "/home/elias/anaconda3/envs/openmm/lib/python3.7/site-packages/simtk/openmm/app/internal/pdbstructure.py:537: UserWarning: WARNING: duplicate atom (HETATM    6  C   UNL     1       3.442  -2.582   2.762  1.00  0.00           C  , HETATM    5  C   UNL     1       2.463  -1.783   1.927  1.00  0.00           C  )\n",
      "  warnings.warn(\"WARNING: duplicate atom (%s, %s)\" % (atom, old_atom._pdb_string(old_atom.serial_number, atom.alternate_location_indicator)))\n",
      "/home/elias/anaconda3/envs/openmm/lib/python3.7/site-packages/simtk/openmm/app/internal/pdbstructure.py:537: UserWarning: WARNING: duplicate atom (HETATM    7  C   UNL     1       3.193   0.778  -0.747  1.00  0.00           C  , HETATM    6  C   UNL     1       3.442  -2.582   2.762  1.00  0.00           C  )\n",
      "  warnings.warn(\"WARNING: duplicate atom (%s, %s)\" % (atom, old_atom._pdb_string(old_atom.serial_number, atom.alternate_location_indicator)))\n",
      "/home/elias/anaconda3/envs/openmm/lib/python3.7/site-packages/simtk/openmm/app/internal/pdbstructure.py:537: UserWarning: WARNING: duplicate atom (HETATM    8  C   UNL     1       4.694   0.860  -0.833  1.00  0.00           C  , HETATM    7  C   UNL     1       3.193   0.778  -0.747  1.00  0.00           C  )\n",
      "  warnings.warn(\"WARNING: duplicate atom (%s, %s)\" % (atom, old_atom._pdb_string(old_atom.serial_number, atom.alternate_location_indicator)))\n",
      "/home/elias/anaconda3/envs/openmm/lib/python3.7/site-packages/simtk/openmm/app/internal/pdbstructure.py:537: UserWarning: WARNING: duplicate atom (HETATM    9  N   UNL     1       5.265   1.801  -1.816  1.00  0.00           N  , HETATM    2  N   UNL     1       2.517  -0.094   0.163  1.00  0.00           N  )\n",
      "  warnings.warn(\"WARNING: duplicate atom (%s, %s)\" % (atom, old_atom._pdb_string(old_atom.serial_number, atom.alternate_location_indicator)))\n",
      "/home/elias/anaconda3/envs/openmm/lib/python3.7/site-packages/simtk/openmm/app/internal/pdbstructure.py:537: UserWarning: WARNING: duplicate atom (HETATM   10  C   UNL     1       4.652   2.656  -2.709  1.00  0.00           C  , HETATM    8  C   UNL     1       4.694   0.860  -0.833  1.00  0.00           C  )\n",
      "  warnings.warn(\"WARNING: duplicate atom (%s, %s)\" % (atom, old_atom._pdb_string(old_atom.serial_number, atom.alternate_location_indicator)))\n",
      "/home/elias/anaconda3/envs/openmm/lib/python3.7/site-packages/simtk/openmm/app/internal/pdbstructure.py:537: UserWarning: WARNING: duplicate atom (HETATM   11  O   UNL     1       5.288   3.390  -3.475  1.00  0.00           O  , HETATM    4  O   UNL     1       4.475  -0.915   1.020  1.00  0.00           O  )\n",
      "  warnings.warn(\"WARNING: duplicate atom (%s, %s)\" % (atom, old_atom._pdb_string(old_atom.serial_number, atom.alternate_location_indicator)))\n",
      "/home/elias/anaconda3/envs/openmm/lib/python3.7/site-packages/simtk/openmm/app/internal/pdbstructure.py:537: UserWarning: WARNING: duplicate atom (HETATM   12  C   UNL     1       3.158   2.705  -2.760  1.00  0.00           C  , HETATM   10  C   UNL     1       4.652   2.656  -2.709  1.00  0.00           C  )\n",
      "  warnings.warn(\"WARNING: duplicate atom (%s, %s)\" % (atom, old_atom._pdb_string(old_atom.serial_number, atom.alternate_location_indicator)))\n",
      "/home/elias/anaconda3/envs/openmm/lib/python3.7/site-packages/simtk/openmm/app/internal/pdbstructure.py:537: UserWarning: WARNING: duplicate atom (HETATM   13  C   UNL     1       2.648   3.681  -3.779  1.00  0.00           C  , HETATM   12  C   UNL     1       3.158   2.705  -2.760  1.00  0.00           C  )\n",
      "  warnings.warn(\"WARNING: duplicate atom (%s, %s)\" % (atom, old_atom._pdb_string(old_atom.serial_number, atom.alternate_location_indicator)))\n",
      "/home/elias/anaconda3/envs/openmm/lib/python3.7/site-packages/simtk/openmm/app/internal/pdbstructure.py:537: UserWarning: WARNING: duplicate atom (HETATM   14  C   UNL     1       6.696   1.739  -1.751  1.00  0.00           C  , HETATM   13  C   UNL     1       2.648   3.681  -3.779  1.00  0.00           C  )\n",
      "  warnings.warn(\"WARNING: duplicate atom (%s, %s)\" % (atom, old_atom._pdb_string(old_atom.serial_number, atom.alternate_location_indicator)))\n",
      "/home/elias/anaconda3/envs/openmm/lib/python3.7/site-packages/simtk/openmm/app/internal/pdbstructure.py:537: UserWarning: WARNING: duplicate atom (HETATM   15  C   UNL     1       7.568   2.578  -2.627  1.00  0.00           C  , HETATM   14  C   UNL     1       6.696   1.739  -1.751  1.00  0.00           C  )\n",
      "  warnings.warn(\"WARNING: duplicate atom (%s, %s)\" % (atom, old_atom._pdb_string(old_atom.serial_number, atom.alternate_location_indicator)))\n",
      "/home/elias/anaconda3/envs/openmm/lib/python3.7/site-packages/simtk/openmm/app/internal/pdbstructure.py:537: UserWarning: WARNING: duplicate atom (HETATM   16  N   UNL     1       9.022   2.437  -2.480  1.00  0.00           N  , HETATM    9  N   UNL     1       5.265   1.801  -1.816  1.00  0.00           N  )\n",
      "  warnings.warn(\"WARNING: duplicate atom (%s, %s)\" % (atom, old_atom._pdb_string(old_atom.serial_number, atom.alternate_location_indicator)))\n",
      "/home/elias/anaconda3/envs/openmm/lib/python3.7/site-packages/simtk/openmm/app/internal/pdbstructure.py:537: UserWarning: WARNING: duplicate atom (HETATM   17  C   UNL     1       9.778   1.639  -1.646  1.00  0.00           C  , HETATM   15  C   UNL     1       7.568   2.578  -2.627  1.00  0.00           C  )\n",
      "  warnings.warn(\"WARNING: duplicate atom (%s, %s)\" % (atom, old_atom._pdb_string(old_atom.serial_number, atom.alternate_location_indicator)))\n",
      "/home/elias/anaconda3/envs/openmm/lib/python3.7/site-packages/simtk/openmm/app/internal/pdbstructure.py:537: UserWarning: WARNING: duplicate atom (HETATM   18  O   UNL     1      11.014   1.650  -1.658  1.00  0.00           O  , HETATM   11  O   UNL     1       5.288   3.390  -3.475  1.00  0.00           O  )\n",
      "  warnings.warn(\"WARNING: duplicate atom (%s, %s)\" % (atom, old_atom._pdb_string(old_atom.serial_number, atom.alternate_location_indicator)))\n",
      "/home/elias/anaconda3/envs/openmm/lib/python3.7/site-packages/simtk/openmm/app/internal/pdbstructure.py:537: UserWarning: WARNING: duplicate atom (HETATM   19  C   UNL     1       9.085   0.720  -0.687  1.00  0.00           C  , HETATM   17  C   UNL     1       9.778   1.639  -1.646  1.00  0.00           C  )\n",
      "  warnings.warn(\"WARNING: duplicate atom (%s, %s)\" % (atom, old_atom._pdb_string(old_atom.serial_number, atom.alternate_location_indicator)))\n",
      "/home/elias/anaconda3/envs/openmm/lib/python3.7/site-packages/simtk/openmm/app/internal/pdbstructure.py:537: UserWarning: WARNING: duplicate atom (HETATM   20  C   UNL     1      10.052  -0.074   0.143  1.00  0.00           C  , HETATM   19  C   UNL     1       9.085   0.720  -0.687  1.00  0.00           C  )\n",
      "  warnings.warn(\"WARNING: duplicate atom (%s, %s)\" % (atom, old_atom._pdb_string(old_atom.serial_number, atom.alternate_location_indicator)))\n",
      "/home/elias/anaconda3/envs/openmm/lib/python3.7/site-packages/simtk/openmm/app/internal/pdbstructure.py:537: UserWarning: WARNING: duplicate atom (HETATM   21  C   UNL     1       9.661   3.322  -3.404  1.00  0.00           C  , HETATM   20  C   UNL     1      10.052  -0.074   0.143  1.00  0.00           C  )\n",
      "  warnings.warn(\"WARNING: duplicate atom (%s, %s)\" % (atom, old_atom._pdb_string(old_atom.serial_number, atom.alternate_location_indicator)))\n",
      "/home/elias/anaconda3/envs/openmm/lib/python3.7/site-packages/simtk/openmm/app/internal/pdbstructure.py:537: UserWarning: WARNING: duplicate atom (HETATM   22  C   UNL     1      11.144   3.423  -3.509  1.00  0.00           C  , HETATM   21  C   UNL     1       9.661   3.322  -3.404  1.00  0.00           C  )\n",
      "  warnings.warn(\"WARNING: duplicate atom (%s, %s)\" % (atom, old_atom._pdb_string(old_atom.serial_number, atom.alternate_location_indicator)))\n",
      "/home/elias/anaconda3/envs/openmm/lib/python3.7/site-packages/simtk/openmm/app/internal/pdbstructure.py:537: UserWarning: WARNING: duplicate atom (HETATM   23  N   UNL     1      11.690   4.365  -4.493  1.00  0.00           N  , HETATM   16  N   UNL     1       9.022   2.437  -2.480  1.00  0.00           N  )\n",
      "  warnings.warn(\"WARNING: duplicate atom (%s, %s)\" % (atom, old_atom._pdb_string(old_atom.serial_number, atom.alternate_location_indicator)))\n",
      "/home/elias/anaconda3/envs/openmm/lib/python3.7/site-packages/simtk/openmm/app/internal/pdbstructure.py:537: UserWarning: WARNING: duplicate atom (HETATM   24  C   UNL     1      11.066   5.217  -5.383  1.00  0.00           C  , HETATM   22  C   UNL     1      11.144   3.423  -3.509  1.00  0.00           C  )\n",
      "  warnings.warn(\"WARNING: duplicate atom (%s, %s)\" % (atom, old_atom._pdb_string(old_atom.serial_number, atom.alternate_location_indicator)))\n",
      "/home/elias/anaconda3/envs/openmm/lib/python3.7/site-packages/simtk/openmm/app/internal/pdbstructure.py:537: UserWarning: WARNING: duplicate atom (HETATM   25  O   UNL     1      11.697   5.952  -6.150  1.00  0.00           O  , HETATM   18  O   UNL     1      11.014   1.650  -1.658  1.00  0.00           O  )\n",
      "  warnings.warn(\"WARNING: duplicate atom (%s, %s)\" % (atom, old_atom._pdb_string(old_atom.serial_number, atom.alternate_location_indicator)))\n",
      "/home/elias/anaconda3/envs/openmm/lib/python3.7/site-packages/simtk/openmm/app/internal/pdbstructure.py:537: UserWarning: WARNING: duplicate atom (HETATM   26  C   UNL     1       9.569   5.260  -5.428  1.00  0.00           C  , HETATM   24  C   UNL     1      11.066   5.217  -5.383  1.00  0.00           C  )\n",
      "  warnings.warn(\"WARNING: duplicate atom (%s, %s)\" % (atom, old_atom._pdb_string(old_atom.serial_number, atom.alternate_location_indicator)))\n",
      "/home/elias/anaconda3/envs/openmm/lib/python3.7/site-packages/simtk/openmm/app/internal/pdbstructure.py:537: UserWarning: WARNING: duplicate atom (HETATM   27  C   UNL     1       9.058   6.237  -6.448  1.00  0.00           C  , HETATM   26  C   UNL     1       9.569   5.260  -5.428  1.00  0.00           C  )\n",
      "  warnings.warn(\"WARNING: duplicate atom (%s, %s)\" % (atom, old_atom._pdb_string(old_atom.serial_number, atom.alternate_location_indicator)))\n",
      "/home/elias/anaconda3/envs/openmm/lib/python3.7/site-packages/simtk/openmm/app/internal/pdbstructure.py:537: UserWarning: WARNING: duplicate atom (HETATM   28  C   UNL     1      13.116   4.305  -4.431  1.00  0.00           C  , HETATM   27  C   UNL     1       9.058   6.237  -6.448  1.00  0.00           C  )\n",
      "  warnings.warn(\"WARNING: duplicate atom (%s, %s)\" % (atom, old_atom._pdb_string(old_atom.serial_number, atom.alternate_location_indicator)))\n",
      "/home/elias/anaconda3/envs/openmm/lib/python3.7/site-packages/simtk/openmm/app/internal/pdbstructure.py:537: UserWarning: WARNING: duplicate atom (HETATM   29  C   UNL     1      13.983   5.143  -5.306  1.00  0.00           C  , HETATM   28  C   UNL     1      13.116   4.305  -4.431  1.00  0.00           C  )\n",
      "  warnings.warn(\"WARNING: duplicate atom (%s, %s)\" % (atom, old_atom._pdb_string(old_atom.serial_number, atom.alternate_location_indicator)))\n",
      "/home/elias/anaconda3/envs/openmm/lib/python3.7/site-packages/simtk/openmm/app/internal/pdbstructure.py:537: UserWarning: WARNING: duplicate atom (HETATM   30  N   UNL     1      15.436   4.999  -5.155  1.00  0.00           N  , HETATM   23  N   UNL     1      11.690   4.365  -4.493  1.00  0.00           N  )\n",
      "  warnings.warn(\"WARNING: duplicate atom (%s, %s)\" % (atom, old_atom._pdb_string(old_atom.serial_number, atom.alternate_location_indicator)))\n",
      "/home/elias/anaconda3/envs/openmm/lib/python3.7/site-packages/simtk/openmm/app/internal/pdbstructure.py:537: UserWarning: WARNING: duplicate atom (HETATM   31  C   UNL     1      16.190   4.199  -4.320  1.00  0.00           C  , HETATM   29  C   UNL     1      13.983   5.143  -5.306  1.00  0.00           C  )\n",
      "  warnings.warn(\"WARNING: duplicate atom (%s, %s)\" % (atom, old_atom._pdb_string(old_atom.serial_number, atom.alternate_location_indicator)))\n",
      "/home/elias/anaconda3/envs/openmm/lib/python3.7/site-packages/simtk/openmm/app/internal/pdbstructure.py:537: UserWarning: WARNING: duplicate atom (HETATM   32  O   UNL     1      17.426   4.210  -4.331  1.00  0.00           O  , HETATM   25  O   UNL     1      11.697   5.952  -6.150  1.00  0.00           O  )\n",
      "  warnings.warn(\"WARNING: duplicate atom (%s, %s)\" % (atom, old_atom._pdb_string(old_atom.serial_number, atom.alternate_location_indicator)))\n",
      "/home/elias/anaconda3/envs/openmm/lib/python3.7/site-packages/simtk/openmm/app/internal/pdbstructure.py:537: UserWarning: WARNING: duplicate atom (HETATM   33  C   UNL     1      15.496   3.280  -3.361  1.00  0.00           C  , HETATM   31  C   UNL     1      16.190   4.199  -4.320  1.00  0.00           C  )\n",
      "  warnings.warn(\"WARNING: duplicate atom (%s, %s)\" % (atom, old_atom._pdb_string(old_atom.serial_number, atom.alternate_location_indicator)))\n",
      "/home/elias/anaconda3/envs/openmm/lib/python3.7/site-packages/simtk/openmm/app/internal/pdbstructure.py:537: UserWarning: WARNING: duplicate atom (HETATM   34  C   UNL     1      16.464   2.486  -2.531  1.00  0.00           C  , HETATM   33  C   UNL     1      15.496   3.280  -3.361  1.00  0.00           C  )\n",
      "  warnings.warn(\"WARNING: duplicate atom (%s, %s)\" % (atom, old_atom._pdb_string(old_atom.serial_number, atom.alternate_location_indicator)))\n",
      "/home/elias/anaconda3/envs/openmm/lib/python3.7/site-packages/simtk/openmm/app/internal/pdbstructure.py:537: UserWarning: WARNING: duplicate atom (HETATM   35  C   UNL     1      16.074   5.883  -6.078  1.00  0.00           C  , HETATM   34  C   UNL     1      16.464   2.486  -2.531  1.00  0.00           C  )\n",
      "  warnings.warn(\"WARNING: duplicate atom (%s, %s)\" % (atom, old_atom._pdb_string(old_atom.serial_number, atom.alternate_location_indicator)))\n",
      "/home/elias/anaconda3/envs/openmm/lib/python3.7/site-packages/simtk/openmm/app/internal/pdbstructure.py:537: UserWarning: WARNING: duplicate atom (HETATM   36  C   UNL     1      17.556   5.983  -6.183  1.00  0.00           C  , HETATM   35  C   UNL     1      16.074   5.883  -6.078  1.00  0.00           C  )\n",
      "  warnings.warn(\"WARNING: duplicate atom (%s, %s)\" % (atom, old_atom._pdb_string(old_atom.serial_number, atom.alternate_location_indicator)))\n",
      "/home/elias/anaconda3/envs/openmm/lib/python3.7/site-packages/simtk/openmm/app/internal/pdbstructure.py:537: UserWarning: WARNING: duplicate atom (HETATM   37  N   UNL     1      18.101   6.925  -7.167  1.00  0.00           N  , HETATM   30  N   UNL     1      15.436   4.999  -5.155  1.00  0.00           N  )\n",
      "  warnings.warn(\"WARNING: duplicate atom (%s, %s)\" % (atom, old_atom._pdb_string(old_atom.serial_number, atom.alternate_location_indicator)))\n",
      "/home/elias/anaconda3/envs/openmm/lib/python3.7/site-packages/simtk/openmm/app/internal/pdbstructure.py:537: UserWarning: WARNING: duplicate atom (HETATM   38  C   UNL     1      17.478   7.777  -8.056  1.00  0.00           C  , HETATM   36  C   UNL     1      17.556   5.983  -6.183  1.00  0.00           C  )\n",
      "  warnings.warn(\"WARNING: duplicate atom (%s, %s)\" % (atom, old_atom._pdb_string(old_atom.serial_number, atom.alternate_location_indicator)))\n",
      "/home/elias/anaconda3/envs/openmm/lib/python3.7/site-packages/simtk/openmm/app/internal/pdbstructure.py:537: UserWarning: WARNING: duplicate atom (HETATM   39  O   UNL     1      18.108   8.512  -8.823  1.00  0.00           O  , HETATM   32  O   UNL     1      17.426   4.210  -4.331  1.00  0.00           O  )\n",
      "  warnings.warn(\"WARNING: duplicate atom (%s, %s)\" % (atom, old_atom._pdb_string(old_atom.serial_number, atom.alternate_location_indicator)))\n",
      "/home/elias/anaconda3/envs/openmm/lib/python3.7/site-packages/simtk/openmm/app/internal/pdbstructure.py:537: UserWarning: WARNING: duplicate atom (HETATM   40  C   UNL     1      15.980   7.821  -8.102  1.00  0.00           C  , HETATM   38  C   UNL     1      17.478   7.777  -8.056  1.00  0.00           C  )\n",
      "  warnings.warn(\"WARNING: duplicate atom (%s, %s)\" % (atom, old_atom._pdb_string(old_atom.serial_number, atom.alternate_location_indicator)))\n",
      "/home/elias/anaconda3/envs/openmm/lib/python3.7/site-packages/simtk/openmm/app/internal/pdbstructure.py:537: UserWarning: WARNING: duplicate atom (HETATM   41  C   UNL     1      15.469   8.797  -9.122  1.00  0.00           C  , HETATM   40  C   UNL     1      15.980   7.821  -8.102  1.00  0.00           C  )\n",
      "  warnings.warn(\"WARNING: duplicate atom (%s, %s)\" % (atom, old_atom._pdb_string(old_atom.serial_number, atom.alternate_location_indicator)))\n",
      "/home/elias/anaconda3/envs/openmm/lib/python3.7/site-packages/simtk/openmm/app/internal/pdbstructure.py:537: UserWarning: WARNING: duplicate atom (HETATM   42  C   UNL     1      19.528   6.866  -7.104  1.00  0.00           C  , HETATM   41  C   UNL     1      15.469   8.797  -9.122  1.00  0.00           C  )\n",
      "  warnings.warn(\"WARNING: duplicate atom (%s, %s)\" % (atom, old_atom._pdb_string(old_atom.serial_number, atom.alternate_location_indicator)))\n",
      "/home/elias/anaconda3/envs/openmm/lib/python3.7/site-packages/simtk/openmm/app/internal/pdbstructure.py:537: UserWarning: WARNING: duplicate atom (HETATM   43  C   UNL     1      20.395   7.703  -7.979  1.00  0.00           C  , HETATM   42  C   UNL     1      19.528   6.866  -7.104  1.00  0.00           C  )\n",
      "  warnings.warn(\"WARNING: duplicate atom (%s, %s)\" % (atom, old_atom._pdb_string(old_atom.serial_number, atom.alternate_location_indicator)))\n",
      "/home/elias/anaconda3/envs/openmm/lib/python3.7/site-packages/simtk/openmm/app/internal/pdbstructure.py:537: UserWarning: WARNING: duplicate atom (HETATM   44  N   UNL     1      21.848   7.559  -7.828  1.00  0.00           N  , HETATM   37  N   UNL     1      18.101   6.925  -7.167  1.00  0.00           N  )\n",
      "  warnings.warn(\"WARNING: duplicate atom (%s, %s)\" % (atom, old_atom._pdb_string(old_atom.serial_number, atom.alternate_location_indicator)))\n",
      "/home/elias/anaconda3/envs/openmm/lib/python3.7/site-packages/simtk/openmm/app/internal/pdbstructure.py:537: UserWarning: WARNING: duplicate atom (HETATM   45  C   UNL     1      22.602   6.760  -6.994  1.00  0.00           C  , HETATM   43  C   UNL     1      20.395   7.703  -7.979  1.00  0.00           C  )\n",
      "  warnings.warn(\"WARNING: duplicate atom (%s, %s)\" % (atom, old_atom._pdb_string(old_atom.serial_number, atom.alternate_location_indicator)))\n",
      "/home/elias/anaconda3/envs/openmm/lib/python3.7/site-packages/simtk/openmm/app/internal/pdbstructure.py:537: UserWarning: WARNING: duplicate atom (HETATM   46  O   UNL     1      23.837   6.770  -7.004  1.00  0.00           O  , HETATM   39  O   UNL     1      18.108   8.512  -8.823  1.00  0.00           O  )\n",
      "  warnings.warn(\"WARNING: duplicate atom (%s, %s)\" % (atom, old_atom._pdb_string(old_atom.serial_number, atom.alternate_location_indicator)))\n",
      "/home/elias/anaconda3/envs/openmm/lib/python3.7/site-packages/simtk/openmm/app/internal/pdbstructure.py:537: UserWarning: WARNING: duplicate atom (HETATM   47  C   UNL     1      21.907   5.841  -6.034  1.00  0.00           C  , HETATM   45  C   UNL     1      22.602   6.760  -6.994  1.00  0.00           C  )\n",
      "  warnings.warn(\"WARNING: duplicate atom (%s, %s)\" % (atom, old_atom._pdb_string(old_atom.serial_number, atom.alternate_location_indicator)))\n",
      "/home/elias/anaconda3/envs/openmm/lib/python3.7/site-packages/simtk/openmm/app/internal/pdbstructure.py:537: UserWarning: WARNING: duplicate atom (HETATM   48  C   UNL     1      22.875   5.046  -5.204  1.00  0.00           C  , HETATM   47  C   UNL     1      21.907   5.841  -6.034  1.00  0.00           C  )\n",
      "  warnings.warn(\"WARNING: duplicate atom (%s, %s)\" % (atom, old_atom._pdb_string(old_atom.serial_number, atom.alternate_location_indicator)))\n",
      "/home/elias/anaconda3/envs/openmm/lib/python3.7/site-packages/simtk/openmm/app/internal/pdbstructure.py:537: UserWarning: WARNING: duplicate atom (HETATM   49  C   UNL     1      22.487   8.444  -8.752  1.00  0.00           C  , HETATM   48  C   UNL     1      22.875   5.046  -5.204  1.00  0.00           C  )\n",
      "  warnings.warn(\"WARNING: duplicate atom (%s, %s)\" % (atom, old_atom._pdb_string(old_atom.serial_number, atom.alternate_location_indicator)))\n",
      "/home/elias/anaconda3/envs/openmm/lib/python3.7/site-packages/simtk/openmm/app/internal/pdbstructure.py:537: UserWarning: WARNING: duplicate atom (HETATM   50  C   UNL     1      23.970   8.545  -8.858  1.00  0.00           C  , HETATM   49  C   UNL     1      22.487   8.444  -8.752  1.00  0.00           C  )\n",
      "  warnings.warn(\"WARNING: duplicate atom (%s, %s)\" % (atom, old_atom._pdb_string(old_atom.serial_number, atom.alternate_location_indicator)))\n",
      "/home/elias/anaconda3/envs/openmm/lib/python3.7/site-packages/simtk/openmm/app/internal/pdbstructure.py:537: UserWarning: WARNING: duplicate atom (HETATM   51  N   UNL     1      24.517   9.488  -9.843  1.00  0.00           N  , HETATM   44  N   UNL     1      21.848   7.559  -7.828  1.00  0.00           N  )\n",
      "  warnings.warn(\"WARNING: duplicate atom (%s, %s)\" % (atom, old_atom._pdb_string(old_atom.serial_number, atom.alternate_location_indicator)))\n",
      "/home/elias/anaconda3/envs/openmm/lib/python3.7/site-packages/simtk/openmm/app/internal/pdbstructure.py:537: UserWarning: WARNING: duplicate atom (HETATM   52  C   UNL     1      23.891  10.338 -10.730  1.00  0.00           C  , HETATM   50  C   UNL     1      23.970   8.545  -8.858  1.00  0.00           C  )\n",
      "  warnings.warn(\"WARNING: duplicate atom (%s, %s)\" % (atom, old_atom._pdb_string(old_atom.serial_number, atom.alternate_location_indicator)))\n",
      "/home/elias/anaconda3/envs/openmm/lib/python3.7/site-packages/simtk/openmm/app/internal/pdbstructure.py:537: UserWarning: WARNING: duplicate atom (HETATM   53  O   UNL     1      24.521  11.073 -11.498  1.00  0.00           O  , HETATM   46  O   UNL     1      23.837   6.770  -7.004  1.00  0.00           O  )\n",
      "  warnings.warn(\"WARNING: duplicate atom (%s, %s)\" % (atom, old_atom._pdb_string(old_atom.serial_number, atom.alternate_location_indicator)))\n",
      "/home/elias/anaconda3/envs/openmm/lib/python3.7/site-packages/simtk/openmm/app/internal/pdbstructure.py:537: UserWarning: WARNING: duplicate atom (HETATM   54  C   UNL     1      22.393  10.381 -10.775  1.00  0.00           C  , HETATM   52  C   UNL     1      23.891  10.338 -10.730  1.00  0.00           C  )\n",
      "  warnings.warn(\"WARNING: duplicate atom (%s, %s)\" % (atom, old_atom._pdb_string(old_atom.serial_number, atom.alternate_location_indicator)))\n",
      "/home/elias/anaconda3/envs/openmm/lib/python3.7/site-packages/simtk/openmm/app/internal/pdbstructure.py:537: UserWarning: WARNING: duplicate atom (HETATM   55  C   UNL     1      21.881  11.357 -11.795  1.00  0.00           C  , HETATM   54  C   UNL     1      22.393  10.381 -10.775  1.00  0.00           C  )\n",
      "  warnings.warn(\"WARNING: duplicate atom (%s, %s)\" % (atom, old_atom._pdb_string(old_atom.serial_number, atom.alternate_location_indicator)))\n",
      "/home/elias/anaconda3/envs/openmm/lib/python3.7/site-packages/simtk/openmm/app/internal/pdbstructure.py:537: UserWarning: WARNING: duplicate atom (HETATM   56  C   UNL     1      25.946   9.431  -9.784  1.00  0.00           C  , HETATM   55  C   UNL     1      21.881  11.357 -11.795  1.00  0.00           C  )\n",
      "  warnings.warn(\"WARNING: duplicate atom (%s, %s)\" % (atom, old_atom._pdb_string(old_atom.serial_number, atom.alternate_location_indicator)))\n",
      "/home/elias/anaconda3/envs/openmm/lib/python3.7/site-packages/simtk/openmm/app/internal/pdbstructure.py:537: UserWarning: WARNING: duplicate atom (HETATM   57  C   UNL     1      26.821  10.269 -10.659  1.00  0.00           C  , HETATM   56  C   UNL     1      25.946   9.431  -9.784  1.00  0.00           C  )\n",
      "  warnings.warn(\"WARNING: duplicate atom (%s, %s)\" % (atom, old_atom._pdb_string(old_atom.serial_number, atom.alternate_location_indicator)))\n",
      "/home/elias/anaconda3/envs/openmm/lib/python3.7/site-packages/simtk/openmm/app/internal/pdbstructure.py:537: UserWarning: WARNING: duplicate atom (HETATM   58  N   UNL     1      28.280  10.119 -10.502  1.00  0.00           N  , HETATM   51  N   UNL     1      24.517   9.488  -9.843  1.00  0.00           N  )\n",
      "  warnings.warn(\"WARNING: duplicate atom (%s, %s)\" % (atom, old_atom._pdb_string(old_atom.serial_number, atom.alternate_location_indicator)))\n",
      "/home/elias/anaconda3/envs/openmm/lib/python3.7/site-packages/simtk/openmm/app/internal/pdbstructure.py:537: UserWarning: WARNING: duplicate atom (HETATM   59  C   UNL     1      29.019   9.315  -9.663  1.00  0.00           C  , HETATM   57  C   UNL     1      26.821  10.269 -10.659  1.00  0.00           C  )\n",
      "  warnings.warn(\"WARNING: duplicate atom (%s, %s)\" % (atom, old_atom._pdb_string(old_atom.serial_number, atom.alternate_location_indicator)))\n",
      "/home/elias/anaconda3/envs/openmm/lib/python3.7/site-packages/simtk/openmm/app/internal/pdbstructure.py:537: UserWarning: WARNING: duplicate atom (HETATM   60  O   UNL     1      30.257   9.317  -9.665  1.00  0.00           O  , HETATM   53  O   UNL     1      24.521  11.073 -11.498  1.00  0.00           O  )\n",
      "  warnings.warn(\"WARNING: duplicate atom (%s, %s)\" % (atom, old_atom._pdb_string(old_atom.serial_number, atom.alternate_location_indicator)))\n",
      "/home/elias/anaconda3/envs/openmm/lib/python3.7/site-packages/simtk/openmm/app/internal/pdbstructure.py:537: UserWarning: WARNING: duplicate atom (HETATM   61  C   UNL     1      28.318   8.400  -8.707  1.00  0.00           C  , HETATM   59  C   UNL     1      29.019   9.315  -9.663  1.00  0.00           C  )\n",
      "  warnings.warn(\"WARNING: duplicate atom (%s, %s)\" % (atom, old_atom._pdb_string(old_atom.serial_number, atom.alternate_location_indicator)))\n",
      "/home/elias/anaconda3/envs/openmm/lib/python3.7/site-packages/simtk/openmm/app/internal/pdbstructure.py:537: UserWarning: WARNING: duplicate atom (HETATM   62  C   UNL     1      29.284   7.605  -7.876  1.00  0.00           C  , HETATM   61  C   UNL     1      28.318   8.400  -8.707  1.00  0.00           C  )\n",
      "  warnings.warn(\"WARNING: duplicate atom (%s, %s)\" % (atom, old_atom._pdb_string(old_atom.serial_number, atom.alternate_location_indicator)))\n",
      "/home/elias/anaconda3/envs/openmm/lib/python3.7/site-packages/simtk/openmm/app/internal/pdbstructure.py:537: UserWarning: WARNING: duplicate atom (HETATM   63  C   UNL     1      28.952  10.997 -11.419  1.00  0.00           C  , HETATM   62  C   UNL     1      29.284   7.605  -7.876  1.00  0.00           C  )\n",
      "  warnings.warn(\"WARNING: duplicate atom (%s, %s)\" % (atom, old_atom._pdb_string(old_atom.serial_number, atom.alternate_location_indicator)))\n",
      "/home/elias/anaconda3/envs/openmm/lib/python3.7/site-packages/simtk/openmm/app/internal/pdbstructure.py:537: UserWarning: WARNING: duplicate atom (HETATM   64  C   UNL     1      30.456  11.086 -11.512  1.00  0.00           C  , HETATM   63  C   UNL     1      28.952  10.997 -11.419  1.00  0.00           C  )\n",
      "  warnings.warn(\"WARNING: duplicate atom (%s, %s)\" % (atom, old_atom._pdb_string(old_atom.serial_number, atom.alternate_location_indicator)))\n",
      "/home/elias/anaconda3/envs/openmm/lib/python3.7/site-packages/simtk/openmm/app/internal/pdbstructure.py:537: UserWarning: WARNING: duplicate atom (HETATM   65  N   UNL     1      31.046  12.019 -12.485  1.00  0.00           N  , HETATM   58  N   UNL     1      28.280  10.119 -10.502  1.00  0.00           N  )\n",
      "  warnings.warn(\"WARNING: duplicate atom (%s, %s)\" % (atom, old_atom._pdb_string(old_atom.serial_number, atom.alternate_location_indicator)))\n",
      "/home/elias/anaconda3/envs/openmm/lib/python3.7/site-packages/simtk/openmm/app/internal/pdbstructure.py:537: UserWarning: WARNING: duplicate atom (HETATM   66  C   UNL     1      30.374  12.870 -13.374  1.00  0.00           C  , HETATM   64  C   UNL     1      30.456  11.086 -11.512  1.00  0.00           C  )\n",
      "  warnings.warn(\"WARNING: duplicate atom (%s, %s)\" % (atom, old_atom._pdb_string(old_atom.serial_number, atom.alternate_location_indicator)))\n",
      "/home/elias/anaconda3/envs/openmm/lib/python3.7/site-packages/simtk/openmm/app/internal/pdbstructure.py:537: UserWarning: WARNING: duplicate atom (HETATM   67  O   UNL     1      30.948  13.624 -14.162  1.00  0.00           O  , HETATM   60  O   UNL     1      30.257   9.317  -9.665  1.00  0.00           O  )\n",
      "  warnings.warn(\"WARNING: duplicate atom (%s, %s)\" % (atom, old_atom._pdb_string(old_atom.serial_number, atom.alternate_location_indicator)))\n",
      "/home/elias/anaconda3/envs/openmm/lib/python3.7/site-packages/simtk/openmm/app/internal/pdbstructure.py:537: UserWarning: WARNING: duplicate atom (HETATM   68  C   UNL     1      28.863  12.914 -13.420  1.00  0.00           C  , HETATM   66  C   UNL     1      30.374  12.870 -13.374  1.00  0.00           C  )\n",
      "  warnings.warn(\"WARNING: duplicate atom (%s, %s)\" % (atom, old_atom._pdb_string(old_atom.serial_number, atom.alternate_location_indicator)))\n",
      "/home/elias/anaconda3/envs/openmm/lib/python3.7/site-packages/simtk/openmm/app/internal/pdbstructure.py:537: UserWarning: WARNING: duplicate atom (HETATM   69  C   UNL     1      28.329  13.891 -14.441  1.00  0.00           C  , HETATM   68  C   UNL     1      28.863  12.914 -13.420  1.00  0.00           C  )\n",
      "  warnings.warn(\"WARNING: duplicate atom (%s, %s)\" % (atom, old_atom._pdb_string(old_atom.serial_number, atom.alternate_location_indicator)))\n",
      "/home/elias/anaconda3/envs/openmm/lib/python3.7/site-packages/simtk/openmm/app/internal/pdbstructure.py:537: UserWarning: WARNING: duplicate atom (HETATM   70  C   UNL     1      32.528  11.970 -12.435  1.00  0.00           C  , HETATM   69  C   UNL     1      28.329  13.891 -14.441  1.00  0.00           C  )\n",
      "  warnings.warn(\"WARNING: duplicate atom (%s, %s)\" % (atom, old_atom._pdb_string(old_atom.serial_number, atom.alternate_location_indicator)))\n",
      "/home/elias/anaconda3/envs/openmm/lib/python3.7/site-packages/simtk/openmm/app/internal/pdbstructure.py:537: UserWarning: WARNING: duplicate atom (HETATM   71  C   UNL     1      33.242  12.895 -13.401  1.00  0.00           C  , HETATM   70  C   UNL     1      32.528  11.970 -12.435  1.00  0.00           C  )\n",
      "  warnings.warn(\"WARNING: duplicate atom (%s, %s)\" % (atom, old_atom._pdb_string(old_atom.serial_number, atom.alternate_location_indicator)))\n",
      "/home/elias/anaconda3/envs/openmm/lib/python3.7/site-packages/simtk/openmm/app/internal/pdbstructure.py:537: UserWarning: WARNING: duplicate atom (HETATM   72  C   UNL     1      34.745  12.852 -13.355  1.00  0.00           C  , HETATM   71  C   UNL     1      33.242  12.895 -13.401  1.00  0.00           C  )\n",
      "  warnings.warn(\"WARNING: duplicate atom (%s, %s)\" % (atom, old_atom._pdb_string(old_atom.serial_number, atom.alternate_location_indicator)))\n",
      "/home/elias/anaconda3/envs/openmm/lib/python3.7/site-packages/simtk/openmm/app/internal/pdbstructure.py:537: UserWarning: WARNING: duplicate atom (HETATM   74  H   UNL     1       0.763  -0.246  -0.960  1.00  0.00           H  , HETATM   73  H   UNL     1       0.543  -0.662   0.756  1.00  0.00           H  )\n",
      "  warnings.warn(\"WARNING: duplicate atom (%s, %s)\" % (atom, old_atom._pdb_string(old_atom.serial_number, atom.alternate_location_indicator)))\n",
      "/home/elias/anaconda3/envs/openmm/lib/python3.7/site-packages/simtk/openmm/app/internal/pdbstructure.py:537: UserWarning: WARNING: duplicate atom (HETATM   75  H   UNL     1       0.763   1.035   0.267  1.00  0.00           H  , HETATM   74  H   UNL     1       0.763  -0.246  -0.960  1.00  0.00           H  )\n",
      "  warnings.warn(\"WARNING: duplicate atom (%s, %s)\" % (atom, old_atom._pdb_string(old_atom.serial_number, atom.alternate_location_indicator)))\n",
      "/home/elias/anaconda3/envs/openmm/lib/python3.7/site-packages/simtk/openmm/app/internal/pdbstructure.py:537: UserWarning: WARNING: duplicate atom (HETATM   76  H   UNL     1       1.839  -2.451   1.326  1.00  0.00           H  , HETATM   75  H   UNL     1       0.763   1.035   0.267  1.00  0.00           H  )\n",
      "  warnings.warn(\"WARNING: duplicate atom (%s, %s)\" % (atom, old_atom._pdb_string(old_atom.serial_number, atom.alternate_location_indicator)))\n",
      "/home/elias/anaconda3/envs/openmm/lib/python3.7/site-packages/simtk/openmm/app/internal/pdbstructure.py:537: UserWarning: WARNING: duplicate atom (HETATM   77  H   UNL     1       1.839  -1.153   2.568  1.00  0.00           H  , HETATM   76  H   UNL     1       1.839  -2.451   1.326  1.00  0.00           H  )\n",
      "  warnings.warn(\"WARNING: duplicate atom (%s, %s)\" % (atom, old_atom._pdb_string(old_atom.serial_number, atom.alternate_location_indicator)))\n",
      "/home/elias/anaconda3/envs/openmm/lib/python3.7/site-packages/simtk/openmm/app/internal/pdbstructure.py:537: UserWarning: WARNING: duplicate atom (HETATM   78  H   UNL     1       4.091  -3.186   2.115  1.00  0.00           H  , HETATM   77  H   UNL     1       1.839  -1.153   2.568  1.00  0.00           H  )\n",
      "  warnings.warn(\"WARNING: duplicate atom (%s, %s)\" % (atom, old_atom._pdb_string(old_atom.serial_number, atom.alternate_location_indicator)))\n",
      "/home/elias/anaconda3/envs/openmm/lib/python3.7/site-packages/simtk/openmm/app/internal/pdbstructure.py:537: UserWarning: WARNING: duplicate atom (HETATM   79  H   UNL     1       2.915  -3.241   3.449  1.00  0.00           H  , HETATM   78  H   UNL     1       4.091  -3.186   2.115  1.00  0.00           H  )\n",
      "  warnings.warn(\"WARNING: duplicate atom (%s, %s)\" % (atom, old_atom._pdb_string(old_atom.serial_number, atom.alternate_location_indicator)))\n",
      "/home/elias/anaconda3/envs/openmm/lib/python3.7/site-packages/simtk/openmm/app/internal/pdbstructure.py:537: UserWarning: WARNING: duplicate atom (HETATM   80  H   UNL     1       4.091  -1.910   3.337  1.00  0.00           H  , HETATM   79  H   UNL     1       2.915  -3.241   3.449  1.00  0.00           H  )\n",
      "  warnings.warn(\"WARNING: duplicate atom (%s, %s)\" % (atom, old_atom._pdb_string(old_atom.serial_number, atom.alternate_location_indicator)))\n",
      "/home/elias/anaconda3/envs/openmm/lib/python3.7/site-packages/simtk/openmm/app/internal/pdbstructure.py:537: UserWarning: WARNING: duplicate atom (HETATM   81  H   UNL     1       2.837   1.763  -0.455  1.00  0.00           H  , HETATM   80  H   UNL     1       4.091  -1.910   3.337  1.00  0.00           H  )\n",
      "  warnings.warn(\"WARNING: duplicate atom (%s, %s)\" % (atom, old_atom._pdb_string(old_atom.serial_number, atom.alternate_location_indicator)))\n",
      "/home/elias/anaconda3/envs/openmm/lib/python3.7/site-packages/simtk/openmm/app/internal/pdbstructure.py:537: UserWarning: WARNING: duplicate atom (HETATM   82  H   UNL     1       2.837   0.444  -1.719  1.00  0.00           H  , HETATM   81  H   UNL     1       2.837   1.763  -0.455  1.00  0.00           H  )\n",
      "  warnings.warn(\"WARNING: duplicate atom (%s, %s)\" % (atom, old_atom._pdb_string(old_atom.serial_number, atom.alternate_location_indicator)))\n",
      "/home/elias/anaconda3/envs/openmm/lib/python3.7/site-packages/simtk/openmm/app/internal/pdbstructure.py:537: UserWarning: WARNING: duplicate atom (HETATM   83  H   UNL     1       5.106  -0.129  -1.084  1.00  0.00           H  , HETATM   82  H   UNL     1       2.837   0.444  -1.719  1.00  0.00           H  )\n",
      "  warnings.warn(\"WARNING: duplicate atom (%s, %s)\" % (atom, old_atom._pdb_string(old_atom.serial_number, atom.alternate_location_indicator)))\n",
      "/home/elias/anaconda3/envs/openmm/lib/python3.7/site-packages/simtk/openmm/app/internal/pdbstructure.py:537: UserWarning: WARNING: duplicate atom (HETATM   84  H   UNL     1       5.106   1.153   0.144  1.00  0.00           H  , HETATM   83  H   UNL     1       5.106  -0.129  -1.084  1.00  0.00           H  )\n",
      "  warnings.warn(\"WARNING: duplicate atom (%s, %s)\" % (atom, old_atom._pdb_string(old_atom.serial_number, atom.alternate_location_indicator)))\n",
      "/home/elias/anaconda3/envs/openmm/lib/python3.7/site-packages/simtk/openmm/app/internal/pdbstructure.py:537: UserWarning: WARNING: duplicate atom (HETATM   85  H   UNL     1       2.782   3.048  -1.797  1.00  0.00           H  , HETATM   84  H   UNL     1       5.106   1.153   0.144  1.00  0.00           H  )\n",
      "  warnings.warn(\"WARNING: duplicate atom (%s, %s)\" % (atom, old_atom._pdb_string(old_atom.serial_number, atom.alternate_location_indicator)))\n",
      "/home/elias/anaconda3/envs/openmm/lib/python3.7/site-packages/simtk/openmm/app/internal/pdbstructure.py:537: UserWarning: WARNING: duplicate atom (HETATM   86  H   UNL     1       2.782   1.728  -3.060  1.00  0.00           H  , HETATM   85  H   UNL     1       2.782   3.048  -1.797  1.00  0.00           H  )\n",
      "  warnings.warn(\"WARNING: duplicate atom (%s, %s)\" % (atom, old_atom._pdb_string(old_atom.serial_number, atom.alternate_location_indicator)))\n",
      "/home/elias/anaconda3/envs/openmm/lib/python3.7/site-packages/simtk/openmm/app/internal/pdbstructure.py:537: UserWarning: WARNING: duplicate atom (HETATM   87  H   UNL     1       3.003   4.686  -3.539  1.00  0.00           H  , HETATM   86  H   UNL     1       2.782   1.728  -3.060  1.00  0.00           H  )\n",
      "  warnings.warn(\"WARNING: duplicate atom (%s, %s)\" % (atom, old_atom._pdb_string(old_atom.serial_number, atom.alternate_location_indicator)))\n",
      "/home/elias/anaconda3/envs/openmm/lib/python3.7/site-packages/simtk/openmm/app/internal/pdbstructure.py:537: UserWarning: WARNING: duplicate atom (HETATM   88  H   UNL     1       1.557   3.665  -3.762  1.00  0.00           H  , HETATM   87  H   UNL     1       3.003   4.686  -3.539  1.00  0.00           H  )\n",
      "  warnings.warn(\"WARNING: duplicate atom (%s, %s)\" % (atom, old_atom._pdb_string(old_atom.serial_number, atom.alternate_location_indicator)))\n",
      "/home/elias/anaconda3/envs/openmm/lib/python3.7/site-packages/simtk/openmm/app/internal/pdbstructure.py:537: UserWarning: WARNING: duplicate atom (HETATM   89  H   UNL     1       3.003   3.398  -4.773  1.00  0.00           H  , HETATM   88  H   UNL     1       1.557   3.665  -3.762  1.00  0.00           H  )\n",
      "  warnings.warn(\"WARNING: duplicate atom (%s, %s)\" % (atom, old_atom._pdb_string(old_atom.serial_number, atom.alternate_location_indicator)))\n",
      "/home/elias/anaconda3/envs/openmm/lib/python3.7/site-packages/simtk/openmm/app/internal/pdbstructure.py:537: UserWarning: WARNING: duplicate atom (HETATM   90  H   UNL     1       6.920   0.698  -1.978  1.00  0.00           H  , HETATM   89  H   UNL     1       3.003   3.398  -4.773  1.00  0.00           H  )\n",
      "  warnings.warn(\"WARNING: duplicate atom (%s, %s)\" % (atom, old_atom._pdb_string(old_atom.serial_number, atom.alternate_location_indicator)))\n",
      "/home/elias/anaconda3/envs/openmm/lib/python3.7/site-packages/simtk/openmm/app/internal/pdbstructure.py:537: UserWarning: WARNING: duplicate atom (HETATM   91  H   UNL     1       6.920   2.011  -0.720  1.00  0.00           H  , HETATM   90  H   UNL     1       6.920   0.698  -1.978  1.00  0.00           H  )\n",
      "  warnings.warn(\"WARNING: duplicate atom (%s, %s)\" % (atom, old_atom._pdb_string(old_atom.serial_number, atom.alternate_location_indicator)))\n",
      "/home/elias/anaconda3/envs/openmm/lib/python3.7/site-packages/simtk/openmm/app/internal/pdbstructure.py:537: UserWarning: WARNING: duplicate atom (HETATM   92  H   UNL     1       7.343   3.640  -2.449  1.00  0.00           H  , HETATM   91  H   UNL     1       6.920   2.011  -0.720  1.00  0.00           H  )\n",
      "  warnings.warn(\"WARNING: duplicate atom (%s, %s)\" % (atom, old_atom._pdb_string(old_atom.serial_number, atom.alternate_location_indicator)))\n",
      "/home/elias/anaconda3/envs/openmm/lib/python3.7/site-packages/simtk/openmm/app/internal/pdbstructure.py:537: UserWarning: WARNING: duplicate atom (HETATM   93  H   UNL     1       7.343   2.354  -3.680  1.00  0.00           H  , HETATM   92  H   UNL     1       7.343   3.640  -2.449  1.00  0.00           H  )\n",
      "  warnings.warn(\"WARNING: duplicate atom (%s, %s)\" % (atom, old_atom._pdb_string(old_atom.serial_number, atom.alternate_location_indicator)))\n",
      "/home/elias/anaconda3/envs/openmm/lib/python3.7/site-packages/simtk/openmm/app/internal/pdbstructure.py:537: UserWarning: WARNING: duplicate atom (HETATM   94  H   UNL     1       8.497  -0.003  -1.250  1.00  0.00           H  , HETATM   93  H   UNL     1       7.343   2.354  -3.680  1.00  0.00           H  )\n",
      "  warnings.warn(\"WARNING: duplicate atom (%s, %s)\" % (atom, old_atom._pdb_string(old_atom.serial_number, atom.alternate_location_indicator)))\n",
      "/home/elias/anaconda3/envs/openmm/lib/python3.7/site-packages/simtk/openmm/app/internal/pdbstructure.py:537: UserWarning: WARNING: duplicate atom (HETATM   95  H   UNL     1       8.497   1.315   0.012  1.00  0.00           H  , HETATM   94  H   UNL     1       8.497  -0.003  -1.250  1.00  0.00           H  )\n",
      "  warnings.warn(\"WARNING: duplicate atom (%s, %s)\" % (atom, old_atom._pdb_string(old_atom.serial_number, atom.alternate_location_indicator)))\n",
      "/home/elias/anaconda3/envs/openmm/lib/python3.7/site-packages/simtk/openmm/app/internal/pdbstructure.py:537: UserWarning: WARNING: duplicate atom (HETATM   96  H   UNL     1      10.683  -0.686  -0.507  1.00  0.00           H  , HETATM   95  H   UNL     1       8.497   1.315   0.012  1.00  0.00           H  )\n",
      "  warnings.warn(\"WARNING: duplicate atom (%s, %s)\" % (atom, old_atom._pdb_string(old_atom.serial_number, atom.alternate_location_indicator)))\n",
      "/home/elias/anaconda3/envs/openmm/lib/python3.7/site-packages/simtk/openmm/app/internal/pdbstructure.py:537: UserWarning: WARNING: duplicate atom (HETATM   97  H   UNL     1       9.488  -0.720   0.817  1.00  0.00           H  , HETATM   96  H   UNL     1      10.683  -0.686  -0.507  1.00  0.00           H  )\n",
      "  warnings.warn(\"WARNING: duplicate atom (%s, %s)\" % (atom, old_atom._pdb_string(old_atom.serial_number, atom.alternate_location_indicator)))\n",
      "/home/elias/anaconda3/envs/openmm/lib/python3.7/site-packages/simtk/openmm/app/internal/pdbstructure.py:537: UserWarning: WARNING: duplicate atom (HETATM   98  H   UNL     1      10.683   0.602   0.726  1.00  0.00           H  , HETATM   97  H   UNL     1       9.488  -0.720   0.817  1.00  0.00           H  )\n",
      "  warnings.warn(\"WARNING: duplicate atom (%s, %s)\" % (atom, old_atom._pdb_string(old_atom.serial_number, atom.alternate_location_indicator)))\n",
      "/home/elias/anaconda3/envs/openmm/lib/python3.7/site-packages/simtk/openmm/app/internal/pdbstructure.py:537: UserWarning: WARNING: duplicate atom (HETATM   99  H   UNL     1       9.291   4.306  -3.116  1.00  0.00           H  , HETATM   98  H   UNL     1      10.683   0.602   0.726  1.00  0.00           H  )\n",
      "  warnings.warn(\"WARNING: duplicate atom (%s, %s)\" % (atom, old_atom._pdb_string(old_atom.serial_number, atom.alternate_location_indicator)))\n",
      "/home/elias/anaconda3/envs/openmm/lib/python3.7/site-packages/simtk/openmm/app/internal/pdbstructure.py:537: UserWarning: WARNING: duplicate atom (HETATM  100  H   UNL     1       9.291   2.992  -4.374  1.00  0.00           H  , HETATM   99  H   UNL     1       9.291   4.306  -3.116  1.00  0.00           H  )\n",
      "  warnings.warn(\"WARNING: duplicate atom (%s, %s)\" % (atom, old_atom._pdb_string(old_atom.serial_number, atom.alternate_location_indicator)))\n",
      "/home/elias/anaconda3/envs/openmm/lib/python3.7/site-packages/simtk/openmm/app/internal/pdbstructure.py:537: UserWarning: WARNING: duplicate atom (HETATM  101  H   UNL     1      11.554   2.436  -3.766  1.00  0.00           H  , HETATM  100  H   UNL     1       9.291   2.992  -4.374  1.00  0.00           H  )\n",
      "  warnings.warn(\"WARNING: duplicate atom (%s, %s)\" % (atom, old_atom._pdb_string(old_atom.serial_number, atom.alternate_location_indicator)))\n",
      "/home/elias/anaconda3/envs/openmm/lib/python3.7/site-packages/simtk/openmm/app/internal/pdbstructure.py:537: UserWarning: WARNING: duplicate atom (HETATM  102  H   UNL     1      11.554   3.722  -2.534  1.00  0.00           H  , HETATM  101  H   UNL     1      11.554   2.436  -3.766  1.00  0.00           H  )\n",
      "  warnings.warn(\"WARNING: duplicate atom (%s, %s)\" % (atom, old_atom._pdb_string(old_atom.serial_number, atom.alternate_location_indicator)))\n",
      "/home/elias/anaconda3/envs/openmm/lib/python3.7/site-packages/simtk/openmm/app/internal/pdbstructure.py:537: UserWarning: WARNING: duplicate atom (HETATM  103  H   UNL     1       9.194   5.600  -4.463  1.00  0.00           H  , HETATM  102  H   UNL     1      11.554   3.722  -2.534  1.00  0.00           H  )\n",
      "  warnings.warn(\"WARNING: duplicate atom (%s, %s)\" % (atom, old_atom._pdb_string(old_atom.serial_number, atom.alternate_location_indicator)))\n",
      "/home/elias/anaconda3/envs/openmm/lib/python3.7/site-packages/simtk/openmm/app/internal/pdbstructure.py:537: UserWarning: WARNING: duplicate atom (HETATM  104  H   UNL     1       9.194   4.282  -5.725  1.00  0.00           H  , HETATM  103  H   UNL     1       9.194   5.600  -4.463  1.00  0.00           H  )\n",
      "  warnings.warn(\"WARNING: duplicate atom (%s, %s)\" % (atom, old_atom._pdb_string(old_atom.serial_number, atom.alternate_location_indicator)))\n",
      "/home/elias/anaconda3/envs/openmm/lib/python3.7/site-packages/simtk/openmm/app/internal/pdbstructure.py:537: UserWarning: WARNING: duplicate atom (HETATM  105  H   UNL     1       9.413   7.243  -6.209  1.00  0.00           H  , HETATM  104  H   UNL     1       9.194   4.282  -5.725  1.00  0.00           H  )\n",
      "  warnings.warn(\"WARNING: duplicate atom (%s, %s)\" % (atom, old_atom._pdb_string(old_atom.serial_number, atom.alternate_location_indicator)))\n",
      "/home/elias/anaconda3/envs/openmm/lib/python3.7/site-packages/simtk/openmm/app/internal/pdbstructure.py:537: UserWarning: WARNING: duplicate atom (HETATM  106  H   UNL     1       7.967   6.222  -6.432  1.00  0.00           H  , HETATM  105  H   UNL     1       9.413   7.243  -6.209  1.00  0.00           H  )\n",
      "  warnings.warn(\"WARNING: duplicate atom (%s, %s)\" % (atom, old_atom._pdb_string(old_atom.serial_number, atom.alternate_location_indicator)))\n",
      "/home/elias/anaconda3/envs/openmm/lib/python3.7/site-packages/simtk/openmm/app/internal/pdbstructure.py:537: UserWarning: WARNING: duplicate atom (HETATM  107  H   UNL     1       9.413   5.955  -7.443  1.00  0.00           H  , HETATM  106  H   UNL     1       7.967   6.222  -6.432  1.00  0.00           H  )\n",
      "  warnings.warn(\"WARNING: duplicate atom (%s, %s)\" % (atom, old_atom._pdb_string(old_atom.serial_number, atom.alternate_location_indicator)))\n",
      "/home/elias/anaconda3/envs/openmm/lib/python3.7/site-packages/simtk/openmm/app/internal/pdbstructure.py:537: UserWarning: WARNING: duplicate atom (HETATM  108  H   UNL     1      13.340   3.263  -4.658  1.00  0.00           H  , HETATM  107  H   UNL     1       9.413   5.955  -7.443  1.00  0.00           H  )\n",
      "  warnings.warn(\"WARNING: duplicate atom (%s, %s)\" % (atom, old_atom._pdb_string(old_atom.serial_number, atom.alternate_location_indicator)))\n",
      "/home/elias/anaconda3/envs/openmm/lib/python3.7/site-packages/simtk/openmm/app/internal/pdbstructure.py:537: UserWarning: WARNING: duplicate atom (HETATM  109  H   UNL     1      13.340   4.577  -3.400  1.00  0.00           H  , HETATM  108  H   UNL     1      13.340   3.263  -4.658  1.00  0.00           H  )\n",
      "  warnings.warn(\"WARNING: duplicate atom (%s, %s)\" % (atom, old_atom._pdb_string(old_atom.serial_number, atom.alternate_location_indicator)))\n",
      "/home/elias/anaconda3/envs/openmm/lib/python3.7/site-packages/simtk/openmm/app/internal/pdbstructure.py:537: UserWarning: WARNING: duplicate atom (HETATM  110  H   UNL     1      13.757   6.204  -5.125  1.00  0.00           H  , HETATM  109  H   UNL     1      13.340   4.577  -3.400  1.00  0.00           H  )\n",
      "  warnings.warn(\"WARNING: duplicate atom (%s, %s)\" % (atom, old_atom._pdb_string(old_atom.serial_number, atom.alternate_location_indicator)))\n",
      "/home/elias/anaconda3/envs/openmm/lib/python3.7/site-packages/simtk/openmm/app/internal/pdbstructure.py:537: UserWarning: WARNING: duplicate atom (HETATM  111  H   UNL     1      13.757   4.917  -6.357  1.00  0.00           H  , HETATM  110  H   UNL     1      13.757   6.204  -5.125  1.00  0.00           H  )\n",
      "  warnings.warn(\"WARNING: duplicate atom (%s, %s)\" % (atom, old_atom._pdb_string(old_atom.serial_number, atom.alternate_location_indicator)))\n",
      "/home/elias/anaconda3/envs/openmm/lib/python3.7/site-packages/simtk/openmm/app/internal/pdbstructure.py:537: UserWarning: WARNING: duplicate atom (HETATM  112  H   UNL     1      14.908   2.557  -3.924  1.00  0.00           H  , HETATM  111  H   UNL     1      13.757   4.917  -6.357  1.00  0.00           H  )\n",
      "  warnings.warn(\"WARNING: duplicate atom (%s, %s)\" % (atom, old_atom._pdb_string(old_atom.serial_number, atom.alternate_location_indicator)))\n",
      "/home/elias/anaconda3/envs/openmm/lib/python3.7/site-packages/simtk/openmm/app/internal/pdbstructure.py:537: UserWarning: WARNING: duplicate atom (HETATM  113  H   UNL     1      14.908   3.874  -2.662  1.00  0.00           H  , HETATM  112  H   UNL     1      14.908   2.557  -3.924  1.00  0.00           H  )\n",
      "  warnings.warn(\"WARNING: duplicate atom (%s, %s)\" % (atom, old_atom._pdb_string(old_atom.serial_number, atom.alternate_location_indicator)))\n",
      "/home/elias/anaconda3/envs/openmm/lib/python3.7/site-packages/simtk/openmm/app/internal/pdbstructure.py:537: UserWarning: WARNING: duplicate atom (HETATM  114  H   UNL     1      17.094   1.874  -3.181  1.00  0.00           H  , HETATM  113  H   UNL     1      14.908   3.874  -2.662  1.00  0.00           H  )\n",
      "  warnings.warn(\"WARNING: duplicate atom (%s, %s)\" % (atom, old_atom._pdb_string(old_atom.serial_number, atom.alternate_location_indicator)))\n",
      "/home/elias/anaconda3/envs/openmm/lib/python3.7/site-packages/simtk/openmm/app/internal/pdbstructure.py:537: UserWarning: WARNING: duplicate atom (HETATM  115  H   UNL     1      15.899   1.840  -1.856  1.00  0.00           H  , HETATM  114  H   UNL     1      17.094   1.874  -3.181  1.00  0.00           H  )\n",
      "  warnings.warn(\"WARNING: duplicate atom (%s, %s)\" % (atom, old_atom._pdb_string(old_atom.serial_number, atom.alternate_location_indicator)))\n",
      "/home/elias/anaconda3/envs/openmm/lib/python3.7/site-packages/simtk/openmm/app/internal/pdbstructure.py:537: UserWarning: WARNING: duplicate atom (HETATM  116  H   UNL     1      17.094   3.162  -1.947  1.00  0.00           H  , HETATM  115  H   UNL     1      15.899   1.840  -1.856  1.00  0.00           H  )\n",
      "  warnings.warn(\"WARNING: duplicate atom (%s, %s)\" % (atom, old_atom._pdb_string(old_atom.serial_number, atom.alternate_location_indicator)))\n",
      "/home/elias/anaconda3/envs/openmm/lib/python3.7/site-packages/simtk/openmm/app/internal/pdbstructure.py:537: UserWarning: WARNING: duplicate atom (HETATM  117  H   UNL     1      15.704   6.866  -5.790  1.00  0.00           H  , HETATM  116  H   UNL     1      17.094   3.162  -1.947  1.00  0.00           H  )\n",
      "  warnings.warn(\"WARNING: duplicate atom (%s, %s)\" % (atom, old_atom._pdb_string(old_atom.serial_number, atom.alternate_location_indicator)))\n",
      "/home/elias/anaconda3/envs/openmm/lib/python3.7/site-packages/simtk/openmm/app/internal/pdbstructure.py:537: UserWarning: WARNING: duplicate atom (HETATM  118  H   UNL     1      15.704   5.552  -7.048  1.00  0.00           H  , HETATM  117  H   UNL     1      15.704   6.866  -5.790  1.00  0.00           H  )\n",
      "  warnings.warn(\"WARNING: duplicate atom (%s, %s)\" % (atom, old_atom._pdb_string(old_atom.serial_number, atom.alternate_location_indicator)))\n",
      "/home/elias/anaconda3/envs/openmm/lib/python3.7/site-packages/simtk/openmm/app/internal/pdbstructure.py:537: UserWarning: WARNING: duplicate atom (HETATM  119  H   UNL     1      17.966   4.996  -6.440  1.00  0.00           H  , HETATM  118  H   UNL     1      15.704   5.552  -7.048  1.00  0.00           H  )\n",
      "  warnings.warn(\"WARNING: duplicate atom (%s, %s)\" % (atom, old_atom._pdb_string(old_atom.serial_number, atom.alternate_location_indicator)))\n",
      "/home/elias/anaconda3/envs/openmm/lib/python3.7/site-packages/simtk/openmm/app/internal/pdbstructure.py:537: UserWarning: WARNING: duplicate atom (HETATM  120  H   UNL     1      17.966   6.282  -5.208  1.00  0.00           H  , HETATM  119  H   UNL     1      17.966   4.996  -6.440  1.00  0.00           H  )\n",
      "  warnings.warn(\"WARNING: duplicate atom (%s, %s)\" % (atom, old_atom._pdb_string(old_atom.serial_number, atom.alternate_location_indicator)))\n",
      "/home/elias/anaconda3/envs/openmm/lib/python3.7/site-packages/simtk/openmm/app/internal/pdbstructure.py:537: UserWarning: WARNING: duplicate atom (HETATM  121  H   UNL     1      15.605   8.160  -7.137  1.00  0.00           H  , HETATM  120  H   UNL     1      17.966   6.282  -5.208  1.00  0.00           H  )\n",
      "  warnings.warn(\"WARNING: duplicate atom (%s, %s)\" % (atom, old_atom._pdb_string(old_atom.serial_number, atom.alternate_location_indicator)))\n",
      "/home/elias/anaconda3/envs/openmm/lib/python3.7/site-packages/simtk/openmm/app/internal/pdbstructure.py:537: UserWarning: WARNING: duplicate atom (HETATM  122  H   UNL     1      15.605   6.842  -8.399  1.00  0.00           H  , HETATM  121  H   UNL     1      15.605   8.160  -7.137  1.00  0.00           H  )\n",
      "  warnings.warn(\"WARNING: duplicate atom (%s, %s)\" % (atom, old_atom._pdb_string(old_atom.serial_number, atom.alternate_location_indicator)))\n",
      "/home/elias/anaconda3/envs/openmm/lib/python3.7/site-packages/simtk/openmm/app/internal/pdbstructure.py:537: UserWarning: WARNING: duplicate atom (HETATM  123  H   UNL     1      15.824   9.803  -8.883  1.00  0.00           H  , HETATM  122  H   UNL     1      15.605   6.842  -8.399  1.00  0.00           H  )\n",
      "  warnings.warn(\"WARNING: duplicate atom (%s, %s)\" % (atom, old_atom._pdb_string(old_atom.serial_number, atom.alternate_location_indicator)))\n",
      "/home/elias/anaconda3/envs/openmm/lib/python3.7/site-packages/simtk/openmm/app/internal/pdbstructure.py:537: UserWarning: WARNING: duplicate atom (HETATM  124  H   UNL     1      14.378   8.782  -9.106  1.00  0.00           H  , HETATM  123  H   UNL     1      15.824   9.803  -8.883  1.00  0.00           H  )\n",
      "  warnings.warn(\"WARNING: duplicate atom (%s, %s)\" % (atom, old_atom._pdb_string(old_atom.serial_number, atom.alternate_location_indicator)))\n",
      "/home/elias/anaconda3/envs/openmm/lib/python3.7/site-packages/simtk/openmm/app/internal/pdbstructure.py:537: UserWarning: WARNING: duplicate atom (HETATM  125  H   UNL     1      15.824   8.515 -10.116  1.00  0.00           H  , HETATM  124  H   UNL     1      14.378   8.782  -9.106  1.00  0.00           H  )\n",
      "  warnings.warn(\"WARNING: duplicate atom (%s, %s)\" % (atom, old_atom._pdb_string(old_atom.serial_number, atom.alternate_location_indicator)))\n",
      "/home/elias/anaconda3/envs/openmm/lib/python3.7/site-packages/simtk/openmm/app/internal/pdbstructure.py:537: UserWarning: WARNING: duplicate atom (HETATM  126  H   UNL     1      19.752   5.824  -7.332  1.00  0.00           H  , HETATM  125  H   UNL     1      15.824   8.515 -10.116  1.00  0.00           H  )\n",
      "  warnings.warn(\"WARNING: duplicate atom (%s, %s)\" % (atom, old_atom._pdb_string(old_atom.serial_number, atom.alternate_location_indicator)))\n",
      "/home/elias/anaconda3/envs/openmm/lib/python3.7/site-packages/simtk/openmm/app/internal/pdbstructure.py:537: UserWarning: WARNING: duplicate atom (HETATM  127  H   UNL     1      19.752   7.138  -6.073  1.00  0.00           H  , HETATM  126  H   UNL     1      19.752   5.824  -7.332  1.00  0.00           H  )\n",
      "  warnings.warn(\"WARNING: duplicate atom (%s, %s)\" % (atom, old_atom._pdb_string(old_atom.serial_number, atom.alternate_location_indicator)))\n",
      "/home/elias/anaconda3/envs/openmm/lib/python3.7/site-packages/simtk/openmm/app/internal/pdbstructure.py:537: UserWarning: WARNING: duplicate atom (HETATM  128  H   UNL     1      20.169   8.764  -7.799  1.00  0.00           H  , HETATM  127  H   UNL     1      19.752   7.138  -6.073  1.00  0.00           H  )\n",
      "  warnings.warn(\"WARNING: duplicate atom (%s, %s)\" % (atom, old_atom._pdb_string(old_atom.serial_number, atom.alternate_location_indicator)))\n",
      "/home/elias/anaconda3/envs/openmm/lib/python3.7/site-packages/simtk/openmm/app/internal/pdbstructure.py:537: UserWarning: WARNING: duplicate atom (HETATM  129  H   UNL     1      20.169   7.477  -9.031  1.00  0.00           H  , HETATM  128  H   UNL     1      20.169   8.764  -7.799  1.00  0.00           H  )\n",
      "  warnings.warn(\"WARNING: duplicate atom (%s, %s)\" % (atom, old_atom._pdb_string(old_atom.serial_number, atom.alternate_location_indicator)))\n",
      "/home/elias/anaconda3/envs/openmm/lib/python3.7/site-packages/simtk/openmm/app/internal/pdbstructure.py:537: UserWarning: WARNING: duplicate atom (HETATM  130  H   UNL     1      21.319   5.117  -6.597  1.00  0.00           H  , HETATM  129  H   UNL     1      20.169   7.477  -9.031  1.00  0.00           H  )\n",
      "  warnings.warn(\"WARNING: duplicate atom (%s, %s)\" % (atom, old_atom._pdb_string(old_atom.serial_number, atom.alternate_location_indicator)))\n",
      "/home/elias/anaconda3/envs/openmm/lib/python3.7/site-packages/simtk/openmm/app/internal/pdbstructure.py:537: UserWarning: WARNING: duplicate atom (HETATM  131  H   UNL     1      21.319   6.435  -5.335  1.00  0.00           H  , HETATM  130  H   UNL     1      21.319   5.117  -6.597  1.00  0.00           H  )\n",
      "  warnings.warn(\"WARNING: duplicate atom (%s, %s)\" % (atom, old_atom._pdb_string(old_atom.serial_number, atom.alternate_location_indicator)))\n",
      "/home/elias/anaconda3/envs/openmm/lib/python3.7/site-packages/simtk/openmm/app/internal/pdbstructure.py:537: UserWarning: WARNING: duplicate atom (HETATM  132  H   UNL     1      23.505   4.434  -5.854  1.00  0.00           H  , HETATM  131  H   UNL     1      21.319   6.435  -5.335  1.00  0.00           H  )\n",
      "  warnings.warn(\"WARNING: duplicate atom (%s, %s)\" % (atom, old_atom._pdb_string(old_atom.serial_number, atom.alternate_location_indicator)))\n",
      "/home/elias/anaconda3/envs/openmm/lib/python3.7/site-packages/simtk/openmm/app/internal/pdbstructure.py:537: UserWarning: WARNING: duplicate atom (HETATM  133  H   UNL     1      22.310   4.400  -4.530  1.00  0.00           H  , HETATM  132  H   UNL     1      23.505   4.434  -5.854  1.00  0.00           H  )\n",
      "  warnings.warn(\"WARNING: duplicate atom (%s, %s)\" % (atom, old_atom._pdb_string(old_atom.serial_number, atom.alternate_location_indicator)))\n",
      "/home/elias/anaconda3/envs/openmm/lib/python3.7/site-packages/simtk/openmm/app/internal/pdbstructure.py:537: UserWarning: WARNING: duplicate atom (HETATM  134  H   UNL     1      23.505   5.722  -4.621  1.00  0.00           H  , HETATM  133  H   UNL     1      22.310   4.400  -4.530  1.00  0.00           H  )\n",
      "  warnings.warn(\"WARNING: duplicate atom (%s, %s)\" % (atom, old_atom._pdb_string(old_atom.serial_number, atom.alternate_location_indicator)))\n",
      "/home/elias/anaconda3/envs/openmm/lib/python3.7/site-packages/simtk/openmm/app/internal/pdbstructure.py:537: UserWarning: WARNING: duplicate atom (HETATM  135  H   UNL     1      22.116   9.427  -8.464  1.00  0.00           H  , HETATM  134  H   UNL     1      23.505   5.722  -4.621  1.00  0.00           H  )\n",
      "  warnings.warn(\"WARNING: duplicate atom (%s, %s)\" % (atom, old_atom._pdb_string(old_atom.serial_number, atom.alternate_location_indicator)))\n",
      "/home/elias/anaconda3/envs/openmm/lib/python3.7/site-packages/simtk/openmm/app/internal/pdbstructure.py:537: UserWarning: WARNING: duplicate atom (HETATM  136  H   UNL     1      22.116   8.113  -9.722  1.00  0.00           H  , HETATM  135  H   UNL     1      22.116   9.427  -8.464  1.00  0.00           H  )\n",
      "  warnings.warn(\"WARNING: duplicate atom (%s, %s)\" % (atom, old_atom._pdb_string(old_atom.serial_number, atom.alternate_location_indicator)))\n",
      "/home/elias/anaconda3/envs/openmm/lib/python3.7/site-packages/simtk/openmm/app/internal/pdbstructure.py:537: UserWarning: WARNING: duplicate atom (HETATM  137  H   UNL     1      24.379   7.557  -9.114  1.00  0.00           H  , HETATM  136  H   UNL     1      22.116   8.113  -9.722  1.00  0.00           H  )\n",
      "  warnings.warn(\"WARNING: duplicate atom (%s, %s)\" % (atom, old_atom._pdb_string(old_atom.serial_number, atom.alternate_location_indicator)))\n",
      "/home/elias/anaconda3/envs/openmm/lib/python3.7/site-packages/simtk/openmm/app/internal/pdbstructure.py:537: UserWarning: WARNING: duplicate atom (HETATM  138  H   UNL     1      24.379   8.843  -7.882  1.00  0.00           H  , HETATM  137  H   UNL     1      24.379   7.557  -9.114  1.00  0.00           H  )\n",
      "  warnings.warn(\"WARNING: duplicate atom (%s, %s)\" % (atom, old_atom._pdb_string(old_atom.serial_number, atom.alternate_location_indicator)))\n",
      "/home/elias/anaconda3/envs/openmm/lib/python3.7/site-packages/simtk/openmm/app/internal/pdbstructure.py:537: UserWarning: WARNING: duplicate atom (HETATM  139  H   UNL     1      22.017  10.720  -9.810  1.00  0.00           H  , HETATM  138  H   UNL     1      24.379   8.843  -7.882  1.00  0.00           H  )\n",
      "  warnings.warn(\"WARNING: duplicate atom (%s, %s)\" % (atom, old_atom._pdb_string(old_atom.serial_number, atom.alternate_location_indicator)))\n",
      "/home/elias/anaconda3/envs/openmm/lib/python3.7/site-packages/simtk/openmm/app/internal/pdbstructure.py:537: UserWarning: WARNING: duplicate atom (HETATM  140  H   UNL     1      22.017   9.402 -11.072  1.00  0.00           H  , HETATM  139  H   UNL     1      22.017  10.720  -9.810  1.00  0.00           H  )\n",
      "  warnings.warn(\"WARNING: duplicate atom (%s, %s)\" % (atom, old_atom._pdb_string(old_atom.serial_number, atom.alternate_location_indicator)))\n",
      "/home/elias/anaconda3/envs/openmm/lib/python3.7/site-packages/simtk/openmm/app/internal/pdbstructure.py:537: UserWarning: WARNING: duplicate atom (HETATM  141  H   UNL     1      22.235  12.363 -11.556  1.00  0.00           H  , HETATM  140  H   UNL     1      22.017   9.402 -11.072  1.00  0.00           H  )\n",
      "  warnings.warn(\"WARNING: duplicate atom (%s, %s)\" % (atom, old_atom._pdb_string(old_atom.serial_number, atom.alternate_location_indicator)))\n",
      "/home/elias/anaconda3/envs/openmm/lib/python3.7/site-packages/simtk/openmm/app/internal/pdbstructure.py:537: UserWarning: WARNING: duplicate atom (HETATM  142  H   UNL     1      20.789  11.342 -11.779  1.00  0.00           H  , HETATM  141  H   UNL     1      22.235  12.363 -11.556  1.00  0.00           H  )\n",
      "  warnings.warn(\"WARNING: duplicate atom (%s, %s)\" % (atom, old_atom._pdb_string(old_atom.serial_number, atom.alternate_location_indicator)))\n",
      "/home/elias/anaconda3/envs/openmm/lib/python3.7/site-packages/simtk/openmm/app/internal/pdbstructure.py:537: UserWarning: WARNING: duplicate atom (HETATM  143  H   UNL     1      22.235  11.075 -12.789  1.00  0.00           H  , HETATM  142  H   UNL     1      20.789  11.342 -11.779  1.00  0.00           H  )\n",
      "  warnings.warn(\"WARNING: duplicate atom (%s, %s)\" % (atom, old_atom._pdb_string(old_atom.serial_number, atom.alternate_location_indicator)))\n",
      "/home/elias/anaconda3/envs/openmm/lib/python3.7/site-packages/simtk/openmm/app/internal/pdbstructure.py:537: UserWarning: WARNING: duplicate atom (HETATM  144  H   UNL     1      26.167   8.388 -10.009  1.00  0.00           H  , HETATM  143  H   UNL     1      22.235  11.075 -12.789  1.00  0.00           H  )\n",
      "  warnings.warn(\"WARNING: duplicate atom (%s, %s)\" % (atom, old_atom._pdb_string(old_atom.serial_number, atom.alternate_location_indicator)))\n",
      "/home/elias/anaconda3/envs/openmm/lib/python3.7/site-packages/simtk/openmm/app/internal/pdbstructure.py:537: UserWarning: WARNING: duplicate atom (HETATM  145  H   UNL     1      26.167   9.702  -8.752  1.00  0.00           H  , HETATM  144  H   UNL     1      26.167   8.388 -10.009  1.00  0.00           H  )\n",
      "  warnings.warn(\"WARNING: duplicate atom (%s, %s)\" % (atom, old_atom._pdb_string(old_atom.serial_number, atom.alternate_location_indicator)))\n",
      "/home/elias/anaconda3/envs/openmm/lib/python3.7/site-packages/simtk/openmm/app/internal/pdbstructure.py:537: UserWarning: WARNING: duplicate atom (HETATM  146  H   UNL     1      26.595  11.330 -10.479  1.00  0.00           H  , HETATM  145  H   UNL     1      26.167   9.702  -8.752  1.00  0.00           H  )\n",
      "  warnings.warn(\"WARNING: duplicate atom (%s, %s)\" % (atom, old_atom._pdb_string(old_atom.serial_number, atom.alternate_location_indicator)))\n",
      "/home/elias/anaconda3/envs/openmm/lib/python3.7/site-packages/simtk/openmm/app/internal/pdbstructure.py:537: UserWarning: WARNING: duplicate atom (HETATM  147  H   UNL     1      26.595  10.044 -11.710  1.00  0.00           H  , HETATM  146  H   UNL     1      26.595  11.330 -10.479  1.00  0.00           H  )\n",
      "  warnings.warn(\"WARNING: duplicate atom (%s, %s)\" % (atom, old_atom._pdb_string(old_atom.serial_number, atom.alternate_location_indicator)))\n",
      "/home/elias/anaconda3/envs/openmm/lib/python3.7/site-packages/simtk/openmm/app/internal/pdbstructure.py:537: UserWarning: WARNING: duplicate atom (HETATM  148  H   UNL     1      27.730   7.677  -9.272  1.00  0.00           H  , HETATM  147  H   UNL     1      26.595  10.044 -11.710  1.00  0.00           H  )\n",
      "  warnings.warn(\"WARNING: duplicate atom (%s, %s)\" % (atom, old_atom._pdb_string(old_atom.serial_number, atom.alternate_location_indicator)))\n",
      "/home/elias/anaconda3/envs/openmm/lib/python3.7/site-packages/simtk/openmm/app/internal/pdbstructure.py:537: UserWarning: WARNING: duplicate atom (HETATM  149  H   UNL     1      27.730   8.996  -8.009  1.00  0.00           H  , HETATM  148  H   UNL     1      27.730   7.677  -9.272  1.00  0.00           H  )\n",
      "  warnings.warn(\"WARNING: duplicate atom (%s, %s)\" % (atom, old_atom._pdb_string(old_atom.serial_number, atom.alternate_location_indicator)))\n",
      "/home/elias/anaconda3/envs/openmm/lib/python3.7/site-packages/simtk/openmm/app/internal/pdbstructure.py:537: UserWarning: WARNING: duplicate atom (HETATM  150  H   UNL     1      29.914   6.993  -8.526  1.00  0.00           H  , HETATM  149  H   UNL     1      27.730   8.996  -8.009  1.00  0.00           H  )\n",
      "  warnings.warn(\"WARNING: duplicate atom (%s, %s)\" % (atom, old_atom._pdb_string(old_atom.serial_number, atom.alternate_location_indicator)))\n",
      "/home/elias/anaconda3/envs/openmm/lib/python3.7/site-packages/simtk/openmm/app/internal/pdbstructure.py:537: UserWarning: WARNING: duplicate atom (HETATM  151  H   UNL     1      28.718   6.959  -7.202  1.00  0.00           H  , HETATM  150  H   UNL     1      29.914   6.993  -8.526  1.00  0.00           H  )\n",
      "  warnings.warn(\"WARNING: duplicate atom (%s, %s)\" % (atom, old_atom._pdb_string(old_atom.serial_number, atom.alternate_location_indicator)))\n",
      "/home/elias/anaconda3/envs/openmm/lib/python3.7/site-packages/simtk/openmm/app/internal/pdbstructure.py:537: UserWarning: WARNING: duplicate atom (HETATM  152  H   UNL     1      29.914   8.280  -7.293  1.00  0.00           H  , HETATM  151  H   UNL     1      28.718   6.959  -7.202  1.00  0.00           H  )\n",
      "  warnings.warn(\"WARNING: duplicate atom (%s, %s)\" % (atom, old_atom._pdb_string(old_atom.serial_number, atom.alternate_location_indicator)))\n",
      "/home/elias/anaconda3/envs/openmm/lib/python3.7/site-packages/simtk/openmm/app/internal/pdbstructure.py:537: UserWarning: WARNING: duplicate atom (HETATM  153  H   UNL     1      28.580  11.981 -11.131  1.00  0.00           H  , HETATM  152  H   UNL     1      29.914   8.280  -7.293  1.00  0.00           H  )\n",
      "  warnings.warn(\"WARNING: duplicate atom (%s, %s)\" % (atom, old_atom._pdb_string(old_atom.serial_number, atom.alternate_location_indicator)))\n",
      "/home/elias/anaconda3/envs/openmm/lib/python3.7/site-packages/simtk/openmm/app/internal/pdbstructure.py:537: UserWarning: WARNING: duplicate atom (HETATM  154  H   UNL     1      28.580  10.667 -12.389  1.00  0.00           H  , HETATM  153  H   UNL     1      28.580  11.981 -11.131  1.00  0.00           H  )\n",
      "  warnings.warn(\"WARNING: duplicate atom (%s, %s)\" % (atom, old_atom._pdb_string(old_atom.serial_number, atom.alternate_location_indicator)))\n",
      "/home/elias/anaconda3/envs/openmm/lib/python3.7/site-packages/simtk/openmm/app/internal/pdbstructure.py:537: UserWarning: WARNING: duplicate atom (HETATM  155  H   UNL     1      30.849  10.094 -11.767  1.00  0.00           H  , HETATM  154  H   UNL     1      28.580  10.667 -12.389  1.00  0.00           H  )\n",
      "  warnings.warn(\"WARNING: duplicate atom (%s, %s)\" % (atom, old_atom._pdb_string(old_atom.serial_number, atom.alternate_location_indicator)))\n",
      "/home/elias/anaconda3/envs/openmm/lib/python3.7/site-packages/simtk/openmm/app/internal/pdbstructure.py:537: UserWarning: WARNING: duplicate atom (HETATM  156  H   UNL     1      30.849  11.384 -10.532  1.00  0.00           H  , HETATM  155  H   UNL     1      30.849  10.094 -11.767  1.00  0.00           H  )\n",
      "  warnings.warn(\"WARNING: duplicate atom (%s, %s)\" % (atom, old_atom._pdb_string(old_atom.serial_number, atom.alternate_location_indicator)))\n",
      "/home/elias/anaconda3/envs/openmm/lib/python3.7/site-packages/simtk/openmm/app/internal/pdbstructure.py:537: UserWarning: WARNING: duplicate atom (HETATM  157  H   UNL     1      28.480  13.262 -12.463  1.00  0.00           H  , HETATM  156  H   UNL     1      30.849  11.384 -10.532  1.00  0.00           H  )\n",
      "  warnings.warn(\"WARNING: duplicate atom (%s, %s)\" % (atom, old_atom._pdb_string(old_atom.serial_number, atom.alternate_location_indicator)))\n",
      "/home/elias/anaconda3/envs/openmm/lib/python3.7/site-packages/simtk/openmm/app/internal/pdbstructure.py:537: UserWarning: WARNING: duplicate atom (HETATM  158  H   UNL     1      28.479  11.942 -13.727  1.00  0.00           H  , HETATM  157  H   UNL     1      28.480  13.262 -12.463  1.00  0.00           H  )\n",
      "  warnings.warn(\"WARNING: duplicate atom (%s, %s)\" % (atom, old_atom._pdb_string(old_atom.serial_number, atom.alternate_location_indicator)))\n",
      "/home/elias/anaconda3/envs/openmm/lib/python3.7/site-packages/simtk/openmm/app/internal/pdbstructure.py:537: UserWarning: WARNING: duplicate atom (HETATM  159  H   UNL     1      28.671  14.903 -14.209  1.00  0.00           H  , HETATM  158  H   UNL     1      28.479  11.942 -13.727  1.00  0.00           H  )\n",
      "  warnings.warn(\"WARNING: duplicate atom (%s, %s)\" % (atom, old_atom._pdb_string(old_atom.serial_number, atom.alternate_location_indicator)))\n",
      "/home/elias/anaconda3/envs/openmm/lib/python3.7/site-packages/simtk/openmm/app/internal/pdbstructure.py:537: UserWarning: WARNING: duplicate atom (HETATM  160  H   UNL     1      27.236  13.870 -14.419  1.00  0.00           H  , HETATM  159  H   UNL     1      28.671  14.903 -14.209  1.00  0.00           H  )\n",
      "  warnings.warn(\"WARNING: duplicate atom (%s, %s)\" % (atom, old_atom._pdb_string(old_atom.serial_number, atom.alternate_location_indicator)))\n",
      "/home/elias/anaconda3/envs/openmm/lib/python3.7/site-packages/simtk/openmm/app/internal/pdbstructure.py:537: UserWarning: WARNING: duplicate atom (HETATM  161  H   UNL     1      28.671  13.616 -15.442  1.00  0.00           H  , HETATM  160  H   UNL     1      27.236  13.870 -14.419  1.00  0.00           H  )\n",
      "  warnings.warn(\"WARNING: duplicate atom (%s, %s)\" % (atom, old_atom._pdb_string(old_atom.serial_number, atom.alternate_location_indicator)))\n",
      "/home/elias/anaconda3/envs/openmm/lib/python3.7/site-packages/simtk/openmm/app/internal/pdbstructure.py:537: UserWarning: WARNING: duplicate atom (HETATM  162  H   UNL     1      32.832  10.930 -12.622  1.00  0.00           H  , HETATM  161  H   UNL     1      28.671  13.616 -15.442  1.00  0.00           H  )\n",
      "  warnings.warn(\"WARNING: duplicate atom (%s, %s)\" % (atom, old_atom._pdb_string(old_atom.serial_number, atom.alternate_location_indicator)))\n",
      "/home/elias/anaconda3/envs/openmm/lib/python3.7/site-packages/simtk/openmm/app/internal/pdbstructure.py:537: UserWarning: WARNING: duplicate atom (HETATM  163  H   UNL     1      32.832  12.202 -11.404  1.00  0.00           H  , HETATM  162  H   UNL     1      32.832  10.930 -12.622  1.00  0.00           H  )\n",
      "  warnings.warn(\"WARNING: duplicate atom (%s, %s)\" % (atom, old_atom._pdb_string(old_atom.serial_number, atom.alternate_location_indicator)))\n",
      "/home/elias/anaconda3/envs/openmm/lib/python3.7/site-packages/simtk/openmm/app/internal/pdbstructure.py:537: UserWarning: WARNING: duplicate atom (HETATM  164  H   UNL     1      32.944  13.926 -13.180  1.00  0.00           H  , HETATM  163  H   UNL     1      32.832  12.202 -11.404  1.00  0.00           H  )\n",
      "  warnings.warn(\"WARNING: duplicate atom (%s, %s)\" % (atom, old_atom._pdb_string(old_atom.serial_number, atom.alternate_location_indicator)))\n",
      "/home/elias/anaconda3/envs/openmm/lib/python3.7/site-packages/simtk/openmm/app/internal/pdbstructure.py:537: UserWarning: WARNING: duplicate atom (HETATM  165  H   UNL     1      32.944  12.630 -14.421  1.00  0.00           H  , HETATM  164  H   UNL     1      32.944  13.926 -13.180  1.00  0.00           H  )\n",
      "  warnings.warn(\"WARNING: duplicate atom (%s, %s)\" % (atom, old_atom._pdb_string(old_atom.serial_number, atom.alternate_location_indicator)))\n",
      "/home/elias/anaconda3/envs/openmm/lib/python3.7/site-packages/simtk/openmm/app/internal/pdbstructure.py:537: UserWarning: WARNING: duplicate atom (HETATM  166  H   UNL     1      35.113  13.147 -12.371  1.00  0.00           H  , HETATM  165  H   UNL     1      32.944  12.630 -14.421  1.00  0.00           H  )\n",
      "  warnings.warn(\"WARNING: duplicate atom (%s, %s)\" % (atom, old_atom._pdb_string(old_atom.serial_number, atom.alternate_location_indicator)))\n",
      "/home/elias/anaconda3/envs/openmm/lib/python3.7/site-packages/simtk/openmm/app/internal/pdbstructure.py:537: UserWarning: WARNING: duplicate atom (HETATM  167  H   UNL     1      35.125  13.562 -14.097  1.00  0.00           H  , HETATM  166  H   UNL     1      35.113  13.147 -12.371  1.00  0.00           H  )\n",
      "  warnings.warn(\"WARNING: duplicate atom (%s, %s)\" % (atom, old_atom._pdb_string(old_atom.serial_number, atom.alternate_location_indicator)))\n",
      "/home/elias/anaconda3/envs/openmm/lib/python3.7/site-packages/simtk/openmm/app/internal/pdbstructure.py:537: UserWarning: WARNING: duplicate atom (HETATM  168  H   UNL     1      35.113  11.855 -13.608  1.00  0.00           H  , HETATM  167  H   UNL     1      35.125  13.562 -14.097  1.00  0.00           H  )\n",
      "  warnings.warn(\"WARNING: duplicate atom (%s, %s)\" % (atom, old_atom._pdb_string(old_atom.serial_number, atom.alternate_location_indicator)))\n"
     ]
    }
   ],
   "source": [
    "from openforcefield.utils.toolkits import ToolkitRegistry, OpenEyeToolkitWrapper, RDKitToolkitWrapper, AmberToolsToolkitWrapper\n",
    "\n",
    "toolkit_registry = ToolkitRegistry()\n",
    "toolkit_registry.register_toolkit(RDKitToolkitWrapper)\n",
    "\n",
    "#Forcefield     \n",
    "off_forcefield = ForceField('openff-1.0.0.offxml')\n",
    "\n",
    "#parameterization\n",
    "\n",
    "polymer = PDBFile(f\"{polymer_filename}.pdb\")\n",
    "polymer_positions =  polymer.getPositions()\n",
    "uniq_molecules = [Molecule.from_file(f\"{polymer_filename}.sdf\")]\n",
    "#If OpenEye is available, multiple formats can be used to create the unique molecules.\n",
    "off_polymer_topology = Topology.from_openmm(polymer.topology,unique_molecules=uniq_molecules)\n",
    "off_polymer_system = off_forcefield.create_openmm_system(off_polymer_topology,toolkit_registry=toolkit_registry)\n",
    "\n",
    "\n",
    "#Problem with charges: https://github.com/openforcefield/openforcefield/issues/346, I believe this is a problem occuring in OEchem toolkit, solve by using RD toolkit"
   ]
  },
  {
   "cell_type": "markdown",
   "metadata": {},
   "source": [
    "#### Energy minimization\n",
    "\n",
    "To check whether the generated forcefield can actually be used."
   ]
  },
  {
   "cell_type": "code",
   "execution_count": null,
   "metadata": {},
   "outputs": [],
   "source": [
    "\n",
    "integrator = VerletIntegrator(1.0 * femtoseconds)\n",
    "context = Context(off_polymer_system, integrator)\n",
    "context.setPositions(polymer_positions)\n",
    "state = context.getState(getEnergy=True)\n",
    "energy = state.getPotentialEnergy().in_units_of(kilojoules_per_mole)\n",
    "\n",
    "print(f\"Original energy: {energy}\")"
   ]
  },
  {
   "cell_type": "markdown",
   "metadata": {},
   "source": [
    "#### Polymer parameterized by 3 different Units? \n",
    "\n",
    "Probably this is not needed\n",
    "TODO   https://github.com/openforcefield/open-forcefield-tools/blob/master/examples/substructure_linking.ipynb"
   ]
  },
  {
   "cell_type": "markdown",
   "metadata": {},
   "source": [
    "## Polymer-water solvent box\n",
    "\n",
    "Multiple approaches are available to constuct a solvent box:\n",
    "1. Packmol (openmoltools)\n",
    "2. OpenMM modeller (https://github.com/openmm/openmmforcefields)\n",
    "3. leap (Ambertools)\n",
    "4. openforcefield-tools (Property calculation toolkit requires OpenEye licence) https://github.com/openforcefield/openforcefield/issues/66\n",
    "https://github.com/slochower/smirnoff-host-guest/blob/3a319972d5b6fded1784eaad75d6bf5e754343a3/mol2-to-prmtop.ipynb;https://github.com/MobleyLab/SolvationToolkit\n",
    "\n",
    "Following packages should be installed:\n",
    "\n",
    "1. Packmol \n",
    "2. openmoltools\n",
    "3. mdtraj \n",
    "4. SolvationToolkit (openeye)\n",
    "\n",
    "\n",
    "git clone https://github.com/MobleyLab/SolvationToolkit.git\n",
    "cd SolvationToolkit\n",
    "pip install .\n",
    "\n",
    "https://github.com/openforcefield/openforcefield/blob/master/examples/using_smirnoff_with_amber_protein_forcefield/toluene_in_T4_lysozyme.ipynb\n",
    "https://github.com/openforcefield/openforcefield/blob/master/examples/using_smirnoff_in_amber_or_gromacs/convert_to_amber_gromacs.ipynb"
   ]
  },
  {
   "cell_type": "markdown",
   "metadata": {},
   "source": [
    "#### OpenmolTools"
   ]
  },
  {
   "cell_type": "markdown",
   "metadata": {},
   "source": [
    "I have manually adjusted the packmol.py file (in ~/anaconda3/envs/openmm/lib/python3.7/site-packages/openmoltools) as the bonds were defined as an array of 1 x 4 ; at line 196 insert the code snippet below\n",
    "but in this case the bond type and order should be in the 3rd and fourth column, this is however not the case.\n",
    "there for this is put to zero at the end which corresponds to a bond order and type of None, though antechambers\n",
    "will put this correct normally based on the bonds. Alternatively n_atoms is added after each molecule \n",
    "to bonds_i [0] and [1] instead to avoid a potential loss of information.\n",
    "'''\n",
    "    #cast atom type and order to 0\n",
    "    if len(bonds[0])==4:\n",
    "        for idx,frame in enumerate(bonds):\n",
    "               bonds[idx][2] = 0\n",
    "               bonds[idx][3] = 0\n",
    "\n",
    "The following part is also incorrect as it does not work when loading it from smiles etc... manually adjusted pdb to show 3 residues\n",
    "    #Find waters and rename\n",
    "    for residue in pdb.residues:\n",
    "        if len(residue)==3:\n",
    " \n",
    "\n",
    "TODO: Report to openmoltools Done"
   ]
  },
  {
   "cell_type": "code",
   "execution_count": 4,
   "metadata": {},
   "outputs": [
    {
     "name": "stdout",
     "output_type": "stream",
     "text": [
      "\n",
      "# Mixture \n",
      "\n",
      "tolerance 2.000000\n",
      "filetype pdb\n",
      "output /tmp/tmptbgg2ui9/tmpw4r720gn.pdb\n",
      "add_amber_ter\n",
      "\n",
      "\n",
      "structure polymer_50units.pdb\n",
      "  number 1 \n",
      "  inside box 0. 0. 0. 61.864296 61.864296 61.864296\n",
      "end structure\n",
      "\n",
      "structure water.pdb\n",
      "  number 1000 \n",
      "  inside box 0. 0. 0. 61.864296 61.864296 61.864296\n",
      "end structure\n",
      "\n"
     ]
    },
    {
     "ename": "OSError",
     "evalue": "No such file: /tmp/tmptbgg2ui9/tmpw4r720gn.pdb",
     "output_type": "error",
     "traceback": [
      "\u001b[0;31m---------------------------------------------------------------------------\u001b[0m",
      "\u001b[0;31mOSError\u001b[0m                                   Traceback (most recent call last)",
      "\u001b[0;32m<ipython-input-4-a5e53d97c43b>\u001b[0m in \u001b[0;36m<module>\u001b[0;34m\u001b[0m\n\u001b[1;32m     17\u001b[0m \u001b[0;34m\u001b[0m\u001b[0m\n\u001b[1;32m     18\u001b[0m \u001b[0;31m# create box with corresponding md_traj trajectory and topology\u001b[0m\u001b[0;34m\u001b[0m\u001b[0;34m\u001b[0m\u001b[0;34m\u001b[0m\u001b[0m\n\u001b[0;32m---> 19\u001b[0;31m \u001b[0mmd_traj_trajectory\u001b[0m \u001b[0;34m=\u001b[0m \u001b[0mpackmol\u001b[0m\u001b[0;34m.\u001b[0m\u001b[0mpack_box\u001b[0m\u001b[0;34m(\u001b[0m\u001b[0mpdb_filenames\u001b[0m\u001b[0;34m,\u001b[0m\u001b[0mn_molecules\u001b[0m\u001b[0;34m)\u001b[0m\u001b[0;31m#,box_size=box_size)\u001b[0m\u001b[0;34m\u001b[0m\u001b[0;34m\u001b[0m\u001b[0m\n\u001b[0m\u001b[1;32m     20\u001b[0m \u001b[0mprint\u001b[0m\u001b[0;34m(\u001b[0m\u001b[0mmd_traj_trajectory\u001b[0m\u001b[0;34m.\u001b[0m\u001b[0mtopology\u001b[0m\u001b[0;34m)\u001b[0m\u001b[0;34m\u001b[0m\u001b[0;34m\u001b[0m\u001b[0m\n\u001b[1;32m     21\u001b[0m \u001b[0mmd_traj_trajectory\u001b[0m\u001b[0;34m.\u001b[0m\u001b[0msave_pdb\u001b[0m\u001b[0;34m(\u001b[0m\u001b[0;34mf'{polymer_filename}_N{n_molecules[1]}_openmoltools.pdb'\u001b[0m\u001b[0;34m)\u001b[0m\u001b[0;34m\u001b[0m\u001b[0;34m\u001b[0m\u001b[0m\n",
      "\u001b[0;32m~/anaconda3/envs/openmm/lib/python3.7/site-packages/openmoltools/packmol.py\u001b[0m in \u001b[0;36mpack_box\u001b[0;34m(pdb_filenames_or_trajectories, n_molecules_list, tolerance, box_size)\u001b[0m\n\u001b[1;32m    176\u001b[0m         \u001b[0;31m# Run packmol and load output PDB file.\u001b[0m\u001b[0;34m\u001b[0m\u001b[0;34m\u001b[0m\u001b[0;34m\u001b[0m\u001b[0m\n\u001b[1;32m    177\u001b[0m         \u001b[0mos\u001b[0m\u001b[0;34m.\u001b[0m\u001b[0msystem\u001b[0m\u001b[0;34m(\u001b[0m\u001b[0;34m\"%s < %s\"\u001b[0m \u001b[0;34m%\u001b[0m \u001b[0;34m(\u001b[0m\u001b[0mPACKMOL_PATH\u001b[0m\u001b[0;34m,\u001b[0m \u001b[0mfile_handle\u001b[0m\u001b[0;34m.\u001b[0m\u001b[0mname\u001b[0m\u001b[0;34m)\u001b[0m\u001b[0;34m)\u001b[0m\u001b[0;34m\u001b[0m\u001b[0;34m\u001b[0m\u001b[0m\n\u001b[0;32m--> 178\u001b[0;31m         \u001b[0mtrj\u001b[0m \u001b[0;34m=\u001b[0m \u001b[0mmd\u001b[0m\u001b[0;34m.\u001b[0m\u001b[0mload\u001b[0m\u001b[0;34m(\u001b[0m\u001b[0moutput_filename\u001b[0m\u001b[0;34m)\u001b[0m\u001b[0;34m\u001b[0m\u001b[0;34m\u001b[0m\u001b[0m\n\u001b[0m\u001b[1;32m    179\u001b[0m \u001b[0;34m\u001b[0m\u001b[0m\n\u001b[1;32m    180\u001b[0m     \u001b[0;32massert\u001b[0m \u001b[0mtrj\u001b[0m\u001b[0;34m.\u001b[0m\u001b[0mtopology\u001b[0m\u001b[0;34m.\u001b[0m\u001b[0mn_chains\u001b[0m \u001b[0;34m==\u001b[0m \u001b[0msum\u001b[0m\u001b[0;34m(\u001b[0m\u001b[0mn_molecules_list\u001b[0m\u001b[0;34m)\u001b[0m\u001b[0;34m,\u001b[0m \u001b[0;34m\"Packmol error: molecules missing from output\"\u001b[0m\u001b[0;34m\u001b[0m\u001b[0;34m\u001b[0m\u001b[0m\n",
      "\u001b[0;32m~/anaconda3/envs/openmm/lib/python3.7/site-packages/mdtraj/core/trajectory.py\u001b[0m in \u001b[0;36mload\u001b[0;34m(filename_or_filenames, discard_overlapping_frames, **kwargs)\u001b[0m\n\u001b[1;32m    424\u001b[0m \u001b[0;34m\u001b[0m\u001b[0m\n\u001b[1;32m    425\u001b[0m     \u001b[0;32mif\u001b[0m \u001b[0mloader\u001b[0m\u001b[0;34m.\u001b[0m\u001b[0m__name__\u001b[0m \u001b[0;32mnot\u001b[0m \u001b[0;32min\u001b[0m \u001b[0;34m[\u001b[0m\u001b[0;34m'load_dtr'\u001b[0m\u001b[0;34m]\u001b[0m\u001b[0;34m:\u001b[0m\u001b[0;34m\u001b[0m\u001b[0;34m\u001b[0m\u001b[0m\n\u001b[0;32m--> 426\u001b[0;31m         \u001b[0m_assert_files_exist\u001b[0m\u001b[0;34m(\u001b[0m\u001b[0mfilename_or_filenames\u001b[0m\u001b[0;34m)\u001b[0m\u001b[0;34m\u001b[0m\u001b[0;34m\u001b[0m\u001b[0m\n\u001b[0m\u001b[1;32m    427\u001b[0m     \u001b[0;32melse\u001b[0m\u001b[0;34m:\u001b[0m\u001b[0;34m\u001b[0m\u001b[0;34m\u001b[0m\u001b[0m\n\u001b[1;32m    428\u001b[0m         \u001b[0m_assert_files_or_dirs_exist\u001b[0m\u001b[0;34m(\u001b[0m\u001b[0mfilename_or_filenames\u001b[0m\u001b[0;34m)\u001b[0m\u001b[0;34m\u001b[0m\u001b[0;34m\u001b[0m\u001b[0m\n",
      "\u001b[0;32m~/anaconda3/envs/openmm/lib/python3.7/site-packages/mdtraj/core/trajectory.py\u001b[0m in \u001b[0;36m_assert_files_exist\u001b[0;34m(filenames)\u001b[0m\n\u001b[1;32m     97\u001b[0m     \u001b[0;32mfor\u001b[0m \u001b[0mfn\u001b[0m \u001b[0;32min\u001b[0m \u001b[0mfilenames\u001b[0m\u001b[0;34m:\u001b[0m\u001b[0;34m\u001b[0m\u001b[0;34m\u001b[0m\u001b[0m\n\u001b[1;32m     98\u001b[0m         \u001b[0;32mif\u001b[0m \u001b[0;32mnot\u001b[0m \u001b[0;34m(\u001b[0m\u001b[0mos\u001b[0m\u001b[0;34m.\u001b[0m\u001b[0mpath\u001b[0m\u001b[0;34m.\u001b[0m\u001b[0mexists\u001b[0m\u001b[0;34m(\u001b[0m\u001b[0mfn\u001b[0m\u001b[0;34m)\u001b[0m \u001b[0;32mand\u001b[0m \u001b[0mos\u001b[0m\u001b[0;34m.\u001b[0m\u001b[0mpath\u001b[0m\u001b[0;34m.\u001b[0m\u001b[0misfile\u001b[0m\u001b[0;34m(\u001b[0m\u001b[0mfn\u001b[0m\u001b[0;34m)\u001b[0m\u001b[0;34m)\u001b[0m\u001b[0;34m:\u001b[0m\u001b[0;34m\u001b[0m\u001b[0;34m\u001b[0m\u001b[0m\n\u001b[0;32m---> 99\u001b[0;31m             \u001b[0;32mraise\u001b[0m \u001b[0mIOError\u001b[0m\u001b[0;34m(\u001b[0m\u001b[0;34m'No such file: %s'\u001b[0m \u001b[0;34m%\u001b[0m \u001b[0mfn\u001b[0m\u001b[0;34m)\u001b[0m\u001b[0;34m\u001b[0m\u001b[0;34m\u001b[0m\u001b[0m\n\u001b[0m\u001b[1;32m    100\u001b[0m \u001b[0;34m\u001b[0m\u001b[0m\n\u001b[1;32m    101\u001b[0m \u001b[0;34m\u001b[0m\u001b[0m\n",
      "\u001b[0;31mOSError\u001b[0m: No such file: /tmp/tmptbgg2ui9/tmpw4r720gn.pdb"
     ]
    }
   ],
   "source": [
    "# Create water box with openmoltools\n",
    "\n",
    "#possibly polymer_filename etc should be reinitialized\n",
    "\n",
    "polymer_smiles = Molecule.from_file(f\"{polymer_filename}.sdf\").to_smiles() #easier as oechem object\n",
    "water_smiles = 'O'\n",
    "\n",
    "pdb_filenames = [f\"{polymer_filename}.pdb\" , \"water.pdb\"]\n",
    "\n",
    "#TODO Determine dynamically the number of solvent molecules needed (min/max) (see above)\n",
    "n_molecules = [1,1000]\n",
    "\n",
    "if OpenEyeToolkitWrapper.is_available():\n",
    "    box_size = packmol.approximate_volume_by_density([polymer_smiles,water_smiles],n_molecules)\n",
    "else:\n",
    "    box_size = 40.0\n",
    "    \n",
    "# create box with corresponding md_traj trajectory and topology\n",
    "md_traj_trajectory = packmol.pack_box(pdb_filenames,n_molecules,box_size=box_size)\n",
    "print(md_traj_trajectory.topology)\n",
    "md_traj_trajectory.save_pdb(f'{polymer_filename}_N{n_molecules[1]}_openmoltools.pdb')"
   ]
  },
  {
   "cell_type": "markdown",
   "metadata": {},
   "source": [
    "#### Solvationtoolkit (openEye)"
   ]
  },
  {
   "cell_type": "code",
   "execution_count": null,
   "metadata": {},
   "outputs": [],
   "source": [
    "# Create water box with Solvationtoolkit  (OEChem)\n",
    "#TODO Test\n",
    "\n",
    "\n",
    "from solvationtoolkit.solvated_mixtures import *\n",
    "\n",
    "polymer_molecule = Molecule.from_file(f\"{polymer_filename}.sdf\")\n",
    "mixture = MixtureSystem()\n",
    "\n",
    "#TODO generate method to determine number of water molecules\n",
    "\n",
    "mixture.addComponent(label='pethox',smiles=polymer_molecule.to_smiles(), number=1)\n",
    "mixture.addComponent('water',number=10000)  #this is tip3p format (similar to tip3pfb???)\n",
    "mixture.build()\n",
    "\n"
   ]
  },
  {
   "cell_type": "markdown",
   "metadata": {},
   "source": [
    "#### Using the modeller from in OpenMM\n",
    "\n",
    "At the moment this feature in not usable ... yet"
   ]
  },
  {
   "cell_type": "code",
   "execution_count": null,
   "metadata": {},
   "outputs": [],
   "source": [
    "# Create water box in OpenMM by constructing a modeller object starting from the pdb file. \n",
    "'https://github.com/openmm/openmmforcefields/blob/master/openmmforcefields/generators/system_generators.py'\n",
    "#polymer = PDBFile(f\"{polymer_filename}.pdb\")\n",
    "'''polymer_structure = pmd.openmm.load_topology(polymer.topology,off_polymer_system,xyz=polymer.positions)\n",
    "polymer_structure.write_pdb(f\"{polymer_filename}_converted.pdb\")\n",
    "polymer_converted = PDBFile(f\"{polymer_filename}_converted.pdb\")\n",
    "#alternatively gaff forcefields can be used.\n",
    "obConversion.SetInAndOutFormats(\"pdb\", \"sdf\")\n",
    "obConversion.ReadFile(mol, f\"{polymer_filename}_converted.pdb\")\n",
    "obConversion.WriteFile(mol, f\"{polymer_filename}_converted.sdf\")\n",
    "not needed \n",
    "'''\n",
    "polymer_molecule = Molecule.from_file(f\"{polymer_filename}.sdf\") #_converted.sdf\")\n",
    "from openmmforcefields.generators import SMIRNOFFTemplateGenerator\n",
    "smirnoff = SMIRNOFFTemplateGenerator(molecules=[polymer_molecule])\n",
    "#smirnoff.add_molecules(polymer_molecule)\n",
    "omm_forcefield = app.ForceField('tip3p.xml')\n",
    "#add forcefield file for the polymer constructed with openff using openmmforcefields.generators\n",
    "omm_forcefield.registerTemplateGenerator(smirnoff.generator)\n",
    "\n",
    "polymer_modeller = Modeller(#(polymer_converted.topology, polymer_converted.positions)\n",
    "#polymer_modeller.addSolvent(forcefield, model='tip3pfb',NumAdded=5000) \n",
    "polymer_modeller.addSolvent(omm_forcefield, model='tip3p', padding=0.5*nanometers) \n",
    "#This determines the largest size of the solute along any axis (x, y, or z). It then creates a cubic box of width (solute size)+2*(padding). The above line guarantees that no part of the solute comes closer than 1 nm to any edge of the box."
   ]
  },
  {
   "cell_type": "markdown",
   "metadata": {},
   "source": [
    "#### Conversion to amber forcefield"
   ]
  },
  {
   "cell_type": "code",
   "execution_count": null,
   "metadata": {},
   "outputs": [],
   "source": [
    "''' Conversion to Amber file format\n",
    "import parmed as pmd\n",
    "#I believe this is accompagnied with a loss of information?\n",
    "polymer_structure = pmd.openmm.load_topology(polymer.topology,off_polymer_system,xyz=polymer.positions)\n",
    "print(polymer_structure)\n",
    "\n",
    "# Export AMBER files.\n",
    "polymer_structure.save('system.inpcrd', overwrite=True)\n",
    "\n",
    "#This is a work-around around a certain problem within parmed... This issue was reported before see:\n",
    "#'https://github.com/slochower/smirnoff-host-guest/blob/3a319972d5b6fded1784eaad75d6bf5e754343a3/mol2-to-prmtop.ipynb'\n",
    "bond_type = pmd.BondType(1.0, 1.0, list=polymer_structure.bond_types)\n",
    "polymer_structure.bond_types.append(bond_type)\n",
    "for bond in polymer_structure.bonds:\n",
    "    if bond.type is None:\n",
    "        bond.type = bond_type\n",
    "polymer_structure.save('system.prmtop', overwrite=True)\n",
    "'''"
   ]
  },
  {
   "cell_type": "markdown",
   "metadata": {},
   "source": [
    "##### Visualize the molecule"
   ]
  },
  {
   "cell_type": "code",
   "execution_count": null,
   "metadata": {},
   "outputs": [],
   "source": [
    "\n",
    "t = md.load(f'{polymer_filename}_N{n_molecules[1]}_openmoltools.pdb')\n",
    "print(t)\n",
    "w = nglview.show_mdtraj(t)\n",
    "#nglview.show_file(f'{polymer_filename}_N{n_molecules[1]}_openmoltools.pdb')\n",
    "w.add_representation('ball+stick',selection='water')\n",
    "w\n"
   ]
  },
  {
   "cell_type": "markdown",
   "metadata": {},
   "source": [
    "### Parameterize solvent box"
   ]
  },
  {
   "cell_type": "markdown",
   "metadata": {},
   "source": [
    "To use a barostat, you need to define a barostat whose parameters will be copied into each system (with a different random number seed):\n",
    "\n",
    "```python\n",
    "pressure = 1.0 * unit.atmospheres\n",
    "temperature = 298.0 * unit.kelvin\n",
    "frequency = 25 # steps\n",
    "system_generator.barostat = openmm.MonteCarloBarostat(pressure, temperature, frequency)\n",
    "```\n",
    "\n",
    "Remark that at the moment (OpenMM 7.4.1) does not yet support the features used below. Update the simtk/app/forcefield.py to the file shown on their github page. (copy-paste suffices)"
   ]
  },
  {
   "cell_type": "code",
   "execution_count": null,
   "metadata": {},
   "outputs": [],
   "source": [
    "# MD Setting \n",
    "\n",
    "timestep = 2*femtoseconds #in femtoseconds\n",
    "total_simulation_steps = 100000\n",
    "temperature = 298*kelvin #in K \n",
    "pressure = 1*bar #in bar, for an isobaric simulation\n",
    "frequency = 25 # steps"
   ]
  },
  {
   "cell_type": "code",
   "execution_count": null,
   "metadata": {},
   "outputs": [],
   "source": [
    "#The forcefield used for the small molecules\n",
    "\n",
    "ff_small_molecule = 'openff-1.0.0'\n",
    "ff_water = 'tip3pfb.xml'\n",
    "off_forcefield = ForceField(f'{ff_small_molecule}.offxml')\n",
    "\n",
    "#Define all monomers (sdf,smiles or mol format) used in the solvent box, \n",
    "#(if a licence for openEye is obtained this can also be other formats are applicable)\n",
    "\n",
    "monomer_names = [polymer_smiles,water_smiles]\n",
    "pdb_box = PDBFile(f'{polymer_filename}_N{n_molecules[1]}_openmoltools.pdb')\n",
    "unique_molecules = [Molecule.from_smiles(name) for name in monomer_names] #with openeye different formats can be used\n",
    "\n",
    "smirnoff = SMIRNOFFTemplateGenerator(molecules=[unique_molecules[0]])\n",
    "omm_forcefield = app.ForceField(f\"{ff_water}\")\n",
    "#add forcefield file for the polymer constructed with openff using openmmforcefields.generators\n",
    "omm_forcefield.registerTemplateGenerator(smirnoff.generator)\n",
    "#forcefield_kwargs = { 'constraints' : app.HBonds, 'rigidWater' : True, 'removeCMMotion' : False, 'hydrogenMass' : 4*amu }\n",
    "system_generator = SystemGenerator(forcefields=[f\"{ff_water}\"], small_molecule_forcefield=f'{ff_small_molecule}')#,forcefield_kwargs=forcefield_kwargs)#, cache='db.json')\n",
    "\n",
    "#BAROSTAT should be added to each component seperately if different forcefields are used\n",
    "system_generator.barostat = MonteCarloBarostat(pressure, temperature,frequency)\n",
    "omm_box_system = system_generator.create_system(pdb_box.topology, molecules=unique_molecules)\n",
    "\n",
    "\n",
    "#omm_topology = pdb_box.getTopology()\n",
    "box_positions = pdb_box.getPositions()\n",
    "#off_box_topology = Topology.from_openmm(pdb_box.topology, unique_molecules=unique_molecules)\n",
    "#off_box_system = off_forcefield.create_openmm_system(off_box_topology)\n",
    "#off_box_system = system_generator.create_system(off_box_topology) # not yet implemented into openforcefieldtools, this is on their todolost though\n",
    "\n"
   ]
  },
  {
   "cell_type": "markdown",
   "metadata": {},
   "source": [
    "#### Energy "
   ]
  },
  {
   "cell_type": "code",
   "execution_count": null,
   "metadata": {
    "scrolled": true
   },
   "outputs": [],
   "source": [
    "\n",
    "integrator = VerletIntegrator(1.0 * femtoseconds)\n",
    "context = Context(omm_box_system, integrator)\n",
    "context.setPositions(box_positions)\n",
    "state = context.getState(getEnergy=True)\n",
    "energy = state.getPotentialEnergy().in_units_of(kilojoules_per_mole)\n",
    "\n",
    "print(f\"Original energy: {energy}\")"
   ]
  },
  {
   "cell_type": "markdown",
   "metadata": {},
   "source": [
    "### Molecular dynamics simulations"
   ]
  },
  {
   "cell_type": "code",
   "execution_count": null,
   "metadata": {},
   "outputs": [],
   "source": [
    "\n",
    "#Thermostat\n",
    "integrator = LangevinIntegrator(temperature, 1/picosecond, timestep)\n",
    "#for isobaric simulation; I believe this is no longer needed, as it is already included in the omm_box_system.\n",
    "#off_box_system.addForce(MonteCarloBarostat(pressure*bar, temperature*kelvin))  \n",
    "\n",
    "#setting up the simulation\n",
    "simulation = Simulation(pdb_box.topology, omm_box_system, integrator)\n",
    "simulation.context.setPositions(box_positions)\n",
    "simulation.minimizeEnergy()\n",
    "\n",
    "\n",
    "with open(\"initial_box.pdb\", \"w\") as f:\n",
    "    PDBFile.writeFile(simulation.topology, pdb_box.positions, f)\n",
    "    \n",
    "simulation.reporters = []\n",
    "simulation.reporters.append(DCDReporter('traj.dcd', 100))\n",
    "simulation.reporters.append(StateDataReporter(stdout, 10000, step=True,\n",
    "                                              temperature=True, elapsedTime=True))\n",
    "simulation.reporters.append(StateDataReporter(\"scalars.csv\", 1000, time=True,\n",
    "                                              potentialEnergy=True, totalEnergy=True, temperature=True,volume=True,density=True))\n",
    "\n",
    "print(\"Starting simulation\")\n",
    "start = time.process_time()\n",
    "\n",
    "simulation.step(total_simulation_steps)\n",
    "\n",
    "end = time.process_time()\n",
    "print(\"Elapsed time %.2f seconds\" % (end-start))\n",
    "print(\"Done!\")"
   ]
  },
  {
   "cell_type": "markdown",
   "metadata": {},
   "source": [
    "#### Visualize the trajectory"
   ]
  },
  {
   "cell_type": "code",
   "execution_count": null,
   "metadata": {},
   "outputs": [],
   "source": [
    "import nglview\n",
    "import ipywidgets\n",
    "\n",
    "#water is not shown\n",
    "traj = md.load('traj.dcd', top='initial_box.pdb')\n",
    "traj.superpose(traj, 0)\n",
    "w = nglview.show_mdtraj(traj)\n",
    "w.add_representation('ball+stick',selection='water')\n",
    "w\n"
   ]
  },
  {
   "cell_type": "markdown",
   "metadata": {},
   "source": [
    "## Polymer-water-api box\n"
   ]
  },
  {
   "cell_type": "code",
   "execution_count": 18,
   "metadata": {},
   "outputs": [],
   "source": [
    "# Components\n",
    "api_cid = ['35802']\n",
    "number_of_units = 10\n",
    "polymer_filename= f'polymer_{number_of_units}units'\n",
    "polymer_smiles = Molecule.from_file(f\"{polymer_filename}.sdf\").to_smiles() #easier as oechem object\n",
    "water_smiles = 'O'\n",
    "api_smiles = Molecule.from_file(f\"API_{api_cid[0]}.sdf\").to_smiles()"
   ]
  },
  {
   "cell_type": "markdown",
   "metadata": {},
   "source": [
    "### Construct API-Polymer-water box"
   ]
  },
  {
   "cell_type": "code",
   "execution_count": 29,
   "metadata": {},
   "outputs": [
    {
     "name": "stdout",
     "output_type": "stream",
     "text": [
      "40.01251762248884\n",
      "['polymer_10units.pdb', 'API_35802.pdb', 'water.pdb']\n",
      "\n",
      "# Mixture \n",
      "\n",
      "tolerance 2.000000\n",
      "filetype pdb\n",
      "output /tmp/tmp7a37yz9w/tmp5kc3l6m7.pdb\n",
      "add_amber_ter\n",
      "\n",
      "\n",
      "structure polymer_10units.pdb\n",
      "  number 1 \n",
      "  inside box 0. 0. 0. 38.012518 38.012518 38.012518\n",
      "end structure\n",
      "\n",
      "structure API_35802.pdb\n",
      "  number 3 \n",
      "  inside box 0. 0. 0. 38.012518 38.012518 38.012518\n",
      "end structure\n",
      "\n",
      "structure water.pdb\n",
      "  number 1500 \n",
      "  inside box 0. 0. 0. 38.012518 38.012518 38.012518\n",
      "end structure\n",
      "\n",
      "<mdtraj.Topology with 1504 chains, 1504 residues, 4773 atoms, 3278 bonds>\n"
     ]
    }
   ],
   "source": [
    "# Create water box with openmoltools\n",
    "\n",
    "pdb_filenames = [f\"{polymer_filename}.pdb\",f\"API_{api_cid[0]}.pdb\", \"water.pdb\"]\n",
    "\n",
    "#TODO Determine dynamically the number of solvent molecules needed (min/max) use Function defined above\n",
    "n_molecules = [1,3,1500] \n",
    "\n",
    "if OpenEyeToolkitWrapper.is_available():\n",
    "    box_size = packmol.approximate_volume_by_density([polymer_smiles,api_smiles,water_smiles],n_molecules)\n",
    "else:\n",
    "    box_size = 40.0\n",
    "#box_size = 40.0\n",
    "print(box_size)\n",
    "print(pdb_filenames)\n",
    "\n",
    "md_traj_trajectory = packmol.pack_box(pdb_filenames,n_molecules,box_size=box_size)\n",
    "print(md_traj_trajectory.topology)\n",
    "md_traj_trajectory.save_pdb(f'{polymer_filename}_{n_molecules[1]}API_{api_cid[0]}_{n_molecules[2]}water_openmoltools.pdb')"
   ]
  },
  {
   "cell_type": "markdown",
   "metadata": {},
   "source": [
    "#### Visualize the molecule"
   ]
  },
  {
   "cell_type": "code",
   "execution_count": 30,
   "metadata": {},
   "outputs": [
    {
     "name": "stdout",
     "output_type": "stream",
     "text": [
      "<mdtraj.Trajectory with 1 frames, 4773 atoms, 1504 residues, and unitcells>\n"
     ]
    },
    {
     "data": {
      "application/vnd.jupyter.widget-view+json": {
       "model_id": "540dc3ce35e2436e88b07c59061faf0f",
       "version_major": 2,
       "version_minor": 0
      },
      "text/plain": [
       "NGLWidget()"
      ]
     },
     "metadata": {},
     "output_type": "display_data"
    }
   ],
   "source": [
    "\n",
    "t2 = md.load(f'{polymer_filename}_{n_molecules[1]}API_{api_cid[0]}_{n_molecules[2]}water_openmoltools.pdb')\n",
    "print(t2)\n",
    "w = nglview.show_mdtraj(t2)\n",
    "#nglview.show_file(f'{polymer_filename}_N{n_molecules[1]}_openmoltools.pdb')\n",
    "w.add_representation('ball+stick',selection='water')\n",
    "w\n"
   ]
  },
  {
   "cell_type": "markdown",
   "metadata": {},
   "source": [
    "#### Parameterize the Amorphous solid dispersion (ASD)"
   ]
  },
  {
   "cell_type": "code",
   "execution_count": 36,
   "metadata": {},
   "outputs": [],
   "source": [
    "# MD Setting \n",
    "\n",
    "timestep = 2*femtoseconds #in femtoseconds\n",
    "total_simulation_steps = 500000\n",
    "temperature = 298*kelvin #in K \n",
    "pressure = 1*bar #in bar, for an isobaric simulation\n",
    "frequency = 25 # steps"
   ]
  },
  {
   "cell_type": "code",
   "execution_count": 34,
   "metadata": {},
   "outputs": [],
   "source": [
    "#The forcefield used for the small molecules\n",
    "\n",
    "ff_small_molecule = 'openff-1.0.0'\n",
    "ff_water = 'tip3pfb.xml'\n",
    "off_forcefield = ForceField(f'{ff_small_molecule}.offxml')#,'tip3p.offxml') #at the moment tip3pfb is not available... work around via systemgenerator?\n",
    "\n",
    "#Define all monomers (sdf,smiles or mol format) used in the solvent box, \n",
    "#(if a licence for openEye is obtained this can also be other formats are applicable)\n",
    "monomer_names = [polymer_smiles,api_smiles,water_smiles]\n",
    "pdb_box = app.PDBFile(f'{polymer_filename}_{n_molecules[1]}API_{api_cid[0]}_{n_molecules[2]}water_openmoltools.pdb')\n",
    "unique_molecules = [Molecule.from_smiles(name) for name in monomer_names] #with openeye different formats can be used\n",
    "\n",
    "#In the case we want to specify the water model by ourselves (https://github.com/openmm/openmmforcefields): \n",
    "smirnoff = SMIRNOFFTemplateGenerator(molecules=unique_molecules[0:1])\n",
    "#smirnoff.add_molecules(polymer_molecule)\n",
    "omm_forcefield = app.ForceField(f\"{ff_water}\")\n",
    "#add forcefield file for the polymer constructed with openff using openmmforcefields.generators\n",
    "omm_forcefield.registerTemplateGenerator(smirnoff.generator)\n",
    "#forcefield_kwargs = { 'constraints' : app.HBonds, 'rigidWater' : True, 'removeCMMotion' : False, 'hydrogenMass' : 4*amu }\n",
    "system_generator = SystemGenerator(forcefields=[f\"{ff_water}\"], small_molecule_forcefield=f'{ff_small_molecule}')#,forcefield_kwargs=forcefield_kwargs)#, cache='db.json')\n",
    "\n",
    "#BAROSTAT should be added to each component seperately if different forcefields are used\n",
    "system_generator.barostat = MonteCarloBarostat(pressure, temperature,frequency)\n",
    "omm_box_system = system_generator.create_system(pdb_box.topology, molecules=unique_molecules)\n",
    "\n",
    "box_positions = pdb_box.getPositions()\n",
    "#off_box_topology = Topology.from_openmm(pdb_box.topology, unique_molecules=unique_molecules)\n",
    "#off_box_system = off_forcefield.create_openmm_system(off_box_topology)\n",
    "#off_box_system = system_generator.create_system(off_box_topology) # not yet implemented into openforcefieldtools, this is on their todolost though\n",
    "\n"
   ]
  },
  {
   "cell_type": "markdown",
   "metadata": {},
   "source": [
    "### Molecular dynamics simulations"
   ]
  },
  {
   "cell_type": "code",
   "execution_count": null,
   "metadata": {},
   "outputs": [],
   "source": [
    "\n",
    "#Thermostat\n",
    "integrator = LangevinIntegrator(temperature, 1/picosecond, timestep)\n",
    "#for isobaric simulation; I believe this is no longer needed, as it is already included in the omm_box_system.\n",
    "#off_box_system.addForce(MonteCarloBarostat(pressure*bar, temperature*kelvin))  \n",
    "\n",
    "#setting up the simulation\n",
    "simulation = app.Simulation(pdb_box.topology, omm_box_system, integrator)\n",
    "simulation.context.setPositions(box_positions)\n",
    "simulation.minimizeEnergy()\n",
    "\n",
    "\n",
    "with open(f\"initial_box_{n_molecules[1]}API_{api_cid[0]}_{n_molecules[2]}water_polymer.pdb\", \"w\") as f:\n",
    "    app.PDBFile.writeFile(simulation.topology, pdb_box.positions, f)\n",
    "    \n",
    "simulation.reporters = []\n",
    "simulation.reporters.append(app.DCDReporter(f'traj_{n_molecules[1]}API_{api_cid[0]}_{n_molecules[2]}water_NPT.dcd', 100))\n",
    "simulation.reporters.append(app.StateDataReporter(stdout, 10000, step=True,\n",
    "                                              temperature=True, elapsedTime=True))\n",
    "simulation.reporters.append(app.StateDataReporter(f\"scalars_{n_molecules[1]}API_{api_cid[0]}_{n_molecules[2]}water_NPT.csv\", 1000, time=True,\n",
    "                                              potentialEnergy=True, totalEnergy=True, temperature=True,volume=True,density=True))\n",
    "\n",
    "print(\"Starting simulation\")\n",
    "start = time.process_time()\n",
    "\n",
    "simulation.step(total_simulation_steps)\n",
    "\n",
    "end = time.process_time()\n",
    "print(\"Elapsed time %.2f seconds\" % (end-start))\n",
    "print(\"Done!\")"
   ]
  },
  {
   "cell_type": "code",
   "execution_count": 42,
   "metadata": {},
   "outputs": [
    {
     "data": {
      "application/vnd.jupyter.widget-view+json": {
       "model_id": "026552652e884f7d82f8af02523a32df",
       "version_major": 2,
       "version_minor": 0
      },
      "text/plain": [
       "NGLWidget(count=3097)"
      ]
     },
     "metadata": {},
     "output_type": "display_data"
    }
   ],
   "source": [
    "import nglview\n",
    "import ipywidgets\n",
    "\n",
    "#water is not shown\n",
    "traj = md.load(f'traj_{n_molecules[1]}API_{api_cid[0]}_{n_molecules[2]}water_NPT.dcd', top=f\"initial_box_{n_molecules[1]}API_{api_cid[0]}_{n_molecules[2]}water_polymer.pdb\")\n",
    "traj.superpose(traj, 0)\n",
    "w = nglview.show_mdtraj(traj)\n",
    "w.add_representation('ball+stick',selection='water')\n",
    "w\n"
   ]
  },
  {
   "cell_type": "markdown",
   "metadata": {},
   "source": [
    "### Post Processing\n",
    "\n",
    "This can be extended "
   ]
  },
  {
   "cell_type": "code",
   "execution_count": 44,
   "metadata": {},
   "outputs": [
    {
     "name": "stdout",
     "output_type": "stream",
     "text": [
      "The average density at convergion is: 1.0077335689512046\n"
     ]
    },
    {
     "data": {
      "image/png": "[encoded data removed]",
      "text/plain": [
       "<Figure size 432x288 with 1 Axes>"
      ]
     },
     "metadata": {
      "needs_background": "light"
     },
     "output_type": "display_data"
    }
   ],
   "source": [
    "\n",
    "data = pd.read_csv(f\"scalars_{n_molecules[1]}API_{api_cid[0]}_{n_molecules[2]}water_NPT.csv\")\n",
    "#print(data.head())\n",
    "time = data['#\"Time (ps)\"']\n",
    "V = data[\"Box Volume (nm^3)\"]\n",
    "rho = data[\"Density (g/mL)\"]\n",
    "plt.plot(time,rho)\n",
    "plt.xlabel('Time (ps)')\n",
    "plt.ylabel('Density (g/mL)')\n",
    "\n",
    "total_value = 0\n",
    "ma_data=[]\n",
    "for idx,value in enumerate(rho):\n",
    "    total_value += value\n",
    "    ma_data.append(total_value/(idx+1))\n",
    "\n",
    "ma_data = np.array(ma_data)\n",
    "plt.plot(time,ma_data,'black')\n",
    "\n",
    "#http://ddbonline.ddbst.de/DIPPR105DensityCalculation/DIPPR105CalculationCGI.exe?component=Acetonitrile\n",
    "print(f\"The average density at convergion is: {ma_data[-1]}\")\n",
    "\n",
    "plt.show()"
   ]
  },
  {
   "cell_type": "code",
   "execution_count": null,
   "metadata": {},
   "outputs": [],
   "source": [
    "plt.plot(time,V)\n",
    "plt.xlabel('Time (ps)')\n",
    "plt.ylabel('Box Volume ($nm^3$)')\n",
    "total_value = 0\n",
    "ma_data=[]\n",
    "for idx,value in enumerate(V):\n",
    "    total_value += value\n",
    "    ma_data.append(total_value/(idx+1))\n",
    "\n",
    "ma_data = np.array(ma_data)\n",
    "plt.plot(time,ma_data,'black')\n",
    "print(f\"The average volume at convergion is: {ma_data[-1]}\")\n",
    "#cube dimension in Angstrom\n",
    "cube_dim = ((ma_data[-1]**(1/3))*nanometer/angstrom)\n",
    "print(f\"The box dimensions for a NVT simulation should hence be: {cube_dim}\")\n",
    "plt.show()"
   ]
  }
 ],
 "metadata": {
  "kernelspec": {
   "display_name": "Python 3",
   "language": "python",
   "name": "python3"
  },
  "language_info": {
   "codemirror_mode": {
    "name": "ipython",
    "version": 3
   },
   "file_extension": ".py",
   "mimetype": "text/x-python",
   "name": "python",
   "nbconvert_exporter": "python",
   "pygments_lexer": "ipython3",
   "version": "3.7.6"
  }
 },
 "nbformat": 4,
 "nbformat_minor": 4
}
