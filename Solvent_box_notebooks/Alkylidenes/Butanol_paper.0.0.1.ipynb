{
 "cells": [
  {
   "cell_type": "markdown",
   "metadata": {},
   "source": [
    "# Solvent Box generation of non-standard solvent and non-standard solutes by means of OpenForceField "
   ]
  },
  {
   "cell_type": "markdown",
   "metadata": {},
   "source": [
    "Dependencies:\n",
    "- openbabel \n",
    "- openmoltools (a.t.m. packmol.py should be adjusted)\n",
    "- openforcefield\n",
    "- mdtraj\n",
    "- nglview"
   ]
  },
  {
   "cell_type": "code",
   "execution_count": 11,
   "metadata": {},
   "outputs": [],
   "source": [
    "#Modules to import\n",
    "\n",
    "from sys import stdout\n",
    "import time\n",
    "import requests\n",
    "from openbabel import openbabel,pybel\n",
    "from simtk.openmm import app\n",
    "from simtk.openmm.app import *\n",
    "from simtk.openmm import *\n",
    "from simtk.unit import *\n",
    "from openforcefield.topology import Molecule, Topology\n",
    "from openforcefield.utils.toolkits import OpenEyeToolkitWrapper\n",
    "from openforcefield.typing.engines.smirnoff import ForceField\n",
    "from openmmforcefields.generators import SystemGenerator\n",
    "from openmmforcefields.generators import SMIRNOFFTemplateGenerator\n",
    "from openmoltools import packmol\n",
    "import numpy as np\n",
    "import nglview\n",
    "import ipywidgets\n",
    "import mdtraj as md\n",
    "import parmed as pmd\n",
    "import matplotlib.pyplot as plt\n",
    "import pandas as pd"
   ]
  },
  {
   "cell_type": "markdown",
   "metadata": {},
   "source": [
    "## Parameterizing all compounds with the openFF forcefield"
   ]
  },
  {
   "cell_type": "markdown",
   "metadata": {},
   "source": [
    "### Create input files"
   ]
  },
  {
   "cell_type": "code",
   "execution_count": 2,
   "metadata": {},
   "outputs": [],
   "source": [
    "#Create force field parameter files for small molecule\n",
    "#Pubchem id for DBU is 81184, alphaCC1 78175, DMSO 679 (dimethylsulfoxide),DMF 6228, benzylalcohol 244 (benzylthiol 7509), butanol 263\n",
    "#Provide all Pubchem cids for the compounds which should be added\n",
    "solutes = [\"81184\",\"78175\",\"263\"]\n",
    "solvents = [\"679\"]\n",
    "\n",
    "#generate sdf files and transform them to pdb using openbabel\n",
    "obConversion = openbabel.OBConversion()\n",
    "obConversion.SetInAndOutFormats(\"sdf\", \"pdb\")\n",
    "mol = openbabel.OBMol()\n",
    "# TODO: Can we add residue names, instead of a cumbursome conversion process in which residue names are added\n",
    "\n",
    "for cid in solutes+solvents:\n",
    "    url = f\"https://pubchem.ncbi.nlm.nih.gov/rest/pug/compound/CID/{cid}/record/SDF/?record_type=3d&response_type=save\"\n",
    "    with open(f\"CID_{cid}.sdf\", \"w\") as f:\n",
    "        f.write(requests.get(url).text)\n",
    "    obConversion.ReadFile(mol, f\"CID_{cid}.sdf\")\n",
    "    obConversion.WriteFile(mol, f\"CID_{cid}.pdb\")\n",
    "\n"
   ]
  },
  {
   "cell_type": "markdown",
   "metadata": {},
   "source": [
    "### Forcefield and simulation settings"
   ]
  },
  {
   "cell_type": "markdown",
   "metadata": {},
   "source": [
    "Due to conflicting packages (openforcefield Forcefield and OpenMM Forcefield), we already define the forcefield here in the case of the openFF."
   ]
  },
  {
   "cell_type": "code",
   "execution_count": 3,
   "metadata": {},
   "outputs": [],
   "source": [
    "from openforcefield.utils import *\n",
    "from openforcefield.topology import *\n",
    "from openforcefield.utils.toolkits import OpenEyeToolkitWrapper\n",
    "from openforcefield.typing.engines.smirnoff import ForceField\n",
    "\n",
    "#Provide forcefield settings\n",
    "solutes = [\"81184\",\"78175\",\"263\"]\n",
    "solvents = [\"679\"]\n",
    "##Forcefield\n",
    "off_forcefield = ForceField('openff-1.0.0.offxml')\n",
    "#Simulation settings\n",
    "temperature = 298.15 #in K \n",
    "pressure = 1 #in bar, for an isobaric simulation\n",
    "timestep = 2 #in femtoseconds\n",
    "total_simulation_steps = 500000 "
   ]
  },
  {
   "cell_type": "markdown",
   "metadata": {},
   "source": [
    "## Solvent box Setup"
   ]
  },
  {
   "cell_type": "markdown",
   "metadata": {},
   "source": [
    "### Assessment of the Parsley forcefield to describe the organic solvent"
   ]
  },
  {
   "cell_type": "markdown",
   "metadata": {},
   "source": [
    "#### Creating the solvent box"
   ]
  },
  {
   "cell_type": "code",
   "execution_count": 8,
   "metadata": {},
   "outputs": [
    {
     "name": "stdout",
     "output_type": "stream",
     "text": [
      "The resulting starting box size for the system is :25.847666493454238\n",
      "\n",
      "# Mixture \n",
      "\n",
      "tolerance 2.000000\n",
      "filetype pdb\n",
      "output /tmp/tmppso9e6zb/tmpf69u2i0d.pdb\n",
      "add_amber_ter\n",
      "\n",
      "\n",
      "structure CID_679.pdb\n",
      "  number 100 \n",
      "  inside box 0. 0. 0. 23.847666 23.847666 23.847666\n",
      "end structure\n",
      "\n",
      "<mdtraj.Topology with 100 chains, 100 residues, 1000 atoms, 900 bonds>\n"
     ]
    }
   ],
   "source": [
    "from openmoltools import packmol\n",
    "import mdtraj as md\n",
    "import openforcefield as off\n",
    "\n",
    "#settings for solvent box\n",
    "solvent_box_name = 'pure_DMSO_solvent_box'\n",
    "number_of_solvent_molecules = 100\n",
    "solvent_smiles= Molecule.from_file(f\"CID_{solvents[0]}.pdb\").to_smiles()\n",
    "#number of molecules for each solute and solvent species in the order of the solutes and solvents provided before\n",
    "n_molecules = [number_of_solvent_molecules]\n",
    "if len(n_molecules)!= len(solvents): raise ValueError('Ascribe a number of molecules for each species') \n",
    "if OpenEyeToolkitWrapper.is_available():\n",
    "    box_size = packmol.approximate_volume_by_density([solvent_smiles],n_molecules)\n",
    "else:\n",
    "    box_size = 20.0\n",
    "\n",
    "print(f\"The resulting starting box size for the system is :{box_size}\")\n",
    "pdb_filenames = [f\"CID_{cid}.pdb\" for cid in solvents]\n",
    "\n",
    "# create box with corresponding md_traj trajectory and topology\n",
    "md_traj_trajectory = packmol.pack_box(pdb_filenames,n_molecules,box_size=box_size)\n",
    "print(md_traj_trajectory.topology)\n",
    "md_traj_trajectory.save_pdb(f'{solvent_box_name}_N{number_of_solvent_molecules}_openmoltools.pdb')"
   ]
  },
  {
   "cell_type": "markdown",
   "metadata": {},
   "source": [
    "#### Creating the force field for the pure solvent box"
   ]
  },
  {
   "cell_type": "code",
   "execution_count": 9,
   "metadata": {},
   "outputs": [],
   "source": [
    "from simtk.openmm.app import *\n",
    "from simtk.openmm import *\n",
    "from simtk.unit import *\n",
    "\n",
    "\n",
    "#Define all monomers (sdf,smiles or mol format) used in the solvent box, \n",
    "#(if a licence for openEye is obtained this can also be other formats are applicable)\n",
    "monomer_names = [f\"CID_{cid}.sdf\" for cid in solvents]\n",
    "pdb_solvent_box = PDBFile(f'{solvent_box_name}_N{number_of_solvent_molecules}_openmoltools.pdb')\n",
    "unique_molecules = [Molecule.from_file(name) for name in monomer_names]\n",
    "\n",
    "#omm_topology = pdb_box.getTopology()\n",
    "pure_solvent_box_positions = pdb_solvent_box.getPositions()\n",
    "off_solvent_box_topology = off.topology.Topology.from_openmm(pdb_solvent_box.topology, unique_molecules=unique_molecules)\n",
    "off_solvent_box_system = off_forcefield.create_openmm_system(off_solvent_box_topology)"
   ]
  },
  {
   "cell_type": "markdown",
   "metadata": {},
   "source": [
    "#### Equilibrate the solvent box until the volume is converged"
   ]
  },
  {
   "cell_type": "code",
   "execution_count": 11,
   "metadata": {},
   "outputs": [
    {
     "name": "stdout",
     "output_type": "stream",
     "text": [
      "Starting simulation\n",
      "#\"Step\",\"Temperature (K)\",\"Elapsed Time (s)\"\n",
      "10000,304.27087995776185,0.0001010894775390625\n",
      "20000,299.1724362505004,25.451409578323364\n",
      "30000,289.92815988424513,51.237693071365356\n",
      "40000,292.00515828795346,76.81798028945923\n",
      "50000,306.8623433274178,98.52464556694031\n",
      "60000,298.3762483375655,120.76649951934814\n",
      "70000,294.41576960016033,142.6169753074646\n",
      "80000,296.8368577430987,164.25468945503235\n",
      "90000,308.0663353942859,186.77651834487915\n",
      "100000,289.76003990902973,208.96139216423035\n"
     ]
    },
    {
     "ename": "KeyboardInterrupt",
     "evalue": "",
     "output_type": "error",
     "traceback": [
      "\u001b[0;31m---------------------------------------------------------------------------\u001b[0m",
      "\u001b[0;31mKeyboardInterrupt\u001b[0m                         Traceback (most recent call last)",
      "\u001b[0;32m<ipython-input-11-5fdb466f3ca4>\u001b[0m in \u001b[0;36m<module>\u001b[0;34m\u001b[0m\n\u001b[1;32m     26\u001b[0m \u001b[0mstart\u001b[0m \u001b[0;34m=\u001b[0m \u001b[0mtime\u001b[0m\u001b[0;34m.\u001b[0m\u001b[0mprocess_time\u001b[0m\u001b[0;34m(\u001b[0m\u001b[0;34m)\u001b[0m\u001b[0;34m\u001b[0m\u001b[0;34m\u001b[0m\u001b[0m\n\u001b[1;32m     27\u001b[0m \u001b[0;34m\u001b[0m\u001b[0m\n\u001b[0;32m---> 28\u001b[0;31m \u001b[0msimulation\u001b[0m\u001b[0;34m.\u001b[0m\u001b[0mstep\u001b[0m\u001b[0;34m(\u001b[0m\u001b[0mtotal_simulation_steps\u001b[0m\u001b[0;34m)\u001b[0m\u001b[0;34m\u001b[0m\u001b[0;34m\u001b[0m\u001b[0m\n\u001b[0m\u001b[1;32m     29\u001b[0m \u001b[0;34m\u001b[0m\u001b[0m\n\u001b[1;32m     30\u001b[0m \u001b[0mend\u001b[0m \u001b[0;34m=\u001b[0m \u001b[0mtime\u001b[0m\u001b[0;34m.\u001b[0m\u001b[0mprocess_time\u001b[0m\u001b[0;34m(\u001b[0m\u001b[0;34m)\u001b[0m\u001b[0;34m\u001b[0m\u001b[0;34m\u001b[0m\u001b[0m\n",
      "\u001b[0;32m~/anaconda3/envs/openmm/lib/python3.7/site-packages/simtk/openmm/app/simulation.py\u001b[0m in \u001b[0;36mstep\u001b[0;34m(self, steps)\u001b[0m\n\u001b[1;32m    130\u001b[0m     \u001b[0;32mdef\u001b[0m \u001b[0mstep\u001b[0m\u001b[0;34m(\u001b[0m\u001b[0mself\u001b[0m\u001b[0;34m,\u001b[0m \u001b[0msteps\u001b[0m\u001b[0;34m)\u001b[0m\u001b[0;34m:\u001b[0m\u001b[0;34m\u001b[0m\u001b[0;34m\u001b[0m\u001b[0m\n\u001b[1;32m    131\u001b[0m         \u001b[0;34m\"\"\"Advance the simulation by integrating a specified number of time steps.\"\"\"\u001b[0m\u001b[0;34m\u001b[0m\u001b[0;34m\u001b[0m\u001b[0m\n\u001b[0;32m--> 132\u001b[0;31m         \u001b[0mself\u001b[0m\u001b[0;34m.\u001b[0m\u001b[0m_simulate\u001b[0m\u001b[0;34m(\u001b[0m\u001b[0mendStep\u001b[0m\u001b[0;34m=\u001b[0m\u001b[0mself\u001b[0m\u001b[0;34m.\u001b[0m\u001b[0mcurrentStep\u001b[0m\u001b[0;34m+\u001b[0m\u001b[0msteps\u001b[0m\u001b[0;34m)\u001b[0m\u001b[0;34m\u001b[0m\u001b[0;34m\u001b[0m\u001b[0m\n\u001b[0m\u001b[1;32m    133\u001b[0m \u001b[0;34m\u001b[0m\u001b[0m\n\u001b[1;32m    134\u001b[0m     \u001b[0;32mdef\u001b[0m \u001b[0mrunForClockTime\u001b[0m\u001b[0;34m(\u001b[0m\u001b[0mself\u001b[0m\u001b[0;34m,\u001b[0m \u001b[0mtime\u001b[0m\u001b[0;34m,\u001b[0m \u001b[0mcheckpointFile\u001b[0m\u001b[0;34m=\u001b[0m\u001b[0;32mNone\u001b[0m\u001b[0;34m,\u001b[0m \u001b[0mstateFile\u001b[0m\u001b[0;34m=\u001b[0m\u001b[0;32mNone\u001b[0m\u001b[0;34m,\u001b[0m \u001b[0mcheckpointInterval\u001b[0m\u001b[0;34m=\u001b[0m\u001b[0;32mNone\u001b[0m\u001b[0;34m)\u001b[0m\u001b[0;34m:\u001b[0m\u001b[0;34m\u001b[0m\u001b[0;34m\u001b[0m\u001b[0m\n",
      "\u001b[0;32m~/anaconda3/envs/openmm/lib/python3.7/site-packages/simtk/openmm/app/simulation.py\u001b[0m in \u001b[0;36m_simulate\u001b[0;34m(self, endStep, endTime)\u001b[0m\n\u001b[1;32m    195\u001b[0m             \u001b[0mstepsToGo\u001b[0m \u001b[0;34m=\u001b[0m \u001b[0mnextSteps\u001b[0m\u001b[0;34m\u001b[0m\u001b[0;34m\u001b[0m\u001b[0m\n\u001b[1;32m    196\u001b[0m             \u001b[0;32mwhile\u001b[0m \u001b[0mstepsToGo\u001b[0m \u001b[0;34m>\u001b[0m \u001b[0;36m10\u001b[0m\u001b[0;34m:\u001b[0m\u001b[0;34m\u001b[0m\u001b[0;34m\u001b[0m\u001b[0m\n\u001b[0;32m--> 197\u001b[0;31m                 \u001b[0mself\u001b[0m\u001b[0;34m.\u001b[0m\u001b[0mintegrator\u001b[0m\u001b[0;34m.\u001b[0m\u001b[0mstep\u001b[0m\u001b[0;34m(\u001b[0m\u001b[0;36m10\u001b[0m\u001b[0;34m)\u001b[0m \u001b[0;31m# Only take 10 steps at a time, to give Python more chances to respond to a control-c.\u001b[0m\u001b[0;34m\u001b[0m\u001b[0;34m\u001b[0m\u001b[0m\n\u001b[0m\u001b[1;32m    198\u001b[0m                 \u001b[0mstepsToGo\u001b[0m \u001b[0;34m-=\u001b[0m \u001b[0;36m10\u001b[0m\u001b[0;34m\u001b[0m\u001b[0;34m\u001b[0m\u001b[0m\n\u001b[1;32m    199\u001b[0m                 \u001b[0;32mif\u001b[0m \u001b[0mendTime\u001b[0m \u001b[0;32mis\u001b[0m \u001b[0;32mnot\u001b[0m \u001b[0;32mNone\u001b[0m \u001b[0;32mand\u001b[0m \u001b[0mdatetime\u001b[0m\u001b[0;34m.\u001b[0m\u001b[0mnow\u001b[0m\u001b[0;34m(\u001b[0m\u001b[0;34m)\u001b[0m \u001b[0;34m>=\u001b[0m \u001b[0mendTime\u001b[0m\u001b[0;34m:\u001b[0m\u001b[0;34m\u001b[0m\u001b[0;34m\u001b[0m\u001b[0m\n",
      "\u001b[0;32m~/anaconda3/envs/openmm/lib/python3.7/site-packages/simtk/openmm/openmm.py\u001b[0m in \u001b[0;36mstep\u001b[0;34m(self, steps)\u001b[0m\n\u001b[1;32m  19015\u001b[0m             \u001b[0mthe\u001b[0m \u001b[0mnumber\u001b[0m \u001b[0mof\u001b[0m \u001b[0mtime\u001b[0m \u001b[0msteps\u001b[0m \u001b[0mto\u001b[0m \u001b[0mtake\u001b[0m\u001b[0;34m\u001b[0m\u001b[0;34m\u001b[0m\u001b[0m\n\u001b[1;32m  19016\u001b[0m         \"\"\"\n\u001b[0;32m> 19017\u001b[0;31m         \u001b[0;32mreturn\u001b[0m \u001b[0m_openmm\u001b[0m\u001b[0;34m.\u001b[0m\u001b[0mLangevinIntegrator_step\u001b[0m\u001b[0;34m(\u001b[0m\u001b[0mself\u001b[0m\u001b[0;34m,\u001b[0m \u001b[0msteps\u001b[0m\u001b[0;34m)\u001b[0m\u001b[0;34m\u001b[0m\u001b[0;34m\u001b[0m\u001b[0m\n\u001b[0m\u001b[1;32m  19018\u001b[0m \u001b[0;34m\u001b[0m\u001b[0m\n\u001b[1;32m  19019\u001b[0m \u001b[0;34m\u001b[0m\u001b[0m\n",
      "\u001b[0;31mKeyboardInterrupt\u001b[0m: "
     ]
    }
   ],
   "source": [
    "from sys import stdout\n",
    "import time\n",
    "\n",
    "#Thermostat\n",
    "integrator = LangevinIntegrator(temperature*kelvin, 1/picosecond, timestep*femtoseconds)\n",
    "#for isobaric simulation\n",
    "off_solvent_box_system.addForce(MonteCarloBarostat(pressure*bar, temperature*kelvin))  \n",
    "\n",
    "#setting up the simulation\n",
    "simulation = Simulation(pdb_solvent_box.topology, off_solvent_box_system, integrator)\n",
    "simulation.context.setPositions(pure_solvent_box_positions)\n",
    "simulation.minimizeEnergy()\n",
    "\n",
    "\n",
    "with open(f\"initial_{solvent_box_name}_N{number_of_solvent_molecules}.pdb\", \"w\") as f:\n",
    "    PDBFile.writeFile(simulation.topology, pure_solvent_box_positions, f)\n",
    "    \n",
    "simulation.reporters = []\n",
    "simulation.reporters.append(DCDReporter(f'traj_{solvent_box_name}_N{number_of_solvent_molecules}.dcd', 100))\n",
    "simulation.reporters.append(StateDataReporter(stdout, 10000, step=True,\n",
    "                                              temperature=True, elapsedTime=True))\n",
    "simulation.reporters.append(StateDataReporter(f\"scalars_{solvent_box_name}_N{number_of_solvent_molecules}.csv\", 100, time=True,\n",
    "                                              potentialEnergy=True, totalEnergy=True, temperature=True,volume=True,density=True))\n",
    "\n",
    "print(\"Starting simulation\")\n",
    "start = time.process_time()\n",
    "\n",
    "simulation.step(total_simulation_steps)\n",
    "\n",
    "end = time.process_time()\n",
    "print(\"Elapsed time %.2f seconds\" % (end-start))\n",
    "print(\"Done!\")"
   ]
  },
  {
   "cell_type": "markdown",
   "metadata": {},
   "source": [
    "#### Check whether the simulated density matches the calculated one"
   ]
  },
  {
   "cell_type": "markdown",
   "metadata": {},
   "source": [
    "##### Density $\\rho$"
   ]
  },
  {
   "cell_type": "code",
   "execution_count": 16,
   "metadata": {},
   "outputs": [
    {
     "name": "stdout",
     "output_type": "stream",
     "text": [
      "The experimental saturated liquid density of acetonitril at 293.15K: 1.100 g/ml\n",
      "The average density at convergion is: 1.0829331288815984\n",
      "The absolute difference between obtained and experimental density is (remark the T difference):0.01706687111840166\n"
     ]
    },
    {
     "data": {
      "image/png": "[encoded data removed]",
      "text/plain": [
       "<Figure size 432x288 with 1 Axes>"
      ]
     },
     "metadata": {
      "needs_background": "light"
     },
     "output_type": "display_data"
    }
   ],
   "source": [
    "import matplotlib.pyplot as plt\n",
    "import pandas as pd\n",
    "import numpy as np\n",
    "\n",
    "data = pd.read_csv(f'scalars_{solvent_box_name}_N{number_of_solvent_molecules}.csv')\n",
    "time = data['#\"Time (ps)\"']\n",
    "V = data[\"Box Volume (nm^3)\"]\n",
    "rho = data[\"Density (g/mL)\"]\n",
    "plt.plot(time,rho)\n",
    "plt.xlabel('Time (ps)')\n",
    "plt.ylabel('Density (g/mL)')\n",
    "\n",
    "total_value = 0\n",
    "ma_data=[]\n",
    "for idx,value in enumerate(rho):\n",
    "    total_value += value\n",
    "    ma_data.append(total_value/(idx+1))\n",
    "\n",
    "ma_data = np.array(ma_data)\n",
    "plt.plot(time,ma_data,'black')\n",
    "\n",
    "#http://ddbonline.ddbst.de/DIPPR105DensityCalculation/DIPPR105CalculationCGI.exe?component=Acetonitrile\n",
    "#obtain via cid??? search tool?\n",
    "print(\"The experimental saturated liquid density of acetonitril at 293.15K: 1.100 g/ml\")\n",
    "print(f\"The average density at convergion is: {ma_data[-1]}\")\n",
    "print(f\"The absolute difference between obtained and experimental density is (remark the T difference):{abs(ma_data[-1]-1.1)}\")\n",
    "plt.show()\n"
   ]
  },
  {
   "cell_type": "markdown",
   "metadata": {},
   "source": [
    "##### Volume **V**"
   ]
  },
  {
   "cell_type": "code",
   "execution_count": 14,
   "metadata": {},
   "outputs": [
    {
     "name": "stdout",
     "output_type": "stream",
     "text": [
      "The average volume at convergion is: 12.010390359061246\n",
      "The box dimensions for a NVT simulation should hence be: 22.90089071817561\n"
     ]
    },
    {
     "data": {
      "image/png": "[encoded data removed]",
      "text/plain": [
       "<Figure size 432x288 with 1 Axes>"
      ]
     },
     "metadata": {
      "needs_background": "light"
     },
     "output_type": "display_data"
    }
   ],
   "source": [
    "plt.plot(time,V)\n",
    "plt.xlabel('Time (ps)')\n",
    "plt.ylabel('Box Volume ($nm^3$)')\n",
    "total_value = 0\n",
    "ma_data=[]\n",
    "for idx,value in enumerate(V):\n",
    "    total_value += value\n",
    "    ma_data.append(total_value/(idx+1))\n",
    "\n",
    "ma_data = np.array(ma_data)\n",
    "plt.plot(time,ma_data,'black')\n",
    "print(f\"The average volume at convergion is: {ma_data[-1]}\")\n",
    "cube_dim = ((ma_data[-1]**(1/3))*nanometer/angstrom)\n",
    "print(f\"The box dimensions for a NVT simulation should hence be: {cube_dim}\")\n",
    "plt.show()\n",
    "plt.show()"
   ]
  },
  {
   "cell_type": "markdown",
   "metadata": {},
   "source": [
    "### Creating a box with solvated solute(s)"
   ]
  },
  {
   "cell_type": "markdown",
   "metadata": {},
   "source": [
    "####  Determining the number of solvent molecules (upper bound)"
   ]
  },
  {
   "cell_type": "markdown",
   "metadata": {},
   "source": [
    "At the moment this volume is calculated with some manual input extracted a coordinate file manipulated with the program of choice. Ideally, in the future, this is automated. Here the calculated number of molecules is an upper bound as we do not account for the volume of the solutes itselves. This is easily done with Gaussian using the Volume keyword."
   ]
  },
  {
   "cell_type": "code",
   "execution_count": 4,
   "metadata": {},
   "outputs": [
    {
     "name": "stdout",
     "output_type": "stream",
     "text": [
      "The number of solvent molecules is:47\n"
     ]
    }
   ],
   "source": [
    "from molmod.units import *\n",
    "from molmod.constants import *\n",
    "import numpy as np\n",
    "\n",
    "rho_exp = 1.1*gram/(centimeter**3)\n",
    "MM= 78.14*gram #Molecular weight\n",
    "\n",
    "##Determine initial box dimensions\n",
    "#The number of solvent layers, can be determined using rdfs, or just use one in case only short range interactions are important and no proton-hopping mechanisms occur\n",
    "number_of_solvent_layers = 1\n",
    "Length_solutes =[6.3,5.5,5.0]\n",
    "Length_solvent =[5.0]\n",
    "Margin = [2.0] #this could be interesting to allow for through-space interactions occuring with the solvent which prevent close proximities\n",
    "#2 options, on one hand you can allow for all solutes to be able to diffuse away from each other and get surrounded\n",
    "# by a number of solvent layers (option 1); secondly one can make sure the total complex is surrounded with n solvent layers\n",
    "# this latter option (option2) allows one to prevent far diffusion of the solutes and hence model reactivity?\n",
    "\n",
    "option = 2\n",
    "\n",
    "#If the solvent is a mixture one could calculate an alternative length? or take max length ?\n",
    "\n",
    "Max_length = 0\n",
    "\n",
    "if option==1:\n",
    "    for length in Length_solutes:\n",
    "        Max_length += number_of_solvent_layers*2*(Length_solvent[0]+Margin[0]) + length  \n",
    "elif option==2:\n",
    "    Max_length += number_of_solvent_layers*(Length_solvent[0]+Margin[0])*2 + sum(Length_solutes)\n",
    "\n",
    "Total_length = np.sqrt((Max_length**2)/3)\n",
    "\n",
    "Volume = (Total_length*angstrom)**3   #in bohr³\n",
    "#Determine the number of solvent molecules\n",
    "#1L ~= 1dm³ , approx\n",
    "n_solvent_mol = int((rho_exp * Volume / MM) *avogadro)\n",
    "print(f'The number of solvent molecules is:{n_solvent_mol}')\n",
    "\n"
   ]
  },
  {
   "cell_type": "markdown",
   "metadata": {},
   "source": [
    "#### Set box settings"
   ]
  },
  {
   "cell_type": "code",
   "execution_count": 5,
   "metadata": {},
   "outputs": [],
   "source": [
    "#settings for solvent box\n",
    "n_solvent_mol=60\n",
    "sb_name = f'dbu_butanol_aCC_{len(solutes)}solutes_N{n_solvent_mol}solvent_box'\n",
    "\n",
    "\n",
    "#number of molecules for each solute and solvent species in the order of the solutes and solvents provided before\n",
    "n_molecules = [1,1,1,n_solvent_mol]\n",
    "if len(n_molecules)!= len(solutes)+len(solvents): raise ValueError('Ascribe a number of molecules for each species') "
   ]
  },
  {
   "cell_type": "markdown",
   "metadata": {},
   "source": [
    "###  Using openmoltools (https://github.com/choderalab/openmoltools)"
   ]
  },
  {
   "cell_type": "markdown",
   "metadata": {},
   "source": [
    "I have manually adjusted the packmol.py file (in ~/anaconda3/envs/openmm/lib/python3.7/site-packages/openmoltools) as the bonds were defined as an array of 1 x 4 \n",
    "but in this case the bond type and order should be in the 3rd and fourth column, this is however not the case.\n",
    "there for this is put to zero at the end which corresponds to a bond order and type of None, though antechambers\n",
    "will put this correct normally based on the bonds. Alternatively n_atoms is added after each molecule \n",
    "to bonds_i [0] and [1] instead to avoid a potential loss of information.\n",
    "'''\n",
    "    #cast atom type and order to 0\n",
    "    if len(bonds[0])==4:\n",
    "        for idx,frame in enumerate(bonds):\n",
    "               bonds[idx][2] = 0\n",
    "               bonds[idx][3] = 0\n",
    "\n",
    "TODO: Report to openmoltools"
   ]
  },
  {
   "cell_type": "markdown",
   "metadata": {},
   "source": [
    "This is fixed in the new version, so it seems"
   ]
  },
  {
   "cell_type": "code",
   "execution_count": 7,
   "metadata": {
    "scrolled": true
   },
   "outputs": [
    {
     "name": "stdout",
     "output_type": "stream",
     "text": [
      "['CID_81184.pdb', 'CID_78175.pdb', 'CID_263.pdb', 'CID_679.pdb']\n",
      "[1, 1, 1, 60]\n",
      "Succesfuly using OpenEye\n",
      "\n",
      "# Mixture\n",
      "\n",
      "tolerance 2.000000\n",
      "filetype pdb\n",
      "output /tmp/tmpm7l5eqz1/tmpbbu1tvk7.pdb\n",
      "add_amber_ter\n",
      "\n",
      "\n",
      "structure CID_81184.pdb\n",
      "  number 1\n",
      "  inside box 0. 0. 0. 20.336960 20.336960 20.336960\n",
      "end structure\n",
      "\n",
      "structure CID_78175.pdb\n",
      "  number 1\n",
      "  inside box 0. 0. 0. 20.336960 20.336960 20.336960\n",
      "end structure\n",
      "\n",
      "structure CID_263.pdb\n",
      "  number 1\n",
      "  inside box 0. 0. 0. 20.336960 20.336960 20.336960\n",
      "end structure\n",
      "\n",
      "structure CID_679.pdb\n",
      "  number 60\n",
      "  inside box 0. 0. 0. 20.336960 20.336960 20.336960\n",
      "end structure\n",
      "\n",
      "<mdtraj.Topology with 63 chains, 63 residues, 659 atoms, 599 bonds>\n"
     ]
    }
   ],
   "source": [
    "from openmoltools import packmol\n",
    "import mdtraj as md\n",
    "\n",
    "pdb_filenames = [f\"CID_{cid}.pdb\" for cid in solutes+solvents]\n",
    "print(pdb_filenames)\n",
    "print(n_molecules)\n",
    "smiles_codes = [Molecule.from_file(f\"CID_{cid}.sdf\").to_smiles() for cid in solutes+solvents]\n",
    "if OpenEyeToolkitWrapper.is_available():\n",
    "    print('Succesfuly using OpenEye')\n",
    "    box_size = packmol.approximate_volume_by_density(smiles_codes,n_molecules,density=1.0)\n",
    "else:\n",
    "    box_size = Total_length\n",
    "\n",
    "\n",
    "# create box with corresponding md_traj trajectory and topology\n",
    "md_traj_trajectory = packmol.pack_box(pdb_filenames,n_molecules,box_size=box_size)\n",
    "print(md_traj_trajectory.topology)\n",
    "md_traj_trajectory.save_pdb(f'{sb_name}_openmoltools.pdb')\n"
   ]
  },
  {
   "cell_type": "markdown",
   "metadata": {},
   "source": [
    "### Visualize the created solvent box"
   ]
  },
  {
   "cell_type": "code",
   "execution_count": 8,
   "metadata": {},
   "outputs": [
    {
     "data": {
      "application/vnd.jupyter.widget-view+json": {
       "model_id": "ee4e7c7cb2154767bc4e9eb9e00f4574",
       "version_major": 2,
       "version_minor": 0
      },
      "text/plain": [
       "NGLWidget()"
      ]
     },
     "metadata": {},
     "output_type": "display_data"
    }
   ],
   "source": [
    "import nglview\n",
    "import ipywidgets\n",
    "\n",
    "nglview.show_file(f\"{sb_name}_openmoltools.pdb\")"
   ]
  },
  {
   "cell_type": "markdown",
   "metadata": {},
   "source": [
    "##  Generate a forcefield for the solvent box"
   ]
  },
  {
   "cell_type": "code",
   "execution_count": 13,
   "metadata": {
    "scrolled": true
   },
   "outputs": [],
   "source": [
    "#from simtk.openmm.app import *\n",
    "#from simtk.openmm import *\n",
    "#from simtk.unit import *\n",
    "\n",
    "\n",
    "#Define all monomers (sdf,smiles or mol format) used in the solvent box, \n",
    "#(if a licence for openEye is obtained this can also be other formats are applicable)\n",
    "monomer_names = [f\"CID_{cid}.sdf\" for cid in solutes+solvents]\n",
    "pdb_box = PDBFile(f\"{sb_name}_openmoltools.pdb\")\n",
    "unique_molecules = [Molecule.from_file(name) for name in monomer_names]\n",
    "\n",
    "#omm_topology = pdb_box.getTopology()\n",
    "box_positions = pdb_box.getPositions()\n",
    "off_box_topology = Topology.from_openmm(pdb_box.topology, unique_molecules=unique_molecules)\n",
    "#if Total_length/2*angstrom > 1*nanometer:\n",
    "off_box_system = off_forcefield.create_openmm_system(off_box_topology)\n",
    "#off_box_system.setNonbondedMethod(PME)\n",
    "#else:\n",
    "    #off_box_system.setCutoffDistance(Total_length/2*angstrom)\n",
    "    #off_box_system = off_forcefield.create_openmm_system(off_box_topology,nonbondedMethod=PME,nonbondedCutoff=Total_length/2*angstrom)\n",
    "    #off_box_system.setNonbondedMethod(PME)\n",
    "\n"
   ]
  },
  {
   "cell_type": "markdown",
   "metadata": {},
   "source": [
    "## Performing an energy calculations"
   ]
  },
  {
   "cell_type": "code",
   "execution_count": 14,
   "metadata": {},
   "outputs": [
    {
     "name": "stdout",
     "output_type": "stream",
     "text": [
      "Original energy: 5899.141002052644 kJ/mol\n"
     ]
    }
   ],
   "source": [
    "import numpy as np\n",
    "\n",
    "integrator = VerletIntegrator(1.0 * femtoseconds)\n",
    "context = Context(off_box_system, integrator)\n",
    "context.setPositions(box_positions)\n",
    "state = context.getState(getEnergy=True)\n",
    "energy = state.getPotentialEnergy().in_units_of(kilojoules_per_mole)\n",
    "\n",
    "\n",
    "print(f\"Original energy: {energy}\")"
   ]
  },
  {
   "cell_type": "markdown",
   "metadata": {},
   "source": [
    "## Performing a molecular dynamics simulations for the new compound"
   ]
  },
  {
   "cell_type": "code",
   "execution_count": 15,
   "metadata": {
    "scrolled": true
   },
   "outputs": [
    {
     "name": "stdout",
     "output_type": "stream",
     "text": [
      "Starting simulation\n",
      "#\"Step\",\"Temperature (K)\",\"Box Volume (nm^3)\",\"Density (g/mL)\",\"Elapsed Time (s)\"\n",
      "10000,300.13412002880307,7.9751856744629075,1.0499225670799446,0.0001385211944580078\n",
      "20000,264.936310558871,7.82459148568308,1.0701296587294373,15.926424026489258\n",
      "30000,295.9958516876136,7.908376860528971,1.0587921597493555,30.516944646835327\n",
      "40000,291.13348828597475,7.522328189169763,1.1131297659050234,45.00574851036072\n",
      "50000,291.873671384124,7.654779465129785,1.0938691904077382,59.55178642272949\n",
      "60000,305.41215210692195,7.876210487094438,1.0631162574935509,74.21947836875916\n",
      "70000,307.62849438959717,7.4741416509053344,1.12030622476322,88.70563125610352\n",
      "80000,293.5439084100682,7.629375675706039,1.0975114835325512,103.20205760002136\n",
      "90000,289.9734310272289,7.806272051346714,1.072640994471459,117.67552185058594\n",
      "100000,279.60319415044387,7.786628099033949,1.0753470320882714,132.20008206367493\n",
      "110000,310.4968451772376,7.761042283296255,1.0788921269367175,146.83002495765686\n",
      "120000,304.800314325824,7.704567434870299,1.08680045791724,161.3168182373047\n",
      "130000,299.89916190645135,7.648892811597247,1.0947110415216776,175.7329912185669\n",
      "140000,287.4326174283075,7.931777429929376,1.0556684791325328,190.12416076660156\n",
      "150000,284.4613157724755,7.629202661615805,1.097536372758761,204.66223001480103\n",
      "160000,291.2272140556543,7.513085329795027,1.114499176931315,219.35769128799438\n",
      "170000,298.1433245729053,7.839819322830021,1.0680510699892876,233.78719520568848\n",
      "180000,308.15988698620953,7.722395250864252,1.0842914852531271,248.18530321121216\n",
      "190000,311.2601682925818,7.871500130183859,1.0637524331814647,262.5880243778229\n",
      "200000,296.63815393296596,7.620202941452491,1.0988326007332359,277.1253025531769\n",
      "210000,294.3767892280758,7.466881078627174,1.1213955770955946,291.7051341533661\n",
      "220000,303.4064400491885,7.87826482501305,1.0628390390846536,306.15052914619446\n",
      "230000,298.494656782888,7.54187031972929,1.1102454777519761,320.7269048690796\n",
      "240000,295.81473378337455,7.685360596707048,1.0895165309301191,335.3445556163788\n",
      "250000,305.2796335488206,7.597381602774144,1.1021333209343886,349.7687361240387\n",
      "260000,292.2141163351947,7.763785811496312,1.0785108733773154,364.3743119239807\n",
      "270000,300.6769038063399,7.502623748699128,1.1160532230772118,378.8661513328552\n",
      "280000,278.50645778998967,7.809352933095594,1.0722178249603254,394.0221037864685\n",
      "290000,295.78892942698866,7.678959909822172,1.0904246818063157,408.13730120658875\n",
      "300000,305.80873448792005,7.832141121810067,1.069098128601666,422.348468542099\n",
      "310000,304.0437084755644,7.5397233338893335,1.1105616274585437,436.8148856163025\n",
      "320000,281.3394627712839,7.712979784222036,1.085615112514633,451.08012771606445\n",
      "330000,308.156169484473,7.9503922527331445,1.0531967669133253,465.2020618915558\n",
      "340000,304.56769125071736,7.742326238101116,1.0815002053342744,479.38189578056335\n",
      "350000,279.08708997222885,7.759595517676284,1.0790932848493116,493.54504108428955\n",
      "360000,299.91447570586587,7.642362999276757,1.0956463880430325,507.8162364959717\n",
      "370000,289.3391671180459,7.464620822076912,1.121735131074153,522.0780878067017\n",
      "380000,273.9941854200682,7.621567873508013,1.0986358128983331,536.2438907623291\n",
      "390000,304.3908676084172,7.889382802286315,1.0613412514150962,550.411967754364\n",
      "400000,281.9983626671908,7.720178852297209,1.0846027762400525,564.602902173996\n",
      "410000,287.58788519347723,7.544750583479601,1.1098216334156878,578.9291400909424\n",
      "420000,289.05511492679904,7.782159458726301,1.0759645135364202,593.0208582878113\n",
      "430000,307.0221728426455,8.000372637690482,1.0466171759080058,607.0936853885651\n",
      "440000,298.3706188219168,7.700431362870138,1.0873842024806195,623.1071922779083\n",
      "450000,299.1448164985948,7.653820639528215,1.094006223901718,637.597181558609\n",
      "460000,294.2122992491642,7.746112204402644,1.0809716145748782,652.1581645011902\n",
      "470000,289.98647128820306,7.826871733276629,1.0698178916962906,666.5762388706207\n",
      "480000,287.5516868077737,7.886135585680045,1.0617782721712157,680.9810235500336\n",
      "490000,297.2840136653283,7.808488855491133,1.0723364752429598,695.4646008014679\n",
      "500000,300.9807008198798,7.883407448087988,1.062145711915744,709.8710315227509\n",
      "Elapsed time 1920.64 seconds\n",
      "Done!\n"
     ]
    }
   ],
   "source": [
    "from sys import stdout\n",
    "import time\n",
    "\n",
    "#Thermostat\n",
    "integrator = LangevinIntegrator(temperature*kelvin, 1/picosecond, timestep*femtoseconds)\n",
    "#for isobaric simulation\n",
    "off_box_system.addForce(MonteCarloBarostat(pressure*bar, temperature*kelvin))  \n",
    "\n",
    "#setting up the simulation\n",
    "simulation = Simulation(pdb_box.topology, off_box_system, integrator)\n",
    "simulation.context.setPositions(box_positions)\n",
    "simulation.minimizeEnergy()\n",
    "\n",
    "\n",
    "with open(f\"initial_{len(solutes)}solutes_N{n_solvent_mol}solvent_box.pdb\", \"w\") as f:\n",
    "    PDBFile.writeFile(simulation.topology, pdb_box.positions, f)\n",
    "    \n",
    "simulation.reporters = []\n",
    "simulation.reporters.append(DCDReporter(f'traj_{len(solutes)}solutes_N{n_solvent_mol}solvent.dcd', 100))\n",
    "simulation.reporters.append(StateDataReporter(stdout, 10000, step=True,\n",
    "                                              temperature=True,volume=True, density=True, elapsedTime=True))\n",
    "simulation.reporters.append(StateDataReporter(f\"scalars_{len(solutes)}solutes_N{n_solvent_mol}solvent.csv\", 100, time=True,\n",
    "                                              potentialEnergy=True, totalEnergy=True, temperature=True, volume=True, density=True))\n",
    "\n",
    "simulation.reporters.append(CheckpointReporter('checkpnt.chk', 50000))\n",
    "print(\"Starting simulation\")\n",
    "start = time.process_time()\n",
    "\n",
    "simulation.step(total_simulation_steps)\n",
    "\n",
    "end = time.process_time()\n",
    "print(\"Elapsed time %.2f seconds\" % (end-start))\n",
    "print(\"Done!\")\n",
    "\n",
    "simulation.saveCheckpoint('final_state.chk')\n",
    "simulation.saveState('final_state_output.xml')\n"
   ]
  },
  {
   "cell_type": "code",
   "execution_count": 16,
   "metadata": {},
   "outputs": [],
   "source": [
    "simulation.saveCheckpoint('final_state.chk')\n",
    "simulation.saveState('final_state_output.xml')"
   ]
  },
  {
   "cell_type": "markdown",
   "metadata": {},
   "source": [
    "## Visualize the output"
   ]
  },
  {
   "cell_type": "code",
   "execution_count": 17,
   "metadata": {},
   "outputs": [
    {
     "data": {
      "application/vnd.jupyter.widget-view+json": {
       "model_id": "6faaa9c9e73847f3be15e598bdf183e6",
       "version_major": 2,
       "version_minor": 0
      },
      "text/plain": [
       "NGLWidget(count=5000)"
      ]
     },
     "metadata": {},
     "output_type": "display_data"
    }
   ],
   "source": [
    "traj = md.load(f'traj_{len(solutes)}solutes_N{n_solvent_mol}solvent.dcd', top=f\"initial_{len(solutes)}solutes_N{n_solvent_mol}solvent_box.pdb\")\n",
    "traj.superpose(traj, 0)\n",
    "nglview.show_mdtraj(traj)"
   ]
  },
  {
   "cell_type": "markdown",
   "metadata": {},
   "source": [
    "## Post-Processing"
   ]
  },
  {
   "cell_type": "code",
   "execution_count": 18,
   "metadata": {},
   "outputs": [
    {
     "name": "stdout",
     "output_type": "stream",
     "text": [
      "The average density at convergion is: 1.083223429084866\n"
     ]
    },
    {
     "data": {
      "image/png": "[encoded data removed]",
      "text/plain": [
       "<Figure size 432x288 with 1 Axes>"
      ]
     },
     "metadata": {
      "needs_background": "light"
     },
     "output_type": "display_data"
    }
   ],
   "source": [
    "import matplotlib.pyplot as plt\n",
    "import pandas as pd\n",
    "\n",
    "data = pd.read_csv(f\"scalars_{len(solutes)}solutes_N{n_solvent_mol}solvent.csv\")\n",
    "#print(data.head())\n",
    "time = data['#\"Time (ps)\"']\n",
    "V = data[\"Box Volume (nm^3)\"]\n",
    "rho = data[\"Density (g/mL)\"]\n",
    "plt.plot(time,rho)\n",
    "plt.xlabel('Time (ps)')\n",
    "plt.ylabel('Density (g/mL)')\n",
    "\n",
    "total_value = 0\n",
    "ma_data=[]\n",
    "for idx,value in enumerate(rho):\n",
    "    total_value += value\n",
    "    ma_data.append(total_value/(idx+1))\n",
    "\n",
    "ma_data = np.array(ma_data)\n",
    "plt.plot(time,ma_data,'black')\n",
    "\n",
    "#http://ddbonline.ddbst.de/DIPPR105DensityCalculation/DIPPR105CalculationCGI.exe?component=Acetonitrile\n",
    "print(f\"The average density at convergion is: {ma_data[-1]}\")\n",
    "\n",
    "plt.show()"
   ]
  },
  {
   "cell_type": "code",
   "execution_count": 19,
   "metadata": {},
   "outputs": [
    {
     "name": "stdout",
     "output_type": "stream",
     "text": [
      "The average volume at convergion is: 7.735283664871107\n",
      "The box dimensions for a NVT simulation should hence be: 19.77692416335168\n"
     ]
    },
    {
     "data": {
      "image/png": "[encoded data removed]",
      "text/plain": [
       "<Figure size 432x288 with 1 Axes>"
      ]
     },
     "metadata": {
      "needs_background": "light"
     },
     "output_type": "display_data"
    }
   ],
   "source": [
    "plt.plot(time,V)\n",
    "plt.xlabel('Time (ps)')\n",
    "plt.ylabel('Box Volume ($nm^3$)')\n",
    "total_value = 0\n",
    "ma_data=[]\n",
    "for idx,value in enumerate(V):\n",
    "    total_value += value\n",
    "    ma_data.append(total_value/(idx+1))\n",
    "\n",
    "ma_data = np.array(ma_data)\n",
    "plt.plot(time,ma_data,'black')\n",
    "print(f\"The average volume at convergion is: {ma_data[-1]}\")\n",
    "#cube dimension in Angstrom\n",
    "cube_dim = ((ma_data[-1]**(1/3))*nanometer/angstrom)\n",
    "print(f\"The box dimensions for a NVT simulation should hence be: {cube_dim}\")\n",
    "plt.show()"
   ]
  },
  {
   "cell_type": "code",
   "execution_count": null,
   "metadata": {},
   "outputs": [],
   "source": [
    "from sys import stdout\n",
    "import time\n",
    "simulation.reporters.append(CheckpointReporter('checkpnt.chk', 50000))\n",
    "print(\"Starting simulation\")\n",
    "start = time.process_time()\n",
    "\n",
    "simulation.step(total_simulation_steps*2)\n",
    "end = time.process_time()\n",
    "print(\"Elapsed time %.2f seconds\" % (end-start))\n",
    "print(\"Done!\")\n",
    "\n",
    "simulation.saveCheckpoint('final_state.chk')\n",
    "simulation.saveState('final_state_output.xml')\n"
   ]
  },
  {
   "cell_type": "code",
   "execution_count": 44,
   "metadata": {},
   "outputs": [
    {
     "name": "stdout",
     "output_type": "stream",
     "text": [
      "The average density at convergion is: 1.0897773794534986\n"
     ]
    },
    {
     "data": {
      "image/png": "[encoded data removed]",
      "text/plain": [
       "<Figure size 432x288 with 1 Axes>"
      ]
     },
     "metadata": {
      "needs_background": "light"
     },
     "output_type": "display_data"
    }
   ],
   "source": [
    "import matplotlib.pyplot as plt\n",
    "import pandas as pd\n",
    "\n",
    "data = pd.read_csv(f\"scalars_{len(solutes)}solutes_N{n_solvent_mol}solvent.csv\")\n",
    "#print(data.head())\n",
    "time = data['#\"Time (ps)\"']\n",
    "V = data[\"Box Volume (nm^3)\"]\n",
    "rho = data[\"Density (g/mL)\"]\n",
    "plt.plot(time,rho)\n",
    "plt.xlabel('Time (ps)')\n",
    "plt.ylabel('Density (g/mL)')\n",
    "\n",
    "total_value = 0\n",
    "ma_data=[]\n",
    "for idx,value in enumerate(rho):\n",
    "    total_value += value\n",
    "    ma_data.append(total_value/(idx+1))\n",
    "\n",
    "ma_data = np.array(ma_data)\n",
    "plt.plot(time,ma_data,'black')\n",
    "\n",
    "#http://ddbonline.ddbst.de/DIPPR105DensityCalculation/DIPPR105CalculationCGI.exe?component=Acetonitrile\n",
    "print(f\"The average density at convergion is: {ma_data[-1]}\")\n",
    "\n",
    "plt.show()"
   ]
  },
  {
   "cell_type": "code",
   "execution_count": 45,
   "metadata": {},
   "outputs": [
    {
     "name": "stdout",
     "output_type": "stream",
     "text": [
      "The average volume at convergion is: 7.738289654034322\n",
      "The box dimensions for a NVT simulation should hence be: 19.779485651856827\n"
     ]
    },
    {
     "data": {
      "image/png": "[encoded data removed]",
      "text/plain": [
       "<Figure size 432x288 with 1 Axes>"
      ]
     },
     "metadata": {
      "needs_background": "light"
     },
     "output_type": "display_data"
    }
   ],
   "source": [
    "plt.plot(time,V)\n",
    "plt.xlabel('Time (ps)')\n",
    "plt.ylabel('Box Volume ($nm^3$)')\n",
    "total_value = 0\n",
    "ma_data=[]\n",
    "for idx,value in enumerate(V):\n",
    "    total_value += value\n",
    "    ma_data.append(total_value/(idx+1))\n",
    "\n",
    "ma_data = np.array(ma_data)\n",
    "plt.plot(time,ma_data,'black')\n",
    "print(f\"The average volume at convergion is: {ma_data[-1]}\")\n",
    "#cube dimension in Angstrom\n",
    "cube_dim = ((ma_data[-1]**(1/3))*nanometer/angstrom)\n",
    "print(f\"The box dimensions for a NVT simulation should hence be: {cube_dim}\")\n",
    "plt.show()"
   ]
  }
 ],
 "metadata": {
  "kernelspec": {
   "display_name": "Python 3",
   "language": "python",
   "name": "python3"
  },
  "language_info": {
   "codemirror_mode": {
    "name": "ipython",
    "version": 3
   },
   "file_extension": ".py",
   "mimetype": "text/x-python",
   "name": "python",
   "nbconvert_exporter": "python",
   "pygments_lexer": "ipython3",
   "version": "3.7.6"
  }
 },
 "nbformat": 4,
 "nbformat_minor": 2
}
