{
 "cells": [
  {
   "cell_type": "markdown",
   "metadata": {},
   "source": [
    "# OpenForceField for DBU (1,8-Diazabicyclo[5.4.0]undec7-ene) in DMF (n,n-dimethylformamide)"
   ]
  },
  {
   "cell_type": "markdown",
   "metadata": {},
   "source": [
    "## Parameterizing DBU with the openFF forcefield"
   ]
  },
  {
   "cell_type": "markdown",
   "metadata": {},
   "source": [
    "### Collect sdf file from pubchem"
   ]
  },
  {
   "cell_type": "code",
   "execution_count": 17,
   "metadata": {},
   "outputs": [],
   "source": [
    "#Create force field parameter files for small molecule\n",
    "import requests\n",
    "from openforcefield.utils import *\n",
    "from openforcefield.topology import *\n",
    "from openforcefield.utils.toolkits import OpenEyeToolkitWrapper\n",
    "from openforcefield.typing.engines.smirnoff import ForceField\n",
    "\n",
    "\n",
    "#Pubchem id for DBU is 81184\n",
    "cid = '81184'\n",
    "url = f\"https://pubchem.ncbi.nlm.nih.gov/rest/pug/compound/CID/{cid}/record/SDF/?record_type=3d&response_type=save\"\n",
    "with open(f\"CID_{cid}.sdf\", \"w\") as f:\n",
    "    f.write(requests.get(url).text)\n",
    "\n",
    "#Create the molecule object using the sdf_filepath\n",
    "molecule = Molecule(f\"CID_{cid}.sdf\")\n",
    "off_forcefield = ForceField('openff-1.0.0.offxml')"
   ]
  },
  {
   "cell_type": "markdown",
   "metadata": {},
   "source": [
    "### Create pdb file from the sdf file"
   ]
  },
  {
   "cell_type": "code",
   "execution_count": 11,
   "metadata": {},
   "outputs": [
    {
     "data": {
      "text/plain": [
       "True"
      ]
     },
     "execution_count": 11,
     "metadata": {},
     "output_type": "execute_result"
    }
   ],
   "source": [
    "from openbabel import openbabel\n",
    "\n",
    "\n",
    "# Convert the SDF to a PDB file with openbabel\n",
    "obConversion = openbabel.OBConversion()\n",
    "obConversion.SetInAndOutFormats(\"sdf\", \"pdb\")\n",
    "mol = openbabel.OBMol()\n",
    "#mol.SetTitle('RES1')\n",
    "# Open Babel will uncompress automatically\n",
    "obConversion.ReadFile(mol, f\"CID_{cid}.sdf\")\n",
    "obConversion.WriteFile(mol, f\"CID_{cid}.pdb\")\n",
    "\n",
    "\n"
   ]
  },
  {
   "cell_type": "markdown",
   "metadata": {},
   "source": [
    "## Setting up a Solvent box of DMF"
   ]
  },
  {
   "cell_type": "code",
   "execution_count": 12,
   "metadata": {},
   "outputs": [
    {
     "data": {
      "text/plain": [
       "True"
      ]
     },
     "execution_count": 12,
     "metadata": {},
     "output_type": "execute_result"
    }
   ],
   "source": [
    "#Pubchem id for DMF is 6228\n",
    "\n",
    "cid2 = '6228'\n",
    "url2 = f\"https://pubchem.ncbi.nlm.nih.gov/rest/pug/compound/CID/{cid2}/record/SDF/?record_type=3d&response_type=save\"\n",
    "with open(f\"CID_{cid2}.sdf\", \"w\") as f2:\n",
    "    f2.write(requests.get(url2).text)\n",
    "\n",
    "obConversion.ReadFile(mol, f\"CID_{cid2}.sdf\")\n",
    "obConversion.WriteFile(mol, f\"CID_{cid2}.pdb\")\n",
    "\n"
   ]
  },
  {
   "cell_type": "markdown",
   "metadata": {},
   "source": [
    "### Using the SolvationToolkit package to solvate the system (https://github.com/MobleyLab/SolvationToolkit); https://github.com/openforcefield/open-forcefield-tools"
   ]
  },
  {
   "cell_type": "code",
   "execution_count": null,
   "metadata": {},
   "outputs": [],
   "source": [
    "'''from solvationtoolkit.solvated_mixtures import *\n",
    "#specify the path to save the data and setup system\n",
    "sb_name = 'dbu_dmf'\n",
    "solvent_box = MixtureSystem(f\"./{sb_name}\")\n",
    "\n",
    "solvent_box.addComponent(label='dmf',smiles='CN(C)C=O',number=100)\n",
    "solvent_box.addComponent(label='dbu',smiles='C1CCC2=NCCCN2CC1',number='1')\n",
    "mixture.build()\n",
    "'''"
   ]
  },
  {
   "cell_type": "code",
   "execution_count": 14,
   "metadata": {},
   "outputs": [
    {
     "name": "stdout",
     "output_type": "stream",
     "text": [
      "topology 1:<mdtraj.Topology with 1 chains, 1 residues, 12 atoms, 11 bonds>, topology2:<mdtraj.Topology with 1 chains, 1 residues, 27 atoms, 28 bonds>\n",
      "\n",
      "# Mixture \n",
      "\n",
      "tolerance 2.000000\n",
      "filetype pdb\n",
      "output /tmp/tmpbxpqjz2v/tmpvgrb3kza.pdb\n",
      "add_amber_ter\n",
      "\n",
      "\n",
      "structure CID_81184.pdb\n",
      "  number 1 \n",
      "  inside box 0. 0. 0. 18.000000 18.000000 18.000000\n",
      "end structure\n",
      "\n",
      "structure CID_6228.pdb\n",
      "  number 50 \n",
      "  inside box 0. 0. 0. 18.000000 18.000000 18.000000\n",
      "end structure\n",
      "\n",
      "[array([[ 0.,  2.,  0.,  0.],\n",
      "       [ 0.,  4.,  0.,  0.],\n",
      "       [ 0.,  6.,  0.,  0.],\n",
      "       [ 1.,  4.,  0.,  0.],\n",
      "       [ 1., 10.,  0.,  0.],\n",
      "       [ 2.,  3.,  0.,  0.],\n",
      "       [ 2., 11.,  0.,  0.],\n",
      "       [ 2., 12.,  0.,  0.],\n",
      "       [ 3.,  5.,  0.,  0.],\n",
      "       [ 3., 13.,  0.,  0.],\n",
      "       [ 3., 14.,  0.,  0.],\n",
      "       [ 4.,  7.,  0.,  0.],\n",
      "       [ 5.,  8.,  0.,  0.],\n",
      "       [ 5., 15.,  0.,  0.],\n",
      "       [ 5., 16.,  0.,  0.],\n",
      "       [ 6.,  9.,  0.,  0.],\n",
      "       [ 6., 17.,  0.,  0.],\n",
      "       [ 6., 18.,  0.,  0.],\n",
      "       [ 7.,  8.,  0.,  0.],\n",
      "       [ 7., 19.,  0.,  0.],\n",
      "       [ 7., 20.,  0.,  0.],\n",
      "       [ 8., 21.,  0.,  0.],\n",
      "       [ 8., 22.,  0.,  0.],\n",
      "       [ 9., 10.,  0.,  0.],\n",
      "       [ 9., 23.,  0.,  0.],\n",
      "       [ 9., 24.,  0.,  0.],\n",
      "       [10., 25.,  0.,  0.],\n",
      "       [10., 26.,  0.,  0.]]), array([[ 0.,  4.,  0.,  0.],\n",
      "       [ 1.,  2.,  0.,  0.],\n",
      "       [ 1.,  3.,  0.,  0.],\n",
      "       [ 1.,  4.,  0.,  0.],\n",
      "       [ 2.,  5.,  0.,  0.],\n",
      "       [ 2.,  6.,  0.,  0.],\n",
      "       [ 2.,  7.,  0.,  0.],\n",
      "       [ 3.,  8.,  0.,  0.],\n",
      "       [ 3.,  9.,  0.,  0.],\n",
      "       [ 3., 10.,  0.,  0.],\n",
      "       [ 4., 11.,  0.,  0.]])]\n",
      "[array([0., 2., 0., 0.]), array([0., 4., 0., 0.]), array([0., 6., 0., 0.]), array([1., 4., 0., 0.]), array([ 1., 10.,  0.,  0.]), array([2., 3., 0., 0.]), array([ 2., 11.,  0.,  0.]), array([ 2., 12.,  0.,  0.]), array([3., 5., 0., 0.]), array([ 3., 13.,  0.,  0.]), array([ 3., 14.,  0.,  0.]), array([4., 7., 0., 0.]), array([5., 8., 0., 0.]), array([ 5., 15.,  0.,  0.]), array([ 5., 16.,  0.,  0.]), array([6., 9., 0., 0.]), array([ 6., 17.,  0.,  0.]), array([ 6., 18.,  0.,  0.]), array([7., 8., 0., 0.]), array([ 7., 19.,  0.,  0.]), array([ 7., 20.,  0.,  0.]), array([ 8., 21.,  0.,  0.]), array([ 8., 22.,  0.,  0.]), array([ 9., 10.,  0.,  0.]), array([ 9., 23.,  0.,  0.]), array([ 9., 24.,  0.,  0.]), array([10., 25.,  0.,  0.]), array([10., 26.,  0.,  0.]), array([27., 31., 27., 27.]), array([28., 29., 27., 27.]), array([28., 30., 27., 27.]), array([28., 31., 27., 27.]), array([29., 32., 27., 27.]), array([29., 33., 27., 27.]), array([29., 34., 27., 27.]), array([30., 35., 27., 27.]), array([30., 36., 27., 27.]), array([30., 37., 27., 27.]), array([31., 38., 27., 27.]), array([39., 43., 39., 39.]), array([40., 41., 39., 39.]), array([40., 42., 39., 39.]), array([40., 43., 39., 39.]), array([41., 44., 39., 39.]), array([41., 45., 39., 39.]), array([41., 46., 39., 39.]), array([42., 47., 39., 39.]), array([42., 48., 39., 39.]), array([42., 49., 39., 39.]), array([43., 50., 39., 39.]), array([51., 55., 51., 51.]), array([52., 53., 51., 51.]), array([52., 54., 51., 51.]), array([52., 55., 51., 51.]), array([53., 56., 51., 51.]), array([53., 57., 51., 51.]), array([53., 58., 51., 51.]), array([54., 59., 51., 51.]), array([54., 60., 51., 51.]), array([54., 61., 51., 51.]), array([55., 62., 51., 51.]), array([63., 67., 63., 63.]), array([64., 65., 63., 63.]), array([64., 66., 63., 63.]), array([64., 67., 63., 63.]), array([65., 68., 63., 63.]), array([65., 69., 63., 63.]), array([65., 70., 63., 63.]), array([66., 71., 63., 63.]), array([66., 72., 63., 63.]), array([66., 73., 63., 63.]), array([67., 74., 63., 63.]), array([75., 79., 75., 75.]), array([76., 77., 75., 75.]), array([76., 78., 75., 75.]), array([76., 79., 75., 75.]), array([77., 80., 75., 75.]), array([77., 81., 75., 75.]), array([77., 82., 75., 75.]), array([78., 83., 75., 75.]), array([78., 84., 75., 75.]), array([78., 85., 75., 75.]), array([79., 86., 75., 75.]), array([87., 91., 87., 87.]), array([88., 89., 87., 87.]), array([88., 90., 87., 87.]), array([88., 91., 87., 87.]), array([89., 92., 87., 87.]), array([89., 93., 87., 87.]), array([89., 94., 87., 87.]), array([90., 95., 87., 87.]), array([90., 96., 87., 87.]), array([90., 97., 87., 87.]), array([91., 98., 87., 87.]), array([ 99., 103.,  99.,  99.]), array([100., 101.,  99.,  99.]), array([100., 102.,  99.,  99.]), array([100., 103.,  99.,  99.]), array([101., 104.,  99.,  99.]), array([101., 105.,  99.,  99.]), array([101., 106.,  99.,  99.]), array([102., 107.,  99.,  99.]), array([102., 108.,  99.,  99.]), array([102., 109.,  99.,  99.]), array([103., 110.,  99.,  99.]), array([111., 115., 111., 111.]), array([112., 113., 111., 111.]), array([112., 114., 111., 111.]), array([112., 115., 111., 111.]), array([113., 116., 111., 111.]), array([113., 117., 111., 111.]), array([113., 118., 111., 111.]), array([114., 119., 111., 111.]), array([114., 120., 111., 111.]), array([114., 121., 111., 111.]), array([115., 122., 111., 111.]), array([123., 127., 123., 123.]), array([124., 125., 123., 123.]), array([124., 126., 123., 123.]), array([124., 127., 123., 123.]), array([125., 128., 123., 123.]), array([125., 129., 123., 123.]), array([125., 130., 123., 123.]), array([126., 131., 123., 123.]), array([126., 132., 123., 123.]), array([126., 133., 123., 123.]), array([127., 134., 123., 123.]), array([135., 139., 135., 135.]), array([136., 137., 135., 135.]), array([136., 138., 135., 135.]), array([136., 139., 135., 135.]), array([137., 140., 135., 135.]), array([137., 141., 135., 135.]), array([137., 142., 135., 135.]), array([138., 143., 135., 135.]), array([138., 144., 135., 135.]), array([138., 145., 135., 135.]), array([139., 146., 135., 135.]), array([147., 151., 147., 147.]), array([148., 149., 147., 147.]), array([148., 150., 147., 147.]), array([148., 151., 147., 147.]), array([149., 152., 147., 147.]), array([149., 153., 147., 147.]), array([149., 154., 147., 147.]), array([150., 155., 147., 147.]), array([150., 156., 147., 147.]), array([150., 157., 147., 147.]), array([151., 158., 147., 147.]), array([159., 163., 159., 159.]), array([160., 161., 159., 159.]), array([160., 162., 159., 159.]), array([160., 163., 159., 159.]), array([161., 164., 159., 159.]), array([161., 165., 159., 159.]), array([161., 166., 159., 159.]), array([162., 167., 159., 159.]), array([162., 168., 159., 159.]), array([162., 169., 159., 159.]), array([163., 170., 159., 159.]), array([171., 175., 171., 171.]), array([172., 173., 171., 171.]), array([172., 174., 171., 171.]), array([172., 175., 171., 171.]), array([173., 176., 171., 171.]), array([173., 177., 171., 171.]), array([173., 178., 171., 171.]), array([174., 179., 171., 171.]), array([174., 180., 171., 171.]), array([174., 181., 171., 171.]), array([175., 182., 171., 171.]), array([183., 187., 183., 183.]), array([184., 185., 183., 183.]), array([184., 186., 183., 183.]), array([184., 187., 183., 183.]), array([185., 188., 183., 183.]), array([185., 189., 183., 183.]), array([185., 190., 183., 183.]), array([186., 191., 183., 183.]), array([186., 192., 183., 183.]), array([186., 193., 183., 183.]), array([187., 194., 183., 183.]), array([195., 199., 195., 195.]), array([196., 197., 195., 195.]), array([196., 198., 195., 195.]), array([196., 199., 195., 195.]), array([197., 200., 195., 195.]), array([197., 201., 195., 195.]), array([197., 202., 195., 195.]), array([198., 203., 195., 195.]), array([198., 204., 195., 195.]), array([198., 205., 195., 195.]), array([199., 206., 195., 195.]), array([207., 211., 207., 207.]), array([208., 209., 207., 207.]), array([208., 210., 207., 207.]), array([208., 211., 207., 207.]), array([209., 212., 207., 207.]), array([209., 213., 207., 207.]), array([209., 214., 207., 207.]), array([210., 215., 207., 207.]), array([210., 216., 207., 207.]), array([210., 217., 207., 207.]), array([211., 218., 207., 207.]), array([219., 223., 219., 219.]), array([220., 221., 219., 219.]), array([220., 222., 219., 219.]), array([220., 223., 219., 219.]), array([221., 224., 219., 219.]), array([221., 225., 219., 219.]), array([221., 226., 219., 219.]), array([222., 227., 219., 219.]), array([222., 228., 219., 219.]), array([222., 229., 219., 219.]), array([223., 230., 219., 219.]), array([231., 235., 231., 231.]), array([232., 233., 231., 231.]), array([232., 234., 231., 231.]), array([232., 235., 231., 231.]), array([233., 236., 231., 231.]), array([233., 237., 231., 231.]), array([233., 238., 231., 231.]), array([234., 239., 231., 231.]), array([234., 240., 231., 231.]), array([234., 241., 231., 231.]), array([235., 242., 231., 231.]), array([243., 247., 243., 243.]), array([244., 245., 243., 243.]), array([244., 246., 243., 243.]), array([244., 247., 243., 243.]), array([245., 248., 243., 243.]), array([245., 249., 243., 243.]), array([245., 250., 243., 243.]), array([246., 251., 243., 243.]), array([246., 252., 243., 243.]), array([246., 253., 243., 243.]), array([247., 254., 243., 243.]), array([255., 259., 255., 255.]), array([256., 257., 255., 255.]), array([256., 258., 255., 255.]), array([256., 259., 255., 255.]), array([257., 260., 255., 255.]), array([257., 261., 255., 255.]), array([257., 262., 255., 255.]), array([258., 263., 255., 255.]), array([258., 264., 255., 255.]), array([258., 265., 255., 255.]), array([259., 266., 255., 255.]), array([267., 271., 267., 267.]), array([268., 269., 267., 267.]), array([268., 270., 267., 267.]), array([268., 271., 267., 267.]), array([269., 272., 267., 267.]), array([269., 273., 267., 267.]), array([269., 274., 267., 267.]), array([270., 275., 267., 267.]), array([270., 276., 267., 267.]), array([270., 277., 267., 267.]), array([271., 278., 267., 267.]), array([279., 283., 279., 279.]), array([280., 281., 279., 279.]), array([280., 282., 279., 279.]), array([280., 283., 279., 279.]), array([281., 284., 279., 279.]), array([281., 285., 279., 279.]), array([281., 286., 279., 279.]), array([282., 287., 279., 279.]), array([282., 288., 279., 279.]), array([282., 289., 279., 279.]), array([283., 290., 279., 279.]), array([291., 295., 291., 291.]), array([292., 293., 291., 291.]), array([292., 294., 291., 291.]), array([292., 295., 291., 291.]), array([293., 296., 291., 291.]), array([293., 297., 291., 291.]), array([293., 298., 291., 291.]), array([294., 299., 291., 291.]), array([294., 300., 291., 291.]), array([294., 301., 291., 291.]), array([295., 302., 291., 291.]), array([303., 307., 303., 303.]), array([304., 305., 303., 303.]), array([304., 306., 303., 303.]), array([304., 307., 303., 303.]), array([305., 308., 303., 303.]), array([305., 309., 303., 303.]), array([305., 310., 303., 303.]), array([306., 311., 303., 303.]), array([306., 312., 303., 303.]), array([306., 313., 303., 303.]), array([307., 314., 303., 303.]), array([315., 319., 315., 315.]), array([316., 317., 315., 315.]), array([316., 318., 315., 315.]), array([316., 319., 315., 315.]), array([317., 320., 315., 315.]), array([317., 321., 315., 315.]), array([317., 322., 315., 315.]), array([318., 323., 315., 315.]), array([318., 324., 315., 315.]), array([318., 325., 315., 315.]), array([319., 326., 315., 315.]), array([327., 331., 327., 327.]), array([328., 329., 327., 327.]), array([328., 330., 327., 327.]), array([328., 331., 327., 327.]), array([329., 332., 327., 327.]), array([329., 333., 327., 327.]), array([329., 334., 327., 327.]), array([330., 335., 327., 327.]), array([330., 336., 327., 327.]), array([330., 337., 327., 327.]), array([331., 338., 327., 327.]), array([339., 343., 339., 339.]), array([340., 341., 339., 339.]), array([340., 342., 339., 339.]), array([340., 343., 339., 339.]), array([341., 344., 339., 339.]), array([341., 345., 339., 339.]), array([341., 346., 339., 339.]), array([342., 347., 339., 339.]), array([342., 348., 339., 339.]), array([342., 349., 339., 339.]), array([343., 350., 339., 339.]), array([351., 355., 351., 351.]), array([352., 353., 351., 351.]), array([352., 354., 351., 351.]), array([352., 355., 351., 351.]), array([353., 356., 351., 351.]), array([353., 357., 351., 351.]), array([353., 358., 351., 351.]), array([354., 359., 351., 351.]), array([354., 360., 351., 351.]), array([354., 361., 351., 351.]), array([355., 362., 351., 351.]), array([363., 367., 363., 363.]), array([364., 365., 363., 363.]), array([364., 366., 363., 363.]), array([364., 367., 363., 363.]), array([365., 368., 363., 363.]), array([365., 369., 363., 363.]), array([365., 370., 363., 363.]), array([366., 371., 363., 363.]), array([366., 372., 363., 363.]), array([366., 373., 363., 363.]), array([367., 374., 363., 363.]), array([375., 379., 375., 375.]), array([376., 377., 375., 375.]), array([376., 378., 375., 375.]), array([376., 379., 375., 375.]), array([377., 380., 375., 375.]), array([377., 381., 375., 375.]), array([377., 382., 375., 375.]), array([378., 383., 375., 375.]), array([378., 384., 375., 375.]), array([378., 385., 375., 375.]), array([379., 386., 375., 375.]), array([387., 391., 387., 387.]), array([388., 389., 387., 387.]), array([388., 390., 387., 387.]), array([388., 391., 387., 387.]), array([389., 392., 387., 387.]), array([389., 393., 387., 387.]), array([389., 394., 387., 387.]), array([390., 395., 387., 387.]), array([390., 396., 387., 387.]), array([390., 397., 387., 387.]), array([391., 398., 387., 387.]), array([399., 403., 399., 399.]), array([400., 401., 399., 399.]), array([400., 402., 399., 399.]), array([400., 403., 399., 399.]), array([401., 404., 399., 399.]), array([401., 405., 399., 399.]), array([401., 406., 399., 399.]), array([402., 407., 399., 399.]), array([402., 408., 399., 399.]), array([402., 409., 399., 399.]), array([403., 410., 399., 399.]), array([411., 415., 411., 411.]), array([412., 413., 411., 411.]), array([412., 414., 411., 411.]), array([412., 415., 411., 411.]), array([413., 416., 411., 411.]), array([413., 417., 411., 411.]), array([413., 418., 411., 411.]), array([414., 419., 411., 411.]), array([414., 420., 411., 411.]), array([414., 421., 411., 411.]), array([415., 422., 411., 411.]), array([423., 427., 423., 423.]), array([424., 425., 423., 423.]), array([424., 426., 423., 423.]), array([424., 427., 423., 423.]), array([425., 428., 423., 423.]), array([425., 429., 423., 423.]), array([425., 430., 423., 423.]), array([426., 431., 423., 423.]), array([426., 432., 423., 423.]), array([426., 433., 423., 423.]), array([427., 434., 423., 423.]), array([435., 439., 435., 435.]), array([436., 437., 435., 435.]), array([436., 438., 435., 435.]), array([436., 439., 435., 435.]), array([437., 440., 435., 435.]), array([437., 441., 435., 435.]), array([437., 442., 435., 435.]), array([438., 443., 435., 435.]), array([438., 444., 435., 435.]), array([438., 445., 435., 435.]), array([439., 446., 435., 435.]), array([447., 451., 447., 447.]), array([448., 449., 447., 447.]), array([448., 450., 447., 447.]), array([448., 451., 447., 447.]), array([449., 452., 447., 447.]), array([449., 453., 447., 447.]), array([449., 454., 447., 447.]), array([450., 455., 447., 447.]), array([450., 456., 447., 447.]), array([450., 457., 447., 447.]), array([451., 458., 447., 447.]), array([459., 463., 459., 459.]), array([460., 461., 459., 459.]), array([460., 462., 459., 459.]), array([460., 463., 459., 459.]), array([461., 464., 459., 459.]), array([461., 465., 459., 459.]), array([461., 466., 459., 459.]), array([462., 467., 459., 459.]), array([462., 468., 459., 459.]), array([462., 469., 459., 459.]), array([463., 470., 459., 459.]), array([471., 475., 471., 471.]), array([472., 473., 471., 471.]), array([472., 474., 471., 471.]), array([472., 475., 471., 471.]), array([473., 476., 471., 471.]), array([473., 477., 471., 471.]), array([473., 478., 471., 471.]), array([474., 479., 471., 471.]), array([474., 480., 471., 471.]), array([474., 481., 471., 471.]), array([475., 482., 471., 471.]), array([483., 487., 483., 483.]), array([484., 485., 483., 483.]), array([484., 486., 483., 483.]), array([484., 487., 483., 483.]), array([485., 488., 483., 483.]), array([485., 489., 483., 483.]), array([485., 490., 483., 483.]), array([486., 491., 483., 483.]), array([486., 492., 483., 483.]), array([486., 493., 483., 483.]), array([487., 494., 483., 483.]), array([495., 499., 495., 495.]), array([496., 497., 495., 495.]), array([496., 498., 495., 495.]), array([496., 499., 495., 495.]), array([497., 500., 495., 495.]), array([497., 501., 495., 495.]), array([497., 502., 495., 495.]), array([498., 503., 495., 495.]), array([498., 504., 495., 495.]), array([498., 505., 495., 495.]), array([499., 506., 495., 495.]), array([507., 511., 507., 507.]), array([508., 509., 507., 507.]), array([508., 510., 507., 507.]), array([508., 511., 507., 507.]), array([509., 512., 507., 507.]), array([509., 513., 507., 507.]), array([509., 514., 507., 507.]), array([510., 515., 507., 507.]), array([510., 516., 507., 507.]), array([510., 517., 507., 507.]), array([511., 518., 507., 507.]), array([519., 523., 519., 519.]), array([520., 521., 519., 519.]), array([520., 522., 519., 519.]), array([520., 523., 519., 519.]), array([521., 524., 519., 519.]), array([521., 525., 519., 519.]), array([521., 526., 519., 519.]), array([522., 527., 519., 519.]), array([522., 528., 519., 519.]), array([522., 529., 519., 519.]), array([523., 530., 519., 519.]), array([531., 535., 531., 531.]), array([532., 533., 531., 531.]), array([532., 534., 531., 531.]), array([532., 535., 531., 531.]), array([533., 536., 531., 531.]), array([533., 537., 531., 531.]), array([533., 538., 531., 531.]), array([534., 539., 531., 531.]), array([534., 540., 531., 531.]), array([534., 541., 531., 531.]), array([535., 542., 531., 531.]), array([543., 547., 543., 543.]), array([544., 545., 543., 543.]), array([544., 546., 543., 543.]), array([544., 547., 543., 543.]), array([545., 548., 543., 543.]), array([545., 549., 543., 543.]), array([545., 550., 543., 543.]), array([546., 551., 543., 543.]), array([546., 552., 543., 543.]), array([546., 553., 543., 543.]), array([547., 554., 543., 543.]), array([555., 559., 555., 555.]), array([556., 557., 555., 555.]), array([556., 558., 555., 555.]), array([556., 559., 555., 555.]), array([557., 560., 555., 555.]), array([557., 561., 555., 555.]), array([557., 562., 555., 555.]), array([558., 563., 555., 555.]), array([558., 564., 555., 555.]), array([558., 565., 555., 555.]), array([559., 566., 555., 555.]), array([567., 571., 567., 567.]), array([568., 569., 567., 567.]), array([568., 570., 567., 567.]), array([568., 571., 567., 567.]), array([569., 572., 567., 567.]), array([569., 573., 567., 567.]), array([569., 574., 567., 567.]), array([570., 575., 567., 567.]), array([570., 576., 567., 567.]), array([570., 577., 567., 567.]), array([571., 578., 567., 567.]), array([579., 583., 579., 579.]), array([580., 581., 579., 579.]), array([580., 582., 579., 579.]), array([580., 583., 579., 579.]), array([581., 584., 579., 579.]), array([581., 585., 579., 579.]), array([581., 586., 579., 579.]), array([582., 587., 579., 579.]), array([582., 588., 579., 579.]), array([582., 589., 579., 579.]), array([583., 590., 579., 579.]), array([591., 595., 591., 591.]), array([592., 593., 591., 591.]), array([592., 594., 591., 591.]), array([592., 595., 591., 591.]), array([593., 596., 591., 591.]), array([593., 597., 591., 591.]), array([593., 598., 591., 591.]), array([594., 599., 591., 591.]), array([594., 600., 591., 591.]), array([594., 601., 591., 591.]), array([595., 602., 591., 591.]), array([603., 607., 603., 603.]), array([604., 605., 603., 603.]), array([604., 606., 603., 603.]), array([604., 607., 603., 603.]), array([605., 608., 603., 603.]), array([605., 609., 603., 603.]), array([605., 610., 603., 603.]), array([606., 611., 603., 603.]), array([606., 612., 603., 603.]), array([606., 613., 603., 603.]), array([607., 614., 603., 603.]), array([615., 619., 615., 615.]), array([616., 617., 615., 615.]), array([616., 618., 615., 615.]), array([616., 619., 615., 615.]), array([617., 620., 615., 615.]), array([617., 621., 615., 615.]), array([617., 622., 615., 615.]), array([618., 623., 615., 615.]), array([618., 624., 615., 615.]), array([618., 625., 615., 615.]), array([619., 626., 615., 615.])]\n",
      "[[  0.   2.   0.   0.]\n",
      " [  0.   4.   0.   0.]\n",
      " [  0.   6.   0.   0.]\n",
      " ...\n",
      " [618. 624.   0.   0.]\n",
      " [618. 625.   0.   0.]\n",
      " [619. 626.   0.   0.]]\n",
      "<mdtraj.Topology with 51 chains, 51 residues, 627 atoms, 578 bonds>\n"
     ]
    }
   ],
   "source": [
    "from openmoltools import packmol\n",
    "import mdtraj as md\n",
    "''' I have manually adjusted the packmol.py file (in ~/anaconda3/envs/openmm/lib/python3.7/site-packages/openmoltools) as the bonds were defined as an array of 1 x 4 \n",
    "but in this case the bond type and order should be in the 3rd and fourth column, this is however not the case.\n",
    "there for this is put to zero at the end which corresponds to a bond order and type of None, though antechambers\n",
    "will put this correct normally based on the bonds. Alternatively n_atoms is added after each molecule \n",
    "to bonds_i [0] and [1] instead to avoid a potential loss of information.\n",
    "\n",
    "    #cast atom type and order to 0\n",
    "    if len(bonds[0])==4:\n",
    "        for idx,frame in enumerate(bonds):\n",
    "          # for idx2,bond in enumerate(frame):\n",
    "               bonds[idx][2] = 0\n",
    "               bonds[idx][3] = 0\n",
    "\n",
    "\n",
    "TODO: Report to openmoltools\n",
    "'''\n",
    "#setting for solvent box\n",
    "sb_name = 'dbu_dmf'\n",
    "n_molecules = [1,50]\n",
    "pdb_filenames = [f\"CID_{cid}.pdb\",f\"CID_{cid2}.pdb\"]\n",
    "#\n",
    "\n",
    "#small check for the constructed topology files\n",
    "top1 = md.load_pdb(f'CID_{cid2}.pdb').topology\n",
    "top2 = md.load_pdb(f'CID_{cid}.pdb').topology\n",
    "print(f'topology 1:{top1}, topology2:{top2}')\n",
    "\n",
    "# create box with corresponding md_traj trajectory and topology\n",
    "md_traj_trajectory = packmol.pack_box(pdb_filenames,n_molecules,box_size=20.0)\n",
    "print(md_traj_trajectory.topology)\n",
    "md_traj_trajectory.save_pdb(f'{sb_name}_openmoltools.pdb')\n"
   ]
  },
  {
   "cell_type": "markdown",
   "metadata": {},
   "source": [
    "### Using Packmol via \"subprocess and os\" (hardcoding)"
   ]
  },
  {
   "cell_type": "code",
   "execution_count": 25,
   "metadata": {},
   "outputs": [
    {
     "name": "stdout",
     "output_type": "stream",
     "text": [
      "{'CID_81184_ac.pdb': 1, 'CID_6228_ac.pdb': 2}\n"
     ]
    }
   ],
   "source": [
    "import tempfile\n",
    "import os\n",
    "import subprocess\n",
    "import numpy as np\n",
    "\n",
    "def add_structure(file,structure,number,dimension):\n",
    "    file.write(f'structure {structure}\\n')\n",
    "    file.write(f'\\t number {number}\\n')\n",
    "    if number ==1:#assuming this is the solute\n",
    "        #file.write('\\t center')\n",
    "        #file.write('\\t fixed 0.0 0.0 0.0 0.0 0.0 0.0 \\n')\n",
    "        #make sure it is in the middle of the box not on the outside\n",
    "        file.write(f'\\t inside cube {dimension/3} {dimension/3} {dimension/3} {2*dimension/3}\\n')\n",
    "    else:\n",
    "        file.write(f'\\t inside cube 0.0 0.0 0.0 {dimension}\\n')\n",
    "    #other options can/should be added here\n",
    "    file.write('end structure \\n')\n",
    "    return\n",
    "\n",
    "#packmol settings\n",
    "sb_name = 'dbu_dmf'\n",
    "packmol_format = 'pdb'\n",
    "cube_dimensions = 30.0  #write function based on rdf and rho?\n",
    "tolerance = 3.0\n",
    "output_structure_file = f\"{sb_name}.{packmol_format}\"\n",
    "output_filename = 'packmol.out'\n",
    "packmol_info = dict()\n",
    "#packmol_info[f\"CID_{cid}_uniqRes.pdb\"] = 1\n",
    "#packmol_info[f\"CID_{cid2}_uniqRes.pdb\"] = 1\n",
    "packmol_info[f\"CID_{cid}_ac.pdb\"] = 1\n",
    "packmol_info[f\"CID_{cid2}_ac.pdb\"] = 2\n",
    "print(packmol_info)\n",
    "\n",
    "with open('packmol.inp','w+') as packmol_inputfile:\n",
    "    packmol_inputfile.write(f'filetype {packmol_format}\\n')\n",
    "    packmol_inputfile.write(f'tolerance {tolerance}\\n')\n",
    "    packmol_inputfile.write(f'output {output_structure_file}\\n\\n')\n",
    "    for key,value in packmol_info.items():\n",
    "        add_structure(packmol_inputfile,key,value,cube_dimensions)\n",
    "        packmol_inputfile.write('\\n')\n",
    "    packmol_inputfile.flush()\n",
    "    packmol_inputfile.seek(0) #put current position at the offset, absolute file positioning is put to 0\n",
    "    with open(output_filename,'w') as outfile:\n",
    "        #Run packmol This should be installed on the computer on which the script is run\n",
    "        #the first argument should be the name of the packmol executable,stdin, should be a file object\n",
    "        code = subprocess.call(\"packmol\",stdin=packmol_inputfile,stdout=outfile)\n",
    "        \n"
   ]
  },
  {
   "cell_type": "markdown",
   "metadata": {},
   "source": [
    "Visualize everything to check the structures"
   ]
  },
  {
   "cell_type": "code",
   "execution_count": 15,
   "metadata": {},
   "outputs": [
    {
     "data": {
      "application/vnd.jupyter.widget-view+json": {
       "model_id": "bb5573825ace4e44b90330c103fbad8b",
       "version_major": 2,
       "version_minor": 0
      },
      "text/plain": [
       "NGLWidget()"
      ]
     },
     "metadata": {},
     "output_type": "display_data"
    }
   ],
   "source": [
    "import nglview\n",
    "import ipywidgets\n",
    "\n",
    "nglview.show_file(f\"{sb_name}_openmoltools.pdb\")"
   ]
  },
  {
   "cell_type": "code",
   "execution_count": 21,
   "metadata": {
    "scrolled": true
   },
   "outputs": [
    {
     "name": "stderr",
     "output_type": "stream",
     "text": [
      "Warning: In AmberToolsToolkitwrapper.compute_partial_charges_am1bcc: Molecule '81184' has more than one conformer, but this function will only generate charges for the first one.\n",
      "Warning: In AmberToolsToolkitwrapper.compute_partial_charges_am1bcc: Molecule '6228' has more than one conformer, but this function will only generate charges for the first one.\n"
     ]
    }
   ],
   "source": [
    "from simtk.openmm.app import *\n",
    "from simtk.openmm import *\n",
    "from simtk.unit import *\n",
    "from openforcefield.tests.utils import get_data_file_path, get_packmol_pdb_file_path\n",
    "import mdtraj as md\n",
    "\n",
    "#Define all monomers (sdf,smiles or mol format) used in the solvent box, \n",
    "#(if a licence for openEye is obtained this can also be other formats are applicable)\n",
    "monomer_names = (f'CID_{cid2}.sdf',f'CID_{cid}.sdf') \n",
    "\n",
    "from openforcefield.topology import Molecule, Topology\n",
    "\n",
    "\n",
    "pdb_2 = PDBFile(f\"{sb_name}_openmoltools.pdb\")\n",
    "unique_molecules = [Molecule.from_file(name) for name in monomer_names]\n",
    "\n",
    "\n",
    "#omm_forcefield = app.ForceField('openff-1.0.0.offxml')\n",
    "omm_topology = pdb_2.getTopology()\n",
    "box_positions = pdb_2.getPositions()\n",
    "off_box_topology = Topology.from_openmm(pdb_2.topology, unique_molecules=unique_molecules)\n",
    "off_box_system = off_forcefield.create_openmm_system(off_box_topology)\n",
    "\n"
   ]
  },
  {
   "cell_type": "markdown",
   "metadata": {},
   "source": [
    "### "
   ]
  },
  {
   "cell_type": "code",
   "execution_count": null,
   "metadata": {},
   "outputs": [],
   "source": []
  },
  {
   "cell_type": "code",
   "execution_count": null,
   "metadata": {},
   "outputs": [],
   "source": []
  },
  {
   "cell_type": "code",
   "execution_count": null,
   "metadata": {},
   "outputs": [],
   "source": []
  },
  {
   "cell_type": "markdown",
   "metadata": {},
   "source": [
    "## Performing an energy calculations"
   ]
  },
  {
   "cell_type": "code",
   "execution_count": 22,
   "metadata": {},
   "outputs": [
    {
     "name": "stdout",
     "output_type": "stream",
     "text": [
      "Original energy: 7032.411703329492 kJ/mol\n"
     ]
    }
   ],
   "source": [
    "import numpy as np\n",
    "\n",
    "integrator = VerletIntegrator(1.0 * femtoseconds)\n",
    "context = Context(off_box_system, integrator)\n",
    "context.setPositions(box_positions)\n",
    "state = context.getState(getEnergy=True)\n",
    "energy = state.getPotentialEnergy().in_units_of(kilojoules_per_mole)\n",
    "\n",
    "\n",
    "print(f\"Original energy: {energy}\")"
   ]
  },
  {
   "cell_type": "markdown",
   "metadata": {},
   "source": [
    "## Performing a molecular dynamics simulations for the new compound"
   ]
  },
  {
   "cell_type": "code",
   "execution_count": 23,
   "metadata": {},
   "outputs": [
    {
     "name": "stdout",
     "output_type": "stream",
     "text": [
      "Starting simulation\n",
      "#\"Step\",\"Temperature (K)\",\"Elapsed Time (s)\"\n",
      "100,110.46843955724496,0.0004265308380126953\n",
      "200,208.31290280901484,0.22046637535095215\n",
      "300,299.3010036571291,0.427501916885376\n",
      "400,363.306994552848,0.6685197353363037\n",
      "500,386.2956910550528,0.8867383003234863\n",
      "600,434.96334949762627,1.0937793254852295\n",
      "700,445.1117451350331,1.3039963245391846\n",
      "800,470.98682389521815,1.5528504848480225\n",
      "900,479.0039221838321,1.7993004322052002\n",
      "1000,495.8970297828185,2.013545036315918\n",
      "1100,512.5588832896391,2.3064351081848145\n",
      "1200,489.10033095475603,2.543405055999756\n",
      "1300,513.9534177975352,3.0567173957824707\n",
      "1400,558.1624718685638,3.2776682376861572\n",
      "1500,579.0892243654,3.480391502380371\n",
      "1600,533.6972388222322,3.694087266921997\n",
      "1700,581.6636947891159,3.896881580352783\n",
      "1800,578.0175354746037,4.103826522827148\n",
      "1900,590.8242143209113,4.311960220336914\n",
      "2000,600.2401959061195,4.525664329528809\n",
      "2100,590.3252580135463,4.734823942184448\n",
      "2200,594.0928149048498,4.941352844238281\n",
      "2300,596.1526709904447,5.1508660316467285\n",
      "2400,579.4654168330694,5.351321458816528\n",
      "2500,581.4954788255869,5.566528558731079\n",
      "2600,590.804535972177,5.773691892623901\n",
      "2700,612.8996511383984,6.016949415206909\n",
      "2800,650.6758146178435,6.2324604988098145\n",
      "2900,656.5878770694967,6.489946365356445\n",
      "3000,630.5120850237897,6.751474380493164\n",
      "3100,647.8645280882953,7.015486240386963\n",
      "3200,600.8614861457307,7.291157960891724\n",
      "3300,596.0735452073538,7.4849419593811035\n",
      "3400,595.6263835225406,7.702373266220093\n",
      "3500,582.8374898552186,8.131426572799683\n",
      "3600,603.4962449222649,8.36313009262085\n",
      "3700,595.5273579068231,8.605328798294067\n",
      "3800,607.1681245359122,8.837515830993652\n",
      "3900,593.5598154717533,9.033352136611938\n",
      "4000,610.6906428025572,9.240398406982422\n",
      "4100,593.5496594094817,9.432889223098755\n",
      "4200,617.9596732800984,9.683839082717896\n",
      "4300,619.3785246004813,9.871628522872925\n",
      "4400,627.6957682735707,10.088983297348022\n",
      "4500,581.8897032453398,10.330080270767212\n",
      "4600,614.0667966518722,10.601183891296387\n",
      "4700,611.6867206600207,10.807373762130737\n",
      "4800,608.3591753481138,11.020825386047363\n",
      "4900,569.9066196475441,11.229698657989502\n",
      "5000,550.2756211134451,11.436927556991577\n",
      "5100,581.339852004908,11.638621091842651\n",
      "5200,604.212617747633,11.854251146316528\n",
      "5300,576.0372045960651,12.069770336151123\n",
      "5400,598.9877698674775,12.263665914535522\n",
      "5500,609.887668753454,12.465936660766602\n",
      "5600,606.3521923793719,12.660354137420654\n",
      "5700,628.4152644460265,12.875630855560303\n",
      "5800,628.5656503479555,13.067091464996338\n",
      "5900,617.5901632564052,13.275195837020874\n",
      "6000,610.246588110357,13.475573301315308\n",
      "6100,600.3864176133525,13.69092869758606\n",
      "6200,598.6001136470774,13.929890871047974\n",
      "6300,595.1890501677731,14.330310821533203\n",
      "6400,628.3830021962683,14.571993589401245\n",
      "6500,567.7589653552121,14.86850643157959\n",
      "6600,594.1048147810733,15.128648281097412\n",
      "6700,605.9630670755482,15.428322076797485\n",
      "6800,625.5266511211619,15.667501211166382\n",
      "6900,634.6039435054503,15.888900756835938\n",
      "7000,592.7408869747444,16.09164571762085\n",
      "7100,625.4386221196246,16.296781063079834\n",
      "7200,603.1552739087642,16.512819290161133\n",
      "7300,607.5435893566895,16.73785948753357\n",
      "7400,583.0074692183613,16.973078727722168\n",
      "7500,581.1028465962806,17.189866304397583\n",
      "7600,587.2740761443812,17.44351601600647\n",
      "7700,624.9051571881354,17.67377209663391\n",
      "7800,608.6193209610775,17.896281480789185\n",
      "7900,617.4678692205447,18.174954175949097\n",
      "8000,587.0947851059037,18.3921115398407\n",
      "8100,587.7633573312605,18.608434677124023\n",
      "8200,593.3716937140533,18.823962926864624\n",
      "8300,562.9239969631186,19.21286368370056\n",
      "8400,589.5569367630484,19.43751621246338\n",
      "8500,552.5195031027388,19.71088695526123\n",
      "8600,571.9976925509773,19.9177143573761\n",
      "8700,601.2996369864419,20.1462185382843\n",
      "8800,577.8523719489333,20.40555477142334\n",
      "8900,590.4746612166467,20.660391092300415\n",
      "9000,599.244200691544,20.89376664161682\n",
      "9100,609.4324818865217,21.101261377334595\n",
      "9200,598.5271150189038,21.316492080688477\n",
      "9300,645.1779625267989,21.578585147857666\n",
      "9400,616.2059942869989,21.773518800735474\n",
      "9500,597.185534270684,22.00453281402588\n",
      "9600,613.289112467483,22.220259428024292\n",
      "9700,632.7391070508176,22.447115659713745\n",
      "9800,597.6031582423776,22.638553142547607\n",
      "9900,618.0304269966888,22.834999561309814\n",
      "10000,605.8909950937759,23.022138118743896\n",
      "Elapsed time 43.51 seconds\n",
      "Done!\n"
     ]
    }
   ],
   "source": [
    "from sys import stdout\n",
    "import time\n",
    "\n",
    "#thermostat\n",
    "integrator = LangevinIntegrator(600*kelvin, 1/picosecond, 2*femtoseconds)\n",
    "#for isobaric simulation\n",
    "off_box_system.addForce(MonteCarloBarostat(1*bar, 600*kelvin))  \n",
    "\n",
    "#setting up the simulation\n",
    "simulation = Simulation(pdb_2.topology, off_box_system, integrator)\n",
    "simulation.context.setPositions(box_positions)\n",
    "simulation.minimizeEnergy()\n",
    "\n",
    "\n",
    "with open(\"init.pdb\", \"w\") as f:\n",
    "    PDBFile.writeFile(simulation.topology, pdb_2.positions, f)\n",
    "simulation.reporters = []\n",
    "simulation.reporters.append(DCDReporter('traj.dcd', 10))\n",
    "simulation.reporters.append(StateDataReporter(stdout, 100, step=True,\n",
    "                                              temperature=True, elapsedTime=True))\n",
    "simulation.reporters.append(StateDataReporter(\"scalars.csv\", 100, time=True,\n",
    "                                              potentialEnergy=True, totalEnergy=True, temperature=True))\n",
    "\n",
    "print(\"Starting simulation\")\n",
    "start = time.process_time()\n",
    "\n",
    "simulation.step(10000)\n",
    "\n",
    "end = time.process_time()\n",
    "print(\"Elapsed time %.2f seconds\" % (end-start))\n",
    "print(\"Done!\")\n"
   ]
  },
  {
   "cell_type": "markdown",
   "metadata": {},
   "source": [
    "## Visualize the output"
   ]
  },
  {
   "cell_type": "code",
   "execution_count": 24,
   "metadata": {},
   "outputs": [
    {
     "data": {
      "application/vnd.jupyter.widget-view+json": {
       "model_id": "16d698b558ac422daa3bb0add50b454c",
       "version_major": 2,
       "version_minor": 0
      },
      "text/plain": [
       "NGLWidget(count=1000)"
      ]
     },
     "metadata": {},
     "output_type": "display_data"
    }
   ],
   "source": [
    "\n",
    "traj = md.load('traj.dcd', top='init.pdb')\n",
    "traj.superpose(traj, 0)\n",
    "nglview.show_mdtraj(traj)"
   ]
  },
  {
   "cell_type": "code",
   "execution_count": null,
   "metadata": {},
   "outputs": [],
   "source": []
  }
 ],
 "metadata": {
  "kernelspec": {
   "display_name": "Python 3",
   "language": "python",
   "name": "python3"
  },
  "language_info": {
   "codemirror_mode": {
    "name": "ipython",
    "version": 3
   },
   "file_extension": ".py",
   "mimetype": "text/x-python",
   "name": "python",
   "nbconvert_exporter": "python",
   "pygments_lexer": "ipython3",
   "version": "3.7.6"
  }
 },
 "nbformat": 4,
 "nbformat_minor": 2
}
