{
 "cells": [
  {
   "cell_type": "markdown",
   "metadata": {},
   "source": [
    "# Solvent Box generation of non-standard solvent and non-standard solutes by means of OpenForceField "
   ]
  },
  {
   "cell_type": "markdown",
   "metadata": {},
   "source": [
    "Dependencies:\n",
    "- openbabel \n",
    "- openmoltools (a.t.m. packmol.py should be adjusted)\n",
    "- openforcefield\n",
    "- mdtraj\n",
    "- nglview"
   ]
  },
  {
   "cell_type": "markdown",
   "metadata": {},
   "source": [
    "## Parameterizing all compounds with the openFF forcefield"
   ]
  },
  {
   "cell_type": "markdown",
   "metadata": {},
   "source": [
    "### Collect sdf files for both the solvent and the solutes from pubchem"
   ]
  },
  {
   "cell_type": "code",
   "execution_count": 7,
   "metadata": {},
   "outputs": [],
   "source": [
    "#Create force field parameter files for small molecule\n",
    "import requests\n",
    "from openbabel import openbabel\n",
    "\n",
    "#Pubchem id for DBU is 81184, alphaCC1 78175, DMF 6228\n",
    "#Provide all Pubchem cids for the compounds which should be added\n",
    "solutes = [\"81184\",\"78175\",\"7509\"]\n",
    "solvents = [\"6228\"]\n",
    "\n",
    "#generate sdf files and transform them to pdb using openbabel\n",
    "obConversion = openbabel.OBConversion()\n",
    "obConversion.SetInAndOutFormats(\"sdf\", \"pdb\")\n",
    "mol = openbabel.OBMol()\n",
    "# TODO: Can we add residue names, instead of a cumbursome conversion process in which residue names are added\n",
    "\n",
    "for cid in solutes+solvents:\n",
    "    url = f\"https://pubchem.ncbi.nlm.nih.gov/rest/pug/compound/CID/{cid}/record/SDF/?record_type=3d&response_type=save\"\n",
    "    with open(f\"CID_{cid}.sdf\", \"w\") as f:\n",
    "        f.write(requests.get(url).text)\n",
    "    obConversion.ReadFile(mol, f\"CID_{cid}.sdf\")\n",
    "    obConversion.WriteFile(mol, f\"CID_{cid}.pdb\")\n",
    "\n"
   ]
  },
  {
   "cell_type": "markdown",
   "metadata": {},
   "source": [
    "### Forcefield and simulation settings"
   ]
  },
  {
   "cell_type": "markdown",
   "metadata": {},
   "source": [
    "Due to conflicting packages (openforcefield Forcefield and OpenMM Forcefield), we already define the forcefield here in the case of the openFF."
   ]
  },
  {
   "cell_type": "code",
   "execution_count": 77,
   "metadata": {},
   "outputs": [],
   "source": [
    "from openforcefield.utils import *\n",
    "from openforcefield.topology import *\n",
    "from openforcefield.utils.toolkits import OpenEyeToolkitWrapper\n",
    "from openforcefield.typing.engines.smirnoff import ForceField\n",
    "\n",
    "#Provide forcefield settings\n",
    "solutes = [\"81184\",\"78175\",\"7509\"]\n",
    "solvents = [\"6228\"]\n",
    "##Forcefield\n",
    "off_forcefield = ForceField('openff-1.0.0.offxml')\n",
    "#Simulation settings\n",
    "temperature = 298.15 #in K \n",
    "pressure = 1 #in bar, for an isobaric simulation\n",
    "timestep = 2 #in femtoseconds\n",
    "total_simulation_steps = 1000000 "
   ]
  },
  {
   "cell_type": "markdown",
   "metadata": {},
   "source": [
    "## Solvent box Setup"
   ]
  },
  {
   "cell_type": "markdown",
   "metadata": {},
   "source": [
    "### Assessment of the Parsley forcefield to describe the organic solvent"
   ]
  },
  {
   "cell_type": "markdown",
   "metadata": {},
   "source": [
    "#### Creating the solvent box"
   ]
  },
  {
   "cell_type": "code",
   "execution_count": 3,
   "metadata": {},
   "outputs": [
    {
     "name": "stdout",
     "output_type": "stream",
     "text": [
      "\n",
      "# Mixture \n",
      "\n",
      "tolerance 2.000000\n",
      "filetype pdb\n",
      "output /tmp/tmps384zvf2/tmp896w3oxp.pdb\n",
      "add_amber_ter\n",
      "\n",
      "\n",
      "structure CID_6228.pdb\n",
      "  number 100 \n",
      "  inside box 0. 0. 0. 18.000000 18.000000 18.000000\n",
      "end structure\n",
      "\n",
      "<mdtraj.Topology with 100 chains, 100 residues, 1200 atoms, 1100 bonds>\n"
     ]
    }
   ],
   "source": [
    "from openmoltools import packmol\n",
    "import mdtraj as md\n",
    "\n",
    "#settings for solvent box\n",
    "solvent_box_name = 'pure_solvent_box'\n",
    "number_of_solvent_molecules = 100\n",
    "#number of molecules for each solute and solvent species in the order of the solutes and solvents provided before\n",
    "n_molecules = [number_of_solvent_molecules]\n",
    "if len(n_molecules)!= len(solvents): raise ValueError('Ascribe a number of molecules for each species') \n",
    "box_size = 20.0\n",
    "pdb_filenames = [f\"CID_{cid}.pdb\" for cid in solvents]\n",
    "\n",
    "# create box with corresponding md_traj trajectory and topology\n",
    "md_traj_trajectory = packmol.pack_box(pdb_filenames,n_molecules,box_size=box_size)\n",
    "print(md_traj_trajectory.topology)\n",
    "md_traj_trajectory.save_pdb(f'{solvent_box_name}_N{number_of_solvent_molecules}_openmoltools.pdb')"
   ]
  },
  {
   "cell_type": "markdown",
   "metadata": {},
   "source": [
    "#### Creating the force field for the pure solvent box"
   ]
  },
  {
   "cell_type": "code",
   "execution_count": 7,
   "metadata": {},
   "outputs": [
    {
     "name": "stderr",
     "output_type": "stream",
     "text": [
      "Warning: In AmberToolsToolkitwrapper.compute_partial_charges_am1bcc: Molecule '6228' has more than one conformer, but this function will only generate charges for the first one.\n"
     ]
    }
   ],
   "source": [
    "from simtk.openmm.app import *\n",
    "from simtk.openmm import *\n",
    "from simtk.unit import *\n",
    "from openforcefield.topology import Molecule, Topology\n",
    "\n",
    "#Define all monomers (sdf,smiles or mol format) used in the solvent box, \n",
    "#(if a licence for openEye is obtained this can also be other formats are applicable)\n",
    "monomer_names = [f\"CID_{cid}.sdf\" for cid in solvents]\n",
    "pdb_solvent_box = PDBFile(f'{solvent_box_name}_N{number_of_solvent_molecules}_openmoltools.pdb')\n",
    "unique_molecules = [Molecule.from_file(name) for name in monomer_names]\n",
    "\n",
    "#omm_topology = pdb_box.getTopology()\n",
    "pure_solvent_box_positions = pdb_solvent_box.getPositions()\n",
    "off_solvent_box_topology = Topology.from_openmm(pdb_solvent_box.topology, unique_molecules=unique_molecules)\n",
    "off_solvent_box_system = off_forcefield.create_openmm_system(off_solvent_box_topology)"
   ]
  },
  {
   "cell_type": "markdown",
   "metadata": {},
   "source": [
    "#### Equilibrate the solvent box until the volume is converged"
   ]
  },
  {
   "cell_type": "code",
   "execution_count": 13,
   "metadata": {},
   "outputs": [
    {
     "name": "stdout",
     "output_type": "stream",
     "text": [
      "Starting simulation\n",
      "#\"Step\",\"Temperature (K)\",\"Elapsed Time (s)\"\n",
      "10000,294.09976242064187,0.00020813941955566406\n",
      "20000,301.94464845613504,36.561129570007324\n",
      "30000,308.8461845467892,70.65806126594543\n",
      "40000,288.21475436837613,105.18671727180481\n",
      "50000,293.42622596718087,140.26953792572021\n",
      "60000,298.8537693218038,174.0888957977295\n",
      "70000,307.42046632481566,208.7101480960846\n",
      "80000,298.75069552723846,243.49284386634827\n",
      "90000,289.61639537200267,279.5744481086731\n",
      "100000,300.68139521189204,313.39149260520935\n",
      "Elapsed time 815.74 seconds\n",
      "Done!\n"
     ]
    }
   ],
   "source": [
    "from sys import stdout\n",
    "import time\n",
    "\n",
    "#Thermostat\n",
    "integrator = LangevinIntegrator(temperature*kelvin, 1/picosecond, timestep*femtoseconds)\n",
    "#for isobaric simulation\n",
    "off_solvent_box_system.addForce(MonteCarloBarostat(pressure*bar, temperature*kelvin))  \n",
    "\n",
    "#setting up the simulation\n",
    "simulation = Simulation(pdb_solvent_box.topology, off_solvent_box_system, integrator)\n",
    "simulation.context.setPositions(pure_solvent_box_positions)\n",
    "simulation.minimizeEnergy()\n",
    "\n",
    "\n",
    "with open(f\"initial_{solvent_box_name}_N{number_of_solvent_molecules}.pdb\", \"w\") as f:\n",
    "    PDBFile.writeFile(simulation.topology, pure_solvent_box_positions, f)\n",
    "    \n",
    "simulation.reporters = []\n",
    "simulation.reporters.append(DCDReporter(f'traj_{solvent_box_name}_N{number_of_solvent_molecules}.dcd', 100))\n",
    "simulation.reporters.append(StateDataReporter(stdout, 10000, step=True,\n",
    "                                              temperature=True, elapsedTime=True))\n",
    "simulation.reporters.append(StateDataReporter(f\"scalars_{solvent_box_name}_N{number_of_solvent_molecules}.csv\", 100, time=True,\n",
    "                                              potentialEnergy=True, totalEnergy=True, temperature=True,volume=True,density=True))\n",
    "\n",
    "print(\"Starting simulation\")\n",
    "start = time.process_time()\n",
    "\n",
    "simulation.step(total_simulation_steps)\n",
    "\n",
    "end = time.process_time()\n",
    "print(\"Elapsed time %.2f seconds\" % (end-start))\n",
    "print(\"Done!\")"
   ]
  },
  {
   "cell_type": "markdown",
   "metadata": {},
   "source": [
    "#### Check whether the simulated density matches the calculated one"
   ]
  },
  {
   "cell_type": "markdown",
   "metadata": {},
   "source": [
    "##### Density $\\rho$"
   ]
  },
  {
   "cell_type": "code",
   "execution_count": 9,
   "metadata": {},
   "outputs": [
    {
     "name": "stdout",
     "output_type": "stream",
     "text": [
      "The experimental saturated liquid density of acetonitril at 298.15K: 0.95 g/ml\n",
      "The average density at convergion is: 0.9818521161632974\n",
      "The absolute difference between obtained and experimental density is:0.03185211616329742\n"
     ]
    },
    {
     "data": {
      "image/png": "[encoded data removed]",
      "text/plain": [
       "<Figure size 432x288 with 1 Axes>"
      ]
     },
     "metadata": {
      "needs_background": "light"
     },
     "output_type": "display_data"
    }
   ],
   "source": [
    "import matplotlib.pyplot as plt\n",
    "import pandas as pd\n",
    "import numpy as np\n",
    "\n",
    "data = pd.read_csv(f'scalars_{solvent_box_name}_N{number_of_solvent_molecules}.csv')\n",
    "time = data['#\"Time (ps)\"']\n",
    "V = data[\"Box Volume (nm^3)\"]\n",
    "rho = data[\"Density (g/mL)\"]\n",
    "plt.plot(time,rho)\n",
    "plt.xlabel('Time (ps)')\n",
    "plt.ylabel('Density (g/mL)')\n",
    "\n",
    "total_value = 0\n",
    "ma_data=[]\n",
    "for idx,value in enumerate(rho):\n",
    "    total_value += value\n",
    "    ma_data.append(total_value/(idx+1))\n",
    "\n",
    "ma_data = np.array(ma_data)\n",
    "plt.plot(time,ma_data,'black')\n",
    "\n",
    "#http://ddbonline.ddbst.de/DIPPR105DensityCalculation/DIPPR105CalculationCGI.exe?component=Acetonitrile\n",
    "#obtain via cid??? search tool?\n",
    "print(\"The experimental saturated liquid density of acetonitril at 298.15K: 0.95 g/ml\")\n",
    "print(f\"The average density at convergion is: {ma_data[-1]}\")\n",
    "print(f\"The absolute difference between obtained and experimental density is:{abs(ma_data[-1]-0.95)}\")\n",
    "plt.show()\n"
   ]
  },
  {
   "cell_type": "markdown",
   "metadata": {},
   "source": [
    "##### Volume **V**"
   ]
  },
  {
   "cell_type": "code",
   "execution_count": 10,
   "metadata": {},
   "outputs": [
    {
     "name": "stdout",
     "output_type": "stream",
     "text": [
      "The average volume at convergion is: 12.375269212379248\n"
     ]
    },
    {
     "data": {
      "image/png": "[encoded data removed]",
      "text/plain": [
       "<Figure size 432x288 with 1 Axes>"
      ]
     },
     "metadata": {
      "needs_background": "light"
     },
     "output_type": "display_data"
    }
   ],
   "source": [
    "plt.plot(time,V)\n",
    "plt.xlabel('Time (ps)')\n",
    "plt.ylabel('Box Volume ($nm^3$)')\n",
    "total_value = 0\n",
    "ma_data=[]\n",
    "for idx,value in enumerate(V):\n",
    "    total_value += value\n",
    "    ma_data.append(total_value/(idx+1))\n",
    "\n",
    "ma_data = np.array(ma_data)\n",
    "plt.plot(time,ma_data,'black')\n",
    "print(f\"The average volume at convergion is: {ma_data[-1]}\")\n",
    "plt.show()"
   ]
  },
  {
   "cell_type": "markdown",
   "metadata": {},
   "source": [
    "### Creating a box with solvated solute(s)"
   ]
  },
  {
   "cell_type": "markdown",
   "metadata": {},
   "source": [
    "####  Determining the number of solvent molecules (upper bound)"
   ]
  },
  {
   "cell_type": "markdown",
   "metadata": {},
   "source": [
    "At the moment this volume is calculated with some manual input extracted a coordinate file manipulated with the program of choice. Ideally, in the future, this is automated. Here the calculated number of molecules is an upper bound as we do not account for the volume of the solutes itselves. This is easily done with Gaussian using the Volume keyword."
   ]
  },
  {
   "cell_type": "code",
   "execution_count": 68,
   "metadata": {},
   "outputs": [
    {
     "name": "stdout",
     "output_type": "stream",
     "text": [
      "The number of solvent molecules is:46\n"
     ]
    }
   ],
   "source": [
    "from molmod.units import *\n",
    "from molmod.constants import *\n",
    "import numpy as np\n",
    "\n",
    "rho_exp = 0.950*gram/(centimeter**3)\n",
    "MM= 73*gram #Molecular weight\n",
    "\n",
    "##Determine initial box dimensions\n",
    "#The number of solvent layers, can be determined using rdfs, or just use one in case only short range interactions are important and no proton-hopping mechanisms occur\n",
    "number_of_solvent_layers = 1\n",
    "Length_solutes =[6.3,7.0,5.5]\n",
    "Length_solvent =[4.3]\n",
    "Margin = [2.0] #this could be interesting to allow for through-space interactions occuring with the solvent which prevent close proximities\n",
    "#2 options, on one hand you can allow for all solutes to be able to diffuse away from each other and get surrounded\n",
    "# by a number of solvent layers (option 1); secondly one can make sure the total complex is surrounded with n solvent layers\n",
    "# this latter option (option2) allows one to prevent far diffusion of the solutes and hence model reactivity?\n",
    "\n",
    "option = 2\n",
    "\n",
    "#If the solvent is a mixture one could calculate an alternative length? or take max length ?\n",
    "\n",
    "Max_length = 0\n",
    "\n",
    "if option==1:\n",
    "    for length in Length_solutes:\n",
    "        Max_length += number_of_solvent_layers*2*(Length_solvent[0]+Margin[0]) + length  \n",
    "elif option==2:\n",
    "    Max_length += number_of_solvent_layers*(Length_solvent[0]+Margin[0])*2 + sum(Length_solutes)\n",
    "Total_length = np.sqrt((Max_length**2)/3)\n",
    "\n",
    "Volume = (Total_length*angstrom)**3   #in bohr³\n",
    "#Determine the number of solvent molecules\n",
    "#1L ~= 1dm³ , approx\n",
    "n_solvent_mol = int((rho_exp * Volume / MM) *avogadro)\n",
    "print(f'The number of solvent molecules is:{n_solvent_mol}')\n"
   ]
  },
  {
   "cell_type": "markdown",
   "metadata": {},
   "source": [
    "#### Set box settings"
   ]
  },
  {
   "cell_type": "code",
   "execution_count": 69,
   "metadata": {},
   "outputs": [],
   "source": [
    "#settings for solvent box\n",
    "sb_name = f'dbu_thiol_aCC_{len(solutes)}solutes_N{n_solvent_mol}solvent_box'\n",
    "box_size = Total_length\n",
    "\n",
    "#number of molecules for each solute and solvent species in the order of the solutes and solvents provided before\n",
    "n_molecules = [1,1,1,n_solvent_mol]\n",
    "if len(n_molecules)!= len(solutes)+len(solvents): raise ValueError('Ascribe a number of molecules for each species') "
   ]
  },
  {
   "cell_type": "markdown",
   "metadata": {},
   "source": [
    "### Using the SolvationToolkit package to solvate the system (https://github.com/MobleyLab/SolvationToolkit); https://github.com/openforcefield/open-forcefield-tools; "
   ]
  },
  {
   "cell_type": "markdown",
   "metadata": {},
   "source": [
    "The use of some of the features included in this package require an OpenEye licence which can be requested from their site. Adviced in case you want make use of this the open Eye package more frequently. Open Eye provides a very broad scope of tools to handle molecular objects for simulation purposes. Alternatively to OpenEye we use openmoltools (*Vide infra*)"
   ]
  },
  {
   "cell_type": "code",
   "execution_count": null,
   "metadata": {},
   "outputs": [],
   "source": [
    "'''from solvationtoolkit.solvated_mixtures import *\n",
    "#specify the path to save the data and setup system\n",
    "sb_name = 'dbu_dmf'\n",
    "solvent_box = MixtureSystem(f\"./{sb_name}\")\n",
    "\n",
    "solvent_box.addComponent(label='dmf',smiles='CN(C)C=O',number=100)\n",
    "solvent_box.addComponent(label='dbu',smiles='C1CCC2=NCCCN2CC1',number='1')\n",
    "mixture.build()\n",
    "'''"
   ]
  },
  {
   "cell_type": "markdown",
   "metadata": {},
   "source": [
    "###  Using openmoltools (https://github.com/choderalab/openmoltools)"
   ]
  },
  {
   "cell_type": "markdown",
   "metadata": {},
   "source": [
    "I have manually adjusted the packmol.py file (in ~/anaconda3/envs/openmm/lib/python3.7/site-packages/openmoltools) as the bonds were defined as an array of 1 x 4 \n",
    "but in this case the bond type and order should be in the 3rd and fourth column, this is however not the case.\n",
    "there for this is put to zero at the end which corresponds to a bond order and type of None, though antechambers\n",
    "will put this correct normally based on the bonds. Alternatively n_atoms is added after each molecule \n",
    "to bonds_i [0] and [1] instead to avoid a potential loss of information.\n",
    "'''\n",
    "    #cast atom type and order to 0\n",
    "    if len(bonds[0])==4:\n",
    "        for idx,frame in enumerate(bonds):\n",
    "               bonds[idx][2] = 0\n",
    "               bonds[idx][3] = 0\n",
    "\n",
    "TODO: Report to openmoltools"
   ]
  },
  {
   "cell_type": "code",
   "execution_count": 70,
   "metadata": {},
   "outputs": [
    {
     "name": "stdout",
     "output_type": "stream",
     "text": [
      "\n",
      "# Mixture \n",
      "\n",
      "tolerance 2.000000\n",
      "filetype pdb\n",
      "output /tmp/tmp_gwurym_/tmp5u9o3ky0.pdb\n",
      "add_amber_ter\n",
      "\n",
      "\n",
      "structure CID_81184.pdb\n",
      "  number 1 \n",
      "  inside box 0. 0. 0. 16.128798 16.128798 16.128798\n",
      "end structure\n",
      "\n",
      "structure CID_78175.pdb\n",
      "  number 1 \n",
      "  inside box 0. 0. 0. 16.128798 16.128798 16.128798\n",
      "end structure\n",
      "\n",
      "structure CID_7509.pdb\n",
      "  number 1 \n",
      "  inside box 0. 0. 0. 16.128798 16.128798 16.128798\n",
      "end structure\n",
      "\n",
      "structure CID_6228.pdb\n",
      "  number 46 \n",
      "  inside box 0. 0. 0. 16.128798 16.128798 16.128798\n",
      "end structure\n",
      "\n",
      "<mdtraj.Topology with 49 chains, 49 residues, 612 atoms, 567 bonds>\n"
     ]
    }
   ],
   "source": [
    "from openmoltools import packmol\n",
    "import mdtraj as md\n",
    "\n",
    "pdb_filenames = [f\"CID_{cid}.pdb\" for cid in solutes+solvents]\n",
    "\n",
    "# create box with corresponding md_traj trajectory and topology\n",
    "md_traj_trajectory = packmol.pack_box(pdb_filenames,n_molecules,box_size=box_size)\n",
    "print(md_traj_trajectory.topology)\n",
    "md_traj_trajectory.save_pdb(f'{sb_name}_openmoltools.pdb')\n"
   ]
  },
  {
   "cell_type": "markdown",
   "metadata": {},
   "source": [
    "### Visualize the created solvent box"
   ]
  },
  {
   "cell_type": "code",
   "execution_count": 71,
   "metadata": {},
   "outputs": [
    {
     "data": {
      "application/vnd.jupyter.widget-view+json": {
       "model_id": "733cd0ca11e34f9ea4b5338d5b16d7a4",
       "version_major": 2,
       "version_minor": 0
      },
      "text/plain": [
       "NGLWidget()"
      ]
     },
     "metadata": {},
     "output_type": "display_data"
    }
   ],
   "source": [
    "import nglview\n",
    "import ipywidgets\n",
    "\n",
    "nglview.show_file(f\"{sb_name}_openmoltools.pdb\")"
   ]
  },
  {
   "cell_type": "markdown",
   "metadata": {},
   "source": [
    "##  Generate a forcefield for the solvent box"
   ]
  },
  {
   "cell_type": "code",
   "execution_count": 75,
   "metadata": {
    "scrolled": true
   },
   "outputs": [
    {
     "name": "stderr",
     "output_type": "stream",
     "text": [
      "Warning: In AmberToolsToolkitwrapper.compute_partial_charges_am1bcc: Molecule '81184' has more than one conformer, but this function will only generate charges for the first one.\n",
      "Warning: In AmberToolsToolkitwrapper.compute_partial_charges_am1bcc: Molecule '78175' has more than one conformer, but this function will only generate charges for the first one.\n",
      "Warning: In AmberToolsToolkitwrapper.compute_partial_charges_am1bcc: Molecule '7509' has more than one conformer, but this function will only generate charges for the first one.\n",
      "Warning: In AmberToolsToolkitwrapper.compute_partial_charges_am1bcc: Molecule '6228' has more than one conformer, but this function will only generate charges for the first one.\n"
     ]
    }
   ],
   "source": [
    "from simtk.openmm.app import *\n",
    "from simtk.openmm import *\n",
    "from simtk.unit import *\n",
    "from openforcefield.topology import Molecule, Topology\n",
    "\n",
    "#Define all monomers (sdf,smiles or mol format) used in the solvent box, \n",
    "#(if a licence for openEye is obtained this can also be other formats are applicable)\n",
    "monomer_names = [f\"CID_{cid}.sdf\" for cid in solutes+solvents]\n",
    "pdb_box = PDBFile(f\"{sb_name}_openmoltools.pdb\")\n",
    "unique_molecules = [Molecule.from_file(name) for name in monomer_names]\n",
    "\n",
    "#omm_topology = pdb_box.getTopology()\n",
    "box_positions = pdb_box.getPositions()\n",
    "off_box_topology = Topology.from_openmm(pdb_box.topology, unique_molecules=unique_molecules)\n",
    "#if Total_length/2*angstrom > 1*nanometer:\n",
    "off_box_system = off_forcefield.create_openmm_system(off_box_topology)\n",
    "#off_box_system.setNonbondedMethod(PME)\n",
    "#else:\n",
    "    #off_box_system.setCutoffDistance(Total_length/2*angstrom)\n",
    "    #off_box_system = off_forcefield.create_openmm_system(off_box_topology,nonbondedMethod=PME,nonbondedCutoff=Total_length/2*angstrom)\n",
    "    #off_box_system.setNonbondedMethod(PME)\n",
    "\n"
   ]
  },
  {
   "cell_type": "markdown",
   "metadata": {},
   "source": [
    "## Performing an energy calculations"
   ]
  },
  {
   "cell_type": "code",
   "execution_count": 78,
   "metadata": {},
   "outputs": [
    {
     "name": "stdout",
     "output_type": "stream",
     "text": [
      "Original energy: 5827.064907281102 kJ/mol\n"
     ]
    }
   ],
   "source": [
    "import numpy as np\n",
    "\n",
    "integrator = VerletIntegrator(1.0 * femtoseconds)\n",
    "context = Context(off_box_system, integrator)\n",
    "context.setPositions(box_positions)\n",
    "state = context.getState(getEnergy=True)\n",
    "energy = state.getPotentialEnergy().in_units_of(kilojoules_per_mole)\n",
    "\n",
    "\n",
    "print(f\"Original energy: {energy}\")"
   ]
  },
  {
   "cell_type": "markdown",
   "metadata": {},
   "source": [
    "## Performing a molecular dynamics simulations for the new compound"
   ]
  },
  {
   "cell_type": "code",
   "execution_count": 79,
   "metadata": {
    "scrolled": true
   },
   "outputs": [
    {
     "name": "stdout",
     "output_type": "stream",
     "text": [
      "Starting simulation\n",
      "#\"Step\",\"Temperature (K)\",\"Box Volume (nm^3)\",\"Density (g/mL)\",\"Elapsed Time (s)\"\n",
      "10000,303.4877145245693,6.300735137595172,0.9927540771790018,0.00013184547424316406\n",
      "20000,291.29911280436244,6.225954260474582,1.0046781963662874,14.732744693756104\n",
      "30000,295.82011722207943,6.348605922163776,0.9852683524166053,29.419393301010132\n",
      "40000,281.68344763064835,6.552684928702497,0.9545828259914795,46.42143750190735\n",
      "50000,311.95672631488236,6.328719339715168,0.9883643374449472,62.50310826301575\n",
      "60000,267.79996866407873,6.253217310333622,1.0002979564992736,79.00913071632385\n",
      "70000,296.6030731280871,6.16758705573086,1.014186008328889,94.83570599555969\n",
      "80000,294.39961895894817,6.239437192717616,1.0025071659304863,111.07788920402527\n",
      "90000,282.3592422662915,6.430700607873667,0.9726903612048066,127.49151492118835\n",
      "100000,294.39935653442876,6.486081000906058,0.9643851959602134,142.91147255897522\n",
      "110000,301.64074283597466,6.279633913037811,0.9960899924573267,158.45599246025085\n",
      "120000,305.76726771717193,6.536265415642385,0.9569807985616899,173.89178371429443\n",
      "130000,304.672631261032,6.231884880266131,1.0037220868568877,189.8377170562744\n",
      "140000,295.0940921630705,6.31731981488925,0.9901478285664829,206.1336441040039\n",
      "150000,300.60560741165904,6.485298930813583,0.9645014923449186,221.7058503627777\n",
      "160000,311.3940746218117,6.338827632149629,0.9867882296322007,237.55576848983765\n",
      "170000,278.7496012623069,6.4139234362365825,0.9752346686481218,255.24673891067505\n",
      "180000,285.58977094849615,6.319897628699615,0.9897439586153002,273.51052713394165\n",
      "190000,284.49796833155756,6.326815129475033,0.9886618099415876,291.0509572029114\n",
      "200000,322.4548006748891,6.144132557007362,1.01805754336122,309.6013214588165\n",
      "210000,292.7038271877611,6.437709788308028,0.971631325853317,329.8865578174591\n",
      "220000,290.29238053436035,6.378046044116448,0.98072049869297,345.9883134365082\n",
      "230000,286.0820488319096,6.474074502104688,0.9661736971113186,362.26497864723206\n",
      "240000,279.91573499417234,6.364543198769878,0.9828011691839207,378.1958794593811\n",
      "250000,317.7722765542857,6.429729887544787,0.9728372119005342,394.107302904129\n",
      "260000,316.2387294194672,6.403356448596516,0.9768440266110113,410.2700889110565\n",
      "270000,279.473977356511,6.365181338171745,0.9827026387388419,426.188138961792\n",
      "280000,304.29328994550974,6.306412605304322,0.9918603314682359,442.2928566932678\n",
      "290000,310.1910778541151,6.441959899395879,0.9709902878562162,458.9469065666199\n",
      "300000,308.1480396548293,6.508469684762813,0.9610677778397855,474.74266266822815\n",
      "310000,311.6562763404514,6.494869159761636,0.9630802935685572,491.2045454978943\n",
      "320000,311.42365087971467,6.284667602110693,0.9952921766255147,507.2587106227875\n",
      "330000,289.4520440916549,6.103542038986855,1.0248279535256395,522.8846964836121\n",
      "340000,282.4096238731684,6.360397875650955,0.9834416996173261,538.5176751613617\n",
      "350000,307.9600850183182,6.373394316237801,0.9814362938656157,554.1421864032745\n",
      "360000,298.37859070274845,6.3568555639688045,0.9839897153754651,569.8396654129028\n",
      "370000,298.4673557283684,6.521456644187354,0.9591538882111298,586.1059658527374\n",
      "380000,283.380589617825,6.086587312044282,1.0276827023732833,601.938624382019\n",
      "390000,313.06464797631946,6.391270842382222,0.9786911948080026,617.723884344101\n",
      "400000,274.7757251760674,6.237371510571078,1.0028391745579874,633.7294743061066\n",
      "410000,302.78220148988925,6.241138349673914,1.002233910965845,650.2844853401184\n",
      "420000,320.37094035293904,6.493929231837575,0.9632196893070571,666.5339548587799\n",
      "430000,310.45253058930587,6.32161143515775,0.9894756362728764,682.7018301486969\n",
      "440000,294.07117953484277,6.464166555527373,0.9676545991414807,698.6168591976166\n",
      "450000,290.70625342265055,6.377102256944623,0.9808656416416821,715.1082618236542\n",
      "460000,295.05554020036305,6.203359911960323,1.0083375115818387,732.0583844184875\n",
      "470000,269.91228514360284,6.455557202657865,0.9689450965591755,749.3626172542572\n",
      "480000,312.27676428223634,6.30489919315433,0.9920984151283789,765.1626484394073\n",
      "490000,304.79985654581776,6.204350003678354,1.0081766008307358,781.4927446842194\n",
      "500000,289.78145438356074,6.375750547877703,0.9810735928422946,797.3379836082458\n",
      "510000,301.3468026847101,6.339983905906868,0.986608261141616,813.7718544006348\n",
      "520000,288.40309916271883,6.454395335162824,0.9691195181360565,830.2057280540466\n",
      "530000,295.7134790074235,6.435726425342737,0.9719307633154232,846.8603835105896\n",
      "540000,293.9586943771978,6.218610799558088,1.0058646052454527,863.586713552475\n",
      "550000,290.60436534405926,6.314591128402772,0.9905756952239568,880.4980676174164\n",
      "560000,293.01880481071333,6.245582287472997,1.0015207884809492,897.0044987201691\n",
      "570000,304.25612110515,6.209188334697732,1.007391008276947,913.8241727352142\n",
      "580000,302.273474504335,6.254930590957021,1.0000239660717902,931.5157692432404\n",
      "590000,300.88053505629154,6.2487575530311465,1.0010118721982408,947.3379065990448\n",
      "600000,294.7211921517371,6.19969486313676,1.0089336064368533,963.6343641281128\n",
      "610000,297.853331535593,6.418390744560123,0.9745558888533032,979.8508608341217\n",
      "620000,298.87895857643565,6.291539106624527,0.9942051366233211,996.1482286453247\n",
      "630000,290.2119418362437,6.245442886442425,1.0015431428651924,1013.3164527416229\n",
      "640000,317.1801238823973,6.263485597063587,0.9986580794573996,1031.1737809181213\n",
      "650000,302.2830571095947,6.510754411232066,0.9607305239899109,1047.5520701408386\n",
      "660000,310.5391616627168,6.571504639740324,0.9518490574054861,1063.9347071647644\n",
      "670000,296.8730699482269,6.4356870155862635,0.9719367150583527,1079.506135225296\n",
      "680000,293.4951623880802,6.687017444711815,0.9354066366342755,1095.4032652378082\n",
      "690000,289.2252469458962,6.289120636159129,0.9945874564894159,1111.0754053592682\n",
      "700000,284.0263974238024,6.489275010537271,0.9639105272801075,1127.7770886421204\n",
      "710000,307.607260529977,6.465462235485387,0.9674606809613533,1144.1459419727325\n",
      "720000,282.0504683939906,6.202232735779668,1.0085207639803757,1159.6989862918854\n",
      "730000,299.4226947213122,6.343247018686997,0.986100727063812,1174.9652783870697\n",
      "740000,297.25024924641247,6.2632155061914645,0.9987011449453054,1190.54745054245\n",
      "750000,292.1231005206479,6.317124783474123,0.9901783978426661,1206.3233366012573\n",
      "760000,308.4828756153617,6.441358108837992,0.9710810036303058,1221.885512828827\n",
      "770000,287.45541817095557,6.3000694975820855,0.9928589675833345,1237.6907913684845\n",
      "780000,310.826107186629,6.376297251242517,0.9809894756480667,1253.529145002365\n",
      "790000,298.55832769228726,6.522155726163313,0.9590510806083107,1269.8385004997253\n",
      "800000,314.9777129973821,6.424345909483067,0.9736525064504068,1286.2824022769928\n",
      "810000,298.08773656610697,6.287116491737568,0.9949045011799824,1302.188400030136\n",
      "820000,298.4908560054992,6.264941695005811,0.998425971315732,1317.9068653583527\n",
      "830000,298.83883142632055,6.28641125787617,0.9950161134042399,1333.6371221542358\n",
      "840000,309.5282378863701,6.243200780463932,1.0019028246930402,1352.139054775238\n",
      "850000,290.36931313873373,6.388318958775166,0.9791434237140679,1368.1482632160187\n",
      "860000,313.8583976114806,6.420724214711582,0.9742017080784373,1383.7935073375702\n",
      "870000,288.5201301686948,6.313731884841775,0.9907105038923206,1399.58567070961\n",
      "880000,308.36662298340605,6.276219900955665,0.9966318254910349,1415.821628332138\n",
      "890000,294.2908339862475,6.354161987093704,0.9844068359883889,1431.6314504146576\n",
      "900000,299.2415062250868,6.410856152172447,0.9757012711871482,1447.7734036445618\n",
      "910000,297.9644543026671,6.316516864702298,0.9902736953061888,1463.554652929306\n",
      "920000,292.8351856023917,6.176705002004971,1.0126888842906037,1479.3354034423828\n",
      "930000,288.4436135145596,6.4830466133978755,0.9648365760853618,1495.3674054145813\n",
      "940000,313.69473572408367,6.407501704134966,0.9762120692119368,1511.3437881469727\n",
      "950000,292.2877760012778,6.356498677987209,0.9840449615342772,1527.4074974060059\n",
      "960000,311.08236152216114,6.356490125335394,0.9840462855658982,1543.1144242286682\n",
      "970000,292.7833471517293,6.338823047390931,0.9867889433586897,1558.9297523498535\n",
      "980000,308.1252340258298,6.303209734847009,0.9923643286834766,1574.6756823062897\n",
      "990000,322.16034734601715,6.393307625667759,0.9783794028555423,1590.8185110092163\n",
      "1000000,290.866922967867,6.3239953247639695,0.9891026441114682,1606.570993900299\n",
      "Elapsed time 3678.33 seconds\n",
      "Done!\n"
     ]
    }
   ],
   "source": [
    "from sys import stdout\n",
    "import time\n",
    "\n",
    "#Thermostat\n",
    "integrator = LangevinIntegrator(temperature*kelvin, 1/picosecond, timestep*femtoseconds)\n",
    "#for isobaric simulation\n",
    "off_box_system.addForce(MonteCarloBarostat(pressure*bar, temperature*kelvin))  \n",
    "\n",
    "#setting up the simulation\n",
    "simulation = Simulation(pdb_box.topology, off_box_system, integrator)\n",
    "simulation.context.setPositions(box_positions)\n",
    "simulation.minimizeEnergy()\n",
    "\n",
    "\n",
    "with open(f\"initial_{len(solutes)}solutes_N{n_solvent_mol}solvent_box.pdb\", \"w\") as f:\n",
    "    PDBFile.writeFile(simulation.topology, pdb_box.positions, f)\n",
    "    \n",
    "simulation.reporters = []\n",
    "simulation.reporters.append(DCDReporter(f'traj_{len(solutes)}solutes_N{n_solvent_mol}solvent.dcd', 100))\n",
    "simulation.reporters.append(StateDataReporter(stdout, 10000, step=True,\n",
    "                                              temperature=True,volume=True, density=True, elapsedTime=True))\n",
    "simulation.reporters.append(StateDataReporter(f\"scalars_{len(solutes)}solutes_N{n_solvent_mol}solvent.csv\", 100, time=True,\n",
    "                                              potentialEnergy=True, totalEnergy=True, temperature=True, volume=True, density=True))\n",
    "\n",
    "print(\"Starting simulation\")\n",
    "start = time.process_time()\n",
    "\n",
    "simulation.step(total_simulation_steps)\n",
    "\n",
    "end = time.process_time()\n",
    "print(\"Elapsed time %.2f seconds\" % (end-start))\n",
    "print(\"Done!\")\n"
   ]
  },
  {
   "cell_type": "markdown",
   "metadata": {},
   "source": [
    "## Visualize the output"
   ]
  },
  {
   "cell_type": "code",
   "execution_count": 80,
   "metadata": {},
   "outputs": [
    {
     "data": {
      "application/vnd.jupyter.widget-view+json": {
       "model_id": "b76c344c7eba47139b5fff088a848801",
       "version_major": 2,
       "version_minor": 0
      },
      "text/plain": [
       "NGLWidget(count=10000)"
      ]
     },
     "metadata": {},
     "output_type": "display_data"
    }
   ],
   "source": [
    "traj = md.load(f'traj_{len(solutes)}solutes_N{n_solvent_mol}solvent.dcd', top=f\"initial_{len(solutes)}solutes_N{n_solvent_mol}solvent_box.pdb\")\n",
    "traj.superpose(traj, 0)\n",
    "nglview.show_mdtraj(traj)"
   ]
  },
  {
   "cell_type": "markdown",
   "metadata": {},
   "source": [
    "## Post-Processing"
   ]
  },
  {
   "cell_type": "code",
   "execution_count": 82,
   "metadata": {},
   "outputs": [
    {
     "name": "stdout",
     "output_type": "stream",
     "text": [
      "The average density at convergion is: 0.9872056087705586\n"
     ]
    },
    {
     "data": {
      "image/png": "[encoded data removed]",
      "text/plain": [
       "<Figure size 432x288 with 1 Axes>"
      ]
     },
     "metadata": {
      "needs_background": "light"
     },
     "output_type": "display_data"
    }
   ],
   "source": [
    "import matplotlib.pyplot as plt\n",
    "import pandas as pd\n",
    "\n",
    "data = pd.read_csv(f\"scalars_{len(solutes)}solutes_N{n_solvent_mol}solvent.csv\")\n",
    "#print(data.head())\n",
    "time = data['#\"Time (ps)\"']\n",
    "V = data[\"Box Volume (nm^3)\"]\n",
    "rho = data[\"Density (g/mL)\"]\n",
    "plt.plot(time,rho)\n",
    "plt.xlabel('Time (ps)')\n",
    "plt.ylabel('Density (g/mL)')\n",
    "\n",
    "total_value = 0\n",
    "ma_data=[]\n",
    "for idx,value in enumerate(rho):\n",
    "    total_value += value\n",
    "    ma_data.append(total_value/(idx+1))\n",
    "\n",
    "ma_data = np.array(ma_data)\n",
    "plt.plot(time,ma_data,'black')\n",
    "\n",
    "#http://ddbonline.ddbst.de/DIPPR105DensityCalculation/DIPPR105CalculationCGI.exe?component=Acetonitrile\n",
    "print(f\"The average density at convergion is: {ma_data[-1]}\")\n",
    "\n",
    "plt.show()"
   ]
  },
  {
   "cell_type": "code",
   "execution_count": 87,
   "metadata": {},
   "outputs": [
    {
     "name": "stdout",
     "output_type": "stream",
     "text": [
      "The average volume at convergion is: 6.33814424689969\n",
      "The box dimensions for a NVT simulation should hence be: 18.50634722250063\n"
     ]
    },
    {
     "data": {
      "image/png": "[encoded data removed]",
      "text/plain": [
       "<Figure size 432x288 with 1 Axes>"
      ]
     },
     "metadata": {
      "needs_background": "light"
     },
     "output_type": "display_data"
    }
   ],
   "source": [
    "plt.plot(time,V)\n",
    "plt.xlabel('Time (ps)')\n",
    "plt.ylabel('Box Volume ($nm^3$)')\n",
    "total_value = 0\n",
    "ma_data=[]\n",
    "for idx,value in enumerate(V):\n",
    "    total_value += value\n",
    "    ma_data.append(total_value/(idx+1))\n",
    "\n",
    "ma_data = np.array(ma_data)\n",
    "plt.plot(time,ma_data,'black')\n",
    "print(f\"The average volume at convergion is: {ma_data[-1]}\")\n",
    "#cube dimension in Angstrom\n",
    "cube_dim = ((ma_data[-1]**(1/3))*nanometer/angstrom)\n",
    "print(f\"The box dimensions for a NVT simulation should hence be: {cube_dim}\")\n",
    "plt.show()"
   ]
  },
  {
   "cell_type": "code",
   "execution_count": null,
   "metadata": {},
   "outputs": [],
   "source": []
  }
 ],
 "metadata": {
  "kernelspec": {
   "display_name": "Python 3",
   "language": "python",
   "name": "python3"
  },
  "language_info": {
   "codemirror_mode": {
    "name": "ipython",
    "version": 3
   },
   "file_extension": ".py",
   "mimetype": "text/x-python",
   "name": "python",
   "nbconvert_exporter": "python",
   "pygments_lexer": "ipython3",
   "version": "3.7.6"
  }
 },
 "nbformat": 4,
 "nbformat_minor": 2
}
