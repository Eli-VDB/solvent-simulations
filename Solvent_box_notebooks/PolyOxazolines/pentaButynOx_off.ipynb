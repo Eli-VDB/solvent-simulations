{
 "cells": [
  {
   "cell_type": "markdown",
   "metadata": {},
   "source": [
    "# Solvent Box generation of non-standard solvent and non-standard solutes by means of OpenForceField "
   ]
  },
  {
   "cell_type": "markdown",
   "metadata": {},
   "source": [
    "Dependencies:\n",
    "- openbabel \n",
    "- openmoltools (a.t.m. packmol.py should be adjusted)\n",
    "- openforcefield\n",
    "- mdtraj\n",
    "- nglview"
   ]
  },
  {
   "cell_type": "markdown",
   "metadata": {},
   "source": [
    "## Parameterizing all compounds with the openFF forcefield"
   ]
  },
  {
   "cell_type": "markdown",
   "metadata": {},
   "source": [
    "### Collect sdf files for both the solvent and the solutes from pubchem"
   ]
  },
  {
   "cell_type": "code",
   "execution_count": 1,
   "metadata": {},
   "outputs": [
    {
     "name": "stderr",
     "output_type": "stream",
     "text": [
      "Warning: Unable to load toolkit 'OpenEye Toolkit'. The Open Force Field Toolkit does not require the OpenEye Toolkits, and can use RDKit/AmberTools instead. However, if you have a valid license for the OpenEye Toolkits, consider installing them for faster performance and additional file format support: https://docs.eyesopen.com/toolkits/python/quickstart-python/linuxosx.html OpenEye offers free Toolkit licenses for academics: https://www.eyesopen.com/academic-licensing\n",
      "RDKit WARNING: [14:05:32] Enabling RDKit 2019.09.3 jupyter extensions\n"
     ]
    },
    {
     "data": {
      "text/plain": [
       "True"
      ]
     },
     "execution_count": 1,
     "metadata": {},
     "output_type": "execute_result"
    }
   ],
   "source": [
    "#Create force field parameter files for small molecule\n",
    "import requests\n",
    "from openforcefield.utils import *\n",
    "from openforcefield.topology import *\n",
    "from openforcefield.utils.toolkits import OpenEyeToolkitWrapper\n",
    "from openforcefield.typing.engines.smirnoff import ForceField\n",
    "from openbabel import openbabel\n",
    "\n",
    "#Pubchem id for 6342 acetonitril\n",
    "#Provide all Pubchem cids for the compounds which should be added\n",
    "solutes = []\n",
    "solvents = [\"6342\"] \n",
    "\n",
    "#generate sdf files and transform them to pdb using openbabel\n",
    "obConversion = openbabel.OBConversion()\n",
    "obConversion.SetInAndOutFormats(\"sdf\", \"pdb\")\n",
    "mol = openbabel.OBMol()\n",
    "# TODO: Can we add residue names, instead of a cumbursome conversion process in which residue names are added\n",
    "\n",
    "for cid in solutes+solvents:\n",
    "    url = f\"https://pubchem.ncbi.nlm.nih.gov/rest/pug/compound/CID/{cid}/record/SDF/?record_type=3d&response_type=save\"\n",
    "    with open(f\"{cid}.sdf\", \"w\") as f:\n",
    "        f.write(requests.get(url).text)\n",
    "    obConversion.ReadFile(mol, f\"{cid}.sdf\")\n",
    "    obConversion.WriteFile(mol, f\"{cid}.pdb\") #slightly different\n",
    "# for ButylOx and ButynOX generated via molden or VMD to mol2 format\n",
    "obConversion.SetInAndOutFormats(\"mol2\", \"sdf\")\n",
    "mol = openbabel.OBMol()\n",
    "\n",
    "solutes=['penta_butynox']\n",
    "for solute in solutes:\n",
    "    obConversion.SetInAndOutFormats(\"mol2\", \"sdf\")\n",
    "    obConversion.ReadFile(mol, f\"{solute}.mol2\")\n",
    "    obConversion.WriteFile(mol, f\"{solute}.sdf\")\n",
    "    \n",
    "    obConversion.SetInAndOutFormats(\"sdf\", \"pdb\")\n",
    "    obConversion.ReadFile(mol, f\"{solute}.sdf\")\n",
    "    obConversion.WriteFile(mol, f\"{solute}.pdb\")\n",
    "obConversion.SetInAndOutFormats(\"sdf\", \"smiles\")\n",
    "obConversion.WriteFile(mol, f\"{solute}.smiles\")\n",
    "#http://www.nonlinear.com/progenesis/sdf-studio/v0.9/faq/sdf-file-format-guidance.aspx\n",
    "#I manually adjust the charge on the N atom \n",
    "# N   0  3  0  0  0  0  0  0  0  0  0  0\n",
    "\n",
    " \n"
   ]
  },
  {
   "cell_type": "markdown",
   "metadata": {},
   "source": [
    "### Forcefield settings"
   ]
  },
  {
   "cell_type": "markdown",
   "metadata": {},
   "source": [
    "Due to conflicting packages (openforcefield Forcefield and OpenMM Forcefield), we already define the forcefield here in the case of the openFF."
   ]
  },
  {
   "cell_type": "code",
   "execution_count": 1,
   "metadata": {},
   "outputs": [
    {
     "name": "stderr",
     "output_type": "stream",
     "text": [
      "Warning: Unable to load toolkit 'OpenEye Toolkit'. The Open Force Field Toolkit does not require the OpenEye Toolkits, and can use RDKit/AmberTools instead. However, if you have a valid license for the OpenEye Toolkits, consider installing them for faster performance and additional file format support: https://docs.eyesopen.com/toolkits/python/quickstart-python/linuxosx.html OpenEye offers free Toolkit licenses for academics: https://www.eyesopen.com/academic-licensing\n",
      "RDKit WARNING: [14:32:13] Enabling RDKit 2019.09.3 jupyter extensions\n"
     ]
    }
   ],
   "source": [
    "from openforcefield.utils import *\n",
    "from openforcefield.topology import *\n",
    "from openforcefield.utils.toolkits import OpenEyeToolkitWrapper\n",
    "from openforcefield.typing.engines.smirnoff import ForceField\n",
    "#Provide forcefield settings\n",
    "solutes=['penta_butynox']\n",
    "off_forcefield = ForceField('openff-1.0.0.offxml')"
   ]
  },
  {
   "cell_type": "code",
   "execution_count": 2,
   "metadata": {},
   "outputs": [
    {
     "data": {
      "application/vnd.jupyter.widget-view+json": {
       "model_id": "e1d3773054274f8f8fd1e35e8ad7879f",
       "version_major": 2,
       "version_minor": 0
      },
      "text/plain": [
       "NGLWidget()"
      ]
     },
     "metadata": {},
     "output_type": "display_data"
    }
   ],
   "source": [
    "import nglview\n",
    "import ipywidgets\n",
    "\n",
    "nglview.show_file(f\"{solutes[0]}.sdf\")"
   ]
  },
  {
   "cell_type": "markdown",
   "metadata": {},
   "source": [
    "### Gas-phase simulation of the pentamer"
   ]
  },
  {
   "cell_type": "code",
   "execution_count": 3,
   "metadata": {},
   "outputs": [
    {
     "name": "stderr",
     "output_type": "stream",
     "text": [
      "/home/elias/anaconda3/envs/openmm/lib/python3.7/site-packages/simtk/openmm/app/internal/pdbstructure.py:537: UserWarning: WARNING: duplicate atom (HETATM    3  H   UNL     1     -11.223  -5.004  -8.547  1.00  0.00           H  , HETATM    2  H   UNL     1     -10.482  -3.422  -8.510  1.00  0.00           H  )\n",
      "  warnings.warn(\"WARNING: duplicate atom (%s, %s)\" % (atom, old_atom._pdb_string(old_atom.serial_number, atom.alternate_location_indicator)))\n",
      "/home/elias/anaconda3/envs/openmm/lib/python3.7/site-packages/simtk/openmm/app/internal/pdbstructure.py:537: UserWarning: WARNING: duplicate atom (HETATM    4  C   UNL     1     -10.002  -4.651  -6.815  1.00  0.00           C  , HETATM    1  C   UNL     1     -10.962  -4.176  -7.922  1.00  0.00           C  )\n",
      "  warnings.warn(\"WARNING: duplicate atom (%s, %s)\" % (atom, old_atom._pdb_string(old_atom.serial_number, atom.alternate_location_indicator)))\n",
      "/home/elias/anaconda3/envs/openmm/lib/python3.7/site-packages/simtk/openmm/app/internal/pdbstructure.py:537: UserWarning: WARNING: duplicate atom (HETATM    5  H   UNL     1      -9.005  -4.295  -6.976  1.00  0.00           H  , HETATM    3  H   UNL     1     -11.223  -5.004  -8.547  1.00  0.00           H  )\n",
      "  warnings.warn(\"WARNING: duplicate atom (%s, %s)\" % (atom, old_atom._pdb_string(old_atom.serial_number, atom.alternate_location_indicator)))\n",
      "/home/elias/anaconda3/envs/openmm/lib/python3.7/site-packages/simtk/openmm/app/internal/pdbstructure.py:537: UserWarning: WARNING: duplicate atom (HETATM    6  H   UNL     1      -9.990  -5.718  -6.731  1.00  0.00           H  , HETATM    5  H   UNL     1      -9.005  -4.295  -6.976  1.00  0.00           H  )\n",
      "  warnings.warn(\"WARNING: duplicate atom (%s, %s)\" % (atom, old_atom._pdb_string(old_atom.serial_number, atom.alternate_location_indicator)))\n",
      "/home/elias/anaconda3/envs/openmm/lib/python3.7/site-packages/simtk/openmm/app/internal/pdbstructure.py:537: UserWarning: WARNING: duplicate atom (HETATM    9  C   UNL     1     -11.858  -3.775  -5.957  1.00  0.00           C  , HETATM    4  C   UNL     1     -10.002  -4.651  -6.815  1.00  0.00           C  )\n",
      "  warnings.warn(\"WARNING: duplicate atom (%s, %s)\" % (atom, old_atom._pdb_string(old_atom.serial_number, atom.alternate_location_indicator)))\n",
      "/home/elias/anaconda3/envs/openmm/lib/python3.7/site-packages/simtk/openmm/app/internal/pdbstructure.py:537: UserWarning: WARNING: duplicate atom (HETATM   10  C   UNL     1     -12.951  -3.626  -4.882  1.00  0.00           C  , HETATM    9  C   UNL     1     -11.858  -3.775  -5.957  1.00  0.00           C  )\n",
      "  warnings.warn(\"WARNING: duplicate atom (%s, %s)\" % (atom, old_atom._pdb_string(old_atom.serial_number, atom.alternate_location_indicator)))\n",
      "/home/elias/anaconda3/envs/openmm/lib/python3.7/site-packages/simtk/openmm/app/internal/pdbstructure.py:537: UserWarning: WARNING: duplicate atom (HETATM   11  H   UNL     1     -13.298  -4.594  -4.590  1.00  0.00           H  , HETATM    6  H   UNL     1      -9.990  -5.718  -6.731  1.00  0.00           H  )\n",
      "  warnings.warn(\"WARNING: duplicate atom (%s, %s)\" % (atom, old_atom._pdb_string(old_atom.serial_number, atom.alternate_location_indicator)))\n",
      "/home/elias/anaconda3/envs/openmm/lib/python3.7/site-packages/simtk/openmm/app/internal/pdbstructure.py:537: UserWarning: WARNING: duplicate atom (HETATM   12  H   UNL     1     -12.546  -3.119  -4.031  1.00  0.00           H  , HETATM   11  H   UNL     1     -13.298  -4.594  -4.590  1.00  0.00           H  )\n",
      "  warnings.warn(\"WARNING: duplicate atom (%s, %s)\" % (atom, old_atom._pdb_string(old_atom.serial_number, atom.alternate_location_indicator)))\n",
      "/home/elias/anaconda3/envs/openmm/lib/python3.7/site-packages/simtk/openmm/app/internal/pdbstructure.py:537: UserWarning: WARNING: duplicate atom (HETATM   13  C   UNL     1     -14.126  -2.810  -5.454  1.00  0.00           C  , HETATM   10  C   UNL     1     -12.951  -3.626  -4.882  1.00  0.00           C  )\n",
      "  warnings.warn(\"WARNING: duplicate atom (%s, %s)\" % (atom, old_atom._pdb_string(old_atom.serial_number, atom.alternate_location_indicator)))\n",
      "/home/elias/anaconda3/envs/openmm/lib/python3.7/site-packages/simtk/openmm/app/internal/pdbstructure.py:537: UserWarning: WARNING: duplicate atom (HETATM   14  H   UNL     1     -14.965  -2.884  -4.795  1.00  0.00           H  , HETATM   12  H   UNL     1     -12.546  -3.119  -4.031  1.00  0.00           H  )\n",
      "  warnings.warn(\"WARNING: duplicate atom (%s, %s)\" % (atom, old_atom._pdb_string(old_atom.serial_number, atom.alternate_location_indicator)))\n",
      "/home/elias/anaconda3/envs/openmm/lib/python3.7/site-packages/simtk/openmm/app/internal/pdbstructure.py:537: UserWarning: WARNING: duplicate atom (HETATM   15  H   UNL     1     -13.835  -1.785  -5.549  1.00  0.00           H  , HETATM   14  H   UNL     1     -14.965  -2.884  -4.795  1.00  0.00           H  )\n",
      "  warnings.warn(\"WARNING: duplicate atom (%s, %s)\" % (atom, old_atom._pdb_string(old_atom.serial_number, atom.alternate_location_indicator)))\n",
      "/home/elias/anaconda3/envs/openmm/lib/python3.7/site-packages/simtk/openmm/app/internal/pdbstructure.py:537: UserWarning: WARNING: duplicate atom (HETATM   16  C   UNL     1      -9.790  -4.363  -4.432  1.00  0.00           C  , HETATM   13  C   UNL     1     -14.126  -2.810  -5.454  1.00  0.00           C  )\n",
      "  warnings.warn(\"WARNING: duplicate atom (%s, %s)\" % (atom, old_atom._pdb_string(old_atom.serial_number, atom.alternate_location_indicator)))\n",
      "/home/elias/anaconda3/envs/openmm/lib/python3.7/site-packages/simtk/openmm/app/internal/pdbstructure.py:537: UserWarning: WARNING: duplicate atom (HETATM   17  H   UNL     1      -9.292  -5.298  -4.580  1.00  0.00           H  , HETATM   15  H   UNL     1     -13.835  -1.785  -5.549  1.00  0.00           H  )\n",
      "  warnings.warn(\"WARNING: duplicate atom (%s, %s)\" % (atom, old_atom._pdb_string(old_atom.serial_number, atom.alternate_location_indicator)))\n",
      "/home/elias/anaconda3/envs/openmm/lib/python3.7/site-packages/simtk/openmm/app/internal/pdbstructure.py:537: UserWarning: WARNING: duplicate atom (HETATM   18  H   UNL     1      -9.064  -3.597  -4.255  1.00  0.00           H  , HETATM   17  H   UNL     1      -9.292  -5.298  -4.580  1.00  0.00           H  )\n",
      "  warnings.warn(\"WARNING: duplicate atom (%s, %s)\" % (atom, old_atom._pdb_string(old_atom.serial_number, atom.alternate_location_indicator)))\n",
      "/home/elias/anaconda3/envs/openmm/lib/python3.7/site-packages/simtk/openmm/app/internal/pdbstructure.py:537: UserWarning: WARNING: duplicate atom (HETATM   19  C   UNL     1     -10.730  -4.469  -3.216  1.00  0.00           C  , HETATM   16  C   UNL     1      -9.790  -4.363  -4.432  1.00  0.00           C  )\n",
      "  warnings.warn(\"WARNING: duplicate atom (%s, %s)\" % (atom, old_atom._pdb_string(old_atom.serial_number, atom.alternate_location_indicator)))\n",
      "/home/elias/anaconda3/envs/openmm/lib/python3.7/site-packages/simtk/openmm/app/internal/pdbstructure.py:537: UserWarning: WARNING: duplicate atom (HETATM   20  H   UNL     1     -11.500  -5.183  -3.422  1.00  0.00           H  , HETATM   18  H   UNL     1      -9.064  -3.597  -4.255  1.00  0.00           H  )\n",
      "  warnings.warn(\"WARNING: duplicate atom (%s, %s)\" % (atom, old_atom._pdb_string(old_atom.serial_number, atom.alternate_location_indicator)))\n",
      "/home/elias/anaconda3/envs/openmm/lib/python3.7/site-packages/simtk/openmm/app/internal/pdbstructure.py:537: UserWarning: WARNING: duplicate atom (HETATM   21  H   UNL     1     -11.171  -3.513  -3.023  1.00  0.00           H  , HETATM   20  H   UNL     1     -11.500  -5.183  -3.422  1.00  0.00           H  )\n",
      "  warnings.warn(\"WARNING: duplicate atom (%s, %s)\" % (atom, old_atom._pdb_string(old_atom.serial_number, atom.alternate_location_indicator)))\n",
      "/home/elias/anaconda3/envs/openmm/lib/python3.7/site-packages/simtk/openmm/app/internal/pdbstructure.py:537: UserWarning: WARNING: duplicate atom (HETATM   22  C   UNL     1     -10.040  -3.868  -0.997  1.00  0.00           C  , HETATM   19  C   UNL     1     -10.730  -4.469  -3.216  1.00  0.00           C  )\n",
      "  warnings.warn(\"WARNING: duplicate atom (%s, %s)\" % (atom, old_atom._pdb_string(old_atom.serial_number, atom.alternate_location_indicator)))\n",
      "/home/elias/anaconda3/envs/openmm/lib/python3.7/site-packages/simtk/openmm/app/internal/pdbstructure.py:537: UserWarning: WARNING: duplicate atom (HETATM   23  O   UNL     1      -9.849  -4.169   0.210  1.00  0.00           O  , HETATM    7  O   UNL     1     -12.145  -3.636  -7.327  1.00  0.00           O  )\n",
      "  warnings.warn(\"WARNING: duplicate atom (%s, %s)\" % (atom, old_atom._pdb_string(old_atom.serial_number, atom.alternate_location_indicator)))\n",
      "/home/elias/anaconda3/envs/openmm/lib/python3.7/site-packages/simtk/openmm/app/internal/pdbstructure.py:537: UserWarning: WARNING: duplicate atom (HETATM   24  C   UNL     1     -10.357  -2.411  -1.383  1.00  0.00           C  , HETATM   22  C   UNL     1     -10.040  -3.868  -0.997  1.00  0.00           C  )\n",
      "  warnings.warn(\"WARNING: duplicate atom (%s, %s)\" % (atom, old_atom._pdb_string(old_atom.serial_number, atom.alternate_location_indicator)))\n",
      "/home/elias/anaconda3/envs/openmm/lib/python3.7/site-packages/simtk/openmm/app/internal/pdbstructure.py:537: UserWarning: WARNING: duplicate atom (HETATM   25  H   UNL     1      -9.628  -2.061  -2.084  1.00  0.00           H  , HETATM   21  H   UNL     1     -11.171  -3.513  -3.023  1.00  0.00           H  )\n",
      "  warnings.warn(\"WARNING: duplicate atom (%s, %s)\" % (atom, old_atom._pdb_string(old_atom.serial_number, atom.alternate_location_indicator)))\n",
      "/home/elias/anaconda3/envs/openmm/lib/python3.7/site-packages/simtk/openmm/app/internal/pdbstructure.py:537: UserWarning: WARNING: duplicate atom (HETATM   26  H   UNL     1     -11.330  -2.362  -1.825  1.00  0.00           H  , HETATM   25  H   UNL     1      -9.628  -2.061  -2.084  1.00  0.00           H  )\n",
      "  warnings.warn(\"WARNING: duplicate atom (%s, %s)\" % (atom, old_atom._pdb_string(old_atom.serial_number, atom.alternate_location_indicator)))\n",
      "/home/elias/anaconda3/envs/openmm/lib/python3.7/site-packages/simtk/openmm/app/internal/pdbstructure.py:537: UserWarning: WARNING: duplicate atom (HETATM   27  C   UNL     1     -10.320  -1.526  -0.122  1.00  0.00           C  , HETATM   24  C   UNL     1     -10.357  -2.411  -1.383  1.00  0.00           C  )\n",
      "  warnings.warn(\"WARNING: duplicate atom (%s, %s)\" % (atom, old_atom._pdb_string(old_atom.serial_number, atom.alternate_location_indicator)))\n",
      "/home/elias/anaconda3/envs/openmm/lib/python3.7/site-packages/simtk/openmm/app/internal/pdbstructure.py:537: UserWarning: WARNING: duplicate atom (HETATM   28  H   UNL     1     -11.060  -1.866   0.573  1.00  0.00           H  , HETATM   26  H   UNL     1     -11.330  -2.362  -1.825  1.00  0.00           H  )\n",
      "  warnings.warn(\"WARNING: duplicate atom (%s, %s)\" % (atom, old_atom._pdb_string(old_atom.serial_number, atom.alternate_location_indicator)))\n",
      "/home/elias/anaconda3/envs/openmm/lib/python3.7/site-packages/simtk/openmm/app/internal/pdbstructure.py:537: UserWarning: WARNING: duplicate atom (HETATM   29  H   UNL     1      -9.352  -1.588   0.329  1.00  0.00           H  , HETATM   28  H   UNL     1     -11.060  -1.866   0.573  1.00  0.00           H  )\n",
      "  warnings.warn(\"WARNING: duplicate atom (%s, %s)\" % (atom, old_atom._pdb_string(old_atom.serial_number, atom.alternate_location_indicator)))\n",
      "/home/elias/anaconda3/envs/openmm/lib/python3.7/site-packages/simtk/openmm/app/internal/pdbstructure.py:537: UserWarning: WARNING: duplicate atom (HETATM   30  N   UNL     1      -9.962  -4.901  -2.039  1.00  0.00           N  , HETATM    8  N   UNL     1     -10.574  -4.029  -5.630  1.00  0.00           N  )\n",
      "  warnings.warn(\"WARNING: duplicate atom (%s, %s)\" % (atom, old_atom._pdb_string(old_atom.serial_number, atom.alternate_location_indicator)))\n",
      "/home/elias/anaconda3/envs/openmm/lib/python3.7/site-packages/simtk/openmm/app/internal/pdbstructure.py:537: UserWarning: WARNING: duplicate atom (HETATM   31  C   UNL     1      -9.230  -6.170  -1.923  1.00  0.00           C  , HETATM   27  C   UNL     1     -10.320  -1.526  -0.122  1.00  0.00           C  )\n",
      "  warnings.warn(\"WARNING: duplicate atom (%s, %s)\" % (atom, old_atom._pdb_string(old_atom.serial_number, atom.alternate_location_indicator)))\n",
      "/home/elias/anaconda3/envs/openmm/lib/python3.7/site-packages/simtk/openmm/app/internal/pdbstructure.py:537: UserWarning: WARNING: duplicate atom (HETATM   32  H   UNL     1      -8.634  -6.158  -1.034  1.00  0.00           H  , HETATM   29  H   UNL     1      -9.352  -1.588   0.329  1.00  0.00           H  )\n",
      "  warnings.warn(\"WARNING: duplicate atom (%s, %s)\" % (atom, old_atom._pdb_string(old_atom.serial_number, atom.alternate_location_indicator)))\n",
      "/home/elias/anaconda3/envs/openmm/lib/python3.7/site-packages/simtk/openmm/app/internal/pdbstructure.py:537: UserWarning: WARNING: duplicate atom (HETATM   33  H   UNL     1      -9.927  -6.981  -1.875  1.00  0.00           H  , HETATM   32  H   UNL     1      -8.634  -6.158  -1.034  1.00  0.00           H  )\n",
      "  warnings.warn(\"WARNING: duplicate atom (%s, %s)\" % (atom, old_atom._pdb_string(old_atom.serial_number, atom.alternate_location_indicator)))\n",
      "/home/elias/anaconda3/envs/openmm/lib/python3.7/site-packages/simtk/openmm/app/internal/pdbstructure.py:537: UserWarning: WARNING: duplicate atom (HETATM   34  C   UNL     1      -8.318  -6.351  -3.151  1.00  0.00           C  , HETATM   31  C   UNL     1      -9.230  -6.170  -1.923  1.00  0.00           C  )\n",
      "  warnings.warn(\"WARNING: duplicate atom (%s, %s)\" % (atom, old_atom._pdb_string(old_atom.serial_number, atom.alternate_location_indicator)))\n",
      "/home/elias/anaconda3/envs/openmm/lib/python3.7/site-packages/simtk/openmm/app/internal/pdbstructure.py:537: UserWarning: WARNING: duplicate atom (HETATM   35  H   UNL     1      -7.670  -5.504  -3.241  1.00  0.00           H  , HETATM   33  H   UNL     1      -9.927  -6.981  -1.875  1.00  0.00           H  )\n",
      "  warnings.warn(\"WARNING: duplicate atom (%s, %s)\" % (atom, old_atom._pdb_string(old_atom.serial_number, atom.alternate_location_indicator)))\n",
      "/home/elias/anaconda3/envs/openmm/lib/python3.7/site-packages/simtk/openmm/app/internal/pdbstructure.py:537: UserWarning: WARNING: duplicate atom (HETATM   36  H   UNL     1      -8.918  -6.437  -4.032  1.00  0.00           H  , HETATM   35  H   UNL     1      -7.670  -5.504  -3.241  1.00  0.00           H  )\n",
      "  warnings.warn(\"WARNING: duplicate atom (%s, %s)\" % (atom, old_atom._pdb_string(old_atom.serial_number, atom.alternate_location_indicator)))\n",
      "/home/elias/anaconda3/envs/openmm/lib/python3.7/site-packages/simtk/openmm/app/internal/pdbstructure.py:537: UserWarning: WARNING: duplicate atom (HETATM   37  C   UNL     1      -7.814  -8.508  -4.077  1.00  0.00           C  , HETATM   34  C   UNL     1      -8.318  -6.351  -3.151  1.00  0.00           C  )\n",
      "  warnings.warn(\"WARNING: duplicate atom (%s, %s)\" % (atom, old_atom._pdb_string(old_atom.serial_number, atom.alternate_location_indicator)))\n",
      "/home/elias/anaconda3/envs/openmm/lib/python3.7/site-packages/simtk/openmm/app/internal/pdbstructure.py:537: UserWarning: WARNING: duplicate atom (HETATM   38  O   UNL     1      -6.980  -9.392  -4.401  1.00  0.00           O  , HETATM   23  O   UNL     1      -9.849  -4.169   0.210  1.00  0.00           O  )\n",
      "  warnings.warn(\"WARNING: duplicate atom (%s, %s)\" % (atom, old_atom._pdb_string(old_atom.serial_number, atom.alternate_location_indicator)))\n",
      "/home/elias/anaconda3/envs/openmm/lib/python3.7/site-packages/simtk/openmm/app/internal/pdbstructure.py:537: UserWarning: WARNING: duplicate atom (HETATM   39  C   UNL     1      -9.157  -8.408  -4.824  1.00  0.00           C  , HETATM   37  C   UNL     1      -7.814  -8.508  -4.077  1.00  0.00           C  )\n",
      "  warnings.warn(\"WARNING: duplicate atom (%s, %s)\" % (atom, old_atom._pdb_string(old_atom.serial_number, atom.alternate_location_indicator)))\n",
      "/home/elias/anaconda3/envs/openmm/lib/python3.7/site-packages/simtk/openmm/app/internal/pdbstructure.py:537: UserWarning: WARNING: duplicate atom (HETATM   40  H   UNL     1      -9.962  -8.504  -4.126  1.00  0.00           H  , HETATM   36  H   UNL     1      -8.918  -6.437  -4.032  1.00  0.00           H  )\n",
      "  warnings.warn(\"WARNING: duplicate atom (%s, %s)\" % (atom, old_atom._pdb_string(old_atom.serial_number, atom.alternate_location_indicator)))\n",
      "/home/elias/anaconda3/envs/openmm/lib/python3.7/site-packages/simtk/openmm/app/internal/pdbstructure.py:537: UserWarning: WARNING: duplicate atom (HETATM   41  H   UNL     1      -9.222  -7.460  -5.316  1.00  0.00           H  , HETATM   40  H   UNL     1      -9.962  -8.504  -4.126  1.00  0.00           H  )\n",
      "  warnings.warn(\"WARNING: duplicate atom (%s, %s)\" % (atom, old_atom._pdb_string(old_atom.serial_number, atom.alternate_location_indicator)))\n",
      "/home/elias/anaconda3/envs/openmm/lib/python3.7/site-packages/simtk/openmm/app/internal/pdbstructure.py:537: UserWarning: WARNING: duplicate atom (HETATM   42  C   UNL     1      -9.247  -9.535  -5.869  1.00  0.00           C  , HETATM   39  C   UNL     1      -9.157  -8.408  -4.824  1.00  0.00           C  )\n",
      "  warnings.warn(\"WARNING: duplicate atom (%s, %s)\" % (atom, old_atom._pdb_string(old_atom.serial_number, atom.alternate_location_indicator)))\n",
      "/home/elias/anaconda3/envs/openmm/lib/python3.7/site-packages/simtk/openmm/app/internal/pdbstructure.py:537: UserWarning: WARNING: duplicate atom (HETATM   43  H   UNL     1      -8.451  -9.430  -6.577  1.00  0.00           H  , HETATM   41  H   UNL     1      -9.222  -7.460  -5.316  1.00  0.00           H  )\n",
      "  warnings.warn(\"WARNING: duplicate atom (%s, %s)\" % (atom, old_atom._pdb_string(old_atom.serial_number, atom.alternate_location_indicator)))\n",
      "/home/elias/anaconda3/envs/openmm/lib/python3.7/site-packages/simtk/openmm/app/internal/pdbstructure.py:537: UserWarning: WARNING: duplicate atom (HETATM   44  H   UNL     1      -9.166 -10.483  -5.380  1.00  0.00           H  , HETATM   43  H   UNL     1      -8.451  -9.430  -6.577  1.00  0.00           H  )\n",
      "  warnings.warn(\"WARNING: duplicate atom (%s, %s)\" % (atom, old_atom._pdb_string(old_atom.serial_number, atom.alternate_location_indicator)))\n",
      "/home/elias/anaconda3/envs/openmm/lib/python3.7/site-packages/simtk/openmm/app/internal/pdbstructure.py:537: UserWarning: WARNING: duplicate atom (HETATM   45  N   UNL     1      -7.511  -7.569  -2.987  1.00  0.00           N  , HETATM   30  N   UNL     1      -9.962  -4.901  -2.039  1.00  0.00           N  )\n",
      "  warnings.warn(\"WARNING: duplicate atom (%s, %s)\" % (atom, old_atom._pdb_string(old_atom.serial_number, atom.alternate_location_indicator)))\n",
      "/home/elias/anaconda3/envs/openmm/lib/python3.7/site-packages/simtk/openmm/app/internal/pdbstructure.py:537: UserWarning: WARNING: duplicate atom (HETATM   46  C   UNL     1      -6.550  -7.811  -1.901  1.00  0.00           C  , HETATM   42  C   UNL     1      -9.247  -9.535  -5.869  1.00  0.00           C  )\n",
      "  warnings.warn(\"WARNING: duplicate atom (%s, %s)\" % (atom, old_atom._pdb_string(old_atom.serial_number, atom.alternate_location_indicator)))\n",
      "/home/elias/anaconda3/envs/openmm/lib/python3.7/site-packages/simtk/openmm/app/internal/pdbstructure.py:537: UserWarning: WARNING: duplicate atom (HETATM   47  H   UNL     1      -6.574  -6.990  -1.214  1.00  0.00           H  , HETATM   44  H   UNL     1      -9.166 -10.483  -5.380  1.00  0.00           H  )\n",
      "  warnings.warn(\"WARNING: duplicate atom (%s, %s)\" % (atom, old_atom._pdb_string(old_atom.serial_number, atom.alternate_location_indicator)))\n",
      "/home/elias/anaconda3/envs/openmm/lib/python3.7/site-packages/simtk/openmm/app/internal/pdbstructure.py:537: UserWarning: WARNING: duplicate atom (HETATM   48  H   UNL     1      -6.812  -8.712  -1.387  1.00  0.00           H  , HETATM   47  H   UNL     1      -6.574  -6.990  -1.214  1.00  0.00           H  )\n",
      "  warnings.warn(\"WARNING: duplicate atom (%s, %s)\" % (atom, old_atom._pdb_string(old_atom.serial_number, atom.alternate_location_indicator)))\n",
      "/home/elias/anaconda3/envs/openmm/lib/python3.7/site-packages/simtk/openmm/app/internal/pdbstructure.py:537: UserWarning: WARNING: duplicate atom (HETATM   49  C   UNL     1      -5.134  -7.948  -2.489  1.00  0.00           C  , HETATM   46  C   UNL     1      -6.550  -7.811  -1.901  1.00  0.00           C  )\n",
      "  warnings.warn(\"WARNING: duplicate atom (%s, %s)\" % (atom, old_atom._pdb_string(old_atom.serial_number, atom.alternate_location_indicator)))\n",
      "/home/elias/anaconda3/envs/openmm/lib/python3.7/site-packages/simtk/openmm/app/internal/pdbstructure.py:537: UserWarning: WARNING: duplicate atom (HETATM   50  H   UNL     1      -4.901  -7.076  -3.065  1.00  0.00           H  , HETATM   48  H   UNL     1      -6.812  -8.712  -1.387  1.00  0.00           H  )\n",
      "  warnings.warn(\"WARNING: duplicate atom (%s, %s)\" % (atom, old_atom._pdb_string(old_atom.serial_number, atom.alternate_location_indicator)))\n",
      "/home/elias/anaconda3/envs/openmm/lib/python3.7/site-packages/simtk/openmm/app/internal/pdbstructure.py:537: UserWarning: WARNING: duplicate atom (HETATM   51  H   UNL     1      -5.091  -8.812  -3.119  1.00  0.00           H  , HETATM   50  H   UNL     1      -4.901  -7.076  -3.065  1.00  0.00           H  )\n",
      "  warnings.warn(\"WARNING: duplicate atom (%s, %s)\" % (atom, old_atom._pdb_string(old_atom.serial_number, atom.alternate_location_indicator)))\n",
      "/home/elias/anaconda3/envs/openmm/lib/python3.7/site-packages/simtk/openmm/app/internal/pdbstructure.py:537: UserWarning: WARNING: duplicate atom (HETATM   52  C   UNL     1      -3.468  -9.379  -1.521  1.00  0.00           C  , HETATM   49  C   UNL     1      -5.134  -7.948  -2.489  1.00  0.00           C  )\n",
      "  warnings.warn(\"WARNING: duplicate atom (%s, %s)\" % (atom, old_atom._pdb_string(old_atom.serial_number, atom.alternate_location_indicator)))\n",
      "/home/elias/anaconda3/envs/openmm/lib/python3.7/site-packages/simtk/openmm/app/internal/pdbstructure.py:537: UserWarning: WARNING: duplicate atom (HETATM   53  O   UNL     1      -2.335  -9.543  -0.998  1.00  0.00           O  , HETATM   38  O   UNL     1      -6.980  -9.392  -4.401  1.00  0.00           O  )\n",
      "  warnings.warn(\"WARNING: duplicate atom (%s, %s)\" % (atom, old_atom._pdb_string(old_atom.serial_number, atom.alternate_location_indicator)))\n",
      "/home/elias/anaconda3/envs/openmm/lib/python3.7/site-packages/simtk/openmm/app/internal/pdbstructure.py:537: UserWarning: WARNING: duplicate atom (HETATM   54  C   UNL     1      -4.131 -10.535  -2.293  1.00  0.00           C  , HETATM   52  C   UNL     1      -3.468  -9.379  -1.521  1.00  0.00           C  )\n",
      "  warnings.warn(\"WARNING: duplicate atom (%s, %s)\" % (atom, old_atom._pdb_string(old_atom.serial_number, atom.alternate_location_indicator)))\n",
      "/home/elias/anaconda3/envs/openmm/lib/python3.7/site-packages/simtk/openmm/app/internal/pdbstructure.py:537: UserWarning: WARNING: duplicate atom (HETATM   55  H   UNL     1      -5.082 -10.756  -1.857  1.00  0.00           H  , HETATM   51  H   UNL     1      -5.091  -8.812  -3.119  1.00  0.00           H  )\n",
      "  warnings.warn(\"WARNING: duplicate atom (%s, %s)\" % (atom, old_atom._pdb_string(old_atom.serial_number, atom.alternate_location_indicator)))\n",
      "/home/elias/anaconda3/envs/openmm/lib/python3.7/site-packages/simtk/openmm/app/internal/pdbstructure.py:537: UserWarning: WARNING: duplicate atom (HETATM   56  H   UNL     1      -4.265 -10.249  -3.316  1.00  0.00           H  , HETATM   55  H   UNL     1      -5.082 -10.756  -1.857  1.00  0.00           H  )\n",
      "  warnings.warn(\"WARNING: duplicate atom (%s, %s)\" % (atom, old_atom._pdb_string(old_atom.serial_number, atom.alternate_location_indicator)))\n",
      "/home/elias/anaconda3/envs/openmm/lib/python3.7/site-packages/simtk/openmm/app/internal/pdbstructure.py:537: UserWarning: WARNING: duplicate atom (HETATM   57  C   UNL     1      -3.231 -11.782  -2.223  1.00  0.00           C  , HETATM   54  C   UNL     1      -4.131 -10.535  -2.293  1.00  0.00           C  )\n",
      "  warnings.warn(\"WARNING: duplicate atom (%s, %s)\" % (atom, old_atom._pdb_string(old_atom.serial_number, atom.alternate_location_indicator)))\n",
      "/home/elias/anaconda3/envs/openmm/lib/python3.7/site-packages/simtk/openmm/app/internal/pdbstructure.py:537: UserWarning: WARNING: duplicate atom (HETATM   58  H   UNL     1      -2.285 -11.566  -2.674  1.00  0.00           H  , HETATM   56  H   UNL     1      -4.265 -10.249  -3.316  1.00  0.00           H  )\n",
      "  warnings.warn(\"WARNING: duplicate atom (%s, %s)\" % (atom, old_atom._pdb_string(old_atom.serial_number, atom.alternate_location_indicator)))\n",
      "/home/elias/anaconda3/envs/openmm/lib/python3.7/site-packages/simtk/openmm/app/internal/pdbstructure.py:537: UserWarning: WARNING: duplicate atom (HETATM   59  H   UNL     1      -3.083 -12.058  -1.199  1.00  0.00           H  , HETATM   58  H   UNL     1      -2.285 -11.566  -2.674  1.00  0.00           H  )\n",
      "  warnings.warn(\"WARNING: duplicate atom (%s, %s)\" % (atom, old_atom._pdb_string(old_atom.serial_number, atom.alternate_location_indicator)))\n",
      "/home/elias/anaconda3/envs/openmm/lib/python3.7/site-packages/simtk/openmm/app/internal/pdbstructure.py:537: UserWarning: WARNING: duplicate atom (HETATM   60  N   UNL     1      -4.161  -8.088  -1.397  1.00  0.00           N  , HETATM   45  N   UNL     1      -7.511  -7.569  -2.987  1.00  0.00           N  )\n",
      "  warnings.warn(\"WARNING: duplicate atom (%s, %s)\" % (atom, old_atom._pdb_string(old_atom.serial_number, atom.alternate_location_indicator)))\n",
      "/home/elias/anaconda3/envs/openmm/lib/python3.7/site-packages/simtk/openmm/app/internal/pdbstructure.py:537: UserWarning: WARNING: duplicate atom (HETATM   61  C   UNL     1      -3.917  -7.092  -0.343  1.00  0.00           C  , HETATM   57  C   UNL     1      -3.231 -11.782  -2.223  1.00  0.00           C  )\n",
      "  warnings.warn(\"WARNING: duplicate atom (%s, %s)\" % (atom, old_atom._pdb_string(old_atom.serial_number, atom.alternate_location_indicator)))\n",
      "/home/elias/anaconda3/envs/openmm/lib/python3.7/site-packages/simtk/openmm/app/internal/pdbstructure.py:537: UserWarning: WARNING: duplicate atom (HETATM   62  H   UNL     1      -3.816  -6.123  -0.785  1.00  0.00           H  , HETATM   59  H   UNL     1      -3.083 -12.058  -1.199  1.00  0.00           H  )\n",
      "  warnings.warn(\"WARNING: duplicate atom (%s, %s)\" % (atom, old_atom._pdb_string(old_atom.serial_number, atom.alternate_location_indicator)))\n",
      "/home/elias/anaconda3/envs/openmm/lib/python3.7/site-packages/simtk/openmm/app/internal/pdbstructure.py:537: UserWarning: WARNING: duplicate atom (HETATM   63  H   UNL     1      -4.741  -7.088   0.340  1.00  0.00           H  , HETATM   62  H   UNL     1      -3.816  -6.123  -0.785  1.00  0.00           H  )\n",
      "  warnings.warn(\"WARNING: duplicate atom (%s, %s)\" % (atom, old_atom._pdb_string(old_atom.serial_number, atom.alternate_location_indicator)))\n",
      "/home/elias/anaconda3/envs/openmm/lib/python3.7/site-packages/simtk/openmm/app/internal/pdbstructure.py:537: UserWarning: WARNING: duplicate atom (HETATM   64  C   UNL     1      -2.624  -7.450   0.412  1.00  0.00           C  , HETATM   61  C   UNL     1      -3.917  -7.092  -0.343  1.00  0.00           C  )\n",
      "  warnings.warn(\"WARNING: duplicate atom (%s, %s)\" % (atom, old_atom._pdb_string(old_atom.serial_number, atom.alternate_location_indicator)))\n",
      "/home/elias/anaconda3/envs/openmm/lib/python3.7/site-packages/simtk/openmm/app/internal/pdbstructure.py:537: UserWarning: WARNING: duplicate atom (HETATM   65  H   UNL     1      -1.815  -7.527  -0.283  1.00  0.00           H  , HETATM   63  H   UNL     1      -4.741  -7.088   0.340  1.00  0.00           H  )\n",
      "  warnings.warn(\"WARNING: duplicate atom (%s, %s)\" % (atom, old_atom._pdb_string(old_atom.serial_number, atom.alternate_location_indicator)))\n",
      "/home/elias/anaconda3/envs/openmm/lib/python3.7/site-packages/simtk/openmm/app/internal/pdbstructure.py:537: UserWarning: WARNING: duplicate atom (HETATM   66  H   UNL     1      -2.752  -8.386   0.916  1.00  0.00           H  , HETATM   65  H   UNL     1      -1.815  -7.527  -0.283  1.00  0.00           H  )\n",
      "  warnings.warn(\"WARNING: duplicate atom (%s, %s)\" % (atom, old_atom._pdb_string(old_atom.serial_number, atom.alternate_location_indicator)))\n",
      "/home/elias/anaconda3/envs/openmm/lib/python3.7/site-packages/simtk/openmm/app/internal/pdbstructure.py:537: UserWarning: WARNING: duplicate atom (HETATM   67  N   UNL     1      -2.327  -6.401   1.398  1.00  0.00           N  , HETATM   60  N   UNL     1      -4.161  -8.088  -1.397  1.00  0.00           N  )\n",
      "  warnings.warn(\"WARNING: duplicate atom (%s, %s)\" % (atom, old_atom._pdb_string(old_atom.serial_number, atom.alternate_location_indicator)))\n",
      "/home/elias/anaconda3/envs/openmm/lib/python3.7/site-packages/simtk/openmm/app/internal/pdbstructure.py:537: UserWarning: WARNING: duplicate atom (HETATM   68  C   UNL     1      -1.092  -6.742   2.119  1.00  0.00           C  , HETATM   64  C   UNL     1      -2.624  -7.450   0.412  1.00  0.00           C  )\n",
      "  warnings.warn(\"WARNING: duplicate atom (%s, %s)\" % (atom, old_atom._pdb_string(old_atom.serial_number, atom.alternate_location_indicator)))\n",
      "/home/elias/anaconda3/envs/openmm/lib/python3.7/site-packages/simtk/openmm/app/internal/pdbstructure.py:537: UserWarning: WARNING: duplicate atom (HETATM   69  O   UNL     1      -0.471  -7.801   1.846  1.00  0.00           O  , HETATM   53  O   UNL     1      -2.335  -9.543  -0.998  1.00  0.00           O  )\n",
      "  warnings.warn(\"WARNING: duplicate atom (%s, %s)\" % (atom, old_atom._pdb_string(old_atom.serial_number, atom.alternate_location_indicator)))\n",
      "/home/elias/anaconda3/envs/openmm/lib/python3.7/site-packages/simtk/openmm/app/internal/pdbstructure.py:537: UserWarning: WARNING: duplicate atom (HETATM   70  C   UNL     1      -0.557  -5.799   3.214  1.00  0.00           C  , HETATM   68  C   UNL     1      -1.092  -6.742   2.119  1.00  0.00           C  )\n",
      "  warnings.warn(\"WARNING: duplicate atom (%s, %s)\" % (atom, old_atom._pdb_string(old_atom.serial_number, atom.alternate_location_indicator)))\n",
      "/home/elias/anaconda3/envs/openmm/lib/python3.7/site-packages/simtk/openmm/app/internal/pdbstructure.py:537: UserWarning: WARNING: duplicate atom (HETATM   71  H   UNL     1      -0.392  -4.827   2.798  1.00  0.00           H  , HETATM   66  H   UNL     1      -2.752  -8.386   0.916  1.00  0.00           H  )\n",
      "  warnings.warn(\"WARNING: duplicate atom (%s, %s)\" % (atom, old_atom._pdb_string(old_atom.serial_number, atom.alternate_location_indicator)))\n",
      "/home/elias/anaconda3/envs/openmm/lib/python3.7/site-packages/simtk/openmm/app/internal/pdbstructure.py:537: UserWarning: WARNING: duplicate atom (HETATM   72  H   UNL     1      -1.273  -5.731   4.006  1.00  0.00           H  , HETATM   71  H   UNL     1      -0.392  -4.827   2.798  1.00  0.00           H  )\n",
      "  warnings.warn(\"WARNING: duplicate atom (%s, %s)\" % (atom, old_atom._pdb_string(old_atom.serial_number, atom.alternate_location_indicator)))\n",
      "/home/elias/anaconda3/envs/openmm/lib/python3.7/site-packages/simtk/openmm/app/internal/pdbstructure.py:537: UserWarning: WARNING: duplicate atom (HETATM   73  C   UNL     1       0.769  -6.354   3.766  1.00  0.00           C  , HETATM   70  C   UNL     1      -0.557  -5.799   3.214  1.00  0.00           C  )\n",
      "  warnings.warn(\"WARNING: duplicate atom (%s, %s)\" % (atom, old_atom._pdb_string(old_atom.serial_number, atom.alternate_location_indicator)))\n",
      "/home/elias/anaconda3/envs/openmm/lib/python3.7/site-packages/simtk/openmm/app/internal/pdbstructure.py:537: UserWarning: WARNING: duplicate atom (HETATM   74  H   UNL     1       0.600  -7.319   4.196  1.00  0.00           H  , HETATM   72  H   UNL     1      -1.273  -5.731   4.006  1.00  0.00           H  )\n",
      "  warnings.warn(\"WARNING: duplicate atom (%s, %s)\" % (atom, old_atom._pdb_string(old_atom.serial_number, atom.alternate_location_indicator)))\n",
      "/home/elias/anaconda3/envs/openmm/lib/python3.7/site-packages/simtk/openmm/app/internal/pdbstructure.py:537: UserWarning: WARNING: duplicate atom (HETATM   75  H   UNL     1       1.479  -6.438   2.970  1.00  0.00           H  , HETATM   74  H   UNL     1       0.600  -7.319   4.196  1.00  0.00           H  )\n",
      "  warnings.warn(\"WARNING: duplicate atom (%s, %s)\" % (atom, old_atom._pdb_string(old_atom.serial_number, atom.alternate_location_indicator)))\n",
      "/home/elias/anaconda3/envs/openmm/lib/python3.7/site-packages/simtk/openmm/app/internal/pdbstructure.py:537: UserWarning: WARNING: duplicate atom (HETATM   76  C   UNL     1      -2.151  -5.115   0.707  1.00  0.00           C  , HETATM   73  C   UNL     1       0.769  -6.354   3.766  1.00  0.00           C  )\n",
      "  warnings.warn(\"WARNING: duplicate atom (%s, %s)\" % (atom, old_atom._pdb_string(old_atom.serial_number, atom.alternate_location_indicator)))\n",
      "/home/elias/anaconda3/envs/openmm/lib/python3.7/site-packages/simtk/openmm/app/internal/pdbstructure.py:537: UserWarning: WARNING: duplicate atom (HETATM   77  H   UNL     1      -2.968  -4.957   0.034  1.00  0.00           H  , HETATM   75  H   UNL     1       1.479  -6.438   2.970  1.00  0.00           H  )\n",
      "  warnings.warn(\"WARNING: duplicate atom (%s, %s)\" % (atom, old_atom._pdb_string(old_atom.serial_number, atom.alternate_location_indicator)))\n",
      "/home/elias/anaconda3/envs/openmm/lib/python3.7/site-packages/simtk/openmm/app/internal/pdbstructure.py:537: UserWarning: WARNING: duplicate atom (HETATM   78  H   UNL     1      -2.123  -4.324   1.427  1.00  0.00           H  , HETATM   77  H   UNL     1      -2.968  -4.957   0.034  1.00  0.00           H  )\n",
      "  warnings.warn(\"WARNING: duplicate atom (%s, %s)\" % (atom, old_atom._pdb_string(old_atom.serial_number, atom.alternate_location_indicator)))\n",
      "/home/elias/anaconda3/envs/openmm/lib/python3.7/site-packages/simtk/openmm/app/internal/pdbstructure.py:537: UserWarning: WARNING: duplicate atom (HETATM   79  H   UNL     1      -1.233  -5.129   0.156  1.00  0.00           H  , HETATM   78  H   UNL     1      -2.123  -4.324   1.427  1.00  0.00           H  )\n",
      "  warnings.warn(\"WARNING: duplicate atom (%s, %s)\" % (atom, old_atom._pdb_string(old_atom.serial_number, atom.alternate_location_indicator)))\n",
      "/home/elias/anaconda3/envs/openmm/lib/python3.7/site-packages/simtk/openmm/app/internal/pdbstructure.py:537: UserWarning: WARNING: duplicate atom (HETATM   80  C   UNL     1       1.315  -5.400   4.844  1.00  0.00           C  , HETATM   76  C   UNL     1      -2.151  -5.115   0.707  1.00  0.00           C  )\n",
      "  warnings.warn(\"WARNING: duplicate atom (%s, %s)\" % (atom, old_atom._pdb_string(old_atom.serial_number, atom.alternate_location_indicator)))\n",
      "/home/elias/anaconda3/envs/openmm/lib/python3.7/site-packages/simtk/openmm/app/internal/pdbstructure.py:537: UserWarning: WARNING: duplicate atom (HETATM   81  C   UNL     1     -10.614  -0.066  -0.511  1.00  0.00           C  , HETATM   80  C   UNL     1       1.315  -5.400   4.844  1.00  0.00           C  )\n",
      "  warnings.warn(\"WARNING: duplicate atom (%s, %s)\" % (atom, old_atom._pdb_string(old_atom.serial_number, atom.alternate_location_indicator)))\n",
      "/home/elias/anaconda3/envs/openmm/lib/python3.7/site-packages/simtk/openmm/app/internal/pdbstructure.py:537: UserWarning: WARNING: duplicate atom (HETATM   82  C   UNL     1     -14.510  -3.365  -6.838  1.00  0.00           C  , HETATM   81  C   UNL     1     -10.614  -0.066  -0.511  1.00  0.00           C  )\n",
      "  warnings.warn(\"WARNING: duplicate atom (%s, %s)\" % (atom, old_atom._pdb_string(old_atom.serial_number, atom.alternate_location_indicator)))\n",
      "/home/elias/anaconda3/envs/openmm/lib/python3.7/site-packages/simtk/openmm/app/internal/pdbstructure.py:537: UserWarning: WARNING: duplicate atom (HETATM   83  C   UNL     1     -10.600  -9.450  -6.601  1.00  0.00           C  , HETATM   82  C   UNL     1     -14.510  -3.365  -6.838  1.00  0.00           C  )\n",
      "  warnings.warn(\"WARNING: duplicate atom (%s, %s)\" % (atom, old_atom._pdb_string(old_atom.serial_number, atom.alternate_location_indicator)))\n",
      "/home/elias/anaconda3/envs/openmm/lib/python3.7/site-packages/simtk/openmm/app/internal/pdbstructure.py:537: UserWarning: WARNING: duplicate atom (HETATM   84  C   UNL     1      -3.905 -12.945  -2.975  1.00  0.00           C  , HETATM   83  C   UNL     1     -10.600  -9.450  -6.601  1.00  0.00           C  )\n",
      "  warnings.warn(\"WARNING: duplicate atom (%s, %s)\" % (atom, old_atom._pdb_string(old_atom.serial_number, atom.alternate_location_indicator)))\n",
      "/home/elias/anaconda3/envs/openmm/lib/python3.7/site-packages/simtk/openmm/app/internal/pdbstructure.py:537: UserWarning: WARNING: duplicate atom (HETATM   85  C   UNL     1      -4.430 -13.851  -3.563  1.00  0.00           C  , HETATM   84  C   UNL     1      -3.905 -12.945  -2.975  1.00  0.00           C  )\n",
      "  warnings.warn(\"WARNING: duplicate atom (%s, %s)\" % (atom, old_atom._pdb_string(old_atom.serial_number, atom.alternate_location_indicator)))\n",
      "/home/elias/anaconda3/envs/openmm/lib/python3.7/site-packages/simtk/openmm/app/internal/pdbstructure.py:537: UserWarning: WARNING: duplicate atom (HETATM   86  H   UNL     1      -4.898 -14.659  -4.086  1.00  0.00           H  , HETATM   79  H   UNL     1      -1.233  -5.129   0.156  1.00  0.00           H  )\n",
      "  warnings.warn(\"WARNING: duplicate atom (%s, %s)\" % (atom, old_atom._pdb_string(old_atom.serial_number, atom.alternate_location_indicator)))\n",
      "/home/elias/anaconda3/envs/openmm/lib/python3.7/site-packages/simtk/openmm/app/internal/pdbstructure.py:537: UserWarning: WARNING: duplicate atom (HETATM   87  C   UNL     1       1.741  -4.655   5.685  1.00  0.00           C  , HETATM   85  C   UNL     1      -4.430 -13.851  -3.563  1.00  0.00           C  )\n",
      "  warnings.warn(\"WARNING: duplicate atom (%s, %s)\" % (atom, old_atom._pdb_string(old_atom.serial_number, atom.alternate_location_indicator)))\n",
      "/home/elias/anaconda3/envs/openmm/lib/python3.7/site-packages/simtk/openmm/app/internal/pdbstructure.py:537: UserWarning: WARNING: duplicate atom (HETATM   88  H   UNL     1       2.121  -3.992   6.434  1.00  0.00           H  , HETATM   86  H   UNL     1      -4.898 -14.659  -4.086  1.00  0.00           H  )\n",
      "  warnings.warn(\"WARNING: duplicate atom (%s, %s)\" % (atom, old_atom._pdb_string(old_atom.serial_number, atom.alternate_location_indicator)))\n",
      "/home/elias/anaconda3/envs/openmm/lib/python3.7/site-packages/simtk/openmm/app/internal/pdbstructure.py:537: UserWarning: WARNING: duplicate atom (HETATM   89  C   UNL     1     -11.654  -9.383  -7.172  1.00  0.00           C  , HETATM   87  C   UNL     1       1.741  -4.655   5.685  1.00  0.00           C  )\n",
      "  warnings.warn(\"WARNING: duplicate atom (%s, %s)\" % (atom, old_atom._pdb_string(old_atom.serial_number, atom.alternate_location_indicator)))\n",
      "/home/elias/anaconda3/envs/openmm/lib/python3.7/site-packages/simtk/openmm/app/internal/pdbstructure.py:537: UserWarning: WARNING: duplicate atom (HETATM   90  H   UNL     1     -12.594  -9.323  -7.680  1.00  0.00           H  , HETATM   88  H   UNL     1       2.121  -3.992   6.434  1.00  0.00           H  )\n",
      "  warnings.warn(\"WARNING: duplicate atom (%s, %s)\" % (atom, old_atom._pdb_string(old_atom.serial_number, atom.alternate_location_indicator)))\n",
      "/home/elias/anaconda3/envs/openmm/lib/python3.7/site-packages/simtk/openmm/app/internal/pdbstructure.py:537: UserWarning: WARNING: duplicate atom (HETATM   91  C   UNL     1     -10.843   1.074  -0.815  1.00  0.00           C  , HETATM   89  C   UNL     1     -11.654  -9.383  -7.172  1.00  0.00           C  )\n",
      "  warnings.warn(\"WARNING: duplicate atom (%s, %s)\" % (atom, old_atom._pdb_string(old_atom.serial_number, atom.alternate_location_indicator)))\n",
      "/home/elias/anaconda3/envs/openmm/lib/python3.7/site-packages/simtk/openmm/app/internal/pdbstructure.py:537: UserWarning: WARNING: duplicate atom (HETATM   92  H   UNL     1     -11.047   2.089  -1.085  1.00  0.00           H  , HETATM   90  H   UNL     1     -12.594  -9.323  -7.680  1.00  0.00           H  )\n",
      "  warnings.warn(\"WARNING: duplicate atom (%s, %s)\" % (atom, old_atom._pdb_string(old_atom.serial_number, atom.alternate_location_indicator)))\n",
      "/home/elias/anaconda3/envs/openmm/lib/python3.7/site-packages/simtk/openmm/app/internal/pdbstructure.py:537: UserWarning: WARNING: duplicate atom (HETATM   93  C   UNL     1     -14.809  -3.798  -7.918  1.00  0.00           C  , HETATM   91  C   UNL     1     -10.843   1.074  -0.815  1.00  0.00           C  )\n",
      "  warnings.warn(\"WARNING: duplicate atom (%s, %s)\" % (atom, old_atom._pdb_string(old_atom.serial_number, atom.alternate_location_indicator)))\n",
      "/home/elias/anaconda3/envs/openmm/lib/python3.7/site-packages/simtk/openmm/app/internal/pdbstructure.py:537: UserWarning: WARNING: duplicate atom (HETATM   94  H   UNL     1     -15.077  -4.183  -8.880  1.00  0.00           H  , HETATM   92  H   UNL     1     -11.047   2.089  -1.085  1.00  0.00           H  )\n",
      "  warnings.warn(\"WARNING: duplicate atom (%s, %s)\" % (atom, old_atom._pdb_string(old_atom.serial_number, atom.alternate_location_indicator)))\n"
     ]
    },
    {
     "name": "stderr",
     "output_type": "stream",
     "text": [
      "Warning: In AmberToolsToolkitwrapper.compute_partial_charges_am1bcc: Molecule 'Molecule Name' has more than one conformer, but this function will only generate charges for the first one.\n"
     ]
    }
   ],
   "source": [
    "\n",
    "from openmoltools import packmol\n",
    "import mdtraj as md\n",
    "from simtk.openmm.app import *\n",
    "from simtk.openmm import *\n",
    "from simtk.unit import *\n",
    "from openforcefield.topology import Molecule, Topology\n",
    "\n",
    "#box_size = 29.0\n",
    "\n",
    "monomer_names = [f\"{solutes[0]}.sdf\"]\n",
    "unique_molecules = [Molecule.from_file(name) for name in monomer_names]\n",
    "#Define all monomers (sdf,smiles or mol format) used in the solvent box, \n",
    "#(if a licence for openEye is obtained this can also be other formats are applicable)\n",
    "\n",
    "pdb_box = PDBFile(f\"{solutes[0]}.pdb\")\n",
    "\n",
    "box_positions = pdb_box.getPositions()\n",
    "off_box_topology = Topology.from_openmm(pdb_box.topology,unique_molecules=unique_molecules)\n",
    "off_box_system = off_forcefield.create_openmm_system(off_box_topology)\n"
   ]
  },
  {
   "cell_type": "markdown",
   "metadata": {},
   "source": [
    "#### Performing MD simulation in the NVT ensemble"
   ]
  },
  {
   "cell_type": "code",
   "execution_count": 4,
   "metadata": {},
   "outputs": [
    {
     "name": "stdout",
     "output_type": "stream",
     "text": [
      "Starting simulation\n",
      "#\"Step\",\"Temperature (K)\",\"Elapsed Time (s)\"\n",
      "10000,396.49903435307505,0.00010967254638671875\n",
      "20000,417.6757040952804,3.5017201900482178\n",
      "30000,438.98292577435586,7.401749134063721\n",
      "40000,458.0695556420343,10.932908535003662\n",
      "50000,411.89554727935257,14.584268808364868\n",
      "60000,464.555387056631,18.37719988822937\n",
      "70000,434.93415407644085,22.535659551620483\n",
      "80000,435.10711298857893,26.165719509124756\n",
      "90000,372.50329418403044,29.64246940612793\n",
      "100000,453.3384903848217,33.10452651977539\n",
      "110000,407.181374474913,36.67268776893616\n",
      "120000,461.366975465762,40.17605900764465\n",
      "130000,427.4898154334029,43.884050130844116\n",
      "140000,424.4428563484526,47.39969062805176\n",
      "150000,426.2355508109675,50.948992013931274\n",
      "160000,406.2012953340418,54.660393714904785\n",
      "170000,415.90329285447814,58.35214900970459\n",
      "180000,427.62747789909224,61.86446666717529\n",
      "190000,418.2257098514119,65.44429540634155\n",
      "200000,423.6234482320745,69.06508111953735\n",
      "210000,419.60950660936123,72.855473279953\n",
      "220000,401.2561249844227,76.47409772872925\n",
      "230000,492.71000732563084,80.51911187171936\n",
      "240000,444.5345823990079,84.36344718933105\n",
      "250000,414.83525529298976,89.31237530708313\n",
      "260000,440.01167205008755,93.82654023170471\n",
      "270000,417.6098215470173,97.85727500915527\n",
      "280000,423.39509392485047,101.63024878501892\n",
      "290000,486.0135250000887,105.10886454582214\n",
      "300000,418.2358142091932,108.63396453857422\n",
      "310000,449.33766706009027,112.15820097923279\n",
      "320000,384.87428640771145,115.62570428848267\n",
      "330000,417.90564944552614,119.19480872154236\n",
      "340000,399.8376996441626,122.89924931526184\n",
      "350000,380.251423539866,126.43481063842773\n",
      "360000,476.6790124442583,129.90333676338196\n",
      "370000,465.214737215588,133.39343166351318\n",
      "380000,387.58667485440805,136.85296082496643\n",
      "390000,418.2693934459257,140.3288218975067\n",
      "400000,456.1235069201767,143.82611346244812\n",
      "410000,383.2624349083222,147.35233902931213\n",
      "420000,416.3224822529486,150.86554265022278\n",
      "430000,439.35818024811323,154.35405349731445\n",
      "440000,421.7419152608478,158.1344175338745\n",
      "450000,386.5175929365203,161.64393138885498\n",
      "460000,414.6836428391785,165.2427065372467\n",
      "470000,421.57566821332165,168.77878284454346\n",
      "480000,413.4163218593276,172.3696849346161\n",
      "490000,420.30420161277135,175.87956523895264\n",
      "500000,390.67515839512384,179.39246606826782\n",
      "510000,451.50174933544594,182.86982798576355\n",
      "520000,450.3203288612946,186.3489282131195\n",
      "530000,404.59900323649214,189.88668084144592\n",
      "540000,415.18360511929666,193.39006662368774\n",
      "550000,471.4970211532286,197.29622054100037\n",
      "560000,423.2362760932034,200.6470456123352\n",
      "570000,413.6010879833302,204.14767980575562\n",
      "580000,406.73788301368927,207.62063932418823\n",
      "590000,391.98172941770764,211.56961226463318\n",
      "600000,452.94900100729376,215.04088640213013\n",
      "610000,415.8065552312872,218.58732509613037\n",
      "620000,423.8896346926072,222.07437086105347\n",
      "630000,373.33378002371586,225.55115270614624\n",
      "640000,452.1247383331016,229.12901830673218\n",
      "650000,370.0691010918786,232.6761395931244\n",
      "660000,394.8076594059839,236.13900113105774\n",
      "670000,493.5656024508854,239.85129022598267\n",
      "680000,408.05529339730805,243.37881779670715\n",
      "690000,353.79676276276035,246.83642601966858\n",
      "700000,372.5327814760086,250.3155164718628\n",
      "710000,482.7809156715155,253.8702998161316\n",
      "720000,432.8733118107636,258.02452516555786\n",
      "730000,510.73103514515327,262.1923396587372\n",
      "740000,422.0291140770009,266.50862431526184\n",
      "750000,456.7739288459556,270.4412326812744\n",
      "760000,443.43760808826227,274.0864489078522\n",
      "770000,361.8371435329506,277.7170705795288\n",
      "780000,410.5064466906585,281.35185503959656\n",
      "790000,361.06008135776545,285.1119017601013\n",
      "800000,429.0095714277149,288.7584385871887\n",
      "810000,425.2577086031646,292.41843152046204\n",
      "820000,456.18006284409694,296.1334083080292\n",
      "830000,421.1522722607739,299.8671889305115\n",
      "840000,418.37413129400437,303.48016142845154\n",
      "850000,420.9715170145704,307.19703578948975\n",
      "860000,420.9743176282953,311.24447226524353\n",
      "870000,431.126773787577,315.24836325645447\n",
      "880000,340.3465289100848,318.8847613334656\n",
      "890000,438.37174508700826,322.44960474967957\n",
      "900000,453.00491959981855,326.0995445251465\n",
      "910000,421.9391581601734,329.70555543899536\n",
      "920000,469.6413446507986,333.3706910610199\n",
      "930000,369.45382496938356,336.9740664958954\n",
      "940000,395.2463834787848,340.7023856639862\n",
      "950000,435.0898650963304,344.2563569545746\n",
      "960000,439.2032402046724,348.0088951587677\n",
      "970000,447.00271042122483,351.7007167339325\n",
      "980000,393.593591087959,355.3766176700592\n",
      "990000,406.4574383649111,359.0329501628876\n",
      "1000000,514.1748901320223,362.67101192474365\n",
      "Elapsed time 734.37 seconds\n",
      "Done!\n"
     ]
    }
   ],
   "source": [
    "from sys import stdout\n",
    "import time\n",
    "\n",
    "#MD settings\n",
    "temperature = 423 #in K \n",
    "pressure = 1 #in bar, for an isobaric simulation\n",
    "timestep = 2 #in femtoseconds\n",
    "total_simulation_steps = 1000000 \n",
    "#Thermostat\n",
    "integrator = LangevinIntegrator(temperature*kelvin, 1/picosecond, timestep*femtoseconds)\n",
    "#for isobaric simulation\n",
    "#off_box_system.addForce(MonteCarloBarostat(pressure*bar, temperature*kelvin))  \n",
    "\n",
    "#setting up the simulation\n",
    "simulation = Simulation(pdb_box.topology, off_box_system, integrator)\n",
    "simulation.context.setPositions(box_positions)\n",
    "simulation.minimizeEnergy()\n",
    "\n",
    "\n",
    "with open(\"initial.pdb\", \"w\") as f:\n",
    "    PDBFile.writeFile(simulation.topology, pdb_box.positions, f)\n",
    "    \n",
    "simulation.reporters = []\n",
    "simulation.reporters.append(DCDReporter('traj.dcd', 100))\n",
    "simulation.reporters.append(StateDataReporter(stdout, 10000, step=True,\n",
    "                                              temperature=True, elapsedTime=True))\n",
    "simulation.reporters.append(StateDataReporter(\"scalars.csv\", 1000, time=True,\n",
    "                                              potentialEnergy=True, totalEnergy=True, temperature=True))\n",
    "\n",
    "print(\"Starting simulation\")\n",
    "start = time.process_time()\n",
    "\n",
    "simulation.step(total_simulation_steps)\n",
    "\n",
    "end = time.process_time()\n",
    "print(\"Elapsed time %.2f seconds\" % (end-start))\n",
    "print(\"Done!\")"
   ]
  },
  {
   "cell_type": "code",
   "execution_count": 5,
   "metadata": {},
   "outputs": [
    {
     "data": {
      "application/vnd.jupyter.widget-view+json": {
       "model_id": "9c5092b664324d7bb72a69665ec4f2a8",
       "version_major": 2,
       "version_minor": 0
      },
      "text/plain": [
       "NGLWidget(count=10000)"
      ]
     },
     "metadata": {},
     "output_type": "display_data"
    }
   ],
   "source": [
    "traj = md.load('traj.dcd', top='initial.pdb')\n",
    "traj.superpose(traj, 0)\n",
    "nglview.show_mdtraj(traj)"
   ]
  },
  {
   "cell_type": "markdown",
   "metadata": {},
   "source": [
    "## Solvent box Setup"
   ]
  },
  {
   "cell_type": "markdown",
   "metadata": {},
   "source": [
    "### Using the SolvationToolkit package to solvate the system (https://github.com/MobleyLab/SolvationToolkit); https://github.com/openforcefield/open-forcefield-tools; "
   ]
  },
  {
   "cell_type": "markdown",
   "metadata": {},
   "source": [
    "The use of some of the features included in this package require an OpenEye licence which can be requested from their site. Adviced in case you want make use of this the open Eye package more frequently. Open Eye provides a very broad scope of tools to handle molecular objects for simulation purposes. Alternatively to OpenEye we use openmoltools (*Vide infra*)"
   ]
  },
  {
   "cell_type": "code",
   "execution_count": null,
   "metadata": {},
   "outputs": [],
   "source": [
    "'''from solvationtoolkit.solvated_mixtures import *\n",
    "#specify the path to save the data and setup system\n",
    "sb_name = 'dbu_dmf'\n",
    "solvent_box = MixtureSystem(f\"./{sb_name}\")\n",
    "\n",
    "solvent_box.addComponent(label='dmf',smiles='CN(C)C=O',number=100)\n",
    "solvent_box.addComponent(label='dbu',smiles='C1CCC2=NCCCN2CC1',number='1')\n",
    "mixture.build()\n",
    "'''"
   ]
  },
  {
   "cell_type": "markdown",
   "metadata": {},
   "source": [
    "###  Using openmoltools (https://github.com/choderalab/openmoltools)"
   ]
  },
  {
   "cell_type": "markdown",
   "metadata": {},
   "source": [
    "I have manually adjusted the packmol.py file (in ~/anaconda3/envs/openmm/lib/python3.7/site-packages/openmoltools) as the bonds were defined as an array of 1 x 4 \n",
    "but in this case the bond type and order should be in the 3rd and fourth column, this is however not the case.\n",
    "there for this is put to zero at the end which corresponds to a bond order and type of None, though antechambers\n",
    "will put this correct normally based on the bonds. Alternatively n_atoms is added after each molecule \n",
    "to bonds_i [0] and [1] instead to avoid a potential loss of information.\n",
    "'''\n",
    "    #cast atom type and order to 0\n",
    "    if len(bonds[0])==4:\n",
    "        for idx,frame in enumerate(bonds):\n",
    "               bonds[idx][2] = 0\n",
    "               bonds[idx][3] = 0\n",
    "\n",
    "TODO: Report to openmoltools"
   ]
  },
  {
   "cell_type": "markdown",
   "metadata": {},
   "source": [
    "#### Setting op the solvent box for the solvated solutes"
   ]
  },
  {
   "cell_type": "code",
   "execution_count": 6,
   "metadata": {},
   "outputs": [
    {
     "ename": "ValueError",
     "evalue": "Ascribe a number of molecules for each species",
     "output_type": "error",
     "traceback": [
      "\u001b[0;31m---------------------------------------------------------------------------\u001b[0m",
      "\u001b[0;31mValueError\u001b[0m                                Traceback (most recent call last)",
      "\u001b[0;32m<ipython-input-6-3562dbf83116>\u001b[0m in \u001b[0;36m<module>\u001b[0;34m\u001b[0m\n\u001b[1;32m      8\u001b[0m \u001b[0;31m#number of molecules for each solute and solvent species in the order of the solutes and solvents provided before\u001b[0m\u001b[0;34m\u001b[0m\u001b[0;34m\u001b[0m\u001b[0;34m\u001b[0m\u001b[0m\n\u001b[1;32m      9\u001b[0m \u001b[0mn_molecules\u001b[0m \u001b[0;34m=\u001b[0m \u001b[0;34m[\u001b[0m\u001b[0;36m1\u001b[0m\u001b[0;34m,\u001b[0m\u001b[0;36m1\u001b[0m\u001b[0;34m,\u001b[0m\u001b[0;36m70\u001b[0m\u001b[0;34m]\u001b[0m\u001b[0;34m\u001b[0m\u001b[0;34m\u001b[0m\u001b[0m\n\u001b[0;32m---> 10\u001b[0;31m \u001b[0;32mif\u001b[0m \u001b[0mlen\u001b[0m\u001b[0;34m(\u001b[0m\u001b[0mn_molecules\u001b[0m\u001b[0;34m)\u001b[0m\u001b[0;34m!=\u001b[0m \u001b[0mlen\u001b[0m\u001b[0;34m(\u001b[0m\u001b[0msolutes\u001b[0m\u001b[0;34m)\u001b[0m\u001b[0;34m+\u001b[0m\u001b[0mlen\u001b[0m\u001b[0;34m(\u001b[0m\u001b[0msolvents\u001b[0m\u001b[0;34m)\u001b[0m\u001b[0;34m:\u001b[0m \u001b[0;32mraise\u001b[0m \u001b[0mValueError\u001b[0m\u001b[0;34m(\u001b[0m\u001b[0;34m'Ascribe a number of molecules for each species'\u001b[0m\u001b[0;34m)\u001b[0m\u001b[0;34m\u001b[0m\u001b[0;34m\u001b[0m\u001b[0m\n\u001b[0m\u001b[1;32m     11\u001b[0m \u001b[0mbox_size\u001b[0m \u001b[0;34m=\u001b[0m \u001b[0;36m20.0\u001b[0m\u001b[0;34m\u001b[0m\u001b[0;34m\u001b[0m\u001b[0m\n\u001b[1;32m     12\u001b[0m \u001b[0mpdb_filenames\u001b[0m \u001b[0;34m=\u001b[0m \u001b[0;34m[\u001b[0m\u001b[0;34mf\"{cid}.pdb\"\u001b[0m \u001b[0;32mfor\u001b[0m \u001b[0mcid\u001b[0m \u001b[0;32min\u001b[0m \u001b[0msolutes\u001b[0m\u001b[0;34m+\u001b[0m\u001b[0msolvents\u001b[0m\u001b[0;34m]\u001b[0m\u001b[0;34m\u001b[0m\u001b[0;34m\u001b[0m\u001b[0m\n",
      "\u001b[0;31mValueError\u001b[0m: Ascribe a number of molecules for each species"
     ]
    }
   ],
   "source": [
    "from openmoltools import packmol\n",
    "import mdtraj as md\n",
    "\n",
    "#settings for solvent box\n",
    "sb_name = 'butox_prc_box'\n",
    "#number of molecules for each solute and solvent species in the order of the solutes and solvents provided before\n",
    "n_molecules = [1,1,70]\n",
    "if len(n_molecules)!= len(solutes)+len(solvents): raise ValueError('Ascribe a number of molecules for each species') \n",
    "box_size = 20.0\n",
    "pdb_filenames = [f\"{cid}.pdb\" for cid in solutes+solvents]\n",
    "\n",
    "# create box with corresponding md_traj trajectory and topology\n",
    "md_traj_trajectory = packmol.pack_box(pdb_filenames,n_molecules,box_size=box_size)\n",
    "print(md_traj_trajectory.topology)\n",
    "md_traj_trajectory.save_pdb(f'{sb_name}_openmoltools.pdb')\n"
   ]
  },
  {
   "cell_type": "markdown",
   "metadata": {},
   "source": [
    "#### Setting up the solvent box for a pure solvent"
   ]
  },
  {
   "cell_type": "code",
   "execution_count": 8,
   "metadata": {},
   "outputs": [
    {
     "name": "stdout",
     "output_type": "stream",
     "text": [
      "\n",
      "# Mixture \n",
      "\n",
      "tolerance 2.000000\n",
      "filetype pdb\n",
      "output /tmp/tmpqjowmrhg/tmpveewk9ti.pdb\n",
      "add_amber_ter\n",
      "\n",
      "\n",
      "structure 6342.pdb\n",
      "  number 70 \n",
      "  inside box 0. 0. 0. 18.000000 18.000000 18.000000\n",
      "end structure\n",
      "\n",
      "<mdtraj.Topology with 70 chains, 70 residues, 420 atoms, 350 bonds>\n"
     ]
    }
   ],
   "source": [
    "from openmoltools import packmol\n",
    "import mdtraj as md\n",
    "\n",
    "#settings for solvent box\n",
    "sb_name2 = 'pure_acetonitril_box'\n",
    "#number of molecules for each solute and solvent species in the order of the solutes and solvents provided before\n",
    "n_molecules = [70]\n",
    "box_size = 20.0\n",
    "pdb_filenames = [f\"{cid}.pdb\" for cid in solvents]\n",
    "\n",
    "# create box with corresponding md_traj trajectory and topology\n",
    "md_traj_trajectory = packmol.pack_box(pdb_filenames,n_molecules,box_size=box_size)\n",
    "print(md_traj_trajectory.topology)\n",
    "md_traj_trajectory.save_pdb(f'{sb_name2}_openmoltools.pdb')"
   ]
  },
  {
   "cell_type": "markdown",
   "metadata": {},
   "source": [
    "### Visualize the created solvent box"
   ]
  },
  {
   "cell_type": "code",
   "execution_count": 8,
   "metadata": {},
   "outputs": [
    {
     "data": {
      "application/vnd.jupyter.widget-view+json": {
       "model_id": "e0f71bd7a3b345ccab9e1eae0f043056",
       "version_major": 2,
       "version_minor": 0
      },
      "text/plain": [
       "NGLWidget()"
      ]
     },
     "metadata": {},
     "output_type": "display_data"
    }
   ],
   "source": [
    "import nglview\n",
    "import ipywidgets\n",
    "\n",
    "nglview.show_file(f\"{sb_name}_openmoltools.pdb\")"
   ]
  },
  {
   "cell_type": "code",
   "execution_count": 10,
   "metadata": {},
   "outputs": [
    {
     "data": {
      "application/vnd.jupyter.widget-view+json": {
       "model_id": "018c58faa4714ca1987657032b33928b",
       "version_major": 2,
       "version_minor": 0
      },
      "text/plain": [
       "NGLWidget()"
      ]
     },
     "metadata": {},
     "output_type": "display_data"
    }
   ],
   "source": [
    "nglview.show_file(f\"{sb_name2}_openmoltools.pdb\")"
   ]
  },
  {
   "cell_type": "markdown",
   "metadata": {},
   "source": [
    "##  Generate a forcefield for the solvent box"
   ]
  },
  {
   "cell_type": "code",
   "execution_count": 9,
   "metadata": {},
   "outputs": [
    {
     "ename": "NameError",
     "evalue": "name 'sb_name2' is not defined",
     "output_type": "error",
     "traceback": [
      "\u001b[0;31m---------------------------------------------------------------------------\u001b[0m",
      "\u001b[0;31mNameError\u001b[0m                                 Traceback (most recent call last)",
      "\u001b[0;32m<ipython-input-9-6e35bab931c8>\u001b[0m in \u001b[0;36m<module>\u001b[0;34m\u001b[0m\n\u001b[1;32m      9\u001b[0m \u001b[0;31m#(if a licence for openEye is obtained this can also be other formats are applicable)\u001b[0m\u001b[0;34m\u001b[0m\u001b[0;34m\u001b[0m\u001b[0;34m\u001b[0m\u001b[0m\n\u001b[1;32m     10\u001b[0m \u001b[0mmonomer_names\u001b[0m \u001b[0;34m=\u001b[0m \u001b[0;34m[\u001b[0m\u001b[0;34mf\"{cid}.sdf\"\u001b[0m \u001b[0;32mfor\u001b[0m \u001b[0mcid\u001b[0m \u001b[0;32min\u001b[0m \u001b[0msolvents\u001b[0m\u001b[0;34m]\u001b[0m\u001b[0;34m\u001b[0m\u001b[0;34m\u001b[0m\u001b[0m\n\u001b[0;32m---> 11\u001b[0;31m \u001b[0mpdb_pure_box\u001b[0m \u001b[0;34m=\u001b[0m \u001b[0mPDBFile\u001b[0m\u001b[0;34m(\u001b[0m\u001b[0;34mf\"{sb_name2}_openmoltools.pdb\"\u001b[0m\u001b[0;34m)\u001b[0m\u001b[0;34m\u001b[0m\u001b[0;34m\u001b[0m\u001b[0m\n\u001b[0m\u001b[1;32m     12\u001b[0m \u001b[0munique_molecules\u001b[0m \u001b[0;34m=\u001b[0m \u001b[0;34m[\u001b[0m\u001b[0mMolecule\u001b[0m\u001b[0;34m.\u001b[0m\u001b[0mfrom_file\u001b[0m\u001b[0;34m(\u001b[0m\u001b[0mname\u001b[0m\u001b[0;34m)\u001b[0m \u001b[0;32mfor\u001b[0m \u001b[0mname\u001b[0m \u001b[0;32min\u001b[0m \u001b[0mmonomer_names\u001b[0m\u001b[0;34m]\u001b[0m\u001b[0;34m\u001b[0m\u001b[0;34m\u001b[0m\u001b[0m\n\u001b[1;32m     13\u001b[0m \u001b[0;34m\u001b[0m\u001b[0m\n",
      "\u001b[0;31mNameError\u001b[0m: name 'sb_name2' is not defined"
     ]
    }
   ],
   "source": [
    "from simtk.openmm.app import *\n",
    "from simtk.openmm import *\n",
    "from simtk.unit import *\n",
    "from openforcefield.topology import Molecule, Topology\n",
    "\n",
    "#PURE SOLVENT\n",
    "\n",
    "#Define all monomers (sdf,smiles or mol format) used in the solvent box, \n",
    "#(if a licence for openEye is obtained this can also be other formats are applicable)\n",
    "monomer_names = [f\"{cid}.sdf\" for cid in solvents]\n",
    "pdb_pure_box = PDBFile(f\"{sb_name2}_openmoltools.pdb\")\n",
    "unique_molecules = [Molecule.from_file(name) for name in monomer_names]\n",
    "\n",
    "#omm_topology = pdb_box.getTopology()\n",
    "pure_box_positions = pdb_pure_box.getPositions()\n",
    "off_pure_box_topology = Topology.from_openmm(pdb_pure_box.topology, unique_molecules=unique_molecules)\n",
    "print(off_pure_box_topology)\n",
    "off_pure_box_system = off_forcefield.create_openmm_system(off_pure_box_topology)"
   ]
  },
  {
   "cell_type": "code",
   "execution_count": null,
   "metadata": {
    "scrolled": true
   },
   "outputs": [],
   "source": [
    "from simtk.openmm.app import *\n",
    "from simtk.openmm import *\n",
    "from simtk.unit import *\n",
    "from openforcefield.topology import Molecule, Topology\n",
    "from openforcefield.utils import *\n",
    "from openforcefield.utils.toolkits import OpenEyeToolkitWrapper\n",
    "from openforcefield.typing.engines.smirnoff import ForceField\n",
    "\n",
    "#Provide forcefield\n",
    "off_forcefield = ForceField('openff-1.0.0.offxml')\n",
    "\n",
    "#Define all monomers (sdf,smiles or mol format) used in the solvent box, \n",
    "#(if a licence for openEye is obtained this can also be other formats are applicable)\n",
    "monomer_names = [f\"{cid}.sdf\" for cid in solutes+solvents]\n",
    "pdb_box = PDBFile(f\"{sb_name}_openmoltools.pdb\")\n",
    "unique_molecules = [Molecule.from_file(name) for name in monomer_names]\n",
    "\n",
    "box_positions = pdb_box.getPositions()\n",
    "off_box_topology = Topology.from_openmm(pdb_box.topology, unique_molecules=unique_molecules)\n",
    "off_box_system = off_forcefield.create_openmm_system(off_box_topology)\n",
    "\n"
   ]
  },
  {
   "cell_type": "markdown",
   "metadata": {},
   "source": [
    "## Performing an energy calculations"
   ]
  },
  {
   "cell_type": "code",
   "execution_count": 13,
   "metadata": {},
   "outputs": [
    {
     "name": "stdout",
     "output_type": "stream",
     "text": [
      "Original energy: 13039.327303353039 kJ/mol\n"
     ]
    }
   ],
   "source": [
    "import numpy as np\n",
    "\n",
    "integrator = VerletIntegrator(1.0 * femtoseconds)\n",
    "context = Context(off_box_system, integrator)\n",
    "context.setPositions(box_positions)\n",
    "state = context.getState(getEnergy=True)\n",
    "energy = state.getPotentialEnergy().in_units_of(kilojoules_per_mole)\n",
    "\n",
    "\n",
    "print(f\"Original energy: {energy}\")"
   ]
  },
  {
   "cell_type": "markdown",
   "metadata": {},
   "source": [
    "## Performing benchmark for solvent density"
   ]
  },
  {
   "cell_type": "code",
   "execution_count": 12,
   "metadata": {},
   "outputs": [
    {
     "ename": "NameError",
     "evalue": "name 'off_pure_box_system' is not defined",
     "output_type": "error",
     "traceback": [
      "\u001b[0;31m---------------------------------------------------------------------------\u001b[0m",
      "\u001b[0;31mNameError\u001b[0m                                 Traceback (most recent call last)",
      "\u001b[0;32m<ipython-input-12-78fd2df476c4>\u001b[0m in \u001b[0;36m<module>\u001b[0;34m\u001b[0m\n\u001b[1;32m     10\u001b[0m \u001b[0mintegrator\u001b[0m \u001b[0;34m=\u001b[0m \u001b[0mLangevinIntegrator\u001b[0m\u001b[0;34m(\u001b[0m\u001b[0mtemperature\u001b[0m\u001b[0;34m*\u001b[0m\u001b[0mkelvin\u001b[0m\u001b[0;34m,\u001b[0m \u001b[0;36m1\u001b[0m\u001b[0;34m/\u001b[0m\u001b[0mpicosecond\u001b[0m\u001b[0;34m,\u001b[0m \u001b[0mtimestep\u001b[0m\u001b[0;34m*\u001b[0m\u001b[0mfemtoseconds\u001b[0m\u001b[0;34m)\u001b[0m\u001b[0;34m\u001b[0m\u001b[0;34m\u001b[0m\u001b[0m\n\u001b[1;32m     11\u001b[0m \u001b[0;31m#for isobaric simulation\u001b[0m\u001b[0;34m\u001b[0m\u001b[0;34m\u001b[0m\u001b[0;34m\u001b[0m\u001b[0m\n\u001b[0;32m---> 12\u001b[0;31m \u001b[0moff_pure_box_system\u001b[0m\u001b[0;34m.\u001b[0m\u001b[0maddForce\u001b[0m\u001b[0;34m(\u001b[0m\u001b[0mMonteCarloBarostat\u001b[0m\u001b[0;34m(\u001b[0m\u001b[0mpressure\u001b[0m\u001b[0;34m*\u001b[0m\u001b[0mbar\u001b[0m\u001b[0;34m,\u001b[0m \u001b[0mtemperature\u001b[0m\u001b[0;34m*\u001b[0m\u001b[0mkelvin\u001b[0m\u001b[0;34m)\u001b[0m\u001b[0;34m)\u001b[0m\u001b[0;34m\u001b[0m\u001b[0;34m\u001b[0m\u001b[0m\n\u001b[0m\u001b[1;32m     13\u001b[0m \u001b[0;34m\u001b[0m\u001b[0m\n\u001b[1;32m     14\u001b[0m \u001b[0;31m#setting up the simulation\u001b[0m\u001b[0;34m\u001b[0m\u001b[0;34m\u001b[0m\u001b[0;34m\u001b[0m\u001b[0m\n",
      "\u001b[0;31mNameError\u001b[0m: name 'off_pure_box_system' is not defined"
     ]
    }
   ],
   "source": [
    "from sys import stdout\n",
    "import time\n",
    "\n",
    "#MD settings\n",
    "temperature = 423 #in K \n",
    "pressure = 1 #in bar, for an isobaric simulation\n",
    "timestep = 2 #in femtoseconds\n",
    "total_simulation_steps = 1000000 \n",
    "#Thermostat\n",
    "integrator = LangevinIntegrator(temperature*kelvin, 1/picosecond, timestep*femtoseconds)\n",
    "#for isobaric simulation\n",
    "off_pure_box_system.addForce(MonteCarloBarostat(pressure*bar, temperature*kelvin))  \n",
    "\n",
    "#setting up the simulation\n",
    "simulation2 = Simulation(pdb_pure_box.topology, off_pure_box_system, integrator)\n",
    "simulation2.context.setPositions(pure_box_positions)\n",
    "simulation2.minimizeEnergy()\n",
    "\n",
    "\n",
    "with open(\"initial_pure_box.pdb\", \"w\") as f:\n",
    "    PDBFile.writeFile(simulation2.topology, pdb_pure_box.positions, f)\n",
    "    \n",
    "simulation2.reporters = []\n",
    "simulation2.reporters.append(DCDReporter('traj_solvent.dcd', 100))\n",
    "simulation2.reporters.append(StateDataReporter(stdout, 10000, step=True,\n",
    "                                              temperature=True, elapsedTime=True,density=True))\n",
    "simulation2.reporters.append(StateDataReporter(\"scalars_solvent.csv\", 1000, time=True,\n",
    "                                              potentialEnergy=True, totalEnergy=True, temperature=True, volume=True,density=True))\n",
    "\n",
    "print(\"Starting simulation\")\n",
    "start = time.process_time()\n",
    "\n",
    "simulation2.step(total_simulation_steps)\n",
    "\n",
    "end = time.process_time()\n",
    "print(\"Elapsed time %.2f seconds\" % (end-start))\n",
    "print(\"Done!\")\n"
   ]
  },
  {
   "cell_type": "markdown",
   "metadata": {},
   "source": [
    "## Performing a molecular dynamics simulations for the new compound"
   ]
  },
  {
   "cell_type": "code",
   "execution_count": null,
   "metadata": {},
   "outputs": [
    {
     "name": "stdout",
     "output_type": "stream",
     "text": [
      "Starting simulation\n",
      "#\"Step\",\"Temperature (K)\",\"Elapsed Time (s)\"\n",
      "10000,445.6194249035586,0.00013637542724609375\n",
      "20000,425.4633795683797,12.191285133361816\n",
      "30000,429.77889857245157,22.325275421142578\n",
      "40000,408.48402090236635,32.88216495513916\n",
      "50000,430.38819172286236,43.96973633766174\n",
      "60000,398.89016793310634,55.13282918930054\n",
      "70000,399.4873590600961,67.87609887123108\n",
      "80000,409.95048895468864,85.5160551071167\n",
      "90000,390.05998197395667,98.05450081825256\n",
      "100000,404.9576170066284,111.48330569267273\n",
      "110000,410.9736529115024,123.92776584625244\n",
      "120000,449.38668244491754,138.41693234443665\n"
     ]
    }
   ],
   "source": [
    "from sys import stdout\n",
    "import time\n",
    "\n",
    "#MD settings\n",
    "temperature = 423 #in K \n",
    "pressure = 1 #in bar, for an isobaric simulation\n",
    "timestep = 2 #in femtoseconds\n",
    "total_simulation_steps = 1000000 \n",
    "#Thermostat\n",
    "integrator = LangevinIntegrator(temperature*kelvin, 1/picosecond, timestep*femtoseconds)\n",
    "#for isobaric simulation\n",
    "off_box_system.addForce(MonteCarloBarostat(pressure*bar, temperature*kelvin))  \n",
    "\n",
    "#setting up the simulation\n",
    "simulation = Simulation(pdb_box.topology, off_box_system, integrator)\n",
    "simulation.context.setPositions(box_positions)\n",
    "simulation.minimizeEnergy()\n",
    "\n",
    "\n",
    "with open(\"initial_box.pdb\", \"w\") as f:\n",
    "    PDBFile.writeFile(simulation.topology, pdb_box.positions, f)\n",
    "    \n",
    "simulation.reporters = []\n",
    "simulation.reporters.append(DCDReporter('traj.dcd', 100))\n",
    "simulation.reporters.append(StateDataReporter(stdout, 10000, step=True,\n",
    "                                              temperature=True, elapsedTime=True))\n",
    "simulation.reporters.append(StateDataReporter(\"scalars.csv\", 1000, time=True,\n",
    "                                              potentialEnergy=True, totalEnergy=True, temperature=True,volume=True,density=True))\n",
    "\n",
    "print(\"Starting simulation\")\n",
    "start = time.process_time()\n",
    "\n",
    "simulation.step(total_simulation_steps)\n",
    "\n",
    "end = time.process_time()\n",
    "print(\"Elapsed time %.2f seconds\" % (end-start))\n",
    "print(\"Done!\")\n"
   ]
  },
  {
   "cell_type": "markdown",
   "metadata": {},
   "source": [
    "## Visualize the output"
   ]
  },
  {
   "cell_type": "markdown",
   "metadata": {},
   "source": [
    "### Pure acetonitril solvent box"
   ]
  },
  {
   "cell_type": "code",
   "execution_count": 41,
   "metadata": {},
   "outputs": [
    {
     "data": {
      "application/vnd.jupyter.widget-view+json": {
       "model_id": "c991cead4a774c16b24eec168a4f5bc6",
       "version_major": 2,
       "version_minor": 0
      },
      "text/plain": [
       "NGLWidget(count=10000)"
      ]
     },
     "metadata": {},
     "output_type": "display_data"
    }
   ],
   "source": [
    "traj = md.load('traj_solvent.dcd', top='initial_pure_box.pdb')\n",
    "traj.superpose(traj, 0)\n",
    "nglview.show_mdtraj(traj)"
   ]
  },
  {
   "cell_type": "markdown",
   "metadata": {},
   "source": [
    "### Solutes in acetonitril solvent box"
   ]
  },
  {
   "cell_type": "code",
   "execution_count": 42,
   "metadata": {},
   "outputs": [
    {
     "data": {
      "application/vnd.jupyter.widget-view+json": {
       "model_id": "2a33307972044203b8e8610d1f1186c2",
       "version_major": 2,
       "version_minor": 0
      },
      "text/plain": [
       "NGLWidget(count=10000)"
      ]
     },
     "metadata": {},
     "output_type": "display_data"
    }
   ],
   "source": [
    "traj = md.load('traj.dcd', top='initial_box.pdb')\n",
    "traj.superpose(traj, 0)\n",
    "nglview.show_mdtraj(traj)"
   ]
  },
  {
   "cell_type": "markdown",
   "metadata": {},
   "source": [
    "## Post-Processing"
   ]
  },
  {
   "cell_type": "markdown",
   "metadata": {},
   "source": [
    "### Pure acetonitril solvent box"
   ]
  },
  {
   "cell_type": "code",
   "execution_count": 54,
   "metadata": {},
   "outputs": [
    {
     "name": "stdout",
     "output_type": "stream",
     "text": [
      "The experimental saturated liquid density of acetonitril at 423.52K: 0.626303 g/ml\n",
      "The average density at convergion is: 0.6279385093913921\n",
      "The absolute difference between obtained and experimental density is:0.0016355093913920093\n"
     ]
    },
    {
     "data": {
      "image/png": "[encoded data removed]",
      "text/plain": [
       "<Figure size 432x288 with 1 Axes>"
      ]
     },
     "metadata": {
      "needs_background": "light"
     },
     "output_type": "display_data"
    }
   ],
   "source": [
    "import matplotlib.pyplot as plt\n",
    "import pandas as pd\n",
    "\n",
    "data = pd.read_csv('scalars_solvent.csv')\n",
    "#print(data.head())\n",
    "time = data['#\"Time (ps)\"']\n",
    "V = data[\"Box Volume (nm^3)\"]\n",
    "rho = data[\"Density (g/mL)\"]\n",
    "plt.plot(time,rho)\n",
    "plt.xlabel('Time (ps)')\n",
    "plt.ylabel('Density (g/mL)')\n",
    "\n",
    "total_value = 0\n",
    "ma_data=[]\n",
    "for idx,value in enumerate(rho):\n",
    "    total_value += value\n",
    "    ma_data.append(total_value/(idx+1))\n",
    "\n",
    "ma_data = np.array(ma_data)\n",
    "plt.plot(time,ma_data,'black')\n",
    "\n",
    "#http://ddbonline.ddbst.de/DIPPR105DensityCalculation/DIPPR105CalculationCGI.exe?component=Acetonitrile\n",
    "print(\"The experimental saturated liquid density of acetonitril at 423.52K: 0.626303 g/ml\")\n",
    "print(f\"The average density at convergion is: {ma_data[-1]}\")\n",
    "print(f\"The absolute difference between obtained and experimental density is:{abs(ma_data[-1]-0.626303)}\")\n",
    "plt.show()"
   ]
  },
  {
   "cell_type": "code",
   "execution_count": 58,
   "metadata": {},
   "outputs": [
    {
     "name": "stdout",
     "output_type": "stream",
     "text": [
      "The average volume at convergion is: 7.615033157716915\n"
     ]
    },
    {
     "data": {
      "image/png": "[encoded data removed]",
      "text/plain": [
       "<Figure size 432x288 with 1 Axes>"
      ]
     },
     "metadata": {
      "needs_background": "light"
     },
     "output_type": "display_data"
    }
   ],
   "source": [
    "plt.plot(time,V)\n",
    "plt.xlabel('Time (ps)')\n",
    "plt.ylabel('Box Volume ($nm^3$)')\n",
    "total_value = 0\n",
    "ma_data=[]\n",
    "for idx,value in enumerate(V):\n",
    "    total_value += value\n",
    "    ma_data.append(total_value/(idx+1))\n",
    "\n",
    "ma_data = np.array(ma_data)\n",
    "plt.plot(time,ma_data,'black')\n",
    "print(f\"The average volume at convergion is: {ma_data[-1]}\")\n",
    "plt.show()"
   ]
  },
  {
   "cell_type": "markdown",
   "metadata": {},
   "source": [
    "### Solutes in acetonitril solvent box"
   ]
  },
  {
   "cell_type": "code",
   "execution_count": 59,
   "metadata": {},
   "outputs": [
    {
     "name": "stdout",
     "output_type": "stream",
     "text": [
      "The average density at convergion is: 0.6670630771310382\n"
     ]
    },
    {
     "data": {
      "image/png": "[encoded data removed]",
      "text/plain": [
       "<Figure size 432x288 with 1 Axes>"
      ]
     },
     "metadata": {
      "needs_background": "light"
     },
     "output_type": "display_data"
    }
   ],
   "source": [
    "import matplotlib.pyplot as plt\n",
    "import pandas as pd\n",
    "\n",
    "data = pd.read_csv('scalars.csv')\n",
    "#print(data.head())\n",
    "time = data['#\"Time (ps)\"']\n",
    "V = data[\"Box Volume (nm^3)\"]\n",
    "rho = data[\"Density (g/mL)\"]\n",
    "plt.plot(time,rho)\n",
    "plt.xlabel('Time (ps)')\n",
    "plt.ylabel('Density (g/mL)')\n",
    "\n",
    "total_value = 0\n",
    "ma_data=[]\n",
    "for idx,value in enumerate(rho):\n",
    "    total_value += value\n",
    "    ma_data.append(total_value/(idx+1))\n",
    "\n",
    "ma_data = np.array(ma_data)\n",
    "plt.plot(time,ma_data,'black')\n",
    "\n",
    "#http://ddbonline.ddbst.de/DIPPR105DensityCalculation/DIPPR105CalculationCGI.exe?component=Acetonitrile\n",
    "print(f\"The average density at convergion is: {ma_data[-1]}\")\n",
    "\n",
    "plt.show()"
   ]
  },
  {
   "cell_type": "code",
   "execution_count": 65,
   "metadata": {},
   "outputs": [
    {
     "name": "stdout",
     "output_type": "stream",
     "text": [
      "The average volume at convergion is: 8.124206682935302\n",
      "The box dimensions for a NVT simulation should hence be: 20.102974472088718\n"
     ]
    },
    {
     "data": {
      "image/png": "[encoded data removed]",
      "text/plain": [
       "<Figure size 432x288 with 1 Axes>"
      ]
     },
     "metadata": {
      "needs_background": "light"
     },
     "output_type": "display_data"
    }
   ],
   "source": [
    "plt.plot(time,V)\n",
    "plt.xlabel('Time (ps)')\n",
    "plt.ylabel('Box Volume ($nm^3$)')\n",
    "total_value = 0\n",
    "ma_data=[]\n",
    "for idx,value in enumerate(V):\n",
    "    total_value += value\n",
    "    ma_data.append(total_value/(idx+1))\n",
    "\n",
    "ma_data = np.array(ma_data)\n",
    "plt.plot(time,ma_data,'black')\n",
    "print(f\"The average volume at convergion is: {ma_data[-1]}\")\n",
    "#cube dimension in Angstrom\n",
    "cube_dim = ((ma_data[-1]**(1/3))*10)\n",
    "print(f\"The box dimensions for a NVT simulation should hence be: {cube_dim}\")\n",
    "plt.show()"
   ]
  },
  {
   "cell_type": "code",
   "execution_count": null,
   "metadata": {},
   "outputs": [],
   "source": []
  }
 ],
 "metadata": {
  "kernelspec": {
   "display_name": "Python 3",
   "language": "python",
   "name": "python3"
  },
  "language_info": {
   "codemirror_mode": {
    "name": "ipython",
    "version": 3
   },
   "file_extension": ".py",
   "mimetype": "text/x-python",
   "name": "python",
   "nbconvert_exporter": "python",
   "pygments_lexer": "ipython3",
   "version": "3.7.6"
  }
 },
 "nbformat": 4,
 "nbformat_minor": 2
}
